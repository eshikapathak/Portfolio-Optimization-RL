{
 "cells": [
  {
   "cell_type": "markdown",
   "metadata": {
    "id": "yfv52r2G33jY"
   },
   "source": [
    "<a target=\"_blank\" href=\"https://colab.research.google.com/github/AI4Finance-Foundation/FinRL-Tutorials/blob/master/1-Introduction/Stock_NeurIPS2018_SB3.py\">\n",
    "  <img src=\"https://colab.research.google.com/assets/colab-badge.svg\" alt=\"Open In Colab\"/>\n",
    "</a>"
   ]
  },
  {
   "cell_type": "markdown",
   "metadata": {
    "id": "gXaoZs2lh1hi"
   },
   "source": [
    "# Deep Reinforcement Learning for Stock Trading from Scratch: Multiple Stock Trading\n",
    "\n",
    "* **Pytorch Version** \n",
    "\n"
   ]
  },
  {
   "cell_type": "markdown",
   "metadata": {
    "id": "lGunVt8oLCVS"
   },
   "source": [
    "# Content"
   ]
  },
  {
   "cell_type": "markdown",
   "metadata": {
    "id": "HOzAKQ-SLGX6"
   },
   "source": [
    "* [1. Task Description](#0)\n",
    "* [2. Install Python packages](#1)\n",
    "    * [2.1. Install Packages](#1.1)    \n",
    "    * [2.2. A List of Python Packages](#1.2)\n",
    "    * [2.3. Import Packages](#1.3)\n",
    "    * [2.4. Create Folders](#1.4)\n",
    "* [3. Download and Preprocess Data](#2)\n",
    "* [4. Preprocess Data](#3)        \n",
    "    * [4.1. Technical Indicators](#3.1)\n",
    "    * [4.2. Perform Feature Engineering](#3.2)\n",
    "* [5. Build Market Environment in OpenAI Gym-style](#4)  \n",
    "    * [5.1. Data Split](#4.1)  \n",
    "    * [5.3. Environment for Training](#4.2)    \n",
    "* [6. Train DRL Agents](#5)\n",
    "* [7. Backtesting Performance](#6)  \n",
    "    * [7.1. BackTestStats](#6.1)\n",
    "    * [7.2. BackTestPlot](#6.2)   \n",
    "  "
   ]
  },
  {
   "cell_type": "markdown",
   "metadata": {
    "id": "sApkDlD9LIZv"
   },
   "source": [
    "<a id='0'></a>\n",
    "# Part 1. Task Discription"
   ]
  },
  {
   "cell_type": "markdown",
   "metadata": {
    "id": "HjLD2TZSLKZ-"
   },
   "source": [
    "We train a DRL agent for stock trading. This task is modeled as a Markov Decision Process (MDP), and the objective function is maximizing (expected) cumulative return.\n",
    "\n",
    "We specify the state-action-reward as follows:\n",
    "\n",
    "* **State s**: The state space represents an agent's perception of the market environment. Just like a human trader analyzing various information, here our agent passively observes many features and learns by interacting with the market environment (usually by replaying historical data).\n",
    "\n",
    "* **Action a**: The action space includes allowed actions that an agent can take at each state. For example, a ∈ {−1, 0, 1}, where −1, 0, 1 represent\n",
    "selling, holding, and buying. When an action operates multiple shares, a ∈{−k, ..., −1, 0, 1, ..., k}, e.g.. \"Buy\n",
    "10 shares of AAPL\" or \"Sell 10 shares of AAPL\" are 10 or −10, respectively\n",
    "\n",
    "* **Reward function r(s, a, s′)**: Reward is an incentive for an agent to learn a better policy. For example, it can be the change of the portfolio value when taking a at state s and arriving at new state s',  i.e., r(s, a, s′) = v′ − v, where v′ and v represent the portfolio values at state s′ and s, respectively\n",
    "\n",
    "\n",
    "**Market environment**: 30 consituent stocks of Dow Jones Industrial Average (DJIA) index. Accessed at the starting date of the testing period.\n",
    "\n",
    "\n",
    "The data for this case study is obtained from Yahoo Finance API. The data contains Open-High-Low-Close price and volume.\n"
   ]
  },
  {
   "cell_type": "markdown",
   "metadata": {
    "id": "Ffsre789LY08"
   },
   "source": [
    "<a id='1'></a>\n",
    "# Part 2. Install Python Packages"
   ]
  },
  {
   "cell_type": "markdown",
   "metadata": {
    "id": "Uy5_PTmOh1hj"
   },
   "source": [
    "<a id='1.1'></a>\n",
    "## 2.1. Install packages\n"
   ]
  },
  {
   "cell_type": "code",
   "execution_count": 145,
   "metadata": {
    "colab": {
     "base_uri": "https://localhost:8080/"
    },
    "id": "mPT0ipYE28wL",
    "outputId": "ae04aff7-94ea-473e-9bc1-d26f56ac3426"
   },
   "outputs": [],
   "source": [
    "# ## install required packages\n",
    "# !pip install swig\n",
    "# !pip install wrds\n",
    "# !pip install pyportfolioopt\n",
    "# ## install finrl library\n",
    "# !pip install -q condacolab\n",
    "# # import condacolab\n",
    "# # condacolab.install()\n",
    "# !apt-get update -y -qq && apt-get install -y -qq cmake libopenmpi-dev python3-dev zlib1g-dev libgl1-mesa-glx swig\n",
    "# # !pip install git+https://github.com/AI4Finance-Foundation/FinRL.git"
   ]
  },
  {
   "cell_type": "markdown",
   "metadata": {
    "id": "osBHhVysOEzi"
   },
   "source": [
    "\n",
    "<a id='1.2'></a>\n",
    "## 2.2. A list of Python packages \n",
    "* Yahoo Finance API\n",
    "* pandas\n",
    "* numpy\n",
    "* matplotlib\n",
    "* stockstats\n",
    "* OpenAI gym\n",
    "* stable-baselines\n",
    "* tensorflow\n",
    "* pyfolio"
   ]
  },
  {
   "cell_type": "markdown",
   "metadata": {
    "id": "nGv01K8Sh1hn"
   },
   "source": [
    "<a id='1.3'></a>\n",
    "## 2.3. Import Packages"
   ]
  },
  {
   "cell_type": "code",
   "execution_count": 146,
   "metadata": {
    "colab": {
     "base_uri": "https://localhost:8080/"
    },
    "id": "lPqeTTwoh1hn",
    "outputId": "08159edd-35c4-4dd6-8462-3e64f26d71f4"
   },
   "outputs": [],
   "source": [
    "import pandas as pd\n",
    "import numpy as np\n",
    "import matplotlib\n",
    "import matplotlib.pyplot as plt\n",
    "# matplotlib.use('Agg')\n",
    "import datetime\n",
    "\n",
    "%matplotlib inline\n",
    "from finrl.meta.preprocessor.yahoodownloader import YahooDownloader\n",
    "from finrl.meta.preprocessor.preprocessors import FeatureEngineer, data_split\n",
    "from finrl.meta.env_stock_trading.env_stocktrading import StockTradingEnv as OriginalEnv\n",
    "\n",
    "from finrl.agents.stablebaselines3.models import DRLAgent\n",
    "from stable_baselines3.common.logger import configure\n",
    "from finrl.meta.data_processor import DataProcessor\n",
    "# from modified_env import StockTradingEnv\n",
    "\n",
    "from finrl.plot import backtest_stats, backtest_plot, get_daily_return, get_baseline\n",
    "from pprint import pprint\n",
    "\n",
    "import sys\n",
    "sys.path.append(\"../FinRL\")\n",
    "\n",
    "import itertools\n"
   ]
  },
  {
   "cell_type": "code",
   "execution_count": null,
   "metadata": {},
   "outputs": [],
   "source": []
  },
  {
   "cell_type": "code",
   "execution_count": 147,
   "metadata": {},
   "outputs": [],
   "source": [
    "from __future__ import annotations\n",
    "\n",
    "from typing import List\n",
    "\n",
    "import gymnasium as gym\n",
    "import matplotlib\n",
    "import matplotlib.pyplot as plt\n",
    "import numpy as np\n",
    "import pandas as pd\n",
    "from gymnasium import spaces\n",
    "from gymnasium.utils import seeding\n",
    "from stable_baselines3.common.vec_env import DummyVecEnv\n",
    "from risk_controller import RiskController\n",
    "\n",
    "matplotlib.use(\"Agg\")\n",
    "\n",
    "\n",
    "\n",
    "\n",
    "class StockTradingEnv(gym.Env):\n",
    "    \"\"\"A stock trading environment for OpenAI gym\"\"\"\n",
    "\n",
    "    metadata = {\"render.modes\": [\"human\"]}\n",
    "\n",
    "    def __init__(\n",
    "        self,\n",
    "        df: pd.DataFrame,\n",
    "        stock_dim: int,\n",
    "        hmax: int,\n",
    "        initial_amount: int,\n",
    "        num_stock_shares: list[int],\n",
    "        # short_term_risk = list[float],\n",
    "        buy_cost_pct: list[float],\n",
    "        sell_cost_pct: list[float],\n",
    "        # self.my_risk_mem = float\n",
    "        reward_scaling: float,\n",
    "        state_space: int,\n",
    "        action_space: int,\n",
    "        tech_indicator_list: list[str],\n",
    "        turbulence_threshold=None,\n",
    "        use_risk_controller = True,\n",
    "\n",
    "        risk_indicator_col=\"turbulence\",\n",
    "        make_plots: bool = False,\n",
    "        print_verbosity=10,\n",
    "        day=0,\n",
    "        initial=True,\n",
    "        previous_state=[],\n",
    "        model_name=\"\",\n",
    "        mode=\"\",\n",
    "        iteration=\"\"\n",
    "    ):\n",
    "        self.day = day\n",
    "        self.df = df\n",
    "        self.stock_dim = stock_dim\n",
    "        self.hmax = hmax\n",
    "        self.num_stock_shares = num_stock_shares\n",
    "        self.initial_amount = initial_amount  # get the initial cash\n",
    "        self.buy_cost_pct = buy_cost_pct\n",
    "        self.sell_cost_pct = sell_cost_pct\n",
    "        self.reward_scaling = reward_scaling\n",
    "        self.state_space = state_space\n",
    "        self.action_space = action_space\n",
    "        self.tech_indicator_list = tech_indicator_list\n",
    "        self.action_space = spaces.Box(low=-1, high=1, shape=(self.action_space,))\n",
    "        self.observation_space = spaces.Box(\n",
    "            low=-np.inf, high=np.inf, shape=(self.state_space,)\n",
    "        )\n",
    "        self.data = self.df.loc[self.day, :]\n",
    "        self.terminal = False\n",
    "        self.make_plots = make_plots\n",
    "        self.print_verbosity = print_verbosity\n",
    "        self.turbulence_threshold = turbulence_threshold\n",
    "        self.use_risk_controller = use_risk_controller\n",
    "        self.risk_indicator_col = risk_indicator_col\n",
    "        self.initial = initial\n",
    "        self.previous_state = previous_state\n",
    "        self.model_name = model_name\n",
    "        self.mode = mode\n",
    "        self.iteration = iteration\n",
    "        # initalize state\n",
    "        self.state = self._initiate_state()\n",
    "\n",
    "        # initialize reward\n",
    "        self.reward = 0\n",
    "        self.short_term_risk = 0\n",
    "        self.turbulence = 0\n",
    "        self.cost = 0\n",
    "        self.trades = 0\n",
    "        self.episode = 0\n",
    "        # memorize all the total balance change\n",
    "        self.asset_memory = [\n",
    "            self.initial_amount\n",
    "            + np.sum(\n",
    "                np.array(self.num_stock_shares)\n",
    "                * np.array(self.state[1 : 1 + self.stock_dim])\n",
    "            )\n",
    "        ]  # the initial total asset is calculated by cash + sum (num_share_stock_i * price_stock_i)\n",
    "        self.rewards_memory = []\n",
    "        self.risks_memory = []\n",
    "        self.actions_memory = []\n",
    "        self.state_memory = (\n",
    "            []\n",
    "        )  # we need sometimes to preserve the state in the middle of trading process\n",
    "        self.date_memory = [self._get_date()]\n",
    "        #         self.logger = Logger('results',[CSVOutputFormat])\n",
    "        # self.reset()\n",
    "        self._seed()\n",
    "        # Parameters for RiskController might include\n",
    "        self.risk_params = {\n",
    "            \"N\": stock_dim,\n",
    "            \"sigma_s_min\": 0.01, #0.01,  # Example value\n",
    "            \"sigma_s_max\": 0.1, #0.02,  # Example value\n",
    "            \"mu\": 2,           # Example value\n",
    "            \"rf\": 0.0016,          # Risk-free rate\n",
    "            \"eta\": 0.3,         # Example value\n",
    "            \"m\": 0.1,            # Minimal impact factor\n",
    "            \"v\": 0.5,           # Risk appetite factor\n",
    "            \"market_risk_sigma\": 0.05,  # Example market risk\n",
    "            \"active\": self.use_risk_controller\n",
    "        }\n",
    "\n",
    "        self.risk_controller = RiskController(**self.risk_params)\n",
    "        self._calculate_daily_returns()\n",
    "\n",
    "    def _calculate_daily_returns(self):\n",
    "        \"\"\"Calculate daily returns based on close prices for each stock.\"\"\"\n",
    "        prices = self.df.loc[:, self.tech_indicator_list]  # Assuming close prices are among tech indicators\n",
    "        returns = prices.pct_change().fillna(0)\n",
    "        self.df['daily_returns'] = returns.mean(axis=1)  # Storing average daily returns across all stocks\n",
    "    # def _calculate_daily_returns(self):\n",
    "    #     \"\"\"Calculate daily returns based on close prices for each stock and store them individually.\"\"\"\n",
    "    #     prices = self.df.loc[:, self.tech_indicator_list]\n",
    "    #     returns = prices.pct_change().fillna(0)\n",
    "    #     # Add prefix to distinguish daily return columns\n",
    "    #     for col in returns.columns:\n",
    "    #         self.df[f'daily_return_{col}'] = returns[col]\n",
    "\n",
    "\n",
    "    def _sell_stock(self, index, action):\n",
    "        def _do_sell_normal():\n",
    "            if (\n",
    "                self.state[index + 2 * self.stock_dim + 1] != True\n",
    "            ):  # check if the stock is able to sell, for simlicity we just add it in techical index\n",
    "                # if self.state[index + 1] > 0: # if we use price<0 to denote a stock is unable to trade in that day, the total asset calculation may be wrong for the price is unreasonable\n",
    "                # Sell only if the price is > 0 (no missing data in this particular date)\n",
    "                # perform sell action based on the sign of the action\n",
    "                if self.state[index + self.stock_dim + 1] > 0:\n",
    "                    # Sell only if current asset is > 0\n",
    "                    sell_num_shares = min(\n",
    "                        abs(action), self.state[index + self.stock_dim + 1]\n",
    "                    )\n",
    "                    sell_amount = (\n",
    "                        self.state[index + 1]\n",
    "                        * sell_num_shares\n",
    "                        * (1 - self.sell_cost_pct[index])\n",
    "                    )\n",
    "                    # update balance\n",
    "                    self.state[0] += sell_amount\n",
    "\n",
    "                    self.state[index + self.stock_dim + 1] -= sell_num_shares\n",
    "                    self.cost += (\n",
    "                        self.state[index + 1]\n",
    "                        * sell_num_shares\n",
    "                        * self.sell_cost_pct[index]\n",
    "                    )\n",
    "                    self.trades += 1\n",
    "                else:\n",
    "                    sell_num_shares = 0\n",
    "            else:\n",
    "                sell_num_shares = 0\n",
    "\n",
    "            return sell_num_shares\n",
    "\n",
    "        # perform sell action based on the sign of the action\n",
    "        if self.turbulence_threshold is not None:\n",
    "            if self.turbulence >= self.turbulence_threshold:\n",
    "                if self.state[index + 1] > 0:\n",
    "                    # Sell only if the price is > 0 (no missing data in this particular date)\n",
    "                    # if turbulence goes over threshold, just clear out all positions\n",
    "                    if self.state[index + self.stock_dim + 1] > 0:\n",
    "                        # Sell only if current asset is > 0\n",
    "                        sell_num_shares = self.state[index + self.stock_dim + 1]\n",
    "                        sell_amount = (\n",
    "                            self.state[index + 1]\n",
    "                            * sell_num_shares\n",
    "                            * (1 - self.sell_cost_pct[index])\n",
    "                        )\n",
    "                        # update balance\n",
    "                        self.state[0] += sell_amount\n",
    "                        self.state[index + self.stock_dim + 1] = 0\n",
    "                        self.cost += (\n",
    "                            self.state[index + 1]\n",
    "                            * sell_num_shares\n",
    "                            * self.sell_cost_pct[index]\n",
    "                        )\n",
    "                        self.trades += 1\n",
    "                    else:\n",
    "                        sell_num_shares = 0\n",
    "                else:\n",
    "                    sell_num_shares = 0\n",
    "            else:\n",
    "                sell_num_shares = _do_sell_normal()\n",
    "        else:\n",
    "            sell_num_shares = _do_sell_normal()\n",
    "\n",
    "        return sell_num_shares\n",
    "\n",
    "    def _buy_stock(self, index, action):\n",
    "        def _do_buy():\n",
    "            if (\n",
    "                self.state[index + 2 * self.stock_dim + 1] != True\n",
    "            ):  # check if the stock is able to buy\n",
    "                # if self.state[index + 1] >0:\n",
    "                # Buy only if the price is > 0 (no missing data in this particular date)\n",
    "                available_amount = self.state[0] // (\n",
    "                    self.state[index + 1] * (1 + self.buy_cost_pct[index])\n",
    "                )  # when buying stocks, we should consider the cost of trading when calculating available_amount, or we may be have cash<0\n",
    "                # print('available_amount:{}'.format(available_amount))\n",
    "\n",
    "                # update balance\n",
    "                buy_num_shares = min(available_amount, action)\n",
    "                buy_amount = (\n",
    "                    self.state[index + 1]\n",
    "                    * buy_num_shares\n",
    "                    * (1 + self.buy_cost_pct[index])\n",
    "                )\n",
    "                self.state[0] -= buy_amount\n",
    "\n",
    "                self.state[index + self.stock_dim + 1] += buy_num_shares\n",
    "\n",
    "                self.cost += (\n",
    "                    self.state[index + 1] * buy_num_shares * self.buy_cost_pct[index]\n",
    "                )\n",
    "                self.trades += 1\n",
    "            else:\n",
    "                buy_num_shares = 0\n",
    "\n",
    "            return buy_num_shares\n",
    "\n",
    "        # perform buy action based on the sign of the action\n",
    "        if self.turbulence_threshold is None:\n",
    "            buy_num_shares = _do_buy()\n",
    "        else:\n",
    "            if self.turbulence < self.turbulence_threshold:\n",
    "                buy_num_shares = _do_buy()\n",
    "            else:\n",
    "                buy_num_shares = 0\n",
    "                pass\n",
    "\n",
    "        return buy_num_shares\n",
    "\n",
    "    def _make_plot(self):\n",
    "        plt.plot(self.asset_memory, \"r\")\n",
    "        plt.savefig(f\"results/account_value_trade_{self.episode}.png\")\n",
    "        plt.close()\n",
    "\n",
    "    def step(self, actions):\n",
    "\n",
    "        # # Calculate daily returns using the latest available data\n",
    "        # # self._calculate_daily_returns()\n",
    "        # sigma_s_min = self.risk_params['sigma_s_min']\n",
    "\n",
    "        # ## RISK CONTROLLER\n",
    "        # # Extract current prices from the state\n",
    "        # current_prices = self.state[1:1+self.stock_dim]\n",
    "\n",
    "        #print(self.df)\n",
    "        # # Calculate expected returns using the last three daily returns for each stock\n",
    "        # if 'date' in self.df.columns:\n",
    "        #     current_date = self.df.loc[self.day, 'date']\n",
    "        #     past_dates = self.df[self.df['date'] < current_date].tail(3)\n",
    "        #     expected_returns = np.array([past_dates[f'daily_return_{col}'].mean() for col in self.tech_indicator_list])\n",
    "        # else:\n",
    "        #     # If no date column, assume sequential days and use iloc\n",
    "        #     expected_returns = np.array([self.df[f'daily_return_{col}'].iloc[max(self.day-3, 0):self.day].mean() for col in self.tech_indicator_list])\n",
    "\n",
    "        # print(self.df[[f'daily_return_{col}' for col in self.tech_indicator_list]].iloc[max(self.day-3, 0):self.day])\n",
    "        # print(np.array([self.df[f'daily_return_{col}'].mean() for col in self.tech_indicator_list]))\n",
    "\n",
    "        # Continue with risk parameters and action adjustment\n",
    "        sigma_s_min = self.risk_params['sigma_s_min']\n",
    "\n",
    "        ## RISK CONTROLLER\n",
    "        # Extract current prices from the state\n",
    "        current_prices = self.state[1:1+self.stock_dim]  # current prices for stocks\n",
    "\n",
    "        #print(\"good till here 1\")\n",
    "\n",
    "        # Initialize an empty dictionary to store expected returns for each stock\n",
    "        expected_returns = {}\n",
    "\n",
    "        # Loop through each unique stock identifier\n",
    "        for stock in self.df['tic'].unique():\n",
    "            # Filter data for the current stock\n",
    "            stock_data = self.df[self.df['tic'] == stock]\n",
    "            \n",
    "            # Sort by date to ensure correct order of days\n",
    "            stock_data = stock_data.sort_values('date')\n",
    "            \n",
    "            # Calculate the mean of the daily returns for the last three available days\n",
    "            # Here you use iloc to get the last three days' returns\n",
    "            if len(stock_data) >= 3:\n",
    "                last_three_returns = stock_data['daily_returns'].iloc[-3:]\n",
    "                expected_returns[stock] = last_three_returns.mean()\n",
    "            else:\n",
    "                # If less than three days of data is available, handle appropriately\n",
    "                expected_returns[stock] = 0  # or use NaN or any suitable default/fallback value\n",
    "\n",
    "        # Extracting the expected returns from the dictionary to an array\n",
    "        expected_returns_array = np.array(list(expected_returns.values()))\n",
    "        #print(\"Expected Returns Array:\", expected_returns_array)\n",
    "\n",
    "        expected_returns = expected_returns_array\n",
    "\n",
    "        # if 'date' in self.df.columns:\n",
    "        #     current_date = self.df.loc[self.day, 'date']\n",
    "        #     # Select past dates for each stock\n",
    "        #     past_dates = self.df[(self.df['date'] < current_date)].tail(3)\n",
    "        #     # Calculate mean returns for each stock over the last three days\n",
    "        #     expected_returns = past_dates.groupby('tic')['daily_returns'].mean()\n",
    "        # if 'date' in self.df.columns:\n",
    "        #     # current_date = self.df.loc[self.day, 'date']\n",
    "        #     # Convert to datetime to ensure proper formatting and operations\n",
    "        #     self.df['date'] = pd.to_datetime(self.df['date'])\n",
    "            \n",
    "        #     # Assume 'self.day' is an integer that represents an index in a list of unique days\n",
    "        #     unique_dates = self.df['date'].drop_duplicates().reset_index(drop=True)\n",
    "        #     if self.day < len(unique_dates):\n",
    "        #         current_date = unique_dates[self.day]\n",
    "        #         print(\"Current Date:\", current_date)\n",
    "        #     else:\n",
    "        #         print(\"Day index out of range\")\n",
    "        #     print(current_date)\n",
    "        #     past_dates = self.df[self.df['date'] < current_date].tail(3)\n",
    "        #     print(past_dates)\n",
    "        #     # Calculate mean even if less than 3 days available\n",
    "        #     expected_returns = past_dates.groupby('tic')['daily_returns'].mean() if not past_dates.empty else 0\n",
    "        # else:\n",
    "        #     # Assuming the DataFrame is already filtered to only include relevant days\n",
    "        #     expected_returns = self.df.groupby('tic')['daily_returns'].iloc[max(self.day-3, 0):self.day].mean()\n",
    "\n",
    "        # print(\"exp returns,\", expected_returns)\n",
    "\n",
    "        # # Calculate expected returns using the last three daily returns for each stock\n",
    "        # # if 'date' in self.df.columns:\n",
    "        # #     current_date = self.df.loc[self.day, 'date']\n",
    "        # #     past_dates = self.df[self.df['date'] < current_date].tail(3)\n",
    "        # #     expected_returns = past_dates['daily_returns'].mean(axis=0)\n",
    "        # # else:\n",
    "        # #     # If no date column, assume sequential days and use iloc\n",
    "        # #expected_returns = self.df['daily_returns'].iloc[max(self.day-3, 0):self.day].mean()\n",
    "        # print(self.df['daily_returns'].iloc[max(self.day-3, 0):self.day])\n",
    "        # print(self.df['daily_returns'].mean(axis=0))\n",
    "\n",
    "        # Get recent performance from the asset memory\n",
    "        recent_performance = self.asset_memory[-10:]  # last 10 performances\n",
    "        # sigma_alpha_t=np.std(recent_performance),  # simplistic strategy risk\n",
    "\n",
    "        actions_original = actions  # Store original actions for comparison\n",
    "        #print(\"action sum\", np.sum(actions))\n",
    "\n",
    "        #print(\"good till here\")\n",
    "        # Adjust actions using the RiskController\n",
    "        actions = self.risk_controller.adjust_actions(\n",
    "            a_rl=actions,\n",
    "            delta_p_t1=expected_returns,  # this is an array if multiple stocks\n",
    "            sigma_k_t1=np.diag(current_prices),  # simplistic sigma calculation\n",
    "            sigma_alpha_t=np.std(recent_performance),  # simplistic strategy risk\n",
    "            sigma_s_t=sigma_s_min,  # example static risk setting\n",
    "            recent_performance=recent_performance\n",
    "        )\n",
    "\n",
    "\n",
    "        # print(\"Market Risk: \", np.std(recent_performance)+self.risk_params[\"market_risk_sigma\"])\n",
    "        # sigma_s_min = self.risk_params['sigma_s_min']\n",
    "\n",
    "        # ## RISK CONTROLLER \n",
    "        # # Example to calculate necessary parameters for risk adjustment\n",
    "        # current_prices = self.state[1:1+self.stock_dim]  # current prices for stocks\n",
    "        # #expected_returns = self.df.loc[self.day+1, 'expected_return'] if self.day+1 < len(self.df) else 0\n",
    "        # expected_returns = self.df['daily_returns'].iloc[max(self.day-3, 0):self.day].mean()\n",
    "        # #print(\"here\")\n",
    "        # recent_performance = self.asset_memory[-10:]  # last 10 performances\n",
    "\n",
    "        # actions_original = actions\n",
    "\n",
    "        # # Adjust actions using the RiskController\n",
    "        # actions = self.risk_controller.adjust_actions(\n",
    "        #     a_rl=actions,\n",
    "        #     delta_p_t1=expected_returns,  # this is an array if multiple stocks\n",
    "        #     sigma_k_t1=np.diag(current_prices),  # simplistic sigma calculation\n",
    "        #     sigma_alpha_t=np.std(recent_performance),  # simplistic strategy risk\n",
    "        #     sigma_s_t=sigma_s_min, #self.risk_params['sigma_s_min'],  # example static risk setting\n",
    "        #     recent_performance=recent_performance\n",
    "        # )\n",
    "        \n",
    "        #print(\"action diff:\", actions_original - actions)\n",
    "        \n",
    "        self.terminal = self.day >= len(self.df.index.unique()) - 1\n",
    "        if self.terminal:\n",
    "            #DURING PREDICTION?\n",
    "            print(\"risk memory:\",len(self.risks_memory))\n",
    "            print (self.risks_memory)\n",
    "            # print(f\"Episode: {self.episode}\")\n",
    "            if self.make_plots:\n",
    "                self._make_plot()\n",
    "            end_total_asset = self.state[0] + sum(\n",
    "                np.array(self.state[1 : (self.stock_dim + 1)])\n",
    "                * np.array(self.state[(self.stock_dim + 1) : (self.stock_dim * 2 + 1)])\n",
    "            )\n",
    "            df_total_value = pd.DataFrame(self.asset_memory)\n",
    "            tot_reward = (\n",
    "                self.state[0]\n",
    "                + sum(\n",
    "                    np.array(self.state[1 : (self.stock_dim + 1)])\n",
    "                    * np.array(\n",
    "                        self.state[(self.stock_dim + 1) : (self.stock_dim * 2 + 1)]\n",
    "                    )\n",
    "                )\n",
    "                - self.asset_memory[0]\n",
    "            )  # initial_amount is only cash part of our initial asset\n",
    "            df_total_value.columns = [\"account_value\"]\n",
    "            df_total_value[\"date\"] = self.date_memory\n",
    "            df_total_value[\"daily_return\"] = df_total_value[\"account_value\"].pct_change(\n",
    "                1\n",
    "            )\n",
    "            if df_total_value[\"daily_return\"].std() != 0:\n",
    "                sharpe = (\n",
    "                    (252**0.5)\n",
    "                    * df_total_value[\"daily_return\"].mean()\n",
    "                    / df_total_value[\"daily_return\"].std()\n",
    "                )\n",
    "            df_rewards = pd.DataFrame(self.rewards_memory)\n",
    "            df_rewards.columns = [\"account_rewards\"]\n",
    "            df_rewards[\"date\"] = self.date_memory[:-1]\n",
    "\n",
    "            df_risks = pd.DataFrame(self.risks_memory)\n",
    "            df_risks.columns = [\"short_term_risk\"]\n",
    "            df_risks[\"date\"] = self.date_memory[:-1]\n",
    "\n",
    "\n",
    "            if self.episode % self.print_verbosity == 0:\n",
    "                \n",
    "                print(f\"day: {self.day}, episode: {self.episode}\")\n",
    "                print(f\"begin_total_asset: {self.asset_memory[0]:0.2f}\")\n",
    "                print(f\"end_total_asset: {end_total_asset:0.2f}\")\n",
    "                print(f\"total_reward: {tot_reward:0.2f}\")\n",
    "                print(f\"total_cost: {self.cost:0.2f}\")\n",
    "                print(f\"total_trades: {self.trades}\")\n",
    "                # print(f\"short term risk: {self.r}\")\n",
    "\n",
    "                if df_total_value[\"daily_return\"].std() != 0:\n",
    "                    print(f\"Sharpe: {sharpe:0.3f}\")\n",
    "                print(\"=================================\")\n",
    "\n",
    "            if (self.model_name != \"\") and (self.mode != \"\"):\n",
    "                df_actions = self.save_action_memory()\n",
    "                df_actions.to_csv(\n",
    "                    \"results/actions_{}_{}_{}.csv\".format(\n",
    "                        self.mode, self.model_name, self.iteration\n",
    "                    )\n",
    "                )\n",
    "                df_total_value.to_csv(\n",
    "                    \"results/account_value_{}_{}_{}.csv\".format(\n",
    "                        self.mode, self.model_name, self.iteration\n",
    "                    ),\n",
    "                    index=False,\n",
    "                )\n",
    "                df_risks.to_csv(\n",
    "                    \"results/account_risks_{}_{}_{}.csv\".format(\n",
    "                        self.mode, self.model_name, self.iteration\n",
    "                    ),\n",
    "                    index=False,\n",
    "                )\n",
    "                plt.plot(self.risks_memory, \"r\")\n",
    "                plt.savefig(\n",
    "                    \"results/risk_value_{}_{}_{}.png\".format(\n",
    "                        self.mode, self.model_name, self.iteration\n",
    "                    )\n",
    "                )\n",
    "                plt.close()\n",
    "\n",
    "\n",
    "                df_rewards.to_csv(\n",
    "                    \"results/account_rewards_{}_{}_{}.csv\".format(\n",
    "                        self.mode, self.model_name, self.iteration\n",
    "                    ),\n",
    "                    index=False,\n",
    "                )\n",
    "                plt.plot(self.asset_memory, \"r\")\n",
    "                plt.savefig(\n",
    "                    \"results/account_value_{}_{}_{}.png\".format(\n",
    "                        self.mode, self.model_name, self.iteration\n",
    "                    )\n",
    "                )\n",
    "                plt.close()\n",
    "\n",
    "            # Add outputs to logger interface\n",
    "            # logger.record(\"environment/portfolio_value\", end_total_asset)\n",
    "            # logger.record(\"environment/total_reward\", tot_reward)\n",
    "            # logger.record(\"environment/total_reward_pct\", (tot_reward / (end_total_asset - tot_reward)) * 100)\n",
    "            # logger.record(\"environment/total_cost\", self.cost)\n",
    "            # logger.record(\"environment/total_trades\", self.trades)\n",
    "\n",
    "            return self.state, self.reward, self.terminal, False, {}\n",
    "\n",
    "        else:\n",
    "            actions = actions * self.hmax  # actions initially is scaled between 0 to 1\n",
    "            actions = actions.astype(\n",
    "                int\n",
    "            )  # convert into integer because we can't by fraction of shares\n",
    "\n",
    "            #print(\"integer actions\", actions)\n",
    "            if self.turbulence_threshold is not None:\n",
    "                if self.turbulence >= self.turbulence_threshold:\n",
    "                    actions = np.array([-self.hmax] * self.stock_dim)\n",
    "            begin_total_asset = self.state[0] + sum(\n",
    "                np.array(self.state[1 : (self.stock_dim + 1)])\n",
    "                * np.array(self.state[(self.stock_dim + 1) : (self.stock_dim * 2 + 1)])\n",
    "            )\n",
    "            # print(\"begin_total_asset:{}\".format(begin_total_asset))\n",
    "\n",
    "            argsort_actions = np.argsort(actions)\n",
    "            sell_index = argsort_actions[: np.where(actions < 0)[0].shape[0]]\n",
    "            buy_index = argsort_actions[::-1][: np.where(actions > 0)[0].shape[0]]\n",
    "\n",
    "            for index in sell_index:\n",
    "                # print(f\"Num shares before: {self.state[index+self.stock_dim+1]}\")\n",
    "                # print(f'take sell action before : {actions[index]}')\n",
    "                actions[index] = self._sell_stock(index, actions[index]) * (-1)\n",
    "                # print(f'take sell action after : {actions[index]}')\n",
    "                # print(f\"Num shares after: {self.state[index+self.stock_dim+1]}\")\n",
    "\n",
    "            for index in buy_index:\n",
    "                # print('take buy action: {}'.format(actions[index]))\n",
    "                actions[index] = self._buy_stock(index, actions[index])\n",
    "\n",
    "            self.actions_memory.append(actions)\n",
    "\n",
    "            # state: s -> s+1\n",
    "            self.day += 1\n",
    "            self.data = self.df.loc[self.day, :]\n",
    "            if self.turbulence_threshold is not None:\n",
    "                if len(self.df.tic.unique()) == 1:\n",
    "                    self.turbulence = self.data[self.risk_indicator_col]\n",
    "                elif len(self.df.tic.unique()) > 1:\n",
    "                    self.turbulence = self.data[self.risk_indicator_col].values[0]\n",
    "            self.state = self._update_state()\n",
    "\n",
    "            end_total_asset = self.state[0] + sum(\n",
    "                np.array(self.state[1 : (self.stock_dim + 1)])\n",
    "                * np.array(self.state[(self.stock_dim + 1) : (self.stock_dim * 2 + 1)])\n",
    "            )\n",
    "            self.asset_memory.append(end_total_asset)\n",
    "            self.date_memory.append(self._get_date())\n",
    "            self.reward = end_total_asset - begin_total_asset\n",
    "            self.rewards_memory.append(self.reward)\n",
    "            self.reward = self.reward * self.reward_scaling\n",
    "\n",
    "            #CALCULATE AND LOG SHORT TERM RISK FOR PLOTTING\n",
    "            self.short_term_risk = np.std(recent_performance)+self.risk_params[\"market_risk_sigma\"]\n",
    "            self.risks_memory.append(self.short_term_risk)\n",
    "\n",
    "            # if len(self.risks_memory) == len(self.asset_memory):\n",
    "            #     self.risks_memory = []\n",
    "\n",
    "\n",
    "            # print (\"risk memory\",self.risks_memory)\n",
    "\n",
    "\n",
    "            self.state_memory.append(\n",
    "                self.state\n",
    "            )  # add current state in state_recorder for each step\n",
    "\n",
    "        return self.state, self.reward, self.terminal, False, {}\n",
    "\n",
    "    def reset(\n",
    "        self,\n",
    "        *,\n",
    "        seed=None,\n",
    "        options=None,\n",
    "    ):\n",
    "        # initiate state\n",
    "        self.day = 0\n",
    "        self.data = self.df.loc[self.day, :]\n",
    "        self.state = self._initiate_state()\n",
    "\n",
    "        if self.initial:\n",
    "            self.asset_memory = [\n",
    "                self.initial_amount\n",
    "                + np.sum(\n",
    "                    np.array(self.num_stock_shares)\n",
    "                    * np.array(self.state[1 : 1 + self.stock_dim])\n",
    "                )\n",
    "            ]\n",
    "        else:\n",
    "            previous_total_asset = self.previous_state[0] + sum(\n",
    "                np.array(self.state[1 : (self.stock_dim + 1)])\n",
    "                * np.array(\n",
    "                    self.previous_state[(self.stock_dim + 1) : (self.stock_dim * 2 + 1)]\n",
    "                )\n",
    "            )\n",
    "            self.asset_memory = [previous_total_asset]\n",
    "\n",
    "        self.turbulence = 0\n",
    "        self.cost = 0\n",
    "        self.trades = 0\n",
    "        self.terminal = False\n",
    "        # self.iteration=self.iteration\n",
    "        self.rewards_memory = []\n",
    "        # self.risks_memory = []\n",
    "        self.actions_memory = []\n",
    "        self.date_memory = [self._get_date()]\n",
    "\n",
    "        self.episode += 1\n",
    "\n",
    "        return self.state, {}\n",
    "\n",
    "    def render(self, mode=\"human\", close=False):\n",
    "        return self.state\n",
    "\n",
    "    def _initiate_state(self):\n",
    "        if self.initial:\n",
    "            # For Initial State\n",
    "            if len(self.df.tic.unique()) > 1:\n",
    "                # for multiple stock\n",
    "                state = (\n",
    "                    [self.initial_amount]\n",
    "                    + self.data.close.values.tolist()\n",
    "                    + self.num_stock_shares\n",
    "                    + sum(\n",
    "                        (\n",
    "                            self.data[tech].values.tolist()\n",
    "                            for tech in self.tech_indicator_list\n",
    "                        ),\n",
    "                        [],\n",
    "                    )\n",
    "                )  # append initial stocks_share to initial state, instead of all zero\n",
    "            else:\n",
    "                # for single stock\n",
    "                state = (\n",
    "                    [self.initial_amount]\n",
    "                    + [self.data.close]\n",
    "                    + [0] * self.stock_dim\n",
    "                    + sum(([self.data[tech]] for tech in self.tech_indicator_list), [])\n",
    "                )\n",
    "        else:\n",
    "            # Using Previous State\n",
    "            if len(self.df.tic.unique()) > 1:\n",
    "                # for multiple stock\n",
    "                state = (\n",
    "                    [self.previous_state[0]]\n",
    "                    + self.data.close.values.tolist()\n",
    "                    + self.previous_state[\n",
    "                        (self.stock_dim + 1) : (self.stock_dim * 2 + 1)\n",
    "                    ]\n",
    "                    + sum(\n",
    "                        (\n",
    "                            self.data[tech].values.tolist()\n",
    "                            for tech in self.tech_indicator_list\n",
    "                        ),\n",
    "                        [],\n",
    "                    )\n",
    "                )\n",
    "            else:\n",
    "                # for single stock\n",
    "                state = (\n",
    "                    [self.previous_state[0]]\n",
    "                    + [self.data.close]\n",
    "                    + self.previous_state[\n",
    "                        (self.stock_dim + 1) : (self.stock_dim * 2 + 1)\n",
    "                    ]\n",
    "                    + sum(([self.data[tech]] for tech in self.tech_indicator_list), [])\n",
    "                )\n",
    "        return state\n",
    "\n",
    "    def _update_state(self):\n",
    "        if len(self.df.tic.unique()) > 1:\n",
    "            # for multiple stock\n",
    "            state = (\n",
    "                [self.state[0]]\n",
    "                + self.data.close.values.tolist()\n",
    "                + list(self.state[(self.stock_dim + 1) : (self.stock_dim * 2 + 1)])\n",
    "                + sum(\n",
    "                    (\n",
    "                        self.data[tech].values.tolist()\n",
    "                        for tech in self.tech_indicator_list\n",
    "                    ),\n",
    "                    [],\n",
    "                )\n",
    "            )\n",
    "\n",
    "        else:\n",
    "            # for single stock\n",
    "            state = (\n",
    "                [self.state[0]]\n",
    "                + [self.data.close]\n",
    "                + list(self.state[(self.stock_dim + 1) : (self.stock_dim * 2 + 1)])\n",
    "                + sum(([self.data[tech]] for tech in self.tech_indicator_list), [])\n",
    "            )\n",
    "\n",
    "        return state\n",
    "\n",
    "    def _get_date(self):\n",
    "        if len(self.df.tic.unique()) > 1:\n",
    "            date = self.data.date.unique()[0]\n",
    "        else:\n",
    "            date = self.data.date\n",
    "        return date\n",
    "\n",
    "    # add save_state_memory to preserve state in the trading process\n",
    "    def save_state_memory(self):\n",
    "        if len(self.df.tic.unique()) > 1:\n",
    "            # date and close price length must match actions length\n",
    "            date_list = self.date_memory[:-1]\n",
    "            df_date = pd.DataFrame(date_list)\n",
    "            df_date.columns = [\"date\"]\n",
    "\n",
    "            state_list = self.state_memory\n",
    "            df_states = pd.DataFrame(\n",
    "                state_list,\n",
    "                columns=[\n",
    "                    \"cash\",\n",
    "                    \"Bitcoin_price\",\n",
    "                    \"Gold_price\",\n",
    "                    \"Bitcoin_num\",\n",
    "                    \"Gold_num\",\n",
    "                    \"Bitcoin_Disable\",\n",
    "                    \"Gold_Disable\",\n",
    "                ],\n",
    "            )\n",
    "            df_states.index = df_date.date\n",
    "            # df_actions = pd.DataFrame({'date':date_list,'actions':action_list})\n",
    "        else:\n",
    "            date_list = self.date_memory[:-1]\n",
    "            state_list = self.state_memory\n",
    "            df_states = pd.DataFrame({\"date\": date_list, \"states\": state_list})\n",
    "        # print(df_states)\n",
    "        return df_states\n",
    "\n",
    "    def save_asset_memory(self):\n",
    "        date_list = self.date_memory\n",
    "        asset_list = self.asset_memory\n",
    "\n",
    "\n",
    "\n",
    "        # df_risks.to_csv(\n",
    "        #     \"results/account_risks_{}_{}_{}.csv\".format(\n",
    "        #         self.mode, self.model_name, self.iteration\n",
    "        #     ),\n",
    "        #     index=False,\n",
    "        # )\n",
    "\n",
    "        # print(len(date_list))\n",
    "        #MAYBE WE CAN SAVE AS AN EXTRA COLUMN IN ASSET MEMORY?\n",
    "\n",
    "        print(len(asset_list))\n",
    "        df_account_value = pd.DataFrame(\n",
    "            {\"date\": date_list, \"account_value\": asset_list}\n",
    "        )\n",
    "\n",
    "        # df_account_value = pd.DataFrame(\n",
    "        #     {\"date\": date_list, \"account_value\": asset_list, \"short_term_risk\": risk_list}\n",
    "        # )\n",
    "\n",
    "        \n",
    "        return df_account_value\n",
    "\n",
    "    def save_action_memory(self):\n",
    "        if len(self.df.tic.unique()) > 1:\n",
    "            # date and close price length must match actions length\n",
    "            date_list = self.date_memory[:-1]\n",
    "            df_date = pd.DataFrame(date_list)\n",
    "            df_date.columns = [\"date\"]\n",
    "\n",
    "            action_list = self.actions_memory\n",
    "            df_actions = pd.DataFrame(action_list)\n",
    "            df_actions.columns = self.data.tic.values\n",
    "            df_actions.index = df_date.date\n",
    "            # df_actions = pd.DataFrame({'date':date_list,'actions':action_list})\n",
    "        else:\n",
    "            date_list = self.date_memory[:-1]\n",
    "            action_list = self.actions_memory\n",
    "            df_actions = pd.DataFrame({\"date\": date_list, \"actions\": action_list})\n",
    "        return df_actions\n",
    "\n",
    "    def _seed(self, seed=None):\n",
    "        self.np_random, seed = seeding.np_random(seed)\n",
    "        return [seed]\n",
    "\n",
    "    def get_sb_env(self):\n",
    "        e = DummyVecEnv([lambda: self])\n",
    "        obs = e.reset()\n",
    "        return e, obs\n",
    "    \n",
    "\n",
    "    def get_risk_mem(self):\n",
    "        # risk_list = self.risks_memory\n",
    "\n",
    "        df_risks = pd.DataFrame(self.risks_memory)\n",
    "        df_risks.columns = [\"short_term_risk\"]\n",
    "        df_risks[\"date\"] = self.date_memory[:-1]\n",
    "        self.risks_memory = []\n",
    "        return df_risks\n",
    "\n"
   ]
  },
  {
   "cell_type": "markdown",
   "metadata": {
    "id": "T2owTj985RW4"
   },
   "source": [
    "<a id='1.4'></a>\n",
    "## 2.4. Create Folders"
   ]
  },
  {
   "cell_type": "code",
   "execution_count": 148,
   "metadata": {
    "id": "RtUc_ofKmpdy"
   },
   "outputs": [],
   "source": [
    "from finrl import config\n",
    "from finrl import config_tickers\n",
    "import os\n",
    "from finrl.main import check_and_make_directories\n",
    "from finrl.config import (\n",
    "    DATA_SAVE_DIR,\n",
    "    TRAINED_MODEL_DIR,\n",
    "    TENSORBOARD_LOG_DIR,\n",
    "    RESULTS_DIR,\n",
    "    INDICATORS,\n",
    "    TRAIN_START_DATE,\n",
    "    TRAIN_END_DATE,\n",
    "    TEST_START_DATE,\n",
    "    TEST_END_DATE,\n",
    "    TRADE_START_DATE,\n",
    "    TRADE_END_DATE,\n",
    ")\n",
    "check_and_make_directories([DATA_SAVE_DIR, TRAINED_MODEL_DIR, TENSORBOARD_LOG_DIR, RESULTS_DIR])\n",
    "\n"
   ]
  },
  {
   "cell_type": "markdown",
   "metadata": {
    "id": "A289rQWMh1hq"
   },
   "source": [
    "<a id='2'></a>\n",
    "# Part 3. Download Data\n",
    "Yahoo Finance provides stock data, financial news, financial reports, etc. Yahoo Finance is free.\n",
    "* FinRL uses a class **YahooDownloader** in FinRL-Meta to fetch data via Yahoo Finance API\n",
    "* Call Limit: Using the Public API (without authentication), you are limited to 2,000 requests per hour per IP (or up to a total of 48,000 requests a day)."
   ]
  },
  {
   "cell_type": "markdown",
   "metadata": {
    "id": "NPeQ7iS-LoMm"
   },
   "source": [
    "\n",
    "\n",
    "-----\n",
    "class YahooDownloader:\n",
    "    Retrieving daily stock data from\n",
    "    Yahoo Finance API\n",
    "\n",
    "    Attributes\n",
    "    ----------\n",
    "        start_date : str\n",
    "            start date of the data (modified from config.py)\n",
    "        end_date : str\n",
    "            end date of the data (modified from config.py)\n",
    "        ticker_list : list\n",
    "            a list of stock tickers (modified from config.py)\n",
    "\n",
    "    Methods\n",
    "    -------\n",
    "    fetch_data()\n"
   ]
  },
  {
   "cell_type": "code",
   "execution_count": 149,
   "metadata": {
    "colab": {
     "base_uri": "https://localhost:8080/",
     "height": 35
    },
    "id": "h3XJnvrbLp-C",
    "outputId": "2a4358a8-0656-4d5e-dc3e-b693cae3c5b8"
   },
   "outputs": [
    {
     "data": {
      "text/plain": [
       "'2020-07-31'"
      ]
     },
     "execution_count": 149,
     "metadata": {},
     "output_type": "execute_result"
    }
   ],
   "source": [
    "# from config.py, TRAIN_START_DATE is a string\n",
    "TRAIN_START_DATE\n",
    "# from config.py, TRAIN_END_DATE is a string\n",
    "TRAIN_END_DATE"
   ]
  },
  {
   "cell_type": "code",
   "execution_count": 150,
   "metadata": {
    "id": "FUnY8WEfLq3C"
   },
   "outputs": [],
   "source": [
    "TRAIN_START_DATE = '2010-01-01'\n",
    "TRAIN_END_DATE = '2021-10-01'\n",
    "TRADE_START_DATE = '2021-10-01'\n",
    "TRADE_END_DATE = '2023-03-01'"
   ]
  },
  {
   "cell_type": "code",
   "execution_count": 151,
   "metadata": {
    "colab": {
     "base_uri": "https://localhost:8080/"
    },
    "id": "yCKm4om-s9kE",
    "outputId": "a9d4f123-e338-4eca-feb1-358503317d9a"
   },
   "outputs": [
    {
     "name": "stderr",
     "output_type": "stream",
     "text": [
      "[*********************100%%**********************]  1 of 1 completed\n",
      "[*********************100%%**********************]  1 of 1 completed\n",
      "[*********************100%%**********************]  1 of 1 completed\n",
      "[*********************100%%**********************]  1 of 1 completed\n",
      "[*********************100%%**********************]  1 of 1 completed\n",
      "[*********************100%%**********************]  1 of 1 completed\n",
      "[*********************100%%**********************]  1 of 1 completed\n",
      "[*********************100%%**********************]  1 of 1 completed\n",
      "[*********************100%%**********************]  1 of 1 completed\n",
      "[*********************100%%**********************]  1 of 1 completed\n",
      "[*********************100%%**********************]  1 of 1 completed\n",
      "[*********************100%%**********************]  1 of 1 completed\n",
      "[*********************100%%**********************]  1 of 1 completed\n",
      "[*********************100%%**********************]  1 of 1 completed\n",
      "[*********************100%%**********************]  1 of 1 completed\n",
      "[*********************100%%**********************]  1 of 1 completed\n",
      "[*********************100%%**********************]  1 of 1 completed\n",
      "[*********************100%%**********************]  1 of 1 completed\n",
      "[*********************100%%**********************]  1 of 1 completed\n",
      "[*********************100%%**********************]  1 of 1 completed\n",
      "[*********************100%%**********************]  1 of 1 completed\n",
      "[*********************100%%**********************]  1 of 1 completed\n",
      "[*********************100%%**********************]  1 of 1 completed\n",
      "[*********************100%%**********************]  1 of 1 completed\n",
      "[*********************100%%**********************]  1 of 1 completed\n",
      "[*********************100%%**********************]  1 of 1 completed\n",
      "[*********************100%%**********************]  1 of 1 completed\n",
      "[*********************100%%**********************]  1 of 1 completed\n",
      "[*********************100%%**********************]  1 of 1 completed\n",
      "[*********************100%%**********************]  1 of 1 completed\n"
     ]
    },
    {
     "name": "stdout",
     "output_type": "stream",
     "text": [
      "Shape of DataFrame:  (97013, 8)\n"
     ]
    }
   ],
   "source": [
    "df = YahooDownloader(start_date = TRAIN_START_DATE,\n",
    "                     end_date = TRADE_END_DATE,\n",
    "                     ticker_list = config_tickers.DOW_30_TICKER).fetch_data()\n",
    "\n",
    "\n",
    "\n"
   ]
  },
  {
   "cell_type": "code",
   "execution_count": 152,
   "metadata": {
    "colab": {
     "base_uri": "https://localhost:8080/"
    },
    "id": "JzqRRTOX6aFu",
    "outputId": "e302049c-08e1-4ff0-ce60-7faf71776eb7"
   },
   "outputs": [
    {
     "name": "stdout",
     "output_type": "stream",
     "text": [
      "['AXP', 'AMGN', 'AAPL', 'BA', 'CAT', 'CSCO', 'CVX', 'GS', 'HD', 'HON', 'IBM', 'INTC', 'JNJ', 'KO', 'JPM', 'MCD', 'MMM', 'MRK', 'MSFT', 'NKE', 'PG', 'TRV', 'UNH', 'CRM', 'VZ', 'V', 'WBA', 'WMT', 'DIS', 'DOW']\n"
     ]
    }
   ],
   "source": [
    "print(config_tickers.DOW_30_TICKER)"
   ]
  },
  {
   "cell_type": "code",
   "execution_count": 153,
   "metadata": {
    "colab": {
     "base_uri": "https://localhost:8080/"
    },
    "id": "CV3HrZHLh1hy",
    "outputId": "81ee90f7-c290-40d9-81a0-8b771f3699ed"
   },
   "outputs": [
    {
     "data": {
      "text/plain": [
       "(97013, 8)"
      ]
     },
     "execution_count": 153,
     "metadata": {},
     "output_type": "execute_result"
    }
   ],
   "source": [
    "df.shape"
   ]
  },
  {
   "cell_type": "code",
   "execution_count": 154,
   "metadata": {
    "colab": {
     "base_uri": "https://localhost:8080/",
     "height": 206
    },
    "id": "4hYkeaPiICHS",
    "outputId": "b64d30ce-6f5a-461e-c6fe-1baee4642b4d"
   },
   "outputs": [
    {
     "data": {
      "text/html": [
       "<div>\n",
       "<style scoped>\n",
       "    .dataframe tbody tr th:only-of-type {\n",
       "        vertical-align: middle;\n",
       "    }\n",
       "\n",
       "    .dataframe tbody tr th {\n",
       "        vertical-align: top;\n",
       "    }\n",
       "\n",
       "    .dataframe thead th {\n",
       "        text-align: right;\n",
       "    }\n",
       "</style>\n",
       "<table border=\"1\" class=\"dataframe\">\n",
       "  <thead>\n",
       "    <tr style=\"text-align: right;\">\n",
       "      <th></th>\n",
       "      <th>date</th>\n",
       "      <th>open</th>\n",
       "      <th>high</th>\n",
       "      <th>low</th>\n",
       "      <th>close</th>\n",
       "      <th>volume</th>\n",
       "      <th>tic</th>\n",
       "      <th>day</th>\n",
       "    </tr>\n",
       "  </thead>\n",
       "  <tbody>\n",
       "    <tr>\n",
       "      <th>0</th>\n",
       "      <td>2010-01-04</td>\n",
       "      <td>7.622500</td>\n",
       "      <td>7.660714</td>\n",
       "      <td>7.585000</td>\n",
       "      <td>6.470740</td>\n",
       "      <td>493729600</td>\n",
       "      <td>AAPL</td>\n",
       "      <td>0</td>\n",
       "    </tr>\n",
       "    <tr>\n",
       "      <th>1</th>\n",
       "      <td>2010-01-04</td>\n",
       "      <td>56.630001</td>\n",
       "      <td>57.869999</td>\n",
       "      <td>56.560001</td>\n",
       "      <td>41.493420</td>\n",
       "      <td>5277400</td>\n",
       "      <td>AMGN</td>\n",
       "      <td>0</td>\n",
       "    </tr>\n",
       "    <tr>\n",
       "      <th>2</th>\n",
       "      <td>2010-01-04</td>\n",
       "      <td>40.810001</td>\n",
       "      <td>41.099998</td>\n",
       "      <td>40.389999</td>\n",
       "      <td>33.090439</td>\n",
       "      <td>6894300</td>\n",
       "      <td>AXP</td>\n",
       "      <td>0</td>\n",
       "    </tr>\n",
       "    <tr>\n",
       "      <th>3</th>\n",
       "      <td>2010-01-04</td>\n",
       "      <td>55.720001</td>\n",
       "      <td>56.389999</td>\n",
       "      <td>54.799999</td>\n",
       "      <td>43.777565</td>\n",
       "      <td>6186700</td>\n",
       "      <td>BA</td>\n",
       "      <td>0</td>\n",
       "    </tr>\n",
       "    <tr>\n",
       "      <th>4</th>\n",
       "      <td>2010-01-04</td>\n",
       "      <td>57.650002</td>\n",
       "      <td>59.189999</td>\n",
       "      <td>57.509998</td>\n",
       "      <td>40.190216</td>\n",
       "      <td>7325600</td>\n",
       "      <td>CAT</td>\n",
       "      <td>0</td>\n",
       "    </tr>\n",
       "  </tbody>\n",
       "</table>\n",
       "</div>"
      ],
      "text/plain": [
       "         date       open       high        low      close     volume   tic  \\\n",
       "0  2010-01-04   7.622500   7.660714   7.585000   6.470740  493729600  AAPL   \n",
       "1  2010-01-04  56.630001  57.869999  56.560001  41.493420    5277400  AMGN   \n",
       "2  2010-01-04  40.810001  41.099998  40.389999  33.090439    6894300   AXP   \n",
       "3  2010-01-04  55.720001  56.389999  54.799999  43.777565    6186700    BA   \n",
       "4  2010-01-04  57.650002  59.189999  57.509998  40.190216    7325600   CAT   \n",
       "\n",
       "   day  \n",
       "0    0  \n",
       "1    0  \n",
       "2    0  \n",
       "3    0  \n",
       "4    0  "
      ]
     },
     "execution_count": 154,
     "metadata": {},
     "output_type": "execute_result"
    }
   ],
   "source": [
    "df.sort_values(['date','tic'],ignore_index=True).head()"
   ]
  },
  {
   "cell_type": "markdown",
   "metadata": {
    "id": "uqC6c40Zh1iH"
   },
   "source": [
    "# Part 4: Preprocess Data\n",
    "We need to check for missing data and do feature engineering to convert the data point into a state.\n",
    "* **Adding technical indicators**. In practical trading, various information needs to be taken into account, such as historical prices, current holding shares, technical indicators, etc. Here, we demonstrate two trend-following technical indicators: MACD and RSI.\n",
    "* **Adding turbulence index**. Risk-aversion reflects whether an investor prefers to protect the capital. It also influences one's trading strategy when facing different market volatility level. To control the risk in a worst-case scenario, such as financial crisis of 2007–2008, FinRL employs the turbulence index that measures extreme fluctuation of asset price."
   ]
  },
  {
   "cell_type": "code",
   "execution_count": 155,
   "metadata": {
    "colab": {
     "base_uri": "https://localhost:8080/"
    },
    "id": "PmKP-1ii3RLS",
    "outputId": "6e4b4cc7-593b-4403-eb2a-828f55ed5a89"
   },
   "outputs": [
    {
     "name": "stderr",
     "output_type": "stream",
     "text": [
      "[*********************100%%**********************]  1 of 1 completed"
     ]
    },
    {
     "name": "stdout",
     "output_type": "stream",
     "text": [
      "Successfully added technical indicators\n",
      "Shape of DataFrame:  (3310, 8)\n",
      "Successfully added vix\n"
     ]
    },
    {
     "name": "stderr",
     "output_type": "stream",
     "text": [
      "\n"
     ]
    },
    {
     "name": "stdout",
     "output_type": "stream",
     "text": [
      "Successfully added turbulence index\n"
     ]
    }
   ],
   "source": [
    "fe = FeatureEngineer(\n",
    "                    use_technical_indicator=True,\n",
    "                    tech_indicator_list = INDICATORS,\n",
    "                    use_vix=True,\n",
    "                    use_turbulence=True,\n",
    "                    user_defined_feature = False)\n",
    "\n",
    "processed = fe.preprocess_data(df)"
   ]
  },
  {
   "cell_type": "code",
   "execution_count": 156,
   "metadata": {
    "id": "Kixon2tR3RLT"
   },
   "outputs": [],
   "source": [
    "list_ticker = processed[\"tic\"].unique().tolist()\n",
    "list_date = list(pd.date_range(processed['date'].min(),processed['date'].max()).astype(str))\n",
    "combination = list(itertools.product(list_date,list_ticker))\n",
    "\n",
    "processed_full = pd.DataFrame(combination,columns=[\"date\",\"tic\"]).merge(processed,on=[\"date\",\"tic\"],how=\"left\")\n",
    "processed_full = processed_full[processed_full['date'].isin(processed['date'])]\n",
    "processed_full = processed_full.sort_values(['date','tic'])\n",
    "\n",
    "processed_full = processed_full.fillna(0)"
   ]
  },
  {
   "cell_type": "code",
   "execution_count": 157,
   "metadata": {
    "colab": {
     "base_uri": "https://localhost:8080/",
     "height": 407
    },
    "id": "grvhGJJII3Xn",
    "outputId": "627d411c-d197-4019-8940-4d88a68dbfc9"
   },
   "outputs": [
    {
     "data": {
      "text/html": [
       "<div>\n",
       "<style scoped>\n",
       "    .dataframe tbody tr th:only-of-type {\n",
       "        vertical-align: middle;\n",
       "    }\n",
       "\n",
       "    .dataframe tbody tr th {\n",
       "        vertical-align: top;\n",
       "    }\n",
       "\n",
       "    .dataframe thead th {\n",
       "        text-align: right;\n",
       "    }\n",
       "</style>\n",
       "<table border=\"1\" class=\"dataframe\">\n",
       "  <thead>\n",
       "    <tr style=\"text-align: right;\">\n",
       "      <th></th>\n",
       "      <th>date</th>\n",
       "      <th>tic</th>\n",
       "      <th>open</th>\n",
       "      <th>high</th>\n",
       "      <th>low</th>\n",
       "      <th>close</th>\n",
       "      <th>volume</th>\n",
       "      <th>day</th>\n",
       "      <th>macd</th>\n",
       "      <th>boll_ub</th>\n",
       "      <th>boll_lb</th>\n",
       "      <th>rsi_30</th>\n",
       "      <th>cci_30</th>\n",
       "      <th>dx_30</th>\n",
       "      <th>close_30_sma</th>\n",
       "      <th>close_60_sma</th>\n",
       "      <th>vix</th>\n",
       "      <th>turbulence</th>\n",
       "    </tr>\n",
       "  </thead>\n",
       "  <tbody>\n",
       "    <tr>\n",
       "      <th>0</th>\n",
       "      <td>2010-01-04</td>\n",
       "      <td>AAPL</td>\n",
       "      <td>7.622500</td>\n",
       "      <td>7.660714</td>\n",
       "      <td>7.585000</td>\n",
       "      <td>6.470740</td>\n",
       "      <td>493729600.0</td>\n",
       "      <td>0.0</td>\n",
       "      <td>0.0</td>\n",
       "      <td>6.492157</td>\n",
       "      <td>6.460512</td>\n",
       "      <td>100.0</td>\n",
       "      <td>66.666667</td>\n",
       "      <td>100.0</td>\n",
       "      <td>6.470740</td>\n",
       "      <td>6.470740</td>\n",
       "      <td>20.040001</td>\n",
       "      <td>0.0</td>\n",
       "    </tr>\n",
       "    <tr>\n",
       "      <th>1</th>\n",
       "      <td>2010-01-04</td>\n",
       "      <td>AMGN</td>\n",
       "      <td>56.630001</td>\n",
       "      <td>57.869999</td>\n",
       "      <td>56.560001</td>\n",
       "      <td>41.493420</td>\n",
       "      <td>5277400.0</td>\n",
       "      <td>0.0</td>\n",
       "      <td>0.0</td>\n",
       "      <td>6.492157</td>\n",
       "      <td>6.460512</td>\n",
       "      <td>100.0</td>\n",
       "      <td>66.666667</td>\n",
       "      <td>100.0</td>\n",
       "      <td>41.493420</td>\n",
       "      <td>41.493420</td>\n",
       "      <td>20.040001</td>\n",
       "      <td>0.0</td>\n",
       "    </tr>\n",
       "    <tr>\n",
       "      <th>2</th>\n",
       "      <td>2010-01-04</td>\n",
       "      <td>AXP</td>\n",
       "      <td>40.810001</td>\n",
       "      <td>41.099998</td>\n",
       "      <td>40.389999</td>\n",
       "      <td>33.090439</td>\n",
       "      <td>6894300.0</td>\n",
       "      <td>0.0</td>\n",
       "      <td>0.0</td>\n",
       "      <td>6.492157</td>\n",
       "      <td>6.460512</td>\n",
       "      <td>100.0</td>\n",
       "      <td>66.666667</td>\n",
       "      <td>100.0</td>\n",
       "      <td>33.090439</td>\n",
       "      <td>33.090439</td>\n",
       "      <td>20.040001</td>\n",
       "      <td>0.0</td>\n",
       "    </tr>\n",
       "    <tr>\n",
       "      <th>3</th>\n",
       "      <td>2010-01-04</td>\n",
       "      <td>BA</td>\n",
       "      <td>55.720001</td>\n",
       "      <td>56.389999</td>\n",
       "      <td>54.799999</td>\n",
       "      <td>43.777565</td>\n",
       "      <td>6186700.0</td>\n",
       "      <td>0.0</td>\n",
       "      <td>0.0</td>\n",
       "      <td>6.492157</td>\n",
       "      <td>6.460512</td>\n",
       "      <td>100.0</td>\n",
       "      <td>66.666667</td>\n",
       "      <td>100.0</td>\n",
       "      <td>43.777565</td>\n",
       "      <td>43.777565</td>\n",
       "      <td>20.040001</td>\n",
       "      <td>0.0</td>\n",
       "    </tr>\n",
       "    <tr>\n",
       "      <th>4</th>\n",
       "      <td>2010-01-04</td>\n",
       "      <td>CAT</td>\n",
       "      <td>57.650002</td>\n",
       "      <td>59.189999</td>\n",
       "      <td>57.509998</td>\n",
       "      <td>40.190216</td>\n",
       "      <td>7325600.0</td>\n",
       "      <td>0.0</td>\n",
       "      <td>0.0</td>\n",
       "      <td>6.492157</td>\n",
       "      <td>6.460512</td>\n",
       "      <td>100.0</td>\n",
       "      <td>66.666667</td>\n",
       "      <td>100.0</td>\n",
       "      <td>40.190216</td>\n",
       "      <td>40.190216</td>\n",
       "      <td>20.040001</td>\n",
       "      <td>0.0</td>\n",
       "    </tr>\n",
       "    <tr>\n",
       "      <th>5</th>\n",
       "      <td>2010-01-04</td>\n",
       "      <td>CRM</td>\n",
       "      <td>18.652500</td>\n",
       "      <td>18.882500</td>\n",
       "      <td>18.547501</td>\n",
       "      <td>18.680597</td>\n",
       "      <td>7906000.0</td>\n",
       "      <td>0.0</td>\n",
       "      <td>0.0</td>\n",
       "      <td>6.492157</td>\n",
       "      <td>6.460512</td>\n",
       "      <td>100.0</td>\n",
       "      <td>66.666667</td>\n",
       "      <td>100.0</td>\n",
       "      <td>18.680597</td>\n",
       "      <td>18.680597</td>\n",
       "      <td>20.040001</td>\n",
       "      <td>0.0</td>\n",
       "    </tr>\n",
       "    <tr>\n",
       "      <th>6</th>\n",
       "      <td>2010-01-04</td>\n",
       "      <td>CSCO</td>\n",
       "      <td>24.110001</td>\n",
       "      <td>24.840000</td>\n",
       "      <td>24.010000</td>\n",
       "      <td>16.743509</td>\n",
       "      <td>59853700.0</td>\n",
       "      <td>0.0</td>\n",
       "      <td>0.0</td>\n",
       "      <td>6.492157</td>\n",
       "      <td>6.460512</td>\n",
       "      <td>100.0</td>\n",
       "      <td>66.666667</td>\n",
       "      <td>100.0</td>\n",
       "      <td>16.743509</td>\n",
       "      <td>16.743509</td>\n",
       "      <td>20.040001</td>\n",
       "      <td>0.0</td>\n",
       "    </tr>\n",
       "    <tr>\n",
       "      <th>7</th>\n",
       "      <td>2010-01-04</td>\n",
       "      <td>CVX</td>\n",
       "      <td>78.199997</td>\n",
       "      <td>79.199997</td>\n",
       "      <td>78.160004</td>\n",
       "      <td>44.988232</td>\n",
       "      <td>10173800.0</td>\n",
       "      <td>0.0</td>\n",
       "      <td>0.0</td>\n",
       "      <td>6.492157</td>\n",
       "      <td>6.460512</td>\n",
       "      <td>100.0</td>\n",
       "      <td>66.666667</td>\n",
       "      <td>100.0</td>\n",
       "      <td>44.988232</td>\n",
       "      <td>44.988232</td>\n",
       "      <td>20.040001</td>\n",
       "      <td>0.0</td>\n",
       "    </tr>\n",
       "    <tr>\n",
       "      <th>8</th>\n",
       "      <td>2010-01-04</td>\n",
       "      <td>DIS</td>\n",
       "      <td>32.500000</td>\n",
       "      <td>32.750000</td>\n",
       "      <td>31.870001</td>\n",
       "      <td>27.843174</td>\n",
       "      <td>13700400.0</td>\n",
       "      <td>0.0</td>\n",
       "      <td>0.0</td>\n",
       "      <td>6.492157</td>\n",
       "      <td>6.460512</td>\n",
       "      <td>100.0</td>\n",
       "      <td>66.666667</td>\n",
       "      <td>100.0</td>\n",
       "      <td>27.843174</td>\n",
       "      <td>27.843174</td>\n",
       "      <td>20.040001</td>\n",
       "      <td>0.0</td>\n",
       "    </tr>\n",
       "    <tr>\n",
       "      <th>9</th>\n",
       "      <td>2010-01-04</td>\n",
       "      <td>GS</td>\n",
       "      <td>170.050003</td>\n",
       "      <td>174.250000</td>\n",
       "      <td>169.509995</td>\n",
       "      <td>135.576218</td>\n",
       "      <td>9135000.0</td>\n",
       "      <td>0.0</td>\n",
       "      <td>0.0</td>\n",
       "      <td>6.492157</td>\n",
       "      <td>6.460512</td>\n",
       "      <td>100.0</td>\n",
       "      <td>66.666667</td>\n",
       "      <td>100.0</td>\n",
       "      <td>135.576218</td>\n",
       "      <td>135.576218</td>\n",
       "      <td>20.040001</td>\n",
       "      <td>0.0</td>\n",
       "    </tr>\n",
       "  </tbody>\n",
       "</table>\n",
       "</div>"
      ],
      "text/plain": [
       "         date   tic        open        high         low       close  \\\n",
       "0  2010-01-04  AAPL    7.622500    7.660714    7.585000    6.470740   \n",
       "1  2010-01-04  AMGN   56.630001   57.869999   56.560001   41.493420   \n",
       "2  2010-01-04   AXP   40.810001   41.099998   40.389999   33.090439   \n",
       "3  2010-01-04    BA   55.720001   56.389999   54.799999   43.777565   \n",
       "4  2010-01-04   CAT   57.650002   59.189999   57.509998   40.190216   \n",
       "5  2010-01-04   CRM   18.652500   18.882500   18.547501   18.680597   \n",
       "6  2010-01-04  CSCO   24.110001   24.840000   24.010000   16.743509   \n",
       "7  2010-01-04   CVX   78.199997   79.199997   78.160004   44.988232   \n",
       "8  2010-01-04   DIS   32.500000   32.750000   31.870001   27.843174   \n",
       "9  2010-01-04    GS  170.050003  174.250000  169.509995  135.576218   \n",
       "\n",
       "        volume  day  macd   boll_ub   boll_lb  rsi_30     cci_30  dx_30  \\\n",
       "0  493729600.0  0.0   0.0  6.492157  6.460512   100.0  66.666667  100.0   \n",
       "1    5277400.0  0.0   0.0  6.492157  6.460512   100.0  66.666667  100.0   \n",
       "2    6894300.0  0.0   0.0  6.492157  6.460512   100.0  66.666667  100.0   \n",
       "3    6186700.0  0.0   0.0  6.492157  6.460512   100.0  66.666667  100.0   \n",
       "4    7325600.0  0.0   0.0  6.492157  6.460512   100.0  66.666667  100.0   \n",
       "5    7906000.0  0.0   0.0  6.492157  6.460512   100.0  66.666667  100.0   \n",
       "6   59853700.0  0.0   0.0  6.492157  6.460512   100.0  66.666667  100.0   \n",
       "7   10173800.0  0.0   0.0  6.492157  6.460512   100.0  66.666667  100.0   \n",
       "8   13700400.0  0.0   0.0  6.492157  6.460512   100.0  66.666667  100.0   \n",
       "9    9135000.0  0.0   0.0  6.492157  6.460512   100.0  66.666667  100.0   \n",
       "\n",
       "   close_30_sma  close_60_sma        vix  turbulence  \n",
       "0      6.470740      6.470740  20.040001         0.0  \n",
       "1     41.493420     41.493420  20.040001         0.0  \n",
       "2     33.090439     33.090439  20.040001         0.0  \n",
       "3     43.777565     43.777565  20.040001         0.0  \n",
       "4     40.190216     40.190216  20.040001         0.0  \n",
       "5     18.680597     18.680597  20.040001         0.0  \n",
       "6     16.743509     16.743509  20.040001         0.0  \n",
       "7     44.988232     44.988232  20.040001         0.0  \n",
       "8     27.843174     27.843174  20.040001         0.0  \n",
       "9    135.576218    135.576218  20.040001         0.0  "
      ]
     },
     "execution_count": 157,
     "metadata": {},
     "output_type": "execute_result"
    }
   ],
   "source": [
    "processed_full.sort_values(['date','tic'],ignore_index=True).head(10)"
   ]
  },
  {
   "cell_type": "code",
   "execution_count": 158,
   "metadata": {
    "id": "5vdORQ384Qx-"
   },
   "outputs": [],
   "source": [
    "mvo_df = processed_full.sort_values(['date','tic'],ignore_index=True)[['date','tic','close']]"
   ]
  },
  {
   "cell_type": "markdown",
   "metadata": {
    "id": "-QsYaY0Dh1iw"
   },
   "source": [
    "<a id='4'></a>\n",
    "# Part 5. Build A Market Environment in OpenAI Gym-style\n",
    "The training process involves observing stock price change, taking an action and reward's calculation. By interacting with the market environment, the agent will eventually derive a trading strategy that may maximize (expected) rewards.\n",
    "\n",
    "Our market environment, based on OpenAI Gym, simulates stock markets with historical market data."
   ]
  },
  {
   "cell_type": "markdown",
   "metadata": {
    "id": "5TOhcryx44bb"
   },
   "source": [
    "## Data Split\n",
    "We split the data into training set and testing set as follows:\n",
    "\n",
    "Training data period: 2009-01-01 to 2020-07-01\n",
    "\n",
    "Trading data period: 2020-07-01 to 2021-10-31\n"
   ]
  },
  {
   "cell_type": "code",
   "execution_count": 159,
   "metadata": {
    "colab": {
     "base_uri": "https://localhost:8080/"
    },
    "id": "W0qaVGjLtgbI",
    "outputId": "5e364280-c418-470f-e25c-f03f56adbda7"
   },
   "outputs": [
    {
     "name": "stdout",
     "output_type": "stream",
     "text": [
      "85753\n",
      "10237\n"
     ]
    }
   ],
   "source": [
    "train = data_split(processed_full, TRAIN_START_DATE,TRAIN_END_DATE)\n",
    "trade = data_split(processed_full, TRADE_START_DATE,TRADE_END_DATE)\n",
    "print(len(train))\n",
    "print(len(trade))"
   ]
  },
  {
   "cell_type": "code",
   "execution_count": 160,
   "metadata": {
    "colab": {
     "base_uri": "https://localhost:8080/",
     "height": 444
    },
    "id": "p52zNCOhTtLR",
    "outputId": "e205ad4d-49ad-472b-8b60-0dc14a629113"
   },
   "outputs": [
    {
     "data": {
      "text/html": [
       "<div>\n",
       "<style scoped>\n",
       "    .dataframe tbody tr th:only-of-type {\n",
       "        vertical-align: middle;\n",
       "    }\n",
       "\n",
       "    .dataframe tbody tr th {\n",
       "        vertical-align: top;\n",
       "    }\n",
       "\n",
       "    .dataframe thead th {\n",
       "        text-align: right;\n",
       "    }\n",
       "</style>\n",
       "<table border=\"1\" class=\"dataframe\">\n",
       "  <thead>\n",
       "    <tr style=\"text-align: right;\">\n",
       "      <th></th>\n",
       "      <th>date</th>\n",
       "      <th>tic</th>\n",
       "      <th>open</th>\n",
       "      <th>high</th>\n",
       "      <th>low</th>\n",
       "      <th>close</th>\n",
       "      <th>volume</th>\n",
       "      <th>day</th>\n",
       "      <th>macd</th>\n",
       "      <th>boll_ub</th>\n",
       "      <th>boll_lb</th>\n",
       "      <th>rsi_30</th>\n",
       "      <th>cci_30</th>\n",
       "      <th>dx_30</th>\n",
       "      <th>close_30_sma</th>\n",
       "      <th>close_60_sma</th>\n",
       "      <th>vix</th>\n",
       "      <th>turbulence</th>\n",
       "    </tr>\n",
       "  </thead>\n",
       "  <tbody>\n",
       "    <tr>\n",
       "      <th>2956</th>\n",
       "      <td>2021-09-30</td>\n",
       "      <td>UNH</td>\n",
       "      <td>401.489990</td>\n",
       "      <td>403.489990</td>\n",
       "      <td>390.459991</td>\n",
       "      <td>377.353821</td>\n",
       "      <td>3779900.0</td>\n",
       "      <td>3.0</td>\n",
       "      <td>-4.283126</td>\n",
       "      <td>412.838070</td>\n",
       "      <td>380.981449</td>\n",
       "      <td>40.895358</td>\n",
       "      <td>-222.794079</td>\n",
       "      <td>41.980385</td>\n",
       "      <td>399.774963</td>\n",
       "      <td>399.273660</td>\n",
       "      <td>23.139999</td>\n",
       "      <td>24.927393</td>\n",
       "    </tr>\n",
       "    <tr>\n",
       "      <th>2956</th>\n",
       "      <td>2021-09-30</td>\n",
       "      <td>V</td>\n",
       "      <td>227.580002</td>\n",
       "      <td>228.789993</td>\n",
       "      <td>222.630005</td>\n",
       "      <td>218.542953</td>\n",
       "      <td>7128500.0</td>\n",
       "      <td>3.0</td>\n",
       "      <td>-1.526747</td>\n",
       "      <td>226.859203</td>\n",
       "      <td>214.843801</td>\n",
       "      <td>44.079006</td>\n",
       "      <td>-54.529521</td>\n",
       "      <td>19.569853</td>\n",
       "      <td>223.027287</td>\n",
       "      <td>229.677245</td>\n",
       "      <td>23.139999</td>\n",
       "      <td>24.927393</td>\n",
       "    </tr>\n",
       "    <tr>\n",
       "      <th>2956</th>\n",
       "      <td>2021-09-30</td>\n",
       "      <td>VZ</td>\n",
       "      <td>54.500000</td>\n",
       "      <td>54.509998</td>\n",
       "      <td>54.000000</td>\n",
       "      <td>45.622711</td>\n",
       "      <td>18736600.0</td>\n",
       "      <td>3.0</td>\n",
       "      <td>-0.217511</td>\n",
       "      <td>46.664912</td>\n",
       "      <td>45.373694</td>\n",
       "      <td>41.824971</td>\n",
       "      <td>-102.367466</td>\n",
       "      <td>21.682953</td>\n",
       "      <td>46.175151</td>\n",
       "      <td>46.664379</td>\n",
       "      <td>23.139999</td>\n",
       "      <td>24.927393</td>\n",
       "    </tr>\n",
       "    <tr>\n",
       "      <th>2956</th>\n",
       "      <td>2021-09-30</td>\n",
       "      <td>WBA</td>\n",
       "      <td>48.790001</td>\n",
       "      <td>48.930000</td>\n",
       "      <td>46.919998</td>\n",
       "      <td>41.084080</td>\n",
       "      <td>6449400.0</td>\n",
       "      <td>3.0</td>\n",
       "      <td>-0.236967</td>\n",
       "      <td>45.359595</td>\n",
       "      <td>40.747571</td>\n",
       "      <td>44.613730</td>\n",
       "      <td>-106.767249</td>\n",
       "      <td>0.941150</td>\n",
       "      <td>42.887238</td>\n",
       "      <td>41.925718</td>\n",
       "      <td>23.139999</td>\n",
       "      <td>24.927393</td>\n",
       "    </tr>\n",
       "    <tr>\n",
       "      <th>2956</th>\n",
       "      <td>2021-09-30</td>\n",
       "      <td>WMT</td>\n",
       "      <td>46.880001</td>\n",
       "      <td>47.243332</td>\n",
       "      <td>46.416668</td>\n",
       "      <td>44.720795</td>\n",
       "      <td>22457700.0</td>\n",
       "      <td>3.0</td>\n",
       "      <td>-0.510845</td>\n",
       "      <td>48.019575</td>\n",
       "      <td>44.562552</td>\n",
       "      <td>40.165783</td>\n",
       "      <td>-151.503192</td>\n",
       "      <td>45.479205</td>\n",
       "      <td>46.767855</td>\n",
       "      <td>46.406913</td>\n",
       "      <td>23.139999</td>\n",
       "      <td>24.927393</td>\n",
       "    </tr>\n",
       "  </tbody>\n",
       "</table>\n",
       "</div>"
      ],
      "text/plain": [
       "            date  tic        open        high         low       close  \\\n",
       "2956  2021-09-30  UNH  401.489990  403.489990  390.459991  377.353821   \n",
       "2956  2021-09-30    V  227.580002  228.789993  222.630005  218.542953   \n",
       "2956  2021-09-30   VZ   54.500000   54.509998   54.000000   45.622711   \n",
       "2956  2021-09-30  WBA   48.790001   48.930000   46.919998   41.084080   \n",
       "2956  2021-09-30  WMT   46.880001   47.243332   46.416668   44.720795   \n",
       "\n",
       "          volume  day      macd     boll_ub     boll_lb     rsi_30  \\\n",
       "2956   3779900.0  3.0 -4.283126  412.838070  380.981449  40.895358   \n",
       "2956   7128500.0  3.0 -1.526747  226.859203  214.843801  44.079006   \n",
       "2956  18736600.0  3.0 -0.217511   46.664912   45.373694  41.824971   \n",
       "2956   6449400.0  3.0 -0.236967   45.359595   40.747571  44.613730   \n",
       "2956  22457700.0  3.0 -0.510845   48.019575   44.562552  40.165783   \n",
       "\n",
       "          cci_30      dx_30  close_30_sma  close_60_sma        vix  turbulence  \n",
       "2956 -222.794079  41.980385    399.774963    399.273660  23.139999   24.927393  \n",
       "2956  -54.529521  19.569853    223.027287    229.677245  23.139999   24.927393  \n",
       "2956 -102.367466  21.682953     46.175151     46.664379  23.139999   24.927393  \n",
       "2956 -106.767249   0.941150     42.887238     41.925718  23.139999   24.927393  \n",
       "2956 -151.503192  45.479205     46.767855     46.406913  23.139999   24.927393  "
      ]
     },
     "execution_count": 160,
     "metadata": {},
     "output_type": "execute_result"
    }
   ],
   "source": [
    "train.tail()"
   ]
  },
  {
   "cell_type": "code",
   "execution_count": 161,
   "metadata": {
    "colab": {
     "base_uri": "https://localhost:8080/",
     "height": 357
    },
    "id": "k9zU9YaTTvFq",
    "outputId": "b23fd388-7411-4c78-8ebf-eb33df9b40a4"
   },
   "outputs": [
    {
     "data": {
      "text/html": [
       "<div>\n",
       "<style scoped>\n",
       "    .dataframe tbody tr th:only-of-type {\n",
       "        vertical-align: middle;\n",
       "    }\n",
       "\n",
       "    .dataframe tbody tr th {\n",
       "        vertical-align: top;\n",
       "    }\n",
       "\n",
       "    .dataframe thead th {\n",
       "        text-align: right;\n",
       "    }\n",
       "</style>\n",
       "<table border=\"1\" class=\"dataframe\">\n",
       "  <thead>\n",
       "    <tr style=\"text-align: right;\">\n",
       "      <th></th>\n",
       "      <th>date</th>\n",
       "      <th>tic</th>\n",
       "      <th>open</th>\n",
       "      <th>high</th>\n",
       "      <th>low</th>\n",
       "      <th>close</th>\n",
       "      <th>volume</th>\n",
       "      <th>day</th>\n",
       "      <th>macd</th>\n",
       "      <th>boll_ub</th>\n",
       "      <th>boll_lb</th>\n",
       "      <th>rsi_30</th>\n",
       "      <th>cci_30</th>\n",
       "      <th>dx_30</th>\n",
       "      <th>close_30_sma</th>\n",
       "      <th>close_60_sma</th>\n",
       "      <th>vix</th>\n",
       "      <th>turbulence</th>\n",
       "    </tr>\n",
       "  </thead>\n",
       "  <tbody>\n",
       "    <tr>\n",
       "      <th>0</th>\n",
       "      <td>2021-10-01</td>\n",
       "      <td>AAPL</td>\n",
       "      <td>141.899994</td>\n",
       "      <td>142.919998</td>\n",
       "      <td>139.110001</td>\n",
       "      <td>140.653519</td>\n",
       "      <td>94639600.0</td>\n",
       "      <td>4.0</td>\n",
       "      <td>-1.694441</td>\n",
       "      <td>154.557872</td>\n",
       "      <td>136.404112</td>\n",
       "      <td>46.927743</td>\n",
       "      <td>-142.221443</td>\n",
       "      <td>41.749873</td>\n",
       "      <td>146.390415</td>\n",
       "      <td>145.492824</td>\n",
       "      <td>21.1</td>\n",
       "      <td>120.030788</td>\n",
       "    </tr>\n",
       "    <tr>\n",
       "      <th>0</th>\n",
       "      <td>2021-10-01</td>\n",
       "      <td>AMGN</td>\n",
       "      <td>213.589996</td>\n",
       "      <td>214.610001</td>\n",
       "      <td>210.800003</td>\n",
       "      <td>197.213074</td>\n",
       "      <td>2629400.0</td>\n",
       "      <td>4.0</td>\n",
       "      <td>-2.996546</td>\n",
       "      <td>205.844873</td>\n",
       "      <td>192.892092</td>\n",
       "      <td>40.408580</td>\n",
       "      <td>-96.968253</td>\n",
       "      <td>36.189244</td>\n",
       "      <td>201.697203</td>\n",
       "      <td>210.039148</td>\n",
       "      <td>21.1</td>\n",
       "      <td>120.030788</td>\n",
       "    </tr>\n",
       "    <tr>\n",
       "      <th>0</th>\n",
       "      <td>2021-10-01</td>\n",
       "      <td>AXP</td>\n",
       "      <td>168.500000</td>\n",
       "      <td>175.119995</td>\n",
       "      <td>168.479996</td>\n",
       "      <td>167.727448</td>\n",
       "      <td>3956000.0</td>\n",
       "      <td>4.0</td>\n",
       "      <td>2.242076</td>\n",
       "      <td>171.823832</td>\n",
       "      <td>147.181356</td>\n",
       "      <td>56.265103</td>\n",
       "      <td>117.437317</td>\n",
       "      <td>15.667511</td>\n",
       "      <td>158.999401</td>\n",
       "      <td>161.211789</td>\n",
       "      <td>21.1</td>\n",
       "      <td>120.030788</td>\n",
       "    </tr>\n",
       "    <tr>\n",
       "      <th>0</th>\n",
       "      <td>2021-10-01</td>\n",
       "      <td>BA</td>\n",
       "      <td>222.850006</td>\n",
       "      <td>226.720001</td>\n",
       "      <td>220.600006</td>\n",
       "      <td>226.000000</td>\n",
       "      <td>9113600.0</td>\n",
       "      <td>4.0</td>\n",
       "      <td>0.730320</td>\n",
       "      <td>226.909442</td>\n",
       "      <td>205.727561</td>\n",
       "      <td>51.614047</td>\n",
       "      <td>116.649440</td>\n",
       "      <td>2.027170</td>\n",
       "      <td>217.175334</td>\n",
       "      <td>221.968500</td>\n",
       "      <td>21.1</td>\n",
       "      <td>120.030788</td>\n",
       "    </tr>\n",
       "    <tr>\n",
       "      <th>0</th>\n",
       "      <td>2021-10-01</td>\n",
       "      <td>CAT</td>\n",
       "      <td>192.899994</td>\n",
       "      <td>195.869995</td>\n",
       "      <td>191.240005</td>\n",
       "      <td>183.514008</td>\n",
       "      <td>3695500.0</td>\n",
       "      <td>4.0</td>\n",
       "      <td>-3.554817</td>\n",
       "      <td>200.903614</td>\n",
       "      <td>177.171303</td>\n",
       "      <td>41.999444</td>\n",
       "      <td>-112.169807</td>\n",
       "      <td>36.203176</td>\n",
       "      <td>192.366897</td>\n",
       "      <td>195.812264</td>\n",
       "      <td>21.1</td>\n",
       "      <td>120.030788</td>\n",
       "    </tr>\n",
       "  </tbody>\n",
       "</table>\n",
       "</div>"
      ],
      "text/plain": [
       "         date   tic        open        high         low       close  \\\n",
       "0  2021-10-01  AAPL  141.899994  142.919998  139.110001  140.653519   \n",
       "0  2021-10-01  AMGN  213.589996  214.610001  210.800003  197.213074   \n",
       "0  2021-10-01   AXP  168.500000  175.119995  168.479996  167.727448   \n",
       "0  2021-10-01    BA  222.850006  226.720001  220.600006  226.000000   \n",
       "0  2021-10-01   CAT  192.899994  195.869995  191.240005  183.514008   \n",
       "\n",
       "       volume  day      macd     boll_ub     boll_lb     rsi_30      cci_30  \\\n",
       "0  94639600.0  4.0 -1.694441  154.557872  136.404112  46.927743 -142.221443   \n",
       "0   2629400.0  4.0 -2.996546  205.844873  192.892092  40.408580  -96.968253   \n",
       "0   3956000.0  4.0  2.242076  171.823832  147.181356  56.265103  117.437317   \n",
       "0   9113600.0  4.0  0.730320  226.909442  205.727561  51.614047  116.649440   \n",
       "0   3695500.0  4.0 -3.554817  200.903614  177.171303  41.999444 -112.169807   \n",
       "\n",
       "       dx_30  close_30_sma  close_60_sma   vix  turbulence  \n",
       "0  41.749873    146.390415    145.492824  21.1  120.030788  \n",
       "0  36.189244    201.697203    210.039148  21.1  120.030788  \n",
       "0  15.667511    158.999401    161.211789  21.1  120.030788  \n",
       "0   2.027170    217.175334    221.968500  21.1  120.030788  \n",
       "0  36.203176    192.366897    195.812264  21.1  120.030788  "
      ]
     },
     "execution_count": 161,
     "metadata": {},
     "output_type": "execute_result"
    }
   ],
   "source": [
    "trade.head()"
   ]
  },
  {
   "cell_type": "code",
   "execution_count": 162,
   "metadata": {
    "colab": {
     "base_uri": "https://localhost:8080/"
    },
    "id": "zYN573SOHhxG",
    "outputId": "a9353918-3ff6-4179-e645-1e6c664b4506"
   },
   "outputs": [
    {
     "data": {
      "text/plain": [
       "['macd',\n",
       " 'boll_ub',\n",
       " 'boll_lb',\n",
       " 'rsi_30',\n",
       " 'cci_30',\n",
       " 'dx_30',\n",
       " 'close_30_sma',\n",
       " 'close_60_sma']"
      ]
     },
     "execution_count": 162,
     "metadata": {},
     "output_type": "execute_result"
    }
   ],
   "source": [
    "INDICATORS"
   ]
  },
  {
   "cell_type": "code",
   "execution_count": 163,
   "metadata": {
    "colab": {
     "base_uri": "https://localhost:8080/"
    },
    "id": "Q2zqII8rMIqn",
    "outputId": "687c0ea8-d3d9-460a-d104-d088db843e5b"
   },
   "outputs": [
    {
     "name": "stdout",
     "output_type": "stream",
     "text": [
      "Stock Dimension: 29, State Space: 291\n"
     ]
    }
   ],
   "source": [
    "stock_dimension = len(train.tic.unique())\n",
    "state_space = 1 + 2*stock_dimension + len(INDICATORS)*stock_dimension\n",
    "print(f\"Stock Dimension: {stock_dimension}, State Space: {state_space}\")"
   ]
  },
  {
   "cell_type": "code",
   "execution_count": 164,
   "metadata": {
    "id": "AWyp84Ltto19"
   },
   "outputs": [
    {
     "name": "stdout",
     "output_type": "stream",
     "text": [
      "Risk Controller Active: True\n"
     ]
    }
   ],
   "source": [
    "buy_cost_list = sell_cost_list = [0.001] * stock_dimension\n",
    "num_stock_shares = [0] * stock_dimension\n",
    "\n",
    "env_kwargs = {\n",
    "    \"hmax\": 100,\n",
    "    \"initial_amount\": 1000000,\n",
    "    \"num_stock_shares\": num_stock_shares,\n",
    "    \"buy_cost_pct\": buy_cost_list,\n",
    "    \"sell_cost_pct\": sell_cost_list,\n",
    "    \"state_space\": state_space,\n",
    "    \"stock_dim\": stock_dimension,\n",
    "    \"tech_indicator_list\": INDICATORS,\n",
    "    \"action_space\": stock_dimension,\n",
    "    \"reward_scaling\": 1e-4,\n",
    "    \"make_plots\": True \n",
    "}\n",
    "\n",
    "\n",
    "e_train_gym = StockTradingEnv(df = train, **env_kwargs)\n",
    "e_train__og_gym = OriginalEnv(df = train, **env_kwargs)"
   ]
  },
  {
   "cell_type": "code",
   "execution_count": null,
   "metadata": {},
   "outputs": [],
   "source": []
  },
  {
   "cell_type": "markdown",
   "metadata": {
    "id": "64EoqOrQjiVf"
   },
   "source": [
    "## Environment for Training\n",
    "\n"
   ]
  },
  {
   "cell_type": "code",
   "execution_count": 165,
   "metadata": {
    "colab": {
     "base_uri": "https://localhost:8080/"
    },
    "id": "xwSvvPjutpqS",
    "outputId": "ad3318cc-a3c6-41ee-cdeb-a4eb317e33bf"
   },
   "outputs": [
    {
     "name": "stdout",
     "output_type": "stream",
     "text": [
      "<class 'stable_baselines3.common.vec_env.dummy_vec_env.DummyVecEnv'>\n"
     ]
    }
   ],
   "source": [
    "env_train, _ = e_train_gym.get_sb_env() #uses risk controller\n",
    "print(type(env_train))"
   ]
  },
  {
   "cell_type": "code",
   "execution_count": 166,
   "metadata": {},
   "outputs": [
    {
     "name": "stdout",
     "output_type": "stream",
     "text": [
      "<class 'stable_baselines3.common.vec_env.dummy_vec_env.DummyVecEnv'>\n"
     ]
    }
   ],
   "source": [
    "env_train_og, _ = e_train__og_gym.get_sb_env() # No Risk Controller\n",
    "print(type(env_train))"
   ]
  },
  {
   "cell_type": "markdown",
   "metadata": {
    "id": "HMNR5nHjh1iz"
   },
   "source": [
    "<a id='5'></a>\n",
    "# Part 6: Train DRL Agents\n",
    "* The DRL algorithms are from **Stable Baselines 3**. Users are also encouraged to try **ElegantRL** and **Ray RLlib**.\n",
    "* FinRL includes fine-tuned standard DRL algorithms, such as DQN, DDPG, Multi-Agent DDPG, PPO, SAC, A2C and TD3. We also allow users to\n",
    "design their own DRL algorithms by adapting these DRL algorithms."
   ]
  },
  {
   "cell_type": "code",
   "execution_count": 167,
   "metadata": {
    "id": "364PsqckttcQ"
   },
   "outputs": [],
   "source": [
    "agent = DRLAgent(env = env_train)\n",
    "\n",
    "if_using_a2c = True\n",
    "if_using_ddpg = False\n",
    "if_using_ppo = False\n",
    "if_using_td3 = False\n",
    "if_using_sac = True\n"
   ]
  },
  {
   "cell_type": "code",
   "execution_count": null,
   "metadata": {},
   "outputs": [],
   "source": []
  },
  {
   "cell_type": "markdown",
   "metadata": {
    "id": "YDmqOyF9h1iz"
   },
   "source": [
    "### Agent Training: 5 algorithms (A2C, DDPG, PPO, TD3, SAC)\n"
   ]
  },
  {
   "cell_type": "markdown",
   "metadata": {
    "id": "uijiWgkuh1jB"
   },
   "source": [
    "### Agent 1a: A2C with Risk Controller\n"
   ]
  },
  {
   "cell_type": "code",
   "execution_count": 168,
   "metadata": {
    "colab": {
     "base_uri": "https://localhost:8080/"
    },
    "id": "GUCnkn-HIbmj",
    "outputId": "6da723f6-2f9b-4d76-8872-328ef56dadfc"
   },
   "outputs": [
    {
     "name": "stdout",
     "output_type": "stream",
     "text": [
      "{'n_steps': 5, 'ent_coef': 0.01, 'learning_rate': 0.0007}\n",
      "Using cpu device\n",
      "Logging to results/a2c\n"
     ]
    }
   ],
   "source": [
    "agent = DRLAgent(env = env_train)\n",
    "model_a2c = agent.get_model(\"a2c\")\n",
    "\n",
    "if if_using_a2c:\n",
    "  # set up logger\n",
    "  tmp_path = RESULTS_DIR + '/a2c'\n",
    "  new_logger_a2c = configure(tmp_path, [\"stdout\", \"csv\", \"tensorboard\"])\n",
    "  # Set new logger\n",
    "  model_a2c.set_logger(new_logger_a2c)\n",
    "  # Save the trained model\n",
    "  model_a2c.save(RESULTS_DIR + '/a2c/trained_model_a2c.zip')\n",
    "\n"
   ]
  },
  {
   "cell_type": "code",
   "execution_count": 169,
   "metadata": {
    "colab": {
     "base_uri": "https://localhost:8080/"
    },
    "id": "0GVpkWGqH4-D",
    "outputId": "a919c17f-f561-45fa-8b55-3c996811a63e"
   },
   "outputs": [
    {
     "name": "stdout",
     "output_type": "stream",
     "text": [
      "-------------------------------------\n",
      "| time/                 |           |\n",
      "|    fps                | 9         |\n",
      "|    iterations         | 100       |\n",
      "|    time_elapsed       | 52        |\n",
      "|    total_timesteps    | 500       |\n",
      "| train/                |           |\n",
      "|    entropy_loss       | -41.4     |\n",
      "|    explained_variance | -0.000176 |\n",
      "|    learning_rate      | 0.0007    |\n",
      "|    n_updates          | 99        |\n",
      "|    policy_loss        | 65.8      |\n",
      "|    reward             | 0.5351959 |\n",
      "|    std                | 1.01      |\n",
      "|    value_loss         | 4.44      |\n",
      "-------------------------------------\n",
      "--------------------------------------\n",
      "| time/                 |            |\n",
      "|    fps                | 9          |\n",
      "|    iterations         | 200        |\n",
      "|    time_elapsed       | 105        |\n",
      "|    total_timesteps    | 1000       |\n",
      "| train/                |            |\n",
      "|    entropy_loss       | -41.4      |\n",
      "|    explained_variance | -0.00569   |\n",
      "|    learning_rate      | 0.0007     |\n",
      "|    n_updates          | 199        |\n",
      "|    policy_loss        | -124       |\n",
      "|    reward             | 0.88502985 |\n",
      "|    std                | 1.01       |\n",
      "|    value_loss         | 18         |\n",
      "--------------------------------------\n",
      "--------------------------------------\n",
      "| time/                 |            |\n",
      "|    fps                | 9          |\n",
      "|    iterations         | 300        |\n",
      "|    time_elapsed       | 155        |\n",
      "|    total_timesteps    | 1500       |\n",
      "| train/                |            |\n",
      "|    entropy_loss       | -41.4      |\n",
      "|    explained_variance | 0          |\n",
      "|    learning_rate      | 0.0007     |\n",
      "|    n_updates          | 299        |\n",
      "|    policy_loss        | 29.4       |\n",
      "|    reward             | -1.6882097 |\n",
      "|    std                | 1.01       |\n",
      "|    value_loss         | 4.53       |\n",
      "--------------------------------------\n",
      "-------------------------------------\n",
      "| time/                 |           |\n",
      "|    fps                | 9         |\n",
      "|    iterations         | 400       |\n",
      "|    time_elapsed       | 206       |\n",
      "|    total_timesteps    | 2000      |\n",
      "| train/                |           |\n",
      "|    entropy_loss       | -41.5     |\n",
      "|    explained_variance | 0         |\n",
      "|    learning_rate      | 0.0007    |\n",
      "|    n_updates          | 399       |\n",
      "|    policy_loss        | -67.5     |\n",
      "|    reward             | 1.8191401 |\n",
      "|    std                | 1.01      |\n",
      "|    value_loss         | 16.8      |\n",
      "-------------------------------------\n",
      "--------------------------------------\n",
      "| time/                 |            |\n",
      "|    fps                | 9          |\n",
      "|    iterations         | 500        |\n",
      "|    time_elapsed       | 261        |\n",
      "|    total_timesteps    | 2500       |\n",
      "| train/                |            |\n",
      "|    entropy_loss       | -41.5      |\n",
      "|    explained_variance | 0.00323    |\n",
      "|    learning_rate      | 0.0007     |\n",
      "|    n_updates          | 499        |\n",
      "|    policy_loss        | 2.11       |\n",
      "|    reward             | -1.1763309 |\n",
      "|    std                | 1.01       |\n",
      "|    value_loss         | 2.2        |\n",
      "--------------------------------------\n",
      "risk memory: 2956\n",
      "[0.05, 10.419778440974188, 10.630872675522788, 131.03243773985233, 124.38776008527893, 113.84419728698109, 346.7937421225541, 344.48268971759313, 333.22999752347783, 472.2038190981528, 469.54501380721155, 474.752161182254, 1060.9632617050772, 1984.0558114300127, 2362.1579622100635, 2701.9011624614664, 2754.6666057372067, 2800.0892957762035, 2790.5146558504384, 2632.5908629537885, 2027.8113065677844, 1125.5975843765243, 1242.1896401913216, 1528.5750049837523, 1894.1599492625119, 1935.4302714414812, 1807.0413949577999, 1802.3682111351138, 1806.9379407223962, 2088.118408757159, 2353.403923936144, 2864.057325194743, 3198.761462075031, 3235.4870260256075, 2718.7175397193528, 2437.496530765474, 1864.6029426332789, 1629.134393202882, 1131.1967843543919, 1177.1594947523606, 1181.8036825600386, 1291.5313453448503, 1942.911866724096, 2442.344637408022, 2642.2526562410644, 2929.5434790499958, 2977.229745630896, 2797.311029198726, 2691.47419931953, 2757.885281507226, 2578.6591049648673, 2587.9570749449713, 2709.2602872630364, 2714.021807642185, 2825.662349286002, 2522.1116587277124, 2256.074231843199, 1945.1939476242735, 1399.4226847127188, 1470.0582565392933, 1338.94613121728, 1485.6153736412462, 1826.80004465471, 1991.422630889176, 2016.55240594451, 2056.4920509060016, 2421.376671377007, 2144.9582477178155, 2272.6972285481384, 4021.998621297127, 4537.319568248601, 4648.174590508254, 4617.704156396374, 4555.134277242337, 4514.129393510598, 4444.838762829473, 4444.896190766246, 4759.778352322954, 5896.955279083716, 5035.986658567182, 3631.531758384198, 5844.397853370563, 5963.060238227358, 7124.534369711321, 8472.781364105876, 13192.570618336516, 16768.293256116885, 16459.7676809609, 16529.069261120378, 15409.634785236123, 12546.49240399333, 12680.650854609621, 10816.0236491072, 10921.28410394474, 10422.721074601632, 15087.85978252218, 16549.91292361509, 17983.03581491773, 18251.958354258215, 16549.657244448932, 13236.077085614479, 11454.752401659736, 9218.478961882358, 9901.161873942541, 10940.569685824548, 10452.511058666925, 11145.954198216199, 11148.617766677695, 11669.629079628281, 10804.277952588032, 10850.089265961678, 10845.967137827603, 11803.381374869146, 12094.34684127681, 12940.637534521244, 14217.93882368761, 14045.767422823204, 12580.214270027456, 9409.290194444058, 8757.626994425214, 8606.703389661661, 8270.732229249117, 13866.611994596838, 18945.70389883873, 21183.498865848236, 22257.70750826271, 20714.31866611975, 18840.372334831085, 16606.818838680894, 16467.393412238856, 15848.353928579225, 17566.43636822665, 19598.947269167817, 20327.071336520286, 18404.103525985487, 14803.232171162597, 10326.369401060458, 7987.611300519442, 7148.131857425155, 8990.480318183674, 10929.506335576138, 12620.267145942216, 13023.564203950584, 13457.530052630353, 11673.357782066481, 11148.90562585945, 10900.057892729348, 8597.111366533874, 7233.890848438395, 6994.076722556654, 7800.9402573922625, 7616.387568606888, 9971.716922560854, 11354.490510995045, 12626.852341802904, 14051.721549797892, 14376.86289861229, 13355.611602882616, 14000.536411655628, 12761.38410626158, 8939.905558219203, 6028.352649632182, 6287.318465961782, 8204.335432675802, 8046.3241107077765, 9701.806319476655, 10495.466857204388, 8991.579570441145, 9935.165705092091, 12815.08761894153, 13645.653800228383, 14580.016484551797, 15730.229999142179, 15925.489997863262, 17525.00518814145, 16338.544308615265, 12798.23287986791, 13148.998296126807, 12911.472873385694, 15966.631479296506, 15512.990042110816, 13862.24848620771, 11390.339060185857, 9441.58623564116, 7838.483564035023, 5945.89239139171, 5864.552468885145, 6095.801443551659, 5973.649162540094, 5418.94664777362, 5931.396834696527, 6390.286532082378, 6432.657114503662, 6755.1171821912785, 6987.347612596279, 7390.185941650379, 7621.271399400865, 6709.445307404782, 7214.427001572644, 7917.639713579291, 8283.916280417217, 9896.81785261986, 10908.164600220056, 11578.177953819197, 11801.757161515421, 11136.164072238113, 10253.754665762232, 7157.063755819377, 5514.680359750505, 5478.811993562027, 3378.4263248738816, 3698.901168572514, 4928.7544467787275, 5149.012824995596, 5130.793122869797, 5205.452982520048, 5151.277738060716, 4719.801980535106, 5668.791464976913, 6503.895226392176, 10179.558284858065, 11862.680988308266, 10556.954740046498, 9303.250189076207, 8680.704817940412, 10015.789569614584, 8975.718061417667, 8459.707504591957, 8583.203736489424, 8827.25116480587, 8930.45376801284, 9949.948574781029, 10183.551200806434, 10205.042723248685, 10190.362961799217, 10099.132735328418, 10326.270115019195, 10206.574558205324, 9632.211663770808, 8831.286816771393, 8721.889106819011, 9410.260212120413, 9946.46793906306, 10274.966181638638, 9146.731258500588, 8379.9154255874, 6182.53766159649, 4325.589456302797, 2785.659181086134, 2607.2262519686133, 2964.4019958192875, 3913.07018062619, 3946.2973237178635, 4524.034933133873, 4798.300214469012, 4918.753038009611, 4931.385665129448, 4940.372924986294, 4902.16877383836, 5718.076185422486, 5249.925182206488, 4016.310770201349, 4890.414793603242, 4949.573597357451, 5401.976881256681, 5457.640974019629, 6171.323661054763, 5957.586874846464, 4823.6126341762765, 5508.419293042956, 6399.897982676431, 7266.893835641582, 7246.7352731308665, 7150.195421731857, 7166.551524599515, 7121.562156205563, 6801.280954060055, 6691.22745527718, 6915.681071873266, 6088.850336826395, 4877.80451126434, 3198.185307427356, 3151.7109745552807, 3147.0310980511795, 3228.566913561884, 3186.757422044703, 5050.305263454278, 7586.892609375553, 9517.694441555564, 9864.59828234305, 9880.749185220518, 10195.101574079901, 10081.478867040365, 9183.855413650479, 7977.542643393922, 4833.6256172741, 4523.8762650509, 5237.837578641967, 5435.233586871235, 5790.141961212361, 5864.551198355297, 6107.286073658047, 8866.266411856921, 9077.602581178817, 9800.388674752781, 9800.010382760025, 9226.317473950428, 7963.02063309708, 8693.083647711064, 8193.61786701071, 7668.441723133187, 8739.863132503864, 8505.078065230246, 8509.642211604994, 6889.003763635489, 7621.79638187098, 6727.29226455888, 6285.365764613392, 6519.6855936399015, 6060.667043670007, 4617.541032054677, 4122.1841318983215, 4383.815976273386, 3678.9698375260577, 2786.9174575406323, 3290.703301582331, 3574.028118418588, 5072.422865311231, 5969.619048270508, 7549.82598130005, 11336.520801644141, 15675.90215790623, 19954.098679320003, 21464.571878541527, 22755.072423888258, 21685.839678616514, 18377.09305358678, 15999.677637508628, 12131.039040500316, 7610.302077105139, 5005.074418880745, 4052.634357461378, 5966.805943079928, 6005.74870517224, 5824.818588080868, 6101.023585409528, 6895.568964912598, 6001.28275542066, 5042.005443399028, 5672.4003868946975, 8504.301852081793, 10147.09180535233, 10733.729981713399, 10914.807276004574, 10930.957600925316, 11059.615336507944, 9981.536603780505, 8653.757882149623, 8385.089231340453, 8599.51181002083, 9054.382540416582, 9013.96911046428, 10574.025611854324, 11027.142102457543, 7080.130553503872, 7970.406600000296, 7387.272019810389, 7299.773947549956, 7359.474545040229, 7934.387692376852, 7867.863684133512, 6233.455040774442, 7435.982209796786, 7447.34486305795, 9245.094877026097, 9021.26601036678, 9945.999376520593, 12023.038012345189, 12922.203995321004, 13899.044161709666, 14777.777658867579, 14187.671215589513, 9490.903074518295, 7222.656346290574, 7374.958493357567, 8247.282249333273, 9761.09045161542, 11479.265297102762, 11481.121476130982, 11099.081032840462, 8577.330691805768, 6394.631129392599, 6269.781221690201, 5997.521349476924, 8715.222861251337, 11030.960335858606, 12081.89540839273, 15384.487899665779, 19857.212450504983, 22128.792868784058, 27993.630150797773, 28853.114933155088, 39142.57994230663, 37759.970544344666, 44097.181709356475, 42049.041357652815, 36863.816964985075, 32006.07787010816, 28536.765281863158, 23655.3060784366, 22812.723739186422, 21190.772423835035, 18895.612354069217, 19670.609939952625, 14049.292215346424, 12963.138208527478, 12925.743061571447, 16992.738631438457, 20589.64106200791, 23906.108943881478, 23456.306935227116, 20141.273935870588, 15620.699843888146, 15215.887685643618, 15222.921771019468, 13207.831748498007, 12467.309211635404, 12402.323869622556, 12730.883387463147, 16399.493780812903, 20854.32879846359, 21620.255472658693, 21675.872644513594, 21747.655437217676, 23406.626458222563, 21956.225441800547, 20280.234587243183, 19860.20538825793, 20415.872201101905, 19852.591005678343, 18590.607615760087, 22663.988252091207, 20316.495817492654, 19658.20058703823, 20061.464710350872, 20108.04412970571, 22237.143500480346, 22245.673417069942, 23692.05006784921, 25019.999131127966, 26758.84108866814, 20404.87182084347, 13342.200067538131, 11424.826382140898, 11116.132057684761, 13035.844082311603, 18495.730469584767, 18389.298136716654, 18226.160785187294, 19880.93763978013, 20348.827942441094, 16803.726640937843, 16946.222218120205, 18655.820128622814, 18902.756956443736, 20187.40526810381, 18173.748257132364, 18426.6892088495, 18444.608481964842, 15041.205598767398, 13537.424819479245, 12895.820959412515, 11607.711773558674, 11731.507908485233, 14392.63990787187, 16083.429926539897, 19371.488958333885, 19993.40896435579, 23705.273186889634, 25144.349669016385, 21017.08727756976, 16979.347344864385, 20323.76816293743, 23857.62432524363, 26039.44511934062, 27704.035537129945, 28453.112591117915, 29648.632211138334, 25683.06018147676, 19000.54604629365, 13819.659152521544, 6751.135083576548, 6817.747476004022, 7414.454556410966, 10297.479253369049, 11007.75426218109, 14985.205276627117, 20830.923590996346, 25107.831020647594, 29414.701533970536, 30767.743857161586, 28689.67806565048, 25172.7292971098, 20886.93086293797, 18573.596442046164, 12640.709488225908, 10278.292446980451, 10697.934504021801, 10275.823767564774, 11993.13971829239, 14159.83735827055, 15134.237930929785, 16100.073971294656, 15726.199616760325, 17028.268197033183, 15602.680306938571, 16308.973951389915, 14972.208981543601, 11759.984721256207, 9850.989095608522, 9638.134476889718, 9988.462777512601, 10051.700067637941, 10144.562088203218, 11547.330128727652, 12518.609924389024, 11669.686211436976, 11745.105498772773, 11610.00025455426, 11691.490166708465, 10157.387203581111, 8631.546652372934, 7575.817541823787, 6142.599550441795, 6057.083812917065, 9527.756544537488, 10277.39407056864, 9823.221847795707, 9684.374012608017, 8912.093177519748, 7765.874628862836, 5620.805510228901, 6329.446158693854, 6069.4226718515365, 5875.81422419015, 6014.127678656659, 6025.462715477856, 7929.809708478977, 8473.098303380191, 8404.20041309281, 8651.079730450982, 8658.230747344116, 9585.312826374728, 10562.927854746737, 11295.187538884173, 11382.26541243679, 11642.644902646016, 9000.822425494898, 8498.144863100926, 10980.700528854617, 12751.93726752397, 12767.001262909822, 12282.383350616616, 11609.80887574227, 12694.830380959544, 16372.013256306718, 19306.865467431115, 21119.766970376524, 20290.990718399215, 17686.398832144987, 12997.985566641517, 14049.03219179872, 14313.715388721928, 13537.987252874047, 15245.52576144437, 15084.60644825237, 13311.973306496933, 11149.633424629003, 10347.388293897577, 14413.257656556363, 17039.498351825478, 17415.983192820055, 19653.504311918638, 21645.90997830463, 20420.54684529289, 17025.714560863424, 15646.326927385564, 10337.116256665779, 7123.405482212125, 11783.636610355872, 14253.845651898111, 14819.926851233186, 15562.935462541082, 14373.318440775032, 11789.218463580712, 11289.073736754981, 9350.758395140092, 6246.288611539508, 4624.76474332138, 9412.655667541525, 9693.543128474528, 9150.215713779147, 10246.894517279465, 9891.19045282408, 8649.488189554668, 7941.909251780452, 7169.161311534943, 6288.408995887132, 9638.36651370479, 10231.425048917934, 10314.864058360354, 12659.782558506497, 13230.767705374412, 14328.974372279774, 14331.487358265878, 14708.213107367432, 15477.67982784371, 19728.358446431623, 20705.663736206992, 21369.058333658966, 24109.39019232321, 26914.65833547863, 25790.62121306739, 25545.774878745848, 20817.477260287582, 16903.451918270173, 12178.38010699199, 11254.192639791743, 11108.711359080093, 11141.611159241354, 9357.152843744674, 7502.6115996959215, 7722.340309093495, 6991.147766856625, 5407.25511140091, 5173.581211127225, 6596.293432280131, 6706.617896527726, 5967.180376617366, 9831.814994394768, 15191.311174785942, 16744.455676080626, 15959.662485974583, 15988.564849625927, 16465.442474774765, 18619.281332380375, 18015.46671991888, 19939.201456961844, 20876.567838213214, 20634.807766813054, 18564.59583953418, 17536.000735464106, 17437.98920277166, 17335.051215701966, 16797.001298346255, 13994.960337740433, 11863.917224542342, 9711.813308843408, 7324.996249316535, 8586.816518426747, 10202.12771778352, 9533.266269167108, 10619.710062093382, 10264.980681235862, 10318.230842100302, 10980.66926900977, 10056.839311807431, 10451.99589307142, 8994.672499744234, 7717.946823180534, 7181.740051339927, 6656.210990299446, 6167.784173930892, 5308.778729478866, 3950.2481859789905, 6043.291458897598, 5429.934622966517, 5590.979323202508, 6323.979703477471, 7235.708806908657, 7331.414748534268, 7326.772012472961, 7330.067781042758, 7605.28976352665, 7562.440784201427, 6605.601042887536, 8184.255014876003, 9552.404752377628, 10507.15139827712, 8965.61526687742, 9863.772452835461, 8196.794783162197, 8177.2183209833975, 10048.90141173805, 10655.04691720575, 12660.148548934081, 13569.40141151657, 13563.289456521086, 13139.639603433545, 11773.97298827699, 11283.766041513656, 9891.663910802616, 9515.950939519305, 10232.010212406867, 11268.552877241345, 13091.70192215701, 12934.529093826068, 13029.163225673155, 12910.848886657179, 11951.982131071241, 11100.385430590932, 8679.68945927719, 9379.302605826408, 9566.174770902197, 9107.122481882514, 6348.823439087576, 6866.657418740353, 10770.208368048277, 16149.937175439069, 19632.086439845607, 22630.16839896116, 24790.532765231997, 28842.884060169636, 28273.216552246216, 26760.59560242677, 24019.14644556591, 14767.357169214254, 13377.045672782726, 16329.88337886267, 17458.10772471891, 17574.143359827634, 17817.565887982557, 17596.590427563588, 15324.888567840191, 11605.83025329505, 9593.199094872376, 9235.959660703007, 8792.562392625841, 8976.565424010618, 10690.434761671091, 11352.867359003269, 12028.878601816166, 12179.971785507914, 12120.487530106982, 11572.692818358051, 10459.219583353906, 9688.052230239575, 8202.953226961936, 6664.945646462226, 7474.871788030933, 9114.297220749784, 9178.352773812932, 12850.073584976246, 13584.069565325208, 13725.762384844786, 13252.797699180483, 13144.83165143471, 10911.56467513239, 11141.405275141899, 10327.163444435528, 10322.01705518265, 10275.398164417451, 9613.182171119508, 9617.4907423989, 5087.710689729344, 5230.559475284311, 5273.295043300352, 7002.884939652843, 6493.710591211332, 7582.688775897185, 9461.64574512632, 11620.963140699638, 15516.484470251893, 15767.81939259561, 13955.235917717326, 13446.444277123559, 9869.553105829738, 12493.406581647996, 13142.203526538167, 11649.033876415975, 12442.014490128933, 12060.866135991466, 12146.34766879128, 11883.907010958663, 9088.011083646332, 8101.013276329804, 4900.232150879701, 6654.523426498741, 7304.13660520532, 7735.15933856291, 6762.915382071953, 7296.895063248907, 7851.64889360872, 7660.058913026324, 8968.251591906095, 10348.367121599089, 12692.332948764373, 13276.103368207348, 13506.044866907205, 13353.084745942986, 11455.749113436941, 7913.817402542171, 7365.151778114702, 6659.460043822834, 6421.649316293744, 5301.184941293361, 6529.951429213292, 8291.172534924619, 9157.966251598567, 10770.87534273972, 11487.278483213513, 16269.831221764614, 22027.755190141783, 28949.564585426033, 35406.94093900087, 46953.32565538081, 50896.15694642051, 53325.92481673144, 51012.0719933341, 46226.75362555316, 38559.311876780506, 33071.0648830504, 26899.94425379423, 22621.932208095193, 15402.132452006137, 17943.173122530327, 17229.615757040203, 18452.6612651957, 17369.219096812965, 15593.779040355788, 13909.666807401107, 16832.43664156592, 16736.557866427225, 14872.44815001187, 14673.955033267704, 12580.61489840493, 12145.038761429083, 10067.999100317655, 9748.231053129795, 8539.187349784946, 8520.342328447212, 9431.328439844448, 10249.968664377282, 14269.23822457337, 16410.134900670073, 18290.797748146106, 17928.50352852748, 16897.06017552688, 17046.023825898046, 14247.696530794195, 11574.823248455485, 10935.402847498859, 6814.9740516349275, 6371.2934181878045, 7864.281790385727, 7636.30383125524, 9151.716847478565, 13324.121561712605, 15360.327978238707, 19801.743116919333, 25776.16624392376, 27207.279690502073, 26728.23084279695, 26204.39206748821, 22530.238326445506, 20774.73154966806, 14390.938561305042, 14646.050245307551, 16794.224136677425, 22217.880433221235, 18363.25194776274, 17865.4821924658, 18230.200153690468, 18352.9539077931, 18671.305968437937, 19212.121897376357, 21521.098739890465, 21616.757614008155, 22024.288722743673, 19688.817510492514, 19606.003426973824, 17717.02336649622, 19069.86630295027, 20591.02793222541, 20810.136120381485, 26709.02023705056, 30897.47635399825, 32439.62955638029, 31521.982722112254, 26490.97282290566, 24223.014948478984, 25666.723684274155, 28359.29440004841, 28361.646527354857, 27907.374085117393, 29213.168733934224, 29161.84180209208, 28516.43099829355, 24623.092930722472, 11326.566992044327, 8271.262181692346, 7372.121360613349, 7374.302005746997, 6419.303096532716, 6598.316494186382, 7103.801116886096, 6237.373379316661, 7503.991059616103, 7492.37425531947, 10514.530926597261, 17063.183589063763, 21469.037457666876, 23104.82001043093, 23625.729374086186, 22655.63376499491, 19545.22924319819, 16778.31427695414, 17014.252942241397, 12951.679762111744, 12059.162365019876, 11993.868491916464, 11335.79724276462, 11157.816427669653, 12604.213886480398, 13455.628261098336, 13425.489486124365, 15035.594478270577, 17397.36164467785, 20656.514759153695, 21336.10704843421, 21894.420124517565, 21313.005838668752, 18397.095640213713, 16457.761442172563, 15528.223557701622, 15130.351509179616, 15173.467965872675, 16228.023437077916, 18920.53322707667, 19889.42048868182, 20111.60834681762, 17405.012174660256, 13881.352223426988, 8639.28966466149, 7900.272398661242, 8286.587635895443, 8851.433507377355, 12873.925924678608, 16379.352549802508, 17730.663567607677, 21157.952544567033, 24709.72349734151, 26192.634120954026, 31594.001709354015, 31714.817742880103, 32124.636767384585, 32327.32407246335, 28547.86761299998, 24360.43089951693, 26298.982533145703, 26513.66240332386, 25017.56187252718, 23623.960437798636, 13329.128024245574, 8335.665504826296, 10933.495761890672, 11480.80060680281, 11911.066375567016, 13787.003989239018, 11989.480507631404, 13278.733747504015, 12874.074804633716, 12695.087022061458, 12887.836625274376, 13600.662716208575, 15900.494201858055, 16552.170896953197, 15039.045624980714, 16128.040957760064, 13839.218776432563, 16690.71868320051, 19311.90569409113, 17627.78051380597, 16627.58981671765, 16375.731742841786, 15503.469384865863, 13353.865118765396, 10483.2824679748, 10636.984286563964, 9269.051461391145, 9282.6303667867, 8869.21195174738, 12258.384281498766, 20184.853258329076, 25081.157812788362, 26506.635442959127, 29083.881915727296, 27750.406213013157, 27523.617747160853, 25332.720730421606, 23130.238755680944, 20284.903154058702, 23801.911969669934, 24917.951075213845, 23714.141752078547, 22012.569203824918, 13827.504764869502, 12435.476078968259, 7868.239819188113, 13206.845583641367, 13854.155907178912, 15302.295836801726, 15480.879223767772, 15535.516641522761, 15412.537183523667, 15584.95754579331, 14819.328133957768, 15248.917677181907, 14326.349366189366, 12208.925496757289, 12544.137123790066, 17599.373697984473, 22504.76898940363, 25231.2219375317, 28493.25389816319, 25197.595533037187, 24893.31782116283, 28687.883963135635, 30439.663453382498, 25964.860759791667, 19490.525206008562, 19016.286493159136, 18662.792882480848, 20360.82932366876, 21528.97145601581, 23201.99107052658, 30174.71121550722, 32598.46063547238, 30174.806314407502, 26771.87523682403, 23898.335818796895, 25640.772188841842, 21259.941817716022, 20297.43615294784, 15932.264457954183, 16087.266013055252, 17084.064394908684, 22153.751392791746, 22005.782295073866, 20513.99146020149, 17748.106394876013, 18212.318802273774, 16632.22667406858, 14560.039995335512, 10175.50921572204, 11408.24669942732, 9148.209315740456, 10900.304615347603, 15342.017714516887, 22815.87573834645, 27901.504779780073, 30300.38884510944, 33533.639571561325, 35570.196256950374, 34096.7239272223, 27011.19872478165, 22458.94220879668, 17963.502070867526, 13908.94785386168, 13972.373501055608, 13052.87488513393, 10329.716564414566, 10043.953981656863, 9544.827934320581, 13110.915989491472, 18287.524791056057, 19768.168816987123, 18908.415177424784, 18610.91165773886, 20064.04256645163, 21028.593691854676, 20684.852688351904, 20376.012718016435, 14053.41104078576, 14024.078748745525, 14148.263726237363, 13957.199143420698, 8950.596369175677, 7059.157917098905, 7801.227204086845, 7389.430867950126, 8008.614954429827, 13476.353935587025, 14328.286606911604, 15457.03968682324, 17166.699185285768, 19687.780570639505, 20062.564630256595, 19041.04595376409, 16040.23493520899, 13480.099209459511, 8222.093903277355, 8436.27967949343, 10579.251540666151, 12842.328540864868, 14906.683772874143, 15050.827390819224, 16602.79518119374, 17593.644016346374, 18110.787242582912, 18734.05250203139, 16676.01691585474, 16333.272292391344, 16463.245816191407, 15989.370803989126, 15901.708349009032, 11277.74438243213, 8192.176257018546, 6914.733891403889, 9265.997043290496, 11756.198144539307, 11289.76646715604, 13616.052428259667, 20068.254397034136, 23539.24761441035, 26127.284754284276, 30477.135477150652, 32249.464788230263, 31574.760133380834, 26924.803195061253, 18931.23529061222, 11888.952157599422, 9410.065934229997, 9616.941598134395, 8646.597680768798, 8027.156986417173, 7987.901875103311, 7989.456769983618, 9664.918021049241, 7689.765455660903, 9766.584848668024, 11673.210915289748, 11122.44001018805, 11356.393752560398, 11868.916081103145, 11496.297118249138, 11523.035634898726, 11870.405412343536, 9097.117273571526, 9923.179032141024, 12117.14312434957, 24249.114483217018, 29712.931778828286, 31946.373810147026, 33648.08936790562, 32162.65775217573, 33301.74234521453, 31208.517330635947, 24204.957694458408, 17847.881670766463, 12334.873805834359, 14627.243382260694, 15025.44359258142, 18387.593817385492, 23259.34845348842, 26936.82100476212, 27318.73813048447, 27748.607394047423, 26616.901787218536, 24104.457950109605, 25757.610353840493, 25474.43579005268, 21361.30080385033, 18511.539511775238, 17908.92791305714, 16285.80736777209, 17465.9503827424, 15589.450751617342, 13393.022866251393, 12257.912016180713, 11678.939486165937, 9896.922452628934, 9484.20828329961, 9114.564062170843, 9287.33413534387, 12677.458360964523, 17030.680282263726, 19145.36183797861, 18960.716669662186, 22105.919853890773, 21110.84649941427, 18136.177525645708, 14062.414644556044, 14344.764913779174, 21958.02803793762, 27136.70130235634, 26220.741554385742, 25809.77995435381, 31120.985657700337, 24432.962258942913, 26187.536067616722, 25703.985160225126, 30214.26849368982, 37667.20993121966, 43674.90196079058, 44617.196087752985, 40718.215900229276, 39143.28586325192, 44909.16582124241, 44691.42665085726, 51548.25708315973, 59087.92928548161, 63908.934023074056, 61577.93397228694, 54164.11106076458, 47793.32930955022, 48994.67807201697, 45284.617674017485, 45649.05399026029, 42096.90229330002, 39156.434800423485, 32595.782874937646, 26938.54361814842, 21875.295680567004, 15416.657103975347, 12998.264134621353, 12454.286583107329, 11515.609944873455, 15806.328456008107, 16554.236663826756, 16692.468630003154, 12631.79101965847, 11177.18579960425, 11181.31390467352, 11438.799324211142, 14210.220873557555, 13218.341197193207, 15931.282789764718, 19980.083056285228, 20387.49016864759, 21540.235640386516, 20406.13938161442, 17167.645027723516, 15965.163240547443, 14244.454146911687, 20534.180093557876, 27153.83694414705, 38703.83560226815, 37496.195578715575, 39519.11547071878, 38856.54607718755, 41312.57812502612, 40415.70542189799, 41263.77299624354, 42197.13335999627, 41530.66373492886, 38525.21988170354, 20497.451968863206, 14521.351903366602, 21398.24627945169, 26824.75285024837, 23860.321762031672, 29774.845327637337, 30769.166167934727, 30502.256236327303, 30546.038677588647, 29948.894719873024, 29978.460493903756, 31810.135719144757, 27291.656476677228, 22173.5510521925, 37956.69448753633, 41753.528995195265, 44119.11288114139, 42379.18035374241, 40617.773299832144, 37515.84393385013, 37613.59957319801, 38552.38159154223, 34819.00800022029, 35508.885964786794, 26296.962230818655, 23375.28887001576, 21966.15721433216, 19964.1867743216, 20570.248422384222, 18169.253652228745, 15227.356958281422, 15027.141574409145, 15002.184838944024, 15861.082908628174, 21329.61303771675, 34260.41008691073, 36175.99326047014, 38354.23641191108, 41307.61053378704, 39608.98951504688, 38305.177039942886, 33883.115758520435, 25821.75946674038, 15615.326498644892, 14255.469034522584, 14127.335542867044, 19493.18867780134, 24007.755206325583, 23401.80658447153, 22957.693326506494, 28193.31643503296, 30073.916884100254, 38075.58846960656, 45181.37002403108, 46558.29033927577, 49145.070400383716, 43473.07399924839, 33101.684826081575, 30290.68639828724, 24410.058689754936, 26585.419100658055, 25238.61365409575, 27188.790978370653, 26190.727142021242, 25324.31681597502, 21801.32828926441, 20405.38086905593, 20928.504921381496, 21671.272721710167, 22072.80628206273, 18135.897529914466, 18300.59547127103, 19183.462048336372, 17767.053857489125, 15611.624076390477, 13658.39179196465, 13740.742187902737, 13995.152308871831, 12714.47877607652, 15277.570209308551, 14161.192460421302, 22168.858518987367, 32267.179803880368, 34803.97103146173, 34500.84116720012, 34307.627352637486, 34248.34728434812, 31320.594787656624, 26245.342911150063, 25281.325921420677, 20532.80882491553, 22085.5504117107, 25680.87900223051, 32561.76778544793, 40241.2645979353, 44691.67383124466, 44836.17111422359, 42593.219158118, 41022.997022444855, 36563.52230230158, 28197.840005086455, 19241.652120146613, 18450.751591234504, 19332.971233091095, 22978.95938606546, 21653.487663109223, 21832.92179819382, 23043.025979705515, 25287.81570223776, 27240.441191814465, 25013.381260132737, 22625.925148394614, 19667.39506410501, 16161.84706910336, 20437.08919869946, 20970.055036506386, 26127.282036153494, 26215.329566917215, 24338.540769336527, 24207.534417156563, 22856.119179100664, 23936.48780674671, 22348.404815383423, 17802.216915262165, 18034.233981252717, 16861.004534021264, 16818.55112117859, 16758.695207730878, 17106.488844470936, 20294.057815573018, 21183.967011103243, 21541.89149171527, 21322.91809525191, 26938.543604278413, 33357.227091575296, 37507.36535435856, 37879.96823435809, 37428.84677160043, 36285.42147257271, 29142.74333633906, 25216.984575766404, 32709.803816619606, 39703.753250685506, 38177.33173785868, 33099.4595822056, 26470.724068504944, 23398.995888013396, 20984.189716485937, 20659.523244152955, 26169.863524116936, 26150.167383096945, 22542.348741569094, 13538.720741704474, 13075.908476536317, 14235.181106186532, 16167.753287604379, 16688.448758534887, 19219.694069781955, 22704.711909834397, 20458.009558156034, 22823.324515271805, 38341.93044143195, 68994.19098551098, 91102.85810153975, 93508.45470636083, 92529.26351640593, 90810.66006138001, 83968.21615762291, 73904.12731040428, 59095.881945755034, 47927.18748153232, 47301.457876800865, 45624.76313743225, 35788.51949865058, 36113.30682921243, 32599.619318371064, 31233.996538623167, 38839.939537050064, 42690.736327676415, 50611.09803407668, 50129.38880412635, 40759.63651951499, 39659.939974511755, 31478.246104538495, 25004.502676104734, 35173.79433542581, 49987.46464061735, 54673.10377642551, 54884.87187908651, 50838.829968032514, 48638.033205617685, 45594.42898675876, 41480.14089813742, 35873.105325554374, 34061.867782148984, 36677.06061715724, 36752.06713687887, 39940.189010389324, 38432.707918603955, 36606.1067307115, 38115.91849110058, 40074.64359040598, 32977.289679401736, 26947.41038232853, 19184.328289436802, 16407.122950356534, 16023.635906856243, 18326.48691542143, 21794.92088988532, 25883.011432485764, 26369.709432394237, 28904.999508173427, 29412.256917748186, 27132.1599130931, 19316.90416023485, 18135.983830255667, 20436.293699960504, 20735.52445557538, 20718.93910780718, 24082.187813913133, 31293.750973836966, 27198.625089653204, 23627.053889667117, 27815.057035024256, 26862.08608158726, 26716.739909035703, 26821.83415508566, 26145.081075602953, 26794.555272146143, 26094.930557447064, 19147.51849400834, 21305.850478847195, 25209.4783604307, 23245.167072988224, 25143.84883130624, 26554.53938163339, 25620.92442467881, 23890.884087325885, 23552.066086845378, 22872.934258289348, 15414.531213053446, 19694.618591451323, 27810.22170190201, 26481.650996171273, 27317.454708740654, 27434.727773851602, 27060.899008237553, 26452.73894374588, 26677.84343791426, 24146.89146281659, 23131.995095741655, 23531.182313451827, 21517.884774333845, 25679.81738220565, 26089.507944425215, 30750.115970104496, 44371.76685593275, 57481.09180602235, 66288.7246785378, 66268.28391000089, 64393.19461150266, 54534.24032935591, 48308.10206527772, 42599.693451490326, 31747.639758904657, 19834.798750682385, 18883.207841115265, 18945.015491409897, 28541.343671330767, 34179.97854138509, 33182.636253147204, 46115.99797747563, 49547.83946051303, 49643.4426138119, 47643.07090161832, 42572.38290549883, 39918.042732558795, 33729.30378816752, 35143.988858733916, 35278.59763778423, 36872.67228037549, 33642.14062385207, 27963.791516510355, 32934.2925755254, 39364.47413324337, 45475.9061416989, 55505.59868810865, 58032.45097674714, 58276.06173224276, 60388.67383337801, 52675.60616652678, 38768.35008428382, 33516.303272349476, 29948.213970061155, 25389.859711349225, 19304.017743846263, 19552.162664788775, 17511.50350041804, 14986.521341658745, 16523.29621494777, 24222.623838948486, 22927.80577005208, 26062.31348678843, 27071.823810228656, 26217.067407027305, 27462.152294044714, 26760.519378970384, 24280.81342815147, 26001.88597348768, 23541.09855215545, 25098.69148871803, 28639.813203639704, 29608.481181811792, 26989.240845716544, 21195.69118819479, 18612.35252927416, 14074.30318797217, 10816.861111682774, 11528.351557772165, 14023.737541405437, 15332.738376639238, 14114.530828868097, 13288.091196551437, 13843.609952747223, 12024.435882567479, 14089.097863148341, 26598.08966429745, 43912.58214228169, 50670.50497240532, 53453.91579327169, 52960.368611889, 50614.16898844043, 46315.48643417047, 39740.73591983064, 29613.996413696135, 17334.108017221082, 14991.851877144469, 14636.296188722346, 14232.222557395786, 12482.303258629727, 11245.953276709466, 15362.390690223763, 15358.116039220942, 15353.938428027523, 16393.825073615008, 16347.170030266398, 17215.977744413325, 17156.076650099425, 18867.787120105848, 18978.428827974967, 18435.8592624669, 11961.545077181696, 15940.058253695985, 17463.991550255338, 18747.082045815885, 19640.78631646486, 20285.0977323595, 26780.836799908866, 29825.52539300961, 36631.76609298099, 34837.3678776324, 40286.697674525945, 46821.96888160166, 46080.812281349085, 42959.85909110495, 35347.870691578675, 24671.264848688075, 19997.65510973919, 16055.725389982379, 15473.40181346828, 12131.447079457927, 12108.961974610904, 11157.180777791309, 12318.947635460618, 12679.48528444482, 15925.485514630926, 24414.251206826542, 36654.25933425077, 41374.86623283224, 48157.13416056182, 52880.394537616325, 52116.77117042347, 52876.29717614708, 43390.14610408937, 28644.04438310033, 18019.328028014646, 10773.956735270624, 9880.397640153447, 6776.465479094322, 16667.06976232622, 22189.81395924804, 24736.053640970487, 27538.751255701154, 26120.822810748792, 22983.472307000648, 21507.953376040994, 18945.039965148055, 16173.036209140617, 9668.200031145205, 9598.385833758222, 10375.260394432456, 10954.687181806965, 9219.965527407154, 10989.960485625272, 13219.86417377745, 14366.67635561458, 14440.176209741285, 13198.860646357138, 13126.00321289612, 20506.363445349176, 21938.336945844643, 22870.76187402342, 21708.224156613087, 22645.029800492164, 22749.069220751437, 25747.40707623339, 29268.927453467695, 29075.781372105877, 27534.643341332878, 29071.612311943663, 28728.488639892334, 27654.692713643242, 23638.397541081977, 19439.34116022515, 10401.290552529465, 6917.077569057325, 13587.129100162945, 13595.474663414232, 16441.468521378767, 18166.954034938593, 17840.253631448053, 19647.600360679382, 19243.089978950415, 18938.495857405404, 24340.71675845004, 31560.222026243933, 32043.851493472175, 32186.46976040511, 29878.094905982078, 23984.62834584326, 22870.253010131128, 22431.895337661022, 20101.475543575634, 17925.742286746936, 18385.657890870654, 17969.22248162607, 17385.601494208277, 17645.771018218446, 21534.924817482737, 20667.909341402024, 23303.856683604772, 25516.342069749982, 25017.75127402342, 25366.335092328976, 25563.964158903047, 27958.94130022335, 28293.517125430593, 26187.289615851023, 24721.050286895672, 23610.232489191643, 21651.015730514802, 16172.05311098251, 11074.256268388195, 13686.422933167745, 16947.730320159902, 18276.232432122688, 19745.600768749326, 21757.582320246263, 26368.007440234596, 36413.53338505779, 48636.676036648154, 54045.86015445515, 62875.14412569302, 65627.82358032999, 62799.7989955815, 53448.246165190285, 34750.66359164563, 25777.585532727393, 16641.05320810111, 13309.228146240306, 13388.806977677821, 13551.678403143394, 15300.234621822525, 16624.12967568778, 22979.365207754054, 28180.981814090603, 27352.54620191601, 26301.327851255617, 22854.792720910853, 20883.580331717556, 21164.58343001857, 21732.87821599282, 29773.592836185002, 30790.423435695204, 34942.28240052606, 42889.55589981815, 42215.98209669101, 38413.031784877276, 32860.9147961345, 22959.039153264246, 16284.427121864735, 14864.10233957364, 15003.301522470576, 12243.612472576095, 14338.993008828718, 11503.066324268371, 11343.505248267651, 13174.78203952856, 13662.951477220757, 13736.486480672138, 12785.549465016373, 12759.067488065653, 12650.794932989298, 13175.12052373693, 12803.372062817853, 19928.177717350827, 23790.481381427388, 24147.17044407007, 23267.08216097583, 23705.224025838837, 20402.72932424956, 18618.75416376289, 16841.055382518927, 14677.497544130894, 13414.904734081072, 14379.358220154309, 14168.30826709625, 14465.840101948046, 13828.54010499754, 8727.494779120778, 8315.809651923848, 7349.870021096536, 9285.069855830592, 15680.698058101563, 22889.068785588268, 31825.816475685697, 37402.47799928978, 37120.96308795583, 37722.55268902351, 35800.36398520972, 37654.124487402434, 41976.93079398884, 46508.921234936446, 48430.2799446041, 56662.54609770454, 60515.42772159645, 63039.10962921891, 54873.22508841584, 48191.90571684125, 34412.766029375685, 29906.546755296884, 31232.08042663579, 32542.04805653284, 28416.966414974977, 38525.98552474221, 40492.81452061479, 38834.523659912345, 35128.880695118874, 29467.719552793547, 25203.979348829474, 29133.947470722756, 34702.40188147023, 38362.80141288149, 40458.573473252654, 38476.67174612549, 32803.71998124557, 28174.112099324633, 21578.783091211346, 15216.492386026557, 10476.764264770223, 9375.843014395032, 9531.567069077177, 9125.640187681029, 7670.631515136656, 7805.870526224538, 7632.607746605235, 10836.616095119683, 11760.762021648885, 12246.346000545662, 13073.12205731976, 13340.919199147243, 17355.69048640571, 26381.124998059433, 31600.29850674872, 36116.83243359595, 37163.029519729505, 38823.28099828964, 34926.42167503497, 26851.11010194166, 23118.55165177865, 13319.045907238866, 6193.836371684184, 6649.101110379425, 7590.993857515413, 7424.089350822211, 7760.871201036824, 14456.087424937403, 15657.632317567186, 14625.864826352796, 17683.728606160916, 21794.373558611038, 28186.973455335068, 32118.04184096595, 33696.52217442063, 38612.885583390904, 36010.32897344785, 36817.88592079786, 34624.934109259026, 34353.63634191833, 37968.707849420956, 38831.55808422951, 41703.11202580263, 45032.60531534839, 42829.768574682035, 43936.79276243929, 39405.88824762702, 31927.843175758644, 21986.864436843203, 19249.988825465665, 23550.478253313737, 26574.433307423307, 29723.124088015982, 36247.80239944851, 43591.71766764477, 46702.19688480088, 42423.87165007271, 36262.18806088613, 31848.768790529128, 25262.454798326653, 24514.11242384512, 23416.74539281107, 22595.040063458793, 23282.334289560233, 20151.53730771048, 17800.49996128597, 15956.078756937082, 15035.622399435635, 15375.02488631427, 15224.750638568998, 14446.52501419267, 17122.429884268353, 23791.870159868333, 37340.511277132544, 42786.30342017204, 41610.247810688714, 37885.615285427455, 36792.36661752023, 34371.147548836576, 32817.32364901862, 29105.810147021257, 28650.583470057987, 28403.424131845266, 25097.83554698935, 24271.183015903855, 26112.620447264868, 26377.242628917273, 25240.344670121143, 16560.80369076337, 12787.83883715843, 11772.723333703661, 9711.50778256429, 9012.359618470635, 9478.019075672275, 13475.853496364252, 13515.7052942328, 18169.29490057395, 18118.85536873479, 17649.91152550874, 17408.163871638877, 17472.02999679058, 18966.560580439294, 18412.862317439256, 22802.117878178902, 19389.86750697267, 17524.07699560056, 16489.943025164168, 18177.532401029388, 17447.14432011386, 22325.363948932903, 20832.951882642894, 20948.64929001739, 19940.200872140394, 22289.661331958472, 25704.722386618658, 22722.82514083198, 19214.93189372726, 23082.73857616124, 29030.656842729102, 35974.31863058489, 42062.860253312494, 46180.351655969025, 45172.15605723064, 41070.40382964234, 31247.52287745562, 28390.386121359945, 33534.643455080986, 37633.40441074112, 40785.80190977168, 39606.19216927072, 35778.88561895134, 34733.36714844897, 30605.658927155644, 22268.90710712888, 17681.809864007668, 53501.27434459379, 72075.4853644248, 83013.19740217614, 94318.90912905564, 98760.50038127672, 93726.78114940342, 91203.07607986846, 82168.74195885907, 66326.13800498756, 25385.09686601475, 21455.747724209436, 18371.84750318308, 15121.38971181241, 16151.74787277555, 16092.01895832759, 16576.145866567258, 17619.072823360613, 17604.103117389095, 15616.008548781963, 14359.04976090823, 12553.933944228122, 14190.313400459961, 15509.294188385848, 19882.59172871016, 22217.28709117644, 20504.123000004514, 18080.27355980304, 16109.731212975938, 16828.259921238372, 29364.235961740436, 47835.19497283835, 67089.04229294766, 78490.70819359679, 75872.47774401457, 71035.92845244124, 68426.98473979162, 57141.31680087145, 46553.8872345743, 29891.125154885234, 25161.14406504506, 29081.424520949367, 28433.304756293186, 28665.21699461466, 25472.15085537461, 21137.854445565787, 19638.133040472097, 14915.712597842366, 21218.35339473171, 25963.924512087615, 26118.216219848946, 20616.0759785853, 22472.458375210357, 21069.03229471772, 18651.037329200277, 18601.09318074319, 30428.967535113898, 33579.23060851673, 40680.7735283224, 41143.782344092506, 43969.565759093115, 51906.54844630957, 59496.10490888119, 67629.45549615695, 77876.83591553482, 82722.12791026503, 89063.65753259113, 78973.52558532797, 72088.0864189681, 59863.30969739874, 48720.49420133789, 36334.447621954925, 45526.99209411261, 69494.93030621253, 78756.67905746077, 92664.29337861422, 140693.50245205875, 159389.51820279943, 169367.83055737862, 190582.20729787936, 175269.26628216304, 146131.35836764114, 125985.96086639621, 109897.67913063966, 78557.25569238722, 54204.37618855376, 53502.79249471779, 52313.9059674801, 50797.49989440478, 32531.987784289246, 38145.14869937158, 41100.78774274457, 41121.83862637128, 49504.645475053854, 54768.264360282184, 53145.0532130493, 56007.66938250921, 56083.646687073975, 56234.304805877706, 56468.69738306034, 46705.99388343147, 48005.64357142676, 49595.19624786063, 50438.29923113357, 48200.3732585995, 47189.451019529195, 37758.91637914264, 33220.83696816085, 60019.96630093445, 87049.1076907924, 91428.15565328322, 90378.08555904053, 89843.4258710198, 81595.37613072779, 68537.9279205247, 65097.290953013864, 66397.51527828789, 74499.15484210379, 74246.96949558838, 64897.08527976497, 67872.25687987148, 65082.88859669335, 63032.000378216595, 55154.00525707451, 34895.2830251182, 43221.55065759714, 43464.77942173267, 42535.745935636616, 38322.46944660329, 35657.87940143766, 37748.065923275346, 36115.304331845335, 35684.88709041628, 36493.40354605311, 34674.6627258778, 23476.98159601714, 32091.856095683128, 38394.11056951478, 38741.517282225104, 40579.75472565045, 45154.24383027712, 49187.33533396911, 45659.3893635687, 44022.802891419175, 48311.425665177914, 48415.52893660822, 49277.06776407406, 46332.001475678866, 47111.24825340185, 46358.946975069994, 37852.577158716565, 21562.12722860005, 21751.18290364216, 20470.611661442897, 27143.93806054258, 27448.605061276416, 32065.820439376603, 31939.447512912495, 30116.20808548019, 24802.033841501816, 31698.553225805244, 42977.73790868359, 54207.20268242015, 59860.45679913999, 57240.74235785767, 57365.51694252825, 47296.714706842526, 41134.51342252744, 33979.86461997679, 16183.781470416538, 12208.245724291255, 18667.899103027416, 17871.269910909286, 19837.861304193033, 21875.510497237465, 28894.604333930663, 34421.09186163682, 35906.398232728614, 36157.600067107, 32919.22827396199, 35710.025862240866, 42468.767079506135, 48647.50681965112, 62200.32073622139, 66685.95036882619, 71497.33167978235, 67945.90345213705, 56699.869452883315, 45818.18198264693, 29235.574497381825, 24044.99579113678, 22871.2314204931, 22806.999570300413, 25155.510447059743, 26949.069281959255, 32903.926095751776, 41337.67720070083, 44586.22418589117, 48538.389254827154, 51162.32512352664, 45147.23017815659, 35989.968031600314, 23735.9529350455, 19560.02248432321, 10646.518028816035, 11051.097591495176, 11011.533003684166, 10940.269131311994, 10952.69779034373, 10806.737039454201, 19680.36478264019, 31978.02070884652, 48213.72147166348, 50814.31258367636, 50251.09160239987, 50509.44377339067, 50499.80099052636, 47693.29386733086, 42012.286582884946, 31129.35924948152, 28074.015816448038, 27300.08035900893, 27191.80130096473, 28963.527230793472, 30978.08271462674, 29403.803078269768, 26460.05984544525, 26643.92911152279, 28775.66626453488, 33305.06240854146, 33535.40795615183, 31231.833398390536, 22297.400513914195, 20485.825754709356, 28039.69904937959, 39008.030869601724, 33051.06016713517, 30469.343662429244, 32139.000229113415, 32950.26149085719, 32819.93331992875, 32995.98126411909, 34533.607654466796, 34260.48812034243, 33390.133040474335, 26998.34774382876, 27306.728260883174, 26841.325441059103, 26775.062038850843, 59682.682178266106, 74098.38933780996, 81405.75722450197, 76935.97008309637, 76410.14310903731, 76052.20837706298, 74626.81876264766, 71115.04116967529, 69808.46848177684, 69688.0350886207, 59755.46224646806, 48006.27468203578, 31689.73291902931, 34467.451544414456, 35495.29754644966, 37384.34371704026, 39852.40981411087, 46189.72564984126, 55716.571625618984, 77988.98324867472, 97171.87636785237, 99932.39622354764, 89849.56335857659, 85263.9606788732, 76721.13350808698, 66240.82741622791, 53892.88270641372, 43758.57992079031, 35344.617803228786, 51003.74275123295, 56413.98926988758, 53165.37898090846, 50453.65750280752, 67582.76270493475, 78498.08760777938, 88501.33902494861, 96578.85229189417, 98383.8976010139, 97983.90506694782, 85206.37524202549, 69413.19032183551, 55080.54354970636, 48150.05830195854, 46625.14383138488, 103707.6891363981, 152987.78456191183, 175838.17007616107, 200006.49711710156, 216617.8033004273, 229651.02305001038, 249827.07311691387, 233175.66216466358, 193187.1796535396, 106907.33566934183, 82413.17559245264, 74274.82368854016, 65912.88693029505, 62766.10968267251, 62747.9689873951, 68378.10636111518, 41771.15823453654, 44451.95530227315, 49282.43890419606, 49538.74356663764, 55937.013363924794, 59134.4208415412, 45835.45151301199, 54186.99888785511, 47781.97865785066, 49875.98292878678, 44339.77143389824, 42079.76762297645, 39657.61871677317, 29106.66464782997, 33487.72968105789, 35612.7151434701, 38007.30436903024, 40287.6092747703, 39476.71646989741, 39627.868057292115, 31953.378471772616, 28537.888797856882, 29733.67806138698, 28105.14779911189, 28941.491260887575, 29410.042565225853, 44464.123226605705, 51771.07313881891, 57975.18995803965, 59940.45370348367, 62130.68623551284, 57736.231048078516, 39488.58196331736, 35533.305230275, 36189.944380158544, 31910.42560152963, 36853.93039397256, 37159.76261495881, 35855.32559373376, 39487.0465231539, 37054.68034435808, 30108.779651614346, 25377.844512102463, 34564.87953523989, 36648.594106950506, 37965.526296358454, 37518.69780049921, 41471.25779073274, 40129.940278917915, 33181.22964202402, 22976.50082511494, 24509.384210723085, 24584.881395370383, 23322.253037472696, 22962.912012494206, 26249.620403868066, 26811.962746715035, 23498.709704839814, 23464.141328888305, 22981.907105468195, 21762.579738460343, 18403.74831150128, 19744.6674793141, 21736.065507746218, 31756.398219601408, 35784.44858514292, 33324.14716519396, 33684.04302554368, 33245.27306824609, 32589.680993826678, 28187.383815730118, 32284.475208564687, 35760.65073697525, 37688.406309183636, 43634.00248626611, 42759.196388497134, 44206.683227281756, 41371.85195685942, 33344.52388052679, 24799.242278721926, 22823.85148802988, 22756.420912042326, 21841.952265727836, 22726.19279685125, 22956.943864440236, 30625.05204202015, 37821.18951984077, 41761.884632743495, 41971.83746435449, 39521.238899069955, 27889.152152308143, 28965.819141525335, 31639.0691491851, 34181.21712138418, 36143.42399094987, 34886.54277211334, 51923.71238973292, 58954.82209264854, 70521.35387909207, 80477.55761056363, 79169.74285391295, 74697.13792226756, 70105.35362577373, 75240.86743305452, 80786.13371815058, 91642.06565978528, 98514.94871724794, 100027.58849530945, 91143.70191059129, 67416.00148880828, 52757.18502730156, 36165.0019209728, 28365.335682663022, 33093.05464875531, 36249.79267458943, 39262.287236998796, 38868.91674575616, 37174.61302195889, 36379.85044713001, 33706.11416833189, 32094.10310244784, 34240.69616518891, 34036.95601998835, 33365.99101714499, 31700.433209093128, 28621.420955127516, 34446.88685054889, 34259.65892930339, 30459.971790388114, 31224.571028128372, 36832.66806560106, 40712.136316352895, 53743.62937066972, 65228.49029160461, 70197.18264018776, 69617.86624940507, 54407.4267991974, 48694.94189273445, 38501.9911687965, 33777.589883353714, 32666.239399642964, 30061.889086233085, 30200.926695315782, 39589.4434152297, 40911.65639912959, 42357.7286117669, 42136.72194101218, 42270.42423691877, 33947.02996552109, 34836.488000891884, 37516.951386157256, 37964.470946895606, 37847.30056252057, 33168.03715004704, 33624.31305114181, 32296.872855232363, 33554.80447092495, 51001.10024598225, 56661.69444568167, 50613.736101703216, 52473.43039476578, 52279.37932791053, 48723.7114537899, 39763.60642444656, 37330.48135929927, 29108.911646187345, 25701.947392478134, 16875.24304421876, 14266.988524754604, 17157.50368671638, 16592.205381025604, 18698.59466175518, 18958.483488065453, 18138.765985150723, 17710.913395894375, 17877.595955110806, 19606.270123717804, 15693.64818044572, 13803.250751891837, 13824.918948900391, 25043.484349132093, 31328.66379154665, 32962.882008166605, 36995.21752757959, 38344.81994110349, 38323.88374495999, 36704.46134986403, 33543.97634533392, 30339.114006443873, 29021.956537776994, 29061.949975378622, 28551.07952291799, 28551.30556073499, 39042.27656219626, 51806.42346499048, 63687.09336579849, 64230.47456151374, 64302.33505655991, 63301.79340672653, 58935.76575365538, 60772.916713523904, 63267.80851046531, 63073.93785729547, 61146.92578150568, 57504.81065490497, 40800.27550879761, 42537.136121077754, 42565.08319320672, 42817.334901801085, 44029.43168399339, 38718.54373519723, 37376.4720118941, 31836.56517101548, 25229.63784791421, 23684.605265119233, 23820.71067962464, 42024.01026519216, 49167.03446381818, 52574.56145972535, 56547.90984283811, 59414.99608038349, 66932.16143173329, 69323.61711852472, 66709.0326799594, 60567.66232513549, 41053.904539987045, 38388.601857712834, 33800.47760265263, 30619.130296287298, 28184.321073198225, 28602.59070897423, 29522.24128452884, 29613.86717927178, 31554.504342429063, 37264.227484670206, 41342.61592580966, 46763.03160556335, 44158.58901555618, 44602.767779344715, 51603.718637593, 60254.582849082006, 64337.03899902503, 59708.64070159016, 53715.90235113879, 48107.945663234575, 37969.20124796256, 31576.7019408273, 28147.98241899813, 14873.66411349932, 13467.12702124922, 13446.506124848618, 17497.426237719465, 24527.812038457923, 26803.874463151533, 27696.578434539042, 28600.672973473458, 35287.78869324728, 48556.96243269423, 55152.517451596075, 56691.17384241463, 51667.96548432047, 50112.982360877984, 47564.76111558852, 43060.81574371697, 34914.82808179454, 28217.675740419738, 26404.58508739792, 35374.33770948287, 33661.848464255134, 29994.440542581295, 43216.78175282907, 48433.583094785165, 48861.08694511349, 47594.51490217762, 47605.602544739886, 50943.86121863472, 51402.478812725174, 38061.3059985338, 26460.06621456467, 22512.70018051703, 21748.226355891937, 20163.927423577086, 49140.467952026396, 83056.40481100544, 105512.45058119045, 147079.45346732347, 190931.88275914695, 186459.20051383408, 191842.2140051207, 174783.56516264053, 155458.02291372555, 121332.5638477677, 122530.02967222112, 114976.88610430293, 127443.61694207648, 208803.05680753116, 215520.36429477137, 283005.0874524291, 299297.7050517183, 296705.51503055805, 294366.1340370581, 294385.1173942372, 346189.37985643314, 276291.983795664, 235359.60375729884, 237913.70238538724, 188956.32710839558, 213806.71981994656, 216389.16085356375, 218110.89804844043, 228000.31816912137, 218459.97401783013, 158273.99868585725, 156460.54310658728, 171762.40614976967, 193733.0115104769, 180645.57887504785, 205442.33490194162, 210712.3947749598, 188589.21865705642, 181139.0604312204, 131506.44061008983, 119200.636733588, 99627.3633696252, 102732.61939735977, 100777.8882376272, 77024.70697367782, 72228.51716583387, 59888.799571074574, 55370.0502626008, 60781.060010055735, 64037.54843933083, 53012.082436406105, 63651.8903457594, 66319.52841730855, 61791.0906148188, 48911.71277720707, 49622.641765144566, 53737.97101845357, 44366.622647171454, 43507.3759989258, 50572.6173328296, 50879.81082335614, 53091.22469056446, 53719.52444719662, 52828.24620402104, 52780.53672530714, 55265.55764650113, 49113.87717554545, 49919.519178794006, 49580.51310592479, 56548.26235970612, 67355.9623325273, 68228.57756966306, 72908.32275269121, 69925.59359940517, 57944.038830948506, 49329.99026097033, 82643.67801812702, 96188.72887414324, 106957.93949996903, 108506.72066493136, 107058.5288963504, 108143.97129848224, 101537.34861083953, 83969.37037421738, 66294.02891225483, 45630.540185202815, 49375.943086887084, 70814.15576836068, 76030.07832726951, 70618.1771026046, 63748.35135967855, 57972.67304531422, 61449.30565267968, 59703.667056679864, 59473.32078760514, 58816.47599590542, 58100.929007520426, 44483.65871656101, 61283.92151966541, 76040.05064856792, 83765.89024005944, 86036.26106865917, 91853.89702870778, 93066.57745087268, 97346.05855204408, 84651.54931863956, 59257.222752698195, 32030.638133291544, 30030.697558606014, 30065.20728042169, 33043.554450577474, 42075.049885007276, 44401.96384746886, 44153.887525212864, 39596.06113394768, 41740.910185622466, 51423.49423592458, 57376.86224676508, 59725.77894456379, 68770.93320202871, 68309.55405860528, 56721.50329963784, 46879.48006086852, 44311.13577858674, 42218.24706179062, 42924.44921204786, 51419.49365784684, 56682.81316193705, 53708.181239798476, 57875.06534850623, 54991.01696797302, 55068.503452128556, 51101.72281799223, 45339.98558291145, 46627.4265613299, 38730.06276382137, 43106.19280905035, 52202.55514466754, 52160.04822221419, 55940.94836987824, 56592.71612605876, 52950.68943987219, 52276.089996090945, 55494.55860645785, 42984.694656678534, 44393.861482016015, 52321.73303465126, 58782.738491361626, 70208.46352664914, 75912.85187228149, 77090.90686458968, 74626.97922363484, 68673.11434745154, 60305.464429998174, 55366.28674193185, 48638.091703664955, 60462.24040711704, 57849.26144607763, 54828.7293078191, 49797.82276573928, 52864.184546103075, 62076.1297263774, 56551.20420885767, 54452.47547600083, 46509.28301856385, 36660.50133147098, 45471.571632722196, 42989.403781005, 47763.19879299717, 48464.187144820804, 46149.67912786665, 45775.86406180054, 55953.232825298124, 101442.46811785072, 125044.62691283716, 135691.54671227906, 143012.96883972318, 139131.02039125605, 132047.15912468414, 112746.66513902051, 85157.20469866124, 74904.79362656445, 81410.9896325111, 98201.26922410117, 98309.81512953159, 93177.16079781504, 93674.65417900459, 88245.3831048269, 71371.20821550122, 52494.69784564765, 40054.741201612895, 35363.19438734265, 34925.281309055084, 34292.06086881058, 33560.398992973605, 33250.67176711256, 24704.55856604841, 20015.931940733193, 21213.030080293185, 24173.479442706324, 20658.913228645783, 18926.043004074523, 25659.359937280442, 25634.868281631923, 24923.317191745333, 23510.989484754864, 29210.065466488446, 26765.634484617407, 39087.49410994665, 51315.76396124637, 44801.22997623325, 42650.823411663536, 42412.1389851228, 39969.62831633192, 39633.57390149763, 32160.977909081932, 34680.2370682621, 41354.29714798298, 41646.650463400045, 44976.023050587806, 50165.99296578206, 53594.423972103425, 55574.38453658765, 47665.836947622876, 42582.72479601129, 36561.52186700681, 33294.96062749613, 33292.436989179114, 27968.41244840609, 34067.682292699574, 36912.001694761864, 42854.633913541344, 53479.857764320215, 83525.72526486764, 79922.55559548494, 74778.9173106659, 70441.54172655403, 67291.92687779047, 69007.0422218941, 75769.16890039829, 76290.18489331148, 76844.0102020205, 75354.53622154353, 62298.815076201245, 69355.80124451272, 72424.5016422855, 73089.47874134965, 68877.51135635741, 60761.19771918716, 40245.036099668345, 33188.331474607745, 38429.19701388313, 48628.939430791994, 46249.040224106306, 45207.82357292057, 64468.05342780907, 65661.14134055632, 64815.81640842984, 72921.50163587157, 81432.03143678622, 80685.61288353804, 75943.96382478856, 73520.24114657404, 67082.52078231284, 62570.9030397011, 68261.233071184, 91005.16966070332, 107317.48412331492, 117550.88683182589, 102492.67083348964, 91889.66552298126, 86194.70873742153, 69958.0793028091, 65691.5031242632, 50734.36506282001, 38411.606688833715, 53690.071823927465, 54256.99516468053, 54350.5412095877, 51107.52142383233, 46907.83333313785, 50358.586851326414, 48937.68446386423, 42875.31304903001, 33836.16008294507, 33261.892416704, 33658.56716623918, 35167.983297900515, 33164.99632257694, 30254.850911490474, 31145.033834005815, 43026.57860861954, 49986.75442018131, 53526.017610388546, 58561.15759004254, 57263.02472266439, 50971.60603191908, 41219.30591402251, 32535.651435768952, 30271.470650768035, 27909.4830888246, 31886.49210799771, 35763.93884771563, 40083.498634170865, 45220.59490272304, 54840.84987100307, 53289.96745909944, 45273.404433765994, 43744.05592397062, 39159.816878279285, 38296.800683534835, 38288.20791065953, 38799.976527322135, 39544.76815067768, 39230.02605457877, 32396.25266943549, 33554.41324213292, 18430.292384249486, 16000.191141686013, 18733.560743564474, 22634.938310215122, 23442.721271048107, 24274.09748109056, 25210.690288327314, 32091.72406383218, 36954.08565810925, 36897.25841663676, 37652.56792055459, 35217.75849352087, 31322.52867421238, 31761.228349129266, 31618.035973067228, 31464.35722452101, 48484.29535848768, 48601.43633664498, 47186.680271753, 49066.54399978629, 46801.591702870304, 43491.472913460086, 37603.42419770797, 33569.69158056808, 28984.57490358593, 28715.70943104199, 36863.77739162817, 42214.841700713194, 54130.823846128595, 55530.66176063262, 62512.372816688214, 65109.90337274828, 61873.8587678242, 55350.50050747522, 41450.89677454942, 29899.295972066593, 46835.17157489662, 44952.66375276174, 45636.96307642209, 49334.77057746834, 67876.74775421942, 82424.15268791954, 98855.50320742354, 102653.78779324534, 106576.09255949283, 103296.33543055094, 73002.9072294813, 54971.65329587886, 44512.202575316, 39395.143300484284, 42540.972374404475, 44449.95768259862, 37375.12161833897, 36188.664850573805, 29320.15443274624, 33348.20045121674, 51977.07434465093, 66356.37200711956, 65108.18616560832, 65295.235227485544, 65489.07248388219, 61362.31241738489, 47563.07231475879, 36473.650008403994, 39227.50300765475, 45260.55139524747, 46041.74347354705, 39413.640078365184, 39151.97877693137, 40443.833569213304, 36804.56241148162, 32095.099344795155, 31249.94794787283, 37867.85229796733, 44445.58775127678, 48513.20862030354, 53985.61742506006, 56457.956572682764, 54322.77370132225, 42999.163744089936, 35313.809825334865, 34359.8235516745, 23914.727779702265, 27155.34447326286, 31077.57007861267, 34214.950815708726, 34976.78439766315, 34904.66650241104]\n",
      "--------------------------------------\n",
      "| time/                 |            |\n",
      "|    fps                | 9          |\n",
      "|    iterations         | 600        |\n",
      "|    time_elapsed       | 314        |\n",
      "|    total_timesteps    | 3000       |\n",
      "| train/                |            |\n",
      "|    entropy_loss       | -41.5      |\n",
      "|    explained_variance | 1.19e-07   |\n",
      "|    learning_rate      | 0.0007     |\n",
      "|    n_updates          | 599        |\n",
      "|    policy_loss        | 11.8       |\n",
      "|    reward             | 0.12947518 |\n",
      "|    std                | 1.01       |\n",
      "|    value_loss         | 0.107      |\n",
      "--------------------------------------\n",
      "--------------------------------------\n",
      "| time/                 |            |\n",
      "|    fps                | 9          |\n",
      "|    iterations         | 700        |\n",
      "|    time_elapsed       | 364        |\n",
      "|    total_timesteps    | 3500       |\n",
      "| train/                |            |\n",
      "|    entropy_loss       | -41.5      |\n",
      "|    explained_variance | -0.385     |\n",
      "|    learning_rate      | 0.0007     |\n",
      "|    n_updates          | 699        |\n",
      "|    policy_loss        | -16.5      |\n",
      "|    reward             | -0.5201607 |\n",
      "|    std                | 1.01       |\n",
      "|    value_loss         | 0.479      |\n",
      "--------------------------------------\n",
      "---------------------------------------\n",
      "| time/                 |             |\n",
      "|    fps                | 9           |\n",
      "|    iterations         | 800         |\n",
      "|    time_elapsed       | 413         |\n",
      "|    total_timesteps    | 4000        |\n",
      "| train/                |             |\n",
      "|    entropy_loss       | -41.6       |\n",
      "|    explained_variance | 0           |\n",
      "|    learning_rate      | 0.0007      |\n",
      "|    n_updates          | 799         |\n",
      "|    policy_loss        | -0.763      |\n",
      "|    reward             | -0.37859032 |\n",
      "|    std                | 1.01        |\n",
      "|    value_loss         | 0.884       |\n",
      "---------------------------------------\n",
      "------------------------------------\n",
      "| time/                 |          |\n",
      "|    fps                | 9        |\n",
      "|    iterations         | 900      |\n",
      "|    time_elapsed       | 463      |\n",
      "|    total_timesteps    | 4500     |\n",
      "| train/                |          |\n",
      "|    entropy_loss       | -41.6    |\n",
      "|    explained_variance | 0        |\n",
      "|    learning_rate      | 0.0007   |\n",
      "|    n_updates          | 899      |\n",
      "|    policy_loss        | 56.8     |\n",
      "|    reward             | 2.238889 |\n",
      "|    std                | 1.02     |\n",
      "|    value_loss         | 2.51     |\n",
      "------------------------------------\n",
      "--------------------------------------\n",
      "| time/                 |            |\n",
      "|    fps                | 9          |\n",
      "|    iterations         | 1000       |\n",
      "|    time_elapsed       | 512        |\n",
      "|    total_timesteps    | 5000       |\n",
      "| train/                |            |\n",
      "|    entropy_loss       | -41.7      |\n",
      "|    explained_variance | 0          |\n",
      "|    learning_rate      | 0.0007     |\n",
      "|    n_updates          | 999        |\n",
      "|    policy_loss        | -179       |\n",
      "|    reward             | -1.3959497 |\n",
      "|    std                | 1.02       |\n",
      "|    value_loss         | 67.1       |\n",
      "--------------------------------------\n"
     ]
    }
   ],
   "source": [
    "# trained_a2c = agent.train_model(model=model_a2c, \n",
    "#                              tb_log_name='a2c',\n",
    "#                              total_timesteps=1000) if if_using_a2c else None\n",
    "try:\n",
    "    trained_a2c = agent.train_model(\n",
    "        model=model_a2c, \n",
    "        tb_log_name='a2c',\n",
    "        total_timesteps=5000 #,\n",
    "        #verbose=True  # Increase verbosity to get more info on errors\n",
    "    ) if if_using_a2c else None\n",
    "except Exception as e:\n",
    "    print(\"Failed to train due to:\", e)\n",
    "    # Optional: Try a different configuration or handle the failure\n",
    "\n",
    "\n",
    "\n",
    "# print(e_train_gym.get_risk_mem())\n",
    "\n"
   ]
  },
  {
   "cell_type": "code",
   "execution_count": 170,
   "metadata": {},
   "outputs": [],
   "source": [
    "# print(e_train_gym.get_risk_mem())\n",
    "\n",
    "# df_risk_a2c_rc = e_train_gym.get_risk_mem().set_index(e_train_gym.get_risk_mem().columns[0])\n",
    "\n",
    "\n",
    "\n",
    "# result = df_risk_a2c_rc\n",
    "# %matplotlib inline\n",
    "# plt.rcParams[\"figure.figsize\"] = (15,5)\n",
    "# plt.figure();\n",
    "\n",
    "# result.plot();\n"
   ]
  },
  {
   "cell_type": "markdown",
   "metadata": {},
   "source": [
    "### Agent 1b: A2C with no Risk Controller\n",
    "\n"
   ]
  },
  {
   "cell_type": "code",
   "execution_count": 171,
   "metadata": {},
   "outputs": [
    {
     "name": "stdout",
     "output_type": "stream",
     "text": [
      "{'n_steps': 5, 'ent_coef': 0.01, 'learning_rate': 0.0007}\n",
      "Using cpu device\n",
      "Logging to results/a2c\n"
     ]
    }
   ],
   "source": [
    "agent = DRLAgent(env = env_train_og)\n",
    "model_a2c = agent.get_model(\"a2c\")\n",
    "\n",
    "if if_using_a2c:\n",
    "  # set up logger\n",
    "  tmp_path = RESULTS_DIR + '/a2c'\n",
    "  new_logger_a2c = configure(tmp_path, [\"stdout\", \"csv\", \"tensorboard\"])\n",
    "  # Set new logger\n",
    "  model_a2c.set_logger(new_logger_a2c)\n",
    "  # Save the trained model\n",
    "  model_a2c.save(RESULTS_DIR + '/a2c/trained_model_a2c_no_rc.zip')\n",
    "\n"
   ]
  },
  {
   "cell_type": "code",
   "execution_count": 172,
   "metadata": {},
   "outputs": [
    {
     "name": "stdout",
     "output_type": "stream",
     "text": [
      "----------------------------------------\n",
      "| time/                 |              |\n",
      "|    fps                | 241          |\n",
      "|    iterations         | 100          |\n",
      "|    time_elapsed       | 2            |\n",
      "|    total_timesteps    | 500          |\n",
      "| train/                |              |\n",
      "|    entropy_loss       | -41.1        |\n",
      "|    explained_variance | -0.388       |\n",
      "|    learning_rate      | 0.0007       |\n",
      "|    n_updates          | 99           |\n",
      "|    policy_loss        | -54.8        |\n",
      "|    reward             | -0.056924038 |\n",
      "|    std                | 0.999        |\n",
      "|    value_loss         | 2.05         |\n",
      "----------------------------------------\n",
      "-------------------------------------\n",
      "| time/                 |           |\n",
      "|    fps                | 257       |\n",
      "|    iterations         | 200       |\n",
      "|    time_elapsed       | 3         |\n",
      "|    total_timesteps    | 1000      |\n",
      "| train/                |           |\n",
      "|    entropy_loss       | -41.1     |\n",
      "|    explained_variance | -0.174    |\n",
      "|    learning_rate      | 0.0007    |\n",
      "|    n_updates          | 199       |\n",
      "|    policy_loss        | -7.44     |\n",
      "|    reward             | 0.6547601 |\n",
      "|    std                | 0.998     |\n",
      "|    value_loss         | 1.59      |\n",
      "-------------------------------------\n",
      "--------------------------------------\n",
      "| time/                 |            |\n",
      "|    fps                | 264        |\n",
      "|    iterations         | 300        |\n",
      "|    time_elapsed       | 5          |\n",
      "|    total_timesteps    | 1500       |\n",
      "| train/                |            |\n",
      "|    entropy_loss       | -41.1      |\n",
      "|    explained_variance | 0.072      |\n",
      "|    learning_rate      | 0.0007     |\n",
      "|    n_updates          | 299        |\n",
      "|    policy_loss        | -35.8      |\n",
      "|    reward             | -1.9512802 |\n",
      "|    std                | 0.999      |\n",
      "|    value_loss         | 2.96       |\n",
      "--------------------------------------\n",
      "--------------------------------------\n",
      "| time/                 |            |\n",
      "|    fps                | 267        |\n",
      "|    iterations         | 400        |\n",
      "|    time_elapsed       | 7          |\n",
      "|    total_timesteps    | 2000       |\n",
      "| train/                |            |\n",
      "|    entropy_loss       | -41.1      |\n",
      "|    explained_variance | 0          |\n",
      "|    learning_rate      | 0.0007     |\n",
      "|    n_updates          | 399        |\n",
      "|    policy_loss        | -36.8      |\n",
      "|    reward             | 0.16931489 |\n",
      "|    std                | 0.999      |\n",
      "|    value_loss         | 5.2        |\n",
      "--------------------------------------\n",
      "--------------------------------------\n",
      "| time/                 |            |\n",
      "|    fps                | 269        |\n",
      "|    iterations         | 500        |\n",
      "|    time_elapsed       | 9          |\n",
      "|    total_timesteps    | 2500       |\n",
      "| train/                |            |\n",
      "|    entropy_loss       | -41.1      |\n",
      "|    explained_variance | 0.202      |\n",
      "|    learning_rate      | 0.0007     |\n",
      "|    n_updates          | 499        |\n",
      "|    policy_loss        | -60.6      |\n",
      "|    reward             | -1.2198136 |\n",
      "|    std                | 0.997      |\n",
      "|    value_loss         | 4.86       |\n",
      "--------------------------------------\n",
      "-------------------------------------\n",
      "| time/                 |           |\n",
      "|    fps                | 269       |\n",
      "|    iterations         | 600       |\n",
      "|    time_elapsed       | 11        |\n",
      "|    total_timesteps    | 3000      |\n",
      "| train/                |           |\n",
      "|    entropy_loss       | -41       |\n",
      "|    explained_variance | 0         |\n",
      "|    learning_rate      | 0.0007    |\n",
      "|    n_updates          | 599       |\n",
      "|    policy_loss        | 6.64      |\n",
      "|    reward             | 0.5908446 |\n",
      "|    std                | 0.997     |\n",
      "|    value_loss         | 0.067     |\n",
      "-------------------------------------\n",
      "---------------------------------------\n",
      "| time/                 |             |\n",
      "|    fps                | 268         |\n",
      "|    iterations         | 700         |\n",
      "|    time_elapsed       | 13          |\n",
      "|    total_timesteps    | 3500        |\n",
      "| train/                |             |\n",
      "|    entropy_loss       | -41.1       |\n",
      "|    explained_variance | 0.124       |\n",
      "|    learning_rate      | 0.0007      |\n",
      "|    n_updates          | 699         |\n",
      "|    policy_loss        | -25.3       |\n",
      "|    reward             | -0.24585755 |\n",
      "|    std                | 0.998       |\n",
      "|    value_loss         | 0.561       |\n",
      "---------------------------------------\n",
      "--------------------------------------\n",
      "| time/                 |            |\n",
      "|    fps                | 268        |\n",
      "|    iterations         | 800        |\n",
      "|    time_elapsed       | 14         |\n",
      "|    total_timesteps    | 4000       |\n",
      "| train/                |            |\n",
      "|    entropy_loss       | -41        |\n",
      "|    explained_variance | 5.96e-08   |\n",
      "|    learning_rate      | 0.0007     |\n",
      "|    n_updates          | 799        |\n",
      "|    policy_loss        | -32.5      |\n",
      "|    reward             | -2.1012177 |\n",
      "|    std                | 0.995      |\n",
      "|    value_loss         | 3.64       |\n",
      "--------------------------------------\n",
      "---------------------------------------\n",
      "| time/                 |             |\n",
      "|    fps                | 269         |\n",
      "|    iterations         | 900         |\n",
      "|    time_elapsed       | 16          |\n",
      "|    total_timesteps    | 4500        |\n",
      "| train/                |             |\n",
      "|    entropy_loss       | -41         |\n",
      "|    explained_variance | -0.0337     |\n",
      "|    learning_rate      | 0.0007      |\n",
      "|    n_updates          | 899         |\n",
      "|    policy_loss        | 138         |\n",
      "|    reward             | -0.54850537 |\n",
      "|    std                | 0.997       |\n",
      "|    value_loss         | 14.4        |\n",
      "---------------------------------------\n",
      "------------------------------------\n",
      "| time/                 |          |\n",
      "|    fps                | 270      |\n",
      "|    iterations         | 1000     |\n",
      "|    time_elapsed       | 18       |\n",
      "|    total_timesteps    | 5000     |\n",
      "| train/                |          |\n",
      "|    entropy_loss       | -41      |\n",
      "|    explained_variance | 0        |\n",
      "|    learning_rate      | 0.0007   |\n",
      "|    n_updates          | 999      |\n",
      "|    policy_loss        | -356     |\n",
      "|    reward             | 9.225852 |\n",
      "|    std                | 0.995    |\n",
      "|    value_loss         | 186      |\n",
      "------------------------------------\n"
     ]
    }
   ],
   "source": [
    "# trained_a2c = agent.train_model(model=model_a2c, \n",
    "#                              tb_log_name='a2c',\n",
    "#                              total_timesteps=1000) if if_using_a2c else None\n",
    "try:\n",
    "    trained_a2c_no_rc = agent.train_model(\n",
    "        model=model_a2c, \n",
    "        tb_log_name='a2c',\n",
    "        total_timesteps=5000 #,\n",
    "        #verbose=True  # Increase verbosity to get more info on errors\n",
    "    ) if if_using_a2c else None\n",
    "except Exception as e:\n",
    "    print(\"Failed to train due to:\", e)\n",
    "    # Optional: Try a different configuration or handle the failure\n",
    "    \n"
   ]
  },
  {
   "cell_type": "markdown",
   "metadata": {
    "id": "MRiOtrywfAo1"
   },
   "source": [
    "### Agent 2: DDPG"
   ]
  },
  {
   "cell_type": "code",
   "execution_count": 173,
   "metadata": {
    "colab": {
     "base_uri": "https://localhost:8080/"
    },
    "id": "M2YadjfnLwgt",
    "outputId": "883736bb-5b14-4306-816f-b7596b90275d"
   },
   "outputs": [
    {
     "name": "stdout",
     "output_type": "stream",
     "text": [
      "{'batch_size': 128, 'buffer_size': 50000, 'learning_rate': 0.001}\n",
      "Using cpu device\n"
     ]
    }
   ],
   "source": [
    "agent = DRLAgent(env = env_train)\n",
    "model_ddpg = agent.get_model(\"ddpg\")\n",
    "\n",
    "if if_using_ddpg:\n",
    "  # set up logger\n",
    "  tmp_path = RESULTS_DIR + '/ddpg'\n",
    "  new_logger_ddpg = configure(tmp_path, [\"stdout\", \"csv\", \"tensorboard\"])\n",
    "  # Set new logger\n",
    "  model_ddpg.set_logger(new_logger_ddpg)\n",
    "  # Save the trained model\n",
    "  model_ddpg.save(tmp_path + '/trained_model_ddpg.zip')"
   ]
  },
  {
   "cell_type": "code",
   "execution_count": 174,
   "metadata": {
    "colab": {
     "base_uri": "https://localhost:8080/"
    },
    "id": "tCDa78rqfO_a",
    "outputId": "c9962d70-9180-4377-daa7-0ae7363b8091"
   },
   "outputs": [],
   "source": [
    "trained_ddpg = agent.train_model(model=model_ddpg, \n",
    "                             tb_log_name='ddpg',\n",
    "                             total_timesteps=5000) if if_using_ddpg else None"
   ]
  },
  {
   "cell_type": "markdown",
   "metadata": {
    "id": "_gDkU-j-fCmZ"
   },
   "source": [
    "### Agent 3: PPO"
   ]
  },
  {
   "cell_type": "code",
   "execution_count": 175,
   "metadata": {
    "colab": {
     "base_uri": "https://localhost:8080/"
    },
    "id": "y5D5PFUhMzSV",
    "outputId": "01b7bbbb-7dce-4370-fe61-9098d4e5e978"
   },
   "outputs": [
    {
     "name": "stdout",
     "output_type": "stream",
     "text": [
      "{'n_steps': 2048, 'ent_coef': 0.01, 'learning_rate': 0.00025, 'batch_size': 128}\n",
      "Using cpu device\n"
     ]
    }
   ],
   "source": [
    "agent = DRLAgent(env = env_train)\n",
    "PPO_PARAMS = {\n",
    "    \"n_steps\": 2048,\n",
    "    \"ent_coef\": 0.01,\n",
    "    \"learning_rate\": 0.00025,\n",
    "    \"batch_size\": 128,\n",
    "}\n",
    "model_ppo = agent.get_model(\"ppo\",model_kwargs = PPO_PARAMS)\n",
    "\n",
    "if if_using_ppo:\n",
    "  # set up logger\n",
    "  tmp_path = RESULTS_DIR + '/ppo'\n",
    "  new_logger_ppo = configure(tmp_path, [\"stdout\", \"csv\", \"tensorboard\"])\n",
    "  # Set new logger\n",
    "  model_ppo.set_logger(new_logger_ppo)\n",
    "  # Save the trained model\n",
    "  model_ppo.save(tmp_path + '/trained_model_ppo.zip')"
   ]
  },
  {
   "cell_type": "code",
   "execution_count": 176,
   "metadata": {
    "colab": {
     "base_uri": "https://localhost:8080/"
    },
    "id": "Gt8eIQKYM4G3",
    "outputId": "54235862-b58b-4bd0-db25-1c62931703e0"
   },
   "outputs": [],
   "source": [
    "trained_ppo = agent.train_model(model=model_ppo, \n",
    "                             tb_log_name='ppo',\n",
    "                             total_timesteps=5000) if if_using_ppo else None"
   ]
  },
  {
   "cell_type": "markdown",
   "metadata": {
    "id": "3Zpv4S0-fDBv"
   },
   "source": [
    "### Agent 4: TD3"
   ]
  },
  {
   "cell_type": "code",
   "execution_count": 177,
   "metadata": {
    "colab": {
     "base_uri": "https://localhost:8080/"
    },
    "id": "JSAHhV4Xc-bh",
    "outputId": "b0762c2c-09b6-4351-876a-59cd08be4707"
   },
   "outputs": [
    {
     "name": "stdout",
     "output_type": "stream",
     "text": [
      "{'batch_size': 100, 'buffer_size': 1000000, 'learning_rate': 0.001}\n",
      "Using cpu device\n"
     ]
    }
   ],
   "source": [
    "agent = DRLAgent(env = env_train)\n",
    "TD3_PARAMS = {\"batch_size\": 100, \n",
    "              \"buffer_size\": 1000000, \n",
    "              \"learning_rate\": 0.001}\n",
    "\n",
    "model_td3 = agent.get_model(\"td3\",model_kwargs = TD3_PARAMS) #do not fine tune pretrained model!\n",
    "\n",
    "if if_using_td3:\n",
    "  # set up logger\n",
    "  tmp_path = RESULTS_DIR + '/td3'\n",
    "  new_logger_td3 = configure(tmp_path, [\"stdout\", \"csv\", \"tensorboard\"])\n",
    "  # Set new logger\n",
    "  model_td3.set_logger(new_logger_td3)\n",
    "  # Save the trained model\n",
    "  model_td3.save(tmp_path + '/trained_model_td3.zip')"
   ]
  },
  {
   "cell_type": "code",
   "execution_count": 178,
   "metadata": {
    "colab": {
     "base_uri": "https://localhost:8080/"
    },
    "id": "OSRxNYAxdKpU",
    "outputId": "31b518ef-3966-413c-89f9-d83a037e55b4"
   },
   "outputs": [],
   "source": [
    "trained_td3 = agent.train_model(model=model_td3, \n",
    "                             tb_log_name='td3',\n",
    "                             total_timesteps=5000) if if_using_td3 else None"
   ]
  },
  {
   "cell_type": "markdown",
   "metadata": {
    "id": "Dr49PotrfG01"
   },
   "source": [
    "### Agent 5a: SAC with Risk Controller"
   ]
  },
  {
   "cell_type": "code",
   "execution_count": 179,
   "metadata": {
    "colab": {
     "base_uri": "https://localhost:8080/"
    },
    "id": "xwOhVjqRkCdM",
    "outputId": "a5ebf4e2-34ca-4bf5-8980-08d37a0659e0"
   },
   "outputs": [
    {
     "name": "stdout",
     "output_type": "stream",
     "text": [
      "{'batch_size': 128, 'buffer_size': 100000, 'learning_rate': 0.0001, 'learning_starts': 100, 'ent_coef': 'auto_0.1'}\n",
      "Using cpu device\n",
      "Logging to results/sac\n"
     ]
    }
   ],
   "source": [
    "agent = DRLAgent(env = env_train)\n",
    "SAC_PARAMS = {\n",
    "    \"batch_size\": 128,\n",
    "    \"buffer_size\": 100000,\n",
    "    \"learning_rate\": 0.0001,\n",
    "    \"learning_starts\": 100,\n",
    "    \"ent_coef\": \"auto_0.1\",\n",
    "}\n",
    "\n",
    "model_sac = agent.get_model(\"sac\",model_kwargs = SAC_PARAMS)\n",
    "\n",
    "if if_using_sac:\n",
    "  # set up logger\n",
    "  tmp_path = RESULTS_DIR + '/sac'\n",
    "  new_logger_sac = configure(tmp_path, [\"stdout\", \"csv\", \"tensorboard\"])\n",
    "  # Set new logger\n",
    "  model_sac.set_logger(new_logger_sac)\n",
    "  # Save the trained model\n",
    "  model_sac.save(tmp_path + '/trained_model_sac.zip')\n",
    "\n",
    "\n",
    "\n",
    "  "
   ]
  },
  {
   "cell_type": "code",
   "execution_count": 180,
   "metadata": {
    "colab": {
     "base_uri": "https://localhost:8080/"
    },
    "id": "K8RSdKCckJyH",
    "outputId": "7f1e46f5-7124-4b6d-8fe7-f8071760cfe5"
   },
   "outputs": [],
   "source": [
    "trained_sac = agent.train_model(model=model_sac, \n",
    "                             tb_log_name='sac',\n",
    "                             total_timesteps=50) if if_using_sac else None"
   ]
  },
  {
   "cell_type": "markdown",
   "metadata": {},
   "source": [
    "### Agent 5b: SAC with no Risk Controller"
   ]
  },
  {
   "cell_type": "code",
   "execution_count": 181,
   "metadata": {},
   "outputs": [
    {
     "name": "stdout",
     "output_type": "stream",
     "text": [
      "{'batch_size': 128, 'buffer_size': 100000, 'learning_rate': 0.0001, 'learning_starts': 100, 'ent_coef': 'auto_0.1'}\n",
      "Using cpu device\n",
      "Logging to results/sac\n"
     ]
    }
   ],
   "source": [
    "agent = DRLAgent(env = env_train_og)\n",
    "# SAC_PARAMS = {\n",
    "#     \"batch_size\": 128,\n",
    "#     \"buffer_size\": 100000,\n",
    "#     \"learning_rate\": 0.0001,\n",
    "#     \"learning_starts\": 100,\n",
    "#     \"ent_coef\": \"auto_0.1\",\n",
    "# }\n",
    "\n",
    "model_sac = agent.get_model(\"sac\",model_kwargs = SAC_PARAMS)\n",
    "\n",
    "if if_using_sac:\n",
    "  # set up logger\n",
    "  tmp_path = RESULTS_DIR + '/sac'\n",
    "  new_logger_sac = configure(tmp_path, [\"stdout\", \"csv\", \"tensorboard\"])\n",
    "  # Set new logger\n",
    "  model_sac.set_logger(new_logger_sac)\n",
    "  # Save the trained model\n",
    "  model_sac.save(tmp_path + '/trained_model_sac_no_rc.zip')\n",
    "  "
   ]
  },
  {
   "cell_type": "code",
   "execution_count": 182,
   "metadata": {},
   "outputs": [],
   "source": [
    "trained_sac_no_rc = agent.train_model(model=model_sac, \n",
    "                             tb_log_name='sac',\n",
    "                             total_timesteps=50) if if_using_sac else None"
   ]
  },
  {
   "cell_type": "markdown",
   "metadata": {
    "id": "f2wZgkQXh1jE"
   },
   "source": [
    "## In-sample Performance\n",
    "\n",
    "Assume that the initial capital is $1,000,000."
   ]
  },
  {
   "cell_type": "markdown",
   "metadata": {
    "id": "bEv5KGC8h1jE"
   },
   "source": [
    "### Set turbulence threshold\n",
    "Set the turbulence threshold to be greater than the maximum of insample turbulence data. If current turbulence index is greater than the threshold, then we assume that the current market is volatile"
   ]
  },
  {
   "cell_type": "code",
   "execution_count": 183,
   "metadata": {
    "id": "efwBi84ch1jE"
   },
   "outputs": [],
   "source": [
    "data_risk_indicator = processed_full[(processed_full.date<TRAIN_END_DATE) & (processed_full.date>=TRAIN_START_DATE)]\n",
    "insample_risk_indicator = data_risk_indicator.drop_duplicates(subset=['date'])"
   ]
  },
  {
   "cell_type": "code",
   "execution_count": 184,
   "metadata": {
    "colab": {
     "base_uri": "https://localhost:8080/"
    },
    "id": "VHZMBpSqh1jG",
    "outputId": "ffa57923-17e2-436e-c970-fcc52112a098"
   },
   "outputs": [
    {
     "data": {
      "text/plain": [
       "count    2957.000000\n",
       "mean       18.105293\n",
       "std         7.272476\n",
       "min         9.140000\n",
       "25%        13.370000\n",
       "50%        16.209999\n",
       "75%        20.629999\n",
       "max        82.690002\n",
       "Name: vix, dtype: float64"
      ]
     },
     "execution_count": 184,
     "metadata": {},
     "output_type": "execute_result"
    }
   ],
   "source": [
    "insample_risk_indicator.vix.describe()"
   ]
  },
  {
   "cell_type": "code",
   "execution_count": 185,
   "metadata": {
    "colab": {
     "base_uri": "https://localhost:8080/"
    },
    "id": "BDkszkMloRWT",
    "outputId": "7c539b2c-6223-4d00-d571-7af992f976bf"
   },
   "outputs": [
    {
     "data": {
      "text/plain": [
       "57.212001831054636"
      ]
     },
     "execution_count": 185,
     "metadata": {},
     "output_type": "execute_result"
    }
   ],
   "source": [
    "insample_risk_indicator.vix.quantile(0.996)"
   ]
  },
  {
   "cell_type": "code",
   "execution_count": 186,
   "metadata": {
    "colab": {
     "base_uri": "https://localhost:8080/"
    },
    "id": "AL7hs7svnNWT",
    "outputId": "6510973a-cfd3-4ff8-f482-287ac99de05c"
   },
   "outputs": [
    {
     "data": {
      "text/plain": [
       "count    2957.000000\n",
       "mean       34.139713\n",
       "std        43.880918\n",
       "min         0.000000\n",
       "25%        14.608427\n",
       "50%        23.649164\n",
       "75%        38.399197\n",
       "max       652.614201\n",
       "Name: turbulence, dtype: float64"
      ]
     },
     "execution_count": 186,
     "metadata": {},
     "output_type": "execute_result"
    }
   ],
   "source": [
    "insample_risk_indicator.turbulence.describe()"
   ]
  },
  {
   "cell_type": "code",
   "execution_count": 187,
   "metadata": {
    "colab": {
     "base_uri": "https://localhost:8080/"
    },
    "id": "N78hfHckoqJ9",
    "outputId": "7258129e-a14b-4327-cb7e-f7cfb73b3dd0"
   },
   "outputs": [
    {
     "data": {
      "text/plain": [
       "291.7384152983726"
      ]
     },
     "execution_count": 187,
     "metadata": {},
     "output_type": "execute_result"
    }
   ],
   "source": [
    "insample_risk_indicator.turbulence.quantile(0.996)"
   ]
  },
  {
   "cell_type": "markdown",
   "metadata": {
    "id": "U5mmgQF_h1jQ"
   },
   "source": [
    "### Trading (Out-of-sample Performance)\n",
    "\n",
    "We update periodically in order to take full advantage of the data, e.g., retrain quarterly, monthly or weekly. We also tune the parameters along the way, in this notebook we use the in-sample data from 2009-01 to 2020-07 to tune the parameters once, so there is some alpha decay here as the length of trade date extends. \n",
    "\n",
    "Numerous hyperparameters – e.g. the learning rate, the total number of samples to train on – influence the learning process and are usually determined by testing some variations."
   ]
  },
  {
   "cell_type": "code",
   "execution_count": 188,
   "metadata": {
    "id": "cIqoV0GSI52v"
   },
   "outputs": [
    {
     "name": "stdout",
     "output_type": "stream",
     "text": [
      "Risk Controller Active: True\n",
      "Risk Controller Active: False\n"
     ]
    }
   ],
   "source": [
    "#from FINRL tutorial:\n",
    "# turbulence index: 90-150 reasonable threshold\n",
    "#TURBULENCE_THRESHOLD = 140\n",
    "\n",
    "# e_trade_gym = StockTradingEnv(df = trade,turbulence_threshold = 100, risk_indicator_col='vix', **env_kwargs) # \n",
    "e_trade_gym = StockTradingEnv(df = trade,turbulence_threshold = None, use_risk_controller = True, risk_indicator_col='vix', **env_kwargs) # \n",
    "e_trade_gym_og = StockTradingEnv(df = trade,turbulence_threshold = None, use_risk_controller = False, risk_indicator_col='vix', **env_kwargs) # \n",
    "\n",
    "# env_trade, obs_trade = e_trade_gym.get_sb_env()\n",
    "\n",
    "#SETTING THE turbulence to 0 will cause issues\n",
    "\n",
    "#is the trading gym a different, more rewarding environment than the other environment?\n",
    "#do we have consistency?\n",
    "\n",
    "\n",
    "# e_trade_gym_og = OriginalEnv(df = trade,turbulence_threshold = None, risk_indicator_col='vix', **env_kwargs) # \n"
   ]
  },
  {
   "cell_type": "code",
   "execution_count": 189,
   "metadata": {
    "colab": {
     "base_uri": "https://localhost:8080/",
     "height": 357
    },
    "id": "W_XNgGsBMeVw",
    "outputId": "37dba890-811e-4c0c-fee9-f12f3f9eb100"
   },
   "outputs": [
    {
     "data": {
      "text/html": [
       "<div>\n",
       "<style scoped>\n",
       "    .dataframe tbody tr th:only-of-type {\n",
       "        vertical-align: middle;\n",
       "    }\n",
       "\n",
       "    .dataframe tbody tr th {\n",
       "        vertical-align: top;\n",
       "    }\n",
       "\n",
       "    .dataframe thead th {\n",
       "        text-align: right;\n",
       "    }\n",
       "</style>\n",
       "<table border=\"1\" class=\"dataframe\">\n",
       "  <thead>\n",
       "    <tr style=\"text-align: right;\">\n",
       "      <th></th>\n",
       "      <th>date</th>\n",
       "      <th>tic</th>\n",
       "      <th>open</th>\n",
       "      <th>high</th>\n",
       "      <th>low</th>\n",
       "      <th>close</th>\n",
       "      <th>volume</th>\n",
       "      <th>day</th>\n",
       "      <th>macd</th>\n",
       "      <th>boll_ub</th>\n",
       "      <th>boll_lb</th>\n",
       "      <th>rsi_30</th>\n",
       "      <th>cci_30</th>\n",
       "      <th>dx_30</th>\n",
       "      <th>close_30_sma</th>\n",
       "      <th>close_60_sma</th>\n",
       "      <th>vix</th>\n",
       "      <th>turbulence</th>\n",
       "      <th>daily_returns</th>\n",
       "    </tr>\n",
       "  </thead>\n",
       "  <tbody>\n",
       "    <tr>\n",
       "      <th>0</th>\n",
       "      <td>2021-10-01</td>\n",
       "      <td>AAPL</td>\n",
       "      <td>141.899994</td>\n",
       "      <td>142.919998</td>\n",
       "      <td>139.110001</td>\n",
       "      <td>140.653519</td>\n",
       "      <td>94639600.0</td>\n",
       "      <td>4.0</td>\n",
       "      <td>-1.694441</td>\n",
       "      <td>154.557872</td>\n",
       "      <td>136.404112</td>\n",
       "      <td>46.927743</td>\n",
       "      <td>-142.221443</td>\n",
       "      <td>41.749873</td>\n",
       "      <td>146.390415</td>\n",
       "      <td>145.492824</td>\n",
       "      <td>21.1</td>\n",
       "      <td>120.030788</td>\n",
       "      <td>0.000000</td>\n",
       "    </tr>\n",
       "    <tr>\n",
       "      <th>0</th>\n",
       "      <td>2021-10-01</td>\n",
       "      <td>AMGN</td>\n",
       "      <td>213.589996</td>\n",
       "      <td>214.610001</td>\n",
       "      <td>210.800003</td>\n",
       "      <td>197.213074</td>\n",
       "      <td>2629400.0</td>\n",
       "      <td>4.0</td>\n",
       "      <td>-2.996546</td>\n",
       "      <td>205.844873</td>\n",
       "      <td>192.892092</td>\n",
       "      <td>40.408580</td>\n",
       "      <td>-96.968253</td>\n",
       "      <td>36.189244</td>\n",
       "      <td>201.697203</td>\n",
       "      <td>210.039148</td>\n",
       "      <td>21.1</td>\n",
       "      <td>120.030788</td>\n",
       "      <td>0.218194</td>\n",
       "    </tr>\n",
       "    <tr>\n",
       "      <th>0</th>\n",
       "      <td>2021-10-01</td>\n",
       "      <td>AXP</td>\n",
       "      <td>168.500000</td>\n",
       "      <td>175.119995</td>\n",
       "      <td>168.479996</td>\n",
       "      <td>167.727448</td>\n",
       "      <td>3956000.0</td>\n",
       "      <td>4.0</td>\n",
       "      <td>2.242076</td>\n",
       "      <td>171.823832</td>\n",
       "      <td>147.181356</td>\n",
       "      <td>56.265103</td>\n",
       "      <td>117.437317</td>\n",
       "      <td>15.667511</td>\n",
       "      <td>158.999401</td>\n",
       "      <td>161.211789</td>\n",
       "      <td>21.1</td>\n",
       "      <td>120.030788</td>\n",
       "      <td>-0.622548</td>\n",
       "    </tr>\n",
       "    <tr>\n",
       "      <th>0</th>\n",
       "      <td>2021-10-01</td>\n",
       "      <td>BA</td>\n",
       "      <td>222.850006</td>\n",
       "      <td>226.720001</td>\n",
       "      <td>220.600006</td>\n",
       "      <td>226.000000</td>\n",
       "      <td>9113600.0</td>\n",
       "      <td>4.0</td>\n",
       "      <td>0.730320</td>\n",
       "      <td>226.909442</td>\n",
       "      <td>205.727561</td>\n",
       "      <td>51.614047</td>\n",
       "      <td>116.649440</td>\n",
       "      <td>2.027170</td>\n",
       "      <td>217.175334</td>\n",
       "      <td>221.968500</td>\n",
       "      <td>21.1</td>\n",
       "      <td>120.030788</td>\n",
       "      <td>-0.021639</td>\n",
       "    </tr>\n",
       "    <tr>\n",
       "      <th>0</th>\n",
       "      <td>2021-10-01</td>\n",
       "      <td>CAT</td>\n",
       "      <td>192.899994</td>\n",
       "      <td>195.869995</td>\n",
       "      <td>191.240005</td>\n",
       "      <td>183.514008</td>\n",
       "      <td>3695500.0</td>\n",
       "      <td>4.0</td>\n",
       "      <td>-3.554817</td>\n",
       "      <td>200.903614</td>\n",
       "      <td>177.171303</td>\n",
       "      <td>41.999444</td>\n",
       "      <td>-112.169807</td>\n",
       "      <td>36.203176</td>\n",
       "      <td>192.366897</td>\n",
       "      <td>195.812264</td>\n",
       "      <td>21.1</td>\n",
       "      <td>120.030788</td>\n",
       "      <td>1.044766</td>\n",
       "    </tr>\n",
       "  </tbody>\n",
       "</table>\n",
       "</div>"
      ],
      "text/plain": [
       "         date   tic        open        high         low       close  \\\n",
       "0  2021-10-01  AAPL  141.899994  142.919998  139.110001  140.653519   \n",
       "0  2021-10-01  AMGN  213.589996  214.610001  210.800003  197.213074   \n",
       "0  2021-10-01   AXP  168.500000  175.119995  168.479996  167.727448   \n",
       "0  2021-10-01    BA  222.850006  226.720001  220.600006  226.000000   \n",
       "0  2021-10-01   CAT  192.899994  195.869995  191.240005  183.514008   \n",
       "\n",
       "       volume  day      macd     boll_ub     boll_lb     rsi_30      cci_30  \\\n",
       "0  94639600.0  4.0 -1.694441  154.557872  136.404112  46.927743 -142.221443   \n",
       "0   2629400.0  4.0 -2.996546  205.844873  192.892092  40.408580  -96.968253   \n",
       "0   3956000.0  4.0  2.242076  171.823832  147.181356  56.265103  117.437317   \n",
       "0   9113600.0  4.0  0.730320  226.909442  205.727561  51.614047  116.649440   \n",
       "0   3695500.0  4.0 -3.554817  200.903614  177.171303  41.999444 -112.169807   \n",
       "\n",
       "       dx_30  close_30_sma  close_60_sma   vix  turbulence  daily_returns  \n",
       "0  41.749873    146.390415    145.492824  21.1  120.030788       0.000000  \n",
       "0  36.189244    201.697203    210.039148  21.1  120.030788       0.218194  \n",
       "0  15.667511    158.999401    161.211789  21.1  120.030788      -0.622548  \n",
       "0   2.027170    217.175334    221.968500  21.1  120.030788      -0.021639  \n",
       "0  36.203176    192.366897    195.812264  21.1  120.030788       1.044766  "
      ]
     },
     "execution_count": 189,
     "metadata": {},
     "output_type": "execute_result"
    }
   ],
   "source": [
    "trade.head()"
   ]
  },
  {
   "cell_type": "code",
   "execution_count": 190,
   "metadata": {
    "colab": {
     "base_uri": "https://localhost:8080/"
    },
    "id": "lbFchno5j3xs",
    "outputId": "7eb7fa24-50a8-4506-97bf-a463e66f9102"
   },
   "outputs": [
    {
     "name": "stdout",
     "output_type": "stream",
     "text": [
      "353\n",
      "risk memory: 352\n",
      "[0.05, 1063.4552354564191, 972.3545260883293, 1622.3298333326964, 3129.769555478173, 3105.186587174172, 2938.6022264028466, 3187.6105840986297, 3007.643036567269, 6069.152237981538, 9210.571321565596, 10131.77931895197, 11863.539858064483, 13602.537392079046, 14621.750636989655, 14956.225156570803, 13970.864197916066, 10887.046205458699, 6520.759660327165, 6060.088324642734, 6763.85835596378, 6602.586362348977, 7409.016151956321, 9001.639560492358, 9520.662861365221, 10151.265756314018, 10017.286045536799, 8731.51452103246, 6578.128089504701, 5224.09308270501, 4150.769217614082, 3612.288271096748, 3272.590619739972, 3409.03250888403, 3699.6256757141946, 4536.069223082756, 3926.076388960933, 4172.341121117281, 5136.555405421496, 6479.386811011004, 6613.173507051941, 9688.341428421483, 11568.310567281364, 11449.687392583488, 11279.67309278433, 13217.122789769313, 16641.193256092807, 19099.561696456603, 21812.563237050104, 24351.542768394425, 25220.402466380274, 23152.87197607999, 19733.931080578688, 17477.717795944074, 11580.48420212606, 8754.096363563513, 8146.54457310181, 7689.844953150766, 8211.519441198336, 10712.183364197655, 11550.832801271747, 12337.248127756457, 12993.956527867906, 13710.739660949012, 13185.442045553684, 10715.4151211861, 8510.912145035698, 5979.303460380456, 3294.774061627949, 3423.904807588802, 4261.388562894966, 4886.0157059343865, 5452.69655447037, 6636.717575806602, 8427.974544815643, 10185.169518380648, 12311.277528024155, 13718.821181793273, 13873.61479887128, 13299.720427421084, 12909.80687456194, 11851.938161019558, 9298.230413626972, 8062.798065384125, 9201.482882882467, 13146.453848036512, 14330.214361762293, 14061.081686344109, 13735.788809130858, 14486.980574532534, 13292.272953272619, 8897.223932543799, 8537.17986172841, 10656.679057793668, 12138.49642376087, 12852.85649185085, 14911.035309191995, 16525.97308934374, 17896.832881756774, 18041.91000332212, 16577.897799588125, 14376.249325290022, 12582.053811840578, 12170.843245846576, 10732.170280101302, 9472.014063229666, 9901.966771506673, 10148.204263623616, 10982.952158453169, 10965.699076556208, 10137.20786279313, 9616.945004674151, 9534.688571699118, 10202.310798341212, 11841.31695450176, 14646.76980004237, 17330.188171915193, 18157.237102839368, 18054.582983279273, 16583.427597016725, 14697.357469582777, 13638.667184526477, 10574.404287916683, 10522.555202980619, 11704.973574694066, 11395.00992581826, 11788.844729842896, 10793.30314629007, 10120.581814807832, 7577.194164877319, 8198.68162521733, 9167.758620003486, 8576.598941424694, 8482.473410687238, 8962.26248799799, 7799.9498437752745, 7356.875878414902, 6723.355653604848, 8946.36732195517, 9719.808460776385, 10270.15892049825, 10279.722623889786, 11775.616254980087, 13606.221026731777, 13768.985499368393, 17125.631383272343, 19794.14703708705, 20800.778242695946, 17137.000541105266, 13523.488829392998, 12884.314921821628, 11271.235116200392, 12029.229141550306, 12917.846528523916, 11101.853433135997, 11030.13963231882, 10894.700061327321, 10757.367729382337, 12111.180661595903, 17095.060824530054, 17275.649976047902, 16930.582069996286, 17583.617579714464, 18422.16942344933, 20704.915381719416, 24639.10357963081, 26890.072495994093, 27824.26528860529, 26778.860794899538, 21380.40088263123, 15138.280283349994, 10183.396009761904, 7978.087516048398, 8886.501331360138, 14736.229588407572, 19361.31212832943, 22244.317754807853, 24059.204363031182, 27176.806139324086, 29129.71676343756, 26604.78637497686, 21108.49762555209, 15492.60977471185, 13932.268124995675, 15519.690899287489, 16139.518305038157, 17262.38909055041, 17770.49485250241, 17073.5045477088, 11478.536020527334, 9828.901216675833, 8694.385856858886, 6840.273439402815, 7208.6424988507, 7197.262829180836, 6170.591452181324, 6486.602759162897, 6081.872303364454, 6037.366331456261, 6244.81341979535, 6149.685267009382, 5959.693024673567, 5394.826416681913, 4788.616712499668, 5516.869375559242, 6835.178591435957, 8719.162876198534, 12468.998159846582, 13759.526011948312, 14135.400288278994, 14147.213700226626, 12567.993051841735, 10488.123014189665, 7650.073135378664, 5705.811997923766, 5575.9268004034, 5886.131743504369, 7890.415323724146, 10650.345829775506, 13806.45420866894, 16138.743753367473, 17220.363178055373, 16800.8603374972, 14076.222098528033, 11992.354349921718, 11415.164433112099, 9850.218924301258, 13589.577283211735, 16639.294966223337, 19558.49415486098, 21138.617132267973, 18883.863408149253, 16179.381637026505, 15394.290572036249, 13994.037980980824, 12314.037133826823, 8389.367904411734, 9323.955670620719, 11109.883382404789, 11706.623898024009, 12876.034198193409, 13480.651891450043, 13612.50865955549, 14410.416425790616, 16784.184639957104, 17510.35402617313, 18282.90938289343, 17952.44834872803, 22544.402614038245, 22725.074026027727, 23697.015660312492, 24709.089755589033, 20107.663653687305, 16592.040341673743, 16095.360016262815, 14656.19569856606, 14544.654595317492, 14624.149009353534, 14105.347197296764, 14199.006021252277, 18016.20278016658, 15214.055919182761, 16957.923763363226, 20011.127858281758, 22644.884407334423, 24212.892532043294, 25799.418785231228, 27059.398271533133, 27477.106633232725, 26231.212592168577, 30041.318730312087, 34757.73165673498, 36248.272923238685, 35980.463254673654, 32161.416801663512, 25775.958236626328, 21837.535935917575, 20127.86443959698, 18762.32484734949, 14779.75845459299, 13540.056796882292, 13874.931677983914, 13916.763031779154, 13736.568646674777, 11901.053219103658, 9093.446867182996, 7757.216581258219, 7944.787872506141, 9682.083010426615, 9920.988279095189, 11051.6038848414, 10546.68778528, 9792.350790076496, 8146.767670221252, 7264.148665539651, 6925.464142544608, 6974.342387018443, 7309.641331039127, 7529.913593833341, 7547.13651629733, 8225.358982212061, 8024.675424743801, 7510.74651707792, 6701.639396789809, 9246.053654467456, 13543.566042003982, 17028.50609067369, 18415.337621552295, 18407.399944357057, 17708.29561947957, 17416.427441601543, 14667.48670187506, 11670.01048330771, 6094.155148782684, 5206.5863946673535, 5422.638524891925, 5233.29859554203, 6473.5839814805, 7523.435962211501, 7598.998140205443, 8232.870999100625, 9124.44032506556, 9389.903274085838, 10247.872788929324, 10815.619983206274, 11323.886804221484, 12822.791727429973, 11733.280789279066, 11632.226738209616, 11662.1046185929, 11409.91158444865, 10771.061128148129, 10681.941439801956, 10182.561171596479, 7624.145893726729, 9230.415127786675, 11618.42022917926, 13342.607037687147, 13568.08692141212, 12673.102870782799, 12206.893169013174, 11042.898652279708, 9246.61067646661, 8487.198382705801, 7177.620431159273, 7019.131308554986, 7054.176350171497, 7568.412740702235, 7867.392539825629, 8171.226240179242, 8478.51575002904, 9667.027249152035]\n",
      "hit end!\n"
     ]
    }
   ],
   "source": [
    "trained_moedl = trained_a2c\n",
    "df_account_value_a2c, df_actions_a2c = DRLAgent.DRL_prediction(\n",
    "    model=trained_moedl, \n",
    "    environment = e_trade_gym)\n",
    "\n",
    "\n",
    "# print (df_account_value_a2c)\n",
    "\n",
    "# e_trade_gym.risks_memory = []"
   ]
  },
  {
   "cell_type": "code",
   "execution_count": 191,
   "metadata": {},
   "outputs": [
    {
     "name": "stdout",
     "output_type": "stream",
     "text": [
      "[0.05, 1063.4552354564191, 972.3545260883293, 1622.3298333326964, 3129.769555478173, 3105.186587174172, 2938.6022264028466, 3187.6105840986297, 3007.643036567269, 6069.152237981538, 9210.571321565596, 10131.77931895197, 11863.539858064483, 13602.537392079046, 14621.750636989655, 14956.225156570803, 13970.864197916066, 10887.046205458699, 6520.759660327165, 6060.088324642734, 6763.85835596378, 6602.586362348977, 7409.016151956321, 9001.639560492358, 9520.662861365221, 10151.265756314018, 10017.286045536799, 8731.51452103246, 6578.128089504701, 5224.09308270501, 4150.769217614082, 3612.288271096748, 3272.590619739972, 3409.03250888403, 3699.6256757141946, 4536.069223082756, 3926.076388960933, 4172.341121117281, 5136.555405421496, 6479.386811011004, 6613.173507051941, 9688.341428421483, 11568.310567281364, 11449.687392583488, 11279.67309278433, 13217.122789769313, 16641.193256092807, 19099.561696456603, 21812.563237050104, 24351.542768394425, 25220.402466380274, 23152.87197607999, 19733.931080578688, 17477.717795944074, 11580.48420212606, 8754.096363563513, 8146.54457310181, 7689.844953150766, 8211.519441198336, 10712.183364197655, 11550.832801271747, 12337.248127756457, 12993.956527867906, 13710.739660949012, 13185.442045553684, 10715.4151211861, 8510.912145035698, 5979.303460380456, 3294.774061627949, 3423.904807588802, 4261.388562894966, 4886.0157059343865, 5452.69655447037, 6636.717575806602, 8427.974544815643, 10185.169518380648, 12311.277528024155, 13718.821181793273, 13873.61479887128, 13299.720427421084, 12909.80687456194, 11851.938161019558, 9298.230413626972, 8062.798065384125, 9201.482882882467, 13146.453848036512, 14330.214361762293, 14061.081686344109, 13735.788809130858, 14486.980574532534, 13292.272953272619, 8897.223932543799, 8537.17986172841, 10656.679057793668, 12138.49642376087, 12852.85649185085, 14911.035309191995, 16525.97308934374, 17896.832881756774, 18041.91000332212, 16577.897799588125, 14376.249325290022, 12582.053811840578, 12170.843245846576, 10732.170280101302, 9472.014063229666, 9901.966771506673, 10148.204263623616, 10982.952158453169, 10965.699076556208, 10137.20786279313, 9616.945004674151, 9534.688571699118, 10202.310798341212, 11841.31695450176, 14646.76980004237, 17330.188171915193, 18157.237102839368, 18054.582983279273, 16583.427597016725, 14697.357469582777, 13638.667184526477, 10574.404287916683, 10522.555202980619, 11704.973574694066, 11395.00992581826, 11788.844729842896, 10793.30314629007, 10120.581814807832, 7577.194164877319, 8198.68162521733, 9167.758620003486, 8576.598941424694, 8482.473410687238, 8962.26248799799, 7799.9498437752745, 7356.875878414902, 6723.355653604848, 8946.36732195517, 9719.808460776385, 10270.15892049825, 10279.722623889786, 11775.616254980087, 13606.221026731777, 13768.985499368393, 17125.631383272343, 19794.14703708705, 20800.778242695946, 17137.000541105266, 13523.488829392998, 12884.314921821628, 11271.235116200392, 12029.229141550306, 12917.846528523916, 11101.853433135997, 11030.13963231882, 10894.700061327321, 10757.367729382337, 12111.180661595903, 17095.060824530054, 17275.649976047902, 16930.582069996286, 17583.617579714464, 18422.16942344933, 20704.915381719416, 24639.10357963081, 26890.072495994093, 27824.26528860529, 26778.860794899538, 21380.40088263123, 15138.280283349994, 10183.396009761904, 7978.087516048398, 8886.501331360138, 14736.229588407572, 19361.31212832943, 22244.317754807853, 24059.204363031182, 27176.806139324086, 29129.71676343756, 26604.78637497686, 21108.49762555209, 15492.60977471185, 13932.268124995675, 15519.690899287489, 16139.518305038157, 17262.38909055041, 17770.49485250241, 17073.5045477088, 11478.536020527334, 9828.901216675833, 8694.385856858886, 6840.273439402815, 7208.6424988507, 7197.262829180836, 6170.591452181324, 6486.602759162897, 6081.872303364454, 6037.366331456261, 6244.81341979535, 6149.685267009382, 5959.693024673567, 5394.826416681913, 4788.616712499668, 5516.869375559242, 6835.178591435957, 8719.162876198534, 12468.998159846582, 13759.526011948312, 14135.400288278994, 14147.213700226626, 12567.993051841735, 10488.123014189665, 7650.073135378664, 5705.811997923766, 5575.9268004034, 5886.131743504369, 7890.415323724146, 10650.345829775506, 13806.45420866894, 16138.743753367473, 17220.363178055373, 16800.8603374972, 14076.222098528033, 11992.354349921718, 11415.164433112099, 9850.218924301258, 13589.577283211735, 16639.294966223337, 19558.49415486098, 21138.617132267973, 18883.863408149253, 16179.381637026505, 15394.290572036249, 13994.037980980824, 12314.037133826823, 8389.367904411734, 9323.955670620719, 11109.883382404789, 11706.623898024009, 12876.034198193409, 13480.651891450043, 13612.50865955549, 14410.416425790616, 16784.184639957104, 17510.35402617313, 18282.90938289343, 17952.44834872803, 22544.402614038245, 22725.074026027727, 23697.015660312492, 24709.089755589033, 20107.663653687305, 16592.040341673743, 16095.360016262815, 14656.19569856606, 14544.654595317492, 14624.149009353534, 14105.347197296764, 14199.006021252277, 18016.20278016658, 15214.055919182761, 16957.923763363226, 20011.127858281758, 22644.884407334423, 24212.892532043294, 25799.418785231228, 27059.398271533133, 27477.106633232725, 26231.212592168577, 30041.318730312087, 34757.73165673498, 36248.272923238685, 35980.463254673654, 32161.416801663512, 25775.958236626328, 21837.535935917575, 20127.86443959698, 18762.32484734949, 14779.75845459299, 13540.056796882292, 13874.931677983914, 13916.763031779154, 13736.568646674777, 11901.053219103658, 9093.446867182996, 7757.216581258219, 7944.787872506141, 9682.083010426615, 9920.988279095189, 11051.6038848414, 10546.68778528, 9792.350790076496, 8146.767670221252, 7264.148665539651, 6925.464142544608, 6974.342387018443, 7309.641331039127, 7529.913593833341, 7547.13651629733, 8225.358982212061, 8024.675424743801, 7510.74651707792, 6701.639396789809, 9246.053654467456, 13543.566042003982, 17028.50609067369, 18415.337621552295, 18407.399944357057, 17708.29561947957, 17416.427441601543, 14667.48670187506, 11670.01048330771, 6094.155148782684, 5206.5863946673535, 5422.638524891925, 5233.29859554203, 6473.5839814805, 7523.435962211501, 7598.998140205443, 8232.870999100625, 9124.44032506556, 9389.903274085838, 10247.872788929324, 10815.619983206274, 11323.886804221484, 12822.791727429973, 11733.280789279066, 11632.226738209616, 11662.1046185929, 11409.91158444865, 10771.061128148129, 10681.941439801956, 10182.561171596479, 7624.145893726729, 9230.415127786675, 11618.42022917926, 13342.607037687147, 13568.08692141212, 12673.102870782799, 12206.893169013174, 11042.898652279708, 9246.61067646661, 8487.198382705801, 7177.620431159273, 7019.131308554986, 7054.176350171497, 7568.412740702235, 7867.392539825629, 8171.226240179242, 8478.51575002904, 9667.027249152035]\n"
     ]
    },
    {
     "data": {
      "image/png": "[encoded data removed]",
      "text/plain": [
       "<Figure size 1500x500 with 1 Axes>"
      ]
     },
     "metadata": {},
     "output_type": "display_data"
    }
   ],
   "source": [
    "print(e_trade_gym.risks_memory)\n",
    "\n",
    "# print(e_trade_gym.get_risk_mem())\n",
    "\n",
    "#WHY EMPTY?\n",
    "\n",
    "\n",
    "# df_risk_a2c_rc = e_trade_gym.get_risk_mem().set_index(e_trade_gym.get_risk_mem().columns[0])\n",
    "risk_a2c_rc = e_trade_gym.risks_memory\n",
    "\n",
    "\n",
    "result = risk_a2c_rc\n",
    "%matplotlib inline\n",
    "plt.rcParams[\"figure.figsize\"] = (15,5)\n",
    "plt.figure();\n",
    "\n",
    "plt.plot(risk_a2c_rc )\n",
    "e_trade_gym.risks_memory = []"
   ]
  },
  {
   "cell_type": "code",
   "execution_count": 192,
   "metadata": {},
   "outputs": [
    {
     "name": "stdout",
     "output_type": "stream",
     "text": [
      "353\n",
      "risk memory: 352\n",
      "[0.05, 834.6378808022243, 1477.6407511518664, 2093.0366108267795, 3273.1029043831554, 3876.6485444309374, 3725.8483812213112, 3779.021772873084, 3709.958690626837, 5135.291275711095, 10526.782681379298, 14702.484563236476, 17632.320596212103, 19061.536813263127, 20153.462866171194, 20888.12279764683, 19707.49971481888, 17028.034849927182, 11187.521908229848, 6319.868889636785, 6063.587608966928, 6778.814859428275, 9277.888382337738, 9786.11660193271, 8992.090805610569, 8367.92915353998, 7550.736474792618, 6867.394680063002, 6439.515556241388, 6883.600666828985, 6897.206057617731, 7059.370331945515, 6073.277420091985, 6267.663471936684, 6469.91100373948, 6420.5355620080045, 5057.454260147964, 4946.558812805915, 4847.914861688024, 8899.240036136027, 9523.586996280797, 11635.141468411892, 13188.171825861455, 13366.737893450403, 14046.131755508619, 13709.480807286342, 15536.751659947215, 16122.360223007461, 17180.933862435333, 19136.10670609149, 19456.695171071166, 18077.92097509388, 16009.907825366789, 14551.322721875858, 10109.154729985616, 13406.422299562242, 13750.772799154132, 13393.423900657997, 13306.490481131823, 13962.943943699802, 15187.344148846783, 16126.548259455913, 16263.127629143968, 16295.951356182803, 16464.10749822231, 11875.749917246418, 9028.110842503396, 9364.034561621438, 10197.921439099633, 10507.05747959417, 10243.899615063305, 10073.341568010705, 11544.241345075336, 13245.53757157602, 20572.6408817009, 24898.20386163184, 29205.882644518835, 33929.36738420665, 36391.988647169266, 37903.61578901664, 34523.98515445819, 29248.403099225972, 22846.392832453726, 15672.903964985308, 17845.268856465274, 21399.50175978748, 21740.257565615913, 22023.533403318466, 21439.916862593916, 19591.266600640403, 18040.6371810911, 11625.255960267214, 11667.418559119056, 13731.996842549775, 13809.619062993297, 13394.190635277491, 16821.823184330777, 20557.096596873853, 23796.408878127095, 26070.732924010663, 22048.25499583187, 18915.663927091446, 18003.24135500126, 18126.899136804375, 14636.194976276432, 10570.363779654588, 10153.832131900499, 12408.619831653772, 15195.862850748092, 14469.639330517633, 14837.138062698004, 14495.994434255663, 15025.729763438367, 14989.923641558988, 14790.751100020076, 16391.537211920146, 20106.830499161046, 21387.172064199276, 22074.685263198684, 22804.544327322958, 23500.156801580335, 21705.774186881517, 15470.107351266264, 12252.916052183975, 11245.593067362126, 9858.922771855887, 9526.231546918902, 8294.771912163662, 8480.971297199838, 9356.379268372091, 10969.02373468796, 11746.565296338094, 13977.608692052976, 13549.039237837296, 11315.074848096501, 11619.042300895177, 10675.979104337448, 8321.062932167462, 9263.869012437872, 9447.716958915596, 12157.845248615175, 12659.494346364168, 17111.01290639859, 19218.297235075705, 19119.583461061575, 22394.572538171265, 23292.088607841568, 21306.043574710795, 16854.991193255155, 13155.898435564266, 13299.806697667496, 13929.954466332852, 15019.344649545086, 18406.945675663865, 19968.764029604088, 20608.94126779836, 20985.44854174917, 20262.15078026202, 13687.862927225979, 12912.059642568593, 10859.243583688743, 10972.463319759712, 10443.316382399946, 10828.733616342906, 12192.857204036894, 17169.37700486137, 19392.585350654816, 20248.56272673438, 19761.697165855934, 17028.09095992851, 12934.908875040666, 11943.480369424788, 10184.641164020744, 13078.912995035913, 23209.768089175654, 31339.17249762167, 35621.56808270759, 36193.50058058803, 36614.55685157329, 36781.155717443115, 33375.22964631919, 25917.11906603991, 17175.77806501807, 16220.545392186572, 19329.62333546285, 19738.774595676572, 20112.24973375679, 20104.45025353899, 17634.4082052197, 12853.137101453227, 10832.032808910528, 8365.842224928909, 6354.044203872812, 6063.28483340285, 5986.00371476478, 6380.1399974580145, 7706.062384950177, 7828.9559373304555, 7988.996351743259, 13368.993565770406, 17083.305938599693, 21229.95986713325, 23282.263563815588, 24340.254922753847, 23528.469088582773, 22551.385975611734, 19178.79318989728, 19582.505868318305, 15351.743635050472, 14417.50561394741, 15420.526989934311, 16089.88675104334, 15542.547512709354, 14175.544748222697, 9151.311131478533, 11569.087952964335, 13449.722647522736, 16916.90053045933, 19367.082577165478, 18687.5975650842, 19110.908430999687, 18185.091430801753, 15827.46138193125, 13518.748201346332, 12627.353138411332, 14261.815578880181, 14467.677446375516, 18392.08024178534, 21086.42996790456, 22682.29243929599, 22561.8543278402, 19620.699274459937, 17666.794791751552, 18418.142839316195, 17561.540321799872, 15416.292408096773, 8567.905145205053, 9465.093226765433, 12292.221135615988, 14490.497817160762, 16138.901785759004, 17445.442375043007, 17973.741093903405, 18940.363741686633, 20655.850478212345, 21665.402952839213, 21352.082524984944, 17460.653201238692, 19921.067248791835, 19405.056791012288, 20157.24058945632, 22070.644051762374, 18615.781096980525, 16232.595333916095, 15463.675997916902, 14435.730322534408, 14816.539060780824, 15143.02630547425, 15268.712978472297, 15175.919272984507, 16059.828486492845, 13517.654569187538, 14322.936594753524, 15219.561400330353, 15674.64687941044, 16347.611728987942, 19476.08506448992, 23431.157970750934, 25863.278021965813, 25350.15408675025, 26249.821896301015, 27829.50687687777, 28504.45131391276, 28293.336962509395, 24267.807157003135, 16159.949016818313, 12501.828374335964, 12465.095713668403, 15013.771431316076, 14178.361072355861, 18836.810382598855, 23417.961380000546, 25301.83549498141, 26359.133686549096, 25253.261276440517, 20730.322100553578, 16658.966426426363, 13413.790720768242, 12483.796128258718, 4614.910983258688, 5592.074275755035, 5985.729759191176, 6466.072717314071, 7886.901917935554, 7942.420161401657, 7846.534263218756, 8491.81428255831, 11556.072743449678, 13953.17205164525, 14870.51504401302, 15800.164530003987, 16153.276942869397, 16280.325740782879, 14131.673873409049, 16230.523133261171, 17236.069558000643, 19362.26442476496, 21395.855895727895, 21162.923236674535, 21118.133524569355, 20972.874683838476, 18843.141711135704, 14449.440571318692, 7879.157149772967, 6916.67545822114, 6956.541488043739, 7435.307762166201, 9241.104081676347, 6995.020923210316, 6927.750894367537, 8009.454020975343, 11567.801969987888, 14318.32826988029, 17296.570424952395, 17086.610597250667, 16819.34035986858, 16466.28172107822, 14600.107632177203, 14372.997095122182, 14226.02238805423, 14363.417465283981, 13685.285388257456, 11704.313346999788, 6630.897580065068, 8706.060830435432, 9093.056215421382, 9886.800290629217, 9166.717225113121, 9016.955147935774, 9985.083044748593, 8841.334122633178, 8389.02272742173, 7468.180160032781, 5901.222153491215, 5892.834502028335, 5537.009014869799, 5968.826091878715, 6026.534272427795, 8991.96838113524, 10882.235660309736, 11491.933120101614, 13337.179772210005]\n",
      "hit end!\n"
     ]
    }
   ],
   "source": [
    "trained_moedl = trained_a2c_no_rc\n",
    "df_account_value_a2c_no_rc, df_actions_a2c_no_rc = DRLAgent.DRL_prediction(\n",
    "    model=trained_moedl, \n",
    "    environment = e_trade_gym_og)\n",
    "#Train and trade for original RL is in unmodified env\n"
   ]
  },
  {
   "cell_type": "code",
   "execution_count": 193,
   "metadata": {},
   "outputs": [
    {
     "name": "stdout",
     "output_type": "stream",
     "text": [
      "[0.05, 834.6378808022243, 1477.6407511518664, 2093.0366108267795, 3273.1029043831554, 3876.6485444309374, 3725.8483812213112, 3779.021772873084, 3709.958690626837, 5135.291275711095, 10526.782681379298, 14702.484563236476, 17632.320596212103, 19061.536813263127, 20153.462866171194, 20888.12279764683, 19707.49971481888, 17028.034849927182, 11187.521908229848, 6319.868889636785, 6063.587608966928, 6778.814859428275, 9277.888382337738, 9786.11660193271, 8992.090805610569, 8367.92915353998, 7550.736474792618, 6867.394680063002, 6439.515556241388, 6883.600666828985, 6897.206057617731, 7059.370331945515, 6073.277420091985, 6267.663471936684, 6469.91100373948, 6420.5355620080045, 5057.454260147964, 4946.558812805915, 4847.914861688024, 8899.240036136027, 9523.586996280797, 11635.141468411892, 13188.171825861455, 13366.737893450403, 14046.131755508619, 13709.480807286342, 15536.751659947215, 16122.360223007461, 17180.933862435333, 19136.10670609149, 19456.695171071166, 18077.92097509388, 16009.907825366789, 14551.322721875858, 10109.154729985616, 13406.422299562242, 13750.772799154132, 13393.423900657997, 13306.490481131823, 13962.943943699802, 15187.344148846783, 16126.548259455913, 16263.127629143968, 16295.951356182803, 16464.10749822231, 11875.749917246418, 9028.110842503396, 9364.034561621438, 10197.921439099633, 10507.05747959417, 10243.899615063305, 10073.341568010705, 11544.241345075336, 13245.53757157602, 20572.6408817009, 24898.20386163184, 29205.882644518835, 33929.36738420665, 36391.988647169266, 37903.61578901664, 34523.98515445819, 29248.403099225972, 22846.392832453726, 15672.903964985308, 17845.268856465274, 21399.50175978748, 21740.257565615913, 22023.533403318466, 21439.916862593916, 19591.266600640403, 18040.6371810911, 11625.255960267214, 11667.418559119056, 13731.996842549775, 13809.619062993297, 13394.190635277491, 16821.823184330777, 20557.096596873853, 23796.408878127095, 26070.732924010663, 22048.25499583187, 18915.663927091446, 18003.24135500126, 18126.899136804375, 14636.194976276432, 10570.363779654588, 10153.832131900499, 12408.619831653772, 15195.862850748092, 14469.639330517633, 14837.138062698004, 14495.994434255663, 15025.729763438367, 14989.923641558988, 14790.751100020076, 16391.537211920146, 20106.830499161046, 21387.172064199276, 22074.685263198684, 22804.544327322958, 23500.156801580335, 21705.774186881517, 15470.107351266264, 12252.916052183975, 11245.593067362126, 9858.922771855887, 9526.231546918902, 8294.771912163662, 8480.971297199838, 9356.379268372091, 10969.02373468796, 11746.565296338094, 13977.608692052976, 13549.039237837296, 11315.074848096501, 11619.042300895177, 10675.979104337448, 8321.062932167462, 9263.869012437872, 9447.716958915596, 12157.845248615175, 12659.494346364168, 17111.01290639859, 19218.297235075705, 19119.583461061575, 22394.572538171265, 23292.088607841568, 21306.043574710795, 16854.991193255155, 13155.898435564266, 13299.806697667496, 13929.954466332852, 15019.344649545086, 18406.945675663865, 19968.764029604088, 20608.94126779836, 20985.44854174917, 20262.15078026202, 13687.862927225979, 12912.059642568593, 10859.243583688743, 10972.463319759712, 10443.316382399946, 10828.733616342906, 12192.857204036894, 17169.37700486137, 19392.585350654816, 20248.56272673438, 19761.697165855934, 17028.09095992851, 12934.908875040666, 11943.480369424788, 10184.641164020744, 13078.912995035913, 23209.768089175654, 31339.17249762167, 35621.56808270759, 36193.50058058803, 36614.55685157329, 36781.155717443115, 33375.22964631919, 25917.11906603991, 17175.77806501807, 16220.545392186572, 19329.62333546285, 19738.774595676572, 20112.24973375679, 20104.45025353899, 17634.4082052197, 12853.137101453227, 10832.032808910528, 8365.842224928909, 6354.044203872812, 6063.28483340285, 5986.00371476478, 6380.1399974580145, 7706.062384950177, 7828.9559373304555, 7988.996351743259, 13368.993565770406, 17083.305938599693, 21229.95986713325, 23282.263563815588, 24340.254922753847, 23528.469088582773, 22551.385975611734, 19178.79318989728, 19582.505868318305, 15351.743635050472, 14417.50561394741, 15420.526989934311, 16089.88675104334, 15542.547512709354, 14175.544748222697, 9151.311131478533, 11569.087952964335, 13449.722647522736, 16916.90053045933, 19367.082577165478, 18687.5975650842, 19110.908430999687, 18185.091430801753, 15827.46138193125, 13518.748201346332, 12627.353138411332, 14261.815578880181, 14467.677446375516, 18392.08024178534, 21086.42996790456, 22682.29243929599, 22561.8543278402, 19620.699274459937, 17666.794791751552, 18418.142839316195, 17561.540321799872, 15416.292408096773, 8567.905145205053, 9465.093226765433, 12292.221135615988, 14490.497817160762, 16138.901785759004, 17445.442375043007, 17973.741093903405, 18940.363741686633, 20655.850478212345, 21665.402952839213, 21352.082524984944, 17460.653201238692, 19921.067248791835, 19405.056791012288, 20157.24058945632, 22070.644051762374, 18615.781096980525, 16232.595333916095, 15463.675997916902, 14435.730322534408, 14816.539060780824, 15143.02630547425, 15268.712978472297, 15175.919272984507, 16059.828486492845, 13517.654569187538, 14322.936594753524, 15219.561400330353, 15674.64687941044, 16347.611728987942, 19476.08506448992, 23431.157970750934, 25863.278021965813, 25350.15408675025, 26249.821896301015, 27829.50687687777, 28504.45131391276, 28293.336962509395, 24267.807157003135, 16159.949016818313, 12501.828374335964, 12465.095713668403, 15013.771431316076, 14178.361072355861, 18836.810382598855, 23417.961380000546, 25301.83549498141, 26359.133686549096, 25253.261276440517, 20730.322100553578, 16658.966426426363, 13413.790720768242, 12483.796128258718, 4614.910983258688, 5592.074275755035, 5985.729759191176, 6466.072717314071, 7886.901917935554, 7942.420161401657, 7846.534263218756, 8491.81428255831, 11556.072743449678, 13953.17205164525, 14870.51504401302, 15800.164530003987, 16153.276942869397, 16280.325740782879, 14131.673873409049, 16230.523133261171, 17236.069558000643, 19362.26442476496, 21395.855895727895, 21162.923236674535, 21118.133524569355, 20972.874683838476, 18843.141711135704, 14449.440571318692, 7879.157149772967, 6916.67545822114, 6956.541488043739, 7435.307762166201, 9241.104081676347, 6995.020923210316, 6927.750894367537, 8009.454020975343, 11567.801969987888, 14318.32826988029, 17296.570424952395, 17086.610597250667, 16819.34035986858, 16466.28172107822, 14600.107632177203, 14372.997095122182, 14226.02238805423, 14363.417465283981, 13685.285388257456, 11704.313346999788, 6630.897580065068, 8706.060830435432, 9093.056215421382, 9886.800290629217, 9166.717225113121, 9016.955147935774, 9985.083044748593, 8841.334122633178, 8389.02272742173, 7468.180160032781, 5901.222153491215, 5892.834502028335, 5537.009014869799, 5968.826091878715, 6026.534272427795, 8991.96838113524, 10882.235660309736, 11491.933120101614, 13337.179772210005]\n"
     ]
    },
    {
     "data": {
      "image/png": "[encoded data removed]",
      "text/plain": [
       "<Figure size 1500x500 with 1 Axes>"
      ]
     },
     "metadata": {},
     "output_type": "display_data"
    }
   ],
   "source": [
    "print(e_trade_gym_og.risks_memory)\n",
    "\n",
    "# print(e_trade_gym.get_risk_mem())\n",
    "\n",
    "#WHY EMPTY?\n",
    "\n",
    "\n",
    "# df_risk_a2c_rc = e_trade_gym.get_risk_mem().set_index(e_trade_gym.get_risk_mem().columns[0])\n",
    "risk_a2c_no_rc = e_trade_gym_og.risks_memory\n",
    "\n",
    "\n",
    "%matplotlib inline\n",
    "plt.rcParams[\"figure.figsize\"] = (15,5)\n",
    "plt.figure();\n",
    "\n",
    "plt.plot(risk_a2c_no_rc )\n",
    "e_trade_gym_og.risks_memory = []"
   ]
  },
  {
   "cell_type": "code",
   "execution_count": 194,
   "metadata": {},
   "outputs": [
    {
     "data": {
      "image/png": "[encoded data removed]",
      "text/plain": [
       "<Figure size 1500x500 with 1 Axes>"
      ]
     },
     "metadata": {},
     "output_type": "display_data"
    }
   ],
   "source": [
    "plt.figure();\n",
    "plt.ylabel('Short Term Risk')\n",
    "plt.xlabel('Days')\n",
    "plt.title('Performance on Test Set')\n",
    "plt.plot(risk_a2c_rc, label = \"A2C with RC\" )\n",
    "plt.plot(risk_a2c_no_rc, label = \"A2C with no RC\" )\n",
    "plt.legend() \n",
    "plt.show()\n",
    "\n"
   ]
  },
  {
   "cell_type": "code",
   "execution_count": 195,
   "metadata": {
    "colab": {
     "base_uri": "https://localhost:8080/"
    },
    "id": "JbYljWGjj3pH",
    "outputId": "3e682898-d5a5-4664-9469-77b6029cc277"
   },
   "outputs": [],
   "source": [
    "# trained_moedl = trained_ddpg\n",
    "# df_account_value_ddpg, df_actions_ddpg = DRLAgent.DRL_prediction(\n",
    "#     model=trained_moedl, \n",
    "#     environment = e_trade_gym)"
   ]
  },
  {
   "cell_type": "code",
   "execution_count": 196,
   "metadata": {
    "colab": {
     "base_uri": "https://localhost:8080/"
    },
    "id": "74jNP2DBj3hb",
    "outputId": "d5f85887-a738-4699-e886-77d2225dd7eb"
   },
   "outputs": [],
   "source": [
    "# trained_moedl = trained_ppo\n",
    "# df_account_value_ppo, df_actions_ppo = DRLAgent.DRL_prediction(\n",
    "#     model=trained_moedl, \n",
    "#     environment = e_trade_gym)"
   ]
  },
  {
   "cell_type": "code",
   "execution_count": 197,
   "metadata": {
    "colab": {
     "base_uri": "https://localhost:8080/"
    },
    "id": "S7VyGGJPj3SH",
    "outputId": "10165564-7775-4358-c137-7c4ae646df6c"
   },
   "outputs": [],
   "source": [
    "# trained_moedl = trained_td3\n",
    "# df_account_value_td3, df_actions_td3 = DRLAgent.DRL_prediction(\n",
    "#     model=trained_moedl, \n",
    "#     environment = e_trade_gym)"
   ]
  },
  {
   "cell_type": "code",
   "execution_count": 198,
   "metadata": {
    "colab": {
     "base_uri": "https://localhost:8080/"
    },
    "id": "eLOnL5eYh1jR",
    "outputId": "6bdc3498-93b4-42ea-82ff-47ef9e99329c"
   },
   "outputs": [
    {
     "name": "stdout",
     "output_type": "stream",
     "text": [
      "353\n",
      "risk memory: 352\n",
      "[0.05, 1263.2262948837713, 1815.9336976808354, 2520.112952778364, 6069.270514719387, 6960.609774014626, 6573.930750748006, 6157.797189538465, 5840.17418884146, 7665.88821960084, 11380.764879141692, 12124.635350580958, 13267.042452065083, 14884.700847339625, 17193.45027480873, 19204.731873767523, 19829.651421045022, 18452.19280929448, 13142.684099146418, 10430.51876643939, 9592.238167331756, 7774.706698031776, 6772.623057416906, 6562.961713086614, 6598.615457244663, 6585.871474993427, 7297.645244190594, 7086.247926162496, 7562.479704121602, 7300.811587767839, 7192.490451248447, 6918.648582020389, 6163.198540790299, 6448.339607127721, 6783.301402551086, 8613.352137041562, 9908.710482222376, 9378.10695778515, 7888.178404653407, 11501.540874888538, 11248.021389230758, 14506.734759473447, 15711.381108377305, 14723.339623920934, 12918.228418627361, 14139.884431578957, 17022.01662685128, 19491.65031937364, 22160.93374786148, 24686.84674641027, 25914.99269474347, 23792.12999160569, 20410.414057537044, 17299.919461047702, 10849.46224809249, 9528.72847548448, 8745.891312125044, 8487.79025495996, 8839.724558148539, 10205.626475097251, 11704.916457289386, 13057.566521937813, 14277.056164228512, 15097.444914271811, 14903.795282557072, 11484.956311219918, 8616.71557277868, 6673.736336874558, 5744.776299331439, 7791.109252006951, 8731.513132573124, 8886.75643002807, 9356.23389771859, 11003.562942773915, 12469.528745181755, 13318.211061625796, 14531.518649284048, 18366.57005827, 20408.040695369364, 20932.68925831667, 19882.558196926904, 16749.414596824037, 15019.4540351387, 16128.201162518904, 18910.842066259276, 23215.142164586054, 24498.707073365204, 22948.616777827392, 20213.59645353738, 17773.559017739546, 14367.950844480683, 7757.062023544322, 9100.690531649367, 11024.120097390552, 11084.54957265805, 9361.883620447097, 10336.235305607473, 12450.953913145167, 17481.070764202883, 21980.890134451125, 22380.278627948657, 20712.393455674126, 20172.242346620653, 20790.283696402268, 18109.113813654392, 13728.84620264072, 11149.658659527455, 11495.841090306234, 14905.821923310361, 15037.226540808088, 15338.623794995892, 14240.734816742717, 12488.076864707415, 14903.807346756026, 17828.210249812728, 22265.61731205272, 27019.96446908845, 28233.495271069358, 26764.542941131876, 25205.679753235945, 22578.30187724458, 16474.983208452108, 9659.499549441456, 9634.12257500594, 8919.727237676838, 8986.072912467811, 9013.427904288872, 9020.758549258528, 9019.952558529272, 7245.02384239578, 6981.608954894532, 6916.436175169231, 8365.233116211974, 8064.752569963133, 6916.096672027979, 7400.407714622111, 7962.140718270838, 7741.76328546791, 8923.322621419866, 9297.180524870642, 10487.964566277667, 10199.107781432704, 12253.933291460842, 12429.69107555207, 12826.623006512385, 13661.818820672435, 14367.995176071881, 14608.090345359495, 12499.173601038692, 12482.227003181848, 15140.343515442535, 17970.58791185567, 21050.462192533403, 23309.398920581112, 21045.20826225634, 20185.49020005633, 19065.23769579766, 18380.762008823913, 10980.655349729828, 10730.623372896756, 10240.845206158312, 11144.360798530346, 11478.52170461292, 11516.859146362844, 12969.472859936395, 17081.208214263243, 18610.79770274855, 18665.449211330866, 18704.27878463541, 15306.633713910103, 10945.607961285243, 10371.623631133496, 8306.945745596264, 9801.764778574527, 17357.65475711349, 25003.440776997195, 30779.754041152228, 33357.47210389439, 35420.110254260486, 35924.40122823354, 33254.17274329463, 26739.93339578986, 18421.286366357184, 17174.670656721883, 18936.71468193426, 18938.812705205797, 18419.56339784434, 18293.513422769975, 16278.101058164808, 13198.211199511035, 11668.38528525732, 10386.30648767191, 10210.39651128469, 7956.882503051863, 5925.142282476516, 5345.19372459376, 4779.278997776329, 5222.248063564633, 5147.679090135877, 6483.077694786099, 7298.696898584255, 9171.289791552901, 10409.377346508243, 11405.025008425318, 11074.479342223292, 9525.96370054936, 7890.299408915364, 8696.501103505476, 6329.261308158378, 5714.39128128594, 5247.591274844393, 5869.591428362875, 6439.639873692844, 6581.1544447353435, 5986.852337479172, 5726.516946889407, 5684.521964008359, 5953.006625310323, 7522.557908663664, 8247.877237629042, 8607.642889759643, 8799.153443193545, 8750.093512094407, 9290.873290708992, 10402.643974909792, 12013.580883528268, 12096.345567107704, 16722.615211605873, 20164.67940455191, 21465.24737864017, 23137.09558080974, 21335.609087235258, 19593.65804763998, 19141.515000840573, 17668.84229175077, 15367.354539974047, 9183.03475951264, 10469.295811107544, 11471.341931591636, 11962.458277295742, 13167.415219464616, 13866.809385164783, 14376.168631433567, 15622.828181791388, 18687.723351697077, 20231.46098331511, 19081.550865249887, 15665.62797457839, 17859.20621598731, 16404.649832735424, 16197.354303047583, 15946.218476824213, 12330.696602638818, 10427.497185428747, 11236.572168349887, 10873.412004230044, 11171.961951926172, 11726.70369160001, 11781.135594096491, 12214.18181806985, 12632.54984075565, 11595.49577904118, 12076.800856036747, 12152.366879473066, 11215.105442099231, 11352.55781778637, 12994.981813422877, 14982.58304031055, 17530.779960400938, 20353.71305242238, 23993.1765874093, 27971.824588429834, 29480.00895666797, 29691.51499298254, 26181.639218687556, 20596.371054630323, 16789.839906873814, 13939.312853990967, 12546.254042237253, 13337.154977693079, 15329.434045428694, 15025.855777407614, 15801.663569585144, 17724.4035952635, 18531.12594387916, 16555.55005160774, 15386.691283396149, 15138.531004806784, 16250.01138023757, 10294.773683835978, 12129.69260763622, 10797.494424567883, 9108.074967998968, 10509.759685946574, 11168.474009212265, 11334.23184912675, 10054.23807085476, 9608.199840941268, 10108.06669941287, 10313.565010203314, 10765.192747740964, 10854.906183634823, 10446.40236306967, 10313.429262278018, 10345.879236119248, 10218.423184626985, 12006.589308392195, 13270.81951536162, 13425.023987127488, 13975.334625023344, 14160.757677051064, 12764.56829100533, 10376.684776397158, 5244.547736027204, 4451.905746153822, 4729.234362496109, 6837.879768293193, 6341.509880320109, 9432.133699021553, 9685.941348829047, 10498.090583153395, 11571.487766670572, 10954.159536616997, 11125.007668951923, 9296.609318921499, 9056.845872987431, 11834.870790422054, 11787.493353067386, 11887.273060207712, 12181.349966599291, 12015.865973665668, 11212.469491211354, 10406.882392279947, 8484.511021303248, 7829.96161383842, 8697.0765403302, 8506.071207561235, 8283.114934747646, 7772.609102837015, 7030.859249636809, 6658.148206021288, 7228.897598763497, 7851.0244476899215, 7087.201319289665, 7411.315102840695, 7682.125229188812, 7985.454072795481, 7660.219675493023, 11924.026586197333, 13601.052542226993, 14034.187519132416, 15923.408372329473]\n",
      "hit end!\n"
     ]
    }
   ],
   "source": [
    "trained_moedl = trained_sac\n",
    "df_account_value_sac, df_actions_sac = DRLAgent.DRL_prediction(\n",
    "    model=trained_moedl, \n",
    "    environment = e_trade_gym)"
   ]
  },
  {
   "cell_type": "code",
   "execution_count": 199,
   "metadata": {},
   "outputs": [
    {
     "name": "stdout",
     "output_type": "stream",
     "text": [
      "353\n",
      "risk memory: 352\n",
      "[0.05, 1534.4704914093134, 2408.045624948959, 2805.1903907985893, 6467.158669826801, 7502.304560988889, 6957.404316434861, 6570.923596070481, 6293.511323192845, 6781.8390742310885, 9849.897409927577, 11266.414902456227, 12836.519251686466, 14012.335825747055, 15809.389497293976, 17986.354334871652, 18614.76899012717, 17118.887158892685, 12309.880669975133, 8699.91835370797, 7467.434496352043, 6212.798075719966, 5463.573467124894, 5028.32492789318, 4439.141510919558, 4906.175101113266, 5419.806027471727, 5492.418077204869, 4711.93611065493, 4492.04840917949, 4011.5808685575416, 3960.2270023889528, 4149.036149171979, 4393.426015086877, 4350.981057359346, 6319.919310867773, 6872.421574376372, 6545.057621430057, 6541.487735077438, 10437.54970649019, 11573.13469061405, 14435.843806018938, 17824.79484583121, 17324.79997466432, 16034.259345547276, 16426.58605338496, 18333.69087027884, 19070.955473446505, 19663.654342264763, 20602.440201888287, 20547.440228791067, 18905.85374862704, 13282.020527076604, 11128.147404222049, 8026.426114439521, 11857.394287254288, 11558.359817637525, 10950.892171657591, 10742.111492264698, 11596.893526346299, 13389.317006500822, 14748.260981300828, 15512.551232006386, 16051.635192581341, 16186.80182113842, 13084.019142867868, 10600.71147920061, 8500.47566755413, 7287.007581346138, 7714.403909313086, 7703.160301966923, 7828.588698228216, 7834.094867746192, 8439.715184690114, 13149.529841952972, 17129.855603931945, 21158.44665745612, 26124.999328184265, 27884.65877177459, 29711.899592861337, 29903.65758942141, 28757.371929630368, 22984.391114983577, 15439.232398117834, 13914.434366342959, 15936.183186061413, 16905.14251930084, 17447.330796659437, 18304.323058279442, 20113.427574120797, 19874.22261312786, 14705.550209192328, 11071.530219433116, 11243.91031669519, 11316.603067852564, 11530.634358904212, 13437.202559046693, 16086.354594816137, 22627.003437794385, 26712.367052777765, 26390.37270792353, 23681.30284507186, 22577.790576797153, 22673.80687678543, 19014.133195984825, 14336.560545750668, 11390.772655554836, 10885.09665998452, 13463.821952758159, 13137.294454756646, 12918.694975923472, 12140.817158204132, 11170.383505504053, 11931.694443415217, 13860.3976208367, 18185.06621861874, 22334.447009678453, 22160.15766272602, 20258.49580179385, 19236.976112548604, 17823.786615395227, 14436.93014386373, 9480.643171521717, 7638.327011755564, 7665.723906773053, 8244.655910423791, 6918.20592386364, 7048.874234262263, 7307.532583458669, 7955.951201942543, 8352.05640402553, 8356.211172918393, 8357.84232365002, 6876.045008306573, 5191.539718978901, 5351.2880508881335, 5396.970610628546, 7464.407152190371, 10294.914005682638, 9699.279071737963, 11404.765287301618, 12355.219143159917, 16495.65196954728, 21156.27135585508, 22635.302849547013, 28056.552784609154, 30908.570035857483, 29798.30666077432, 23565.120966238494, 18748.943771036164, 17809.097428180794, 16369.068150849149, 17536.19268823974, 20218.553262104735, 20271.984939515605, 20736.411336378376, 20907.30739097532, 19662.15933202073, 15015.307316471628, 14051.330718179492, 12054.767552345427, 11091.84137312054, 10455.96539813341, 10676.943841396092, 12903.236986900582, 17052.78833784468, 19008.029749727524, 19376.90456711403, 19527.593402781837, 17740.895159854797, 14215.979384264549, 12438.753831444397, 9124.73040101581, 8948.708578727168, 16723.665107498673, 25335.105867281123, 30259.932700628127, 31508.249710786757, 31570.36981635026, 31241.73923312775, 27982.80644937279, 21939.704653513636, 15841.52351081026, 16305.040606311204, 19584.637795784372, 19768.963071186245, 19431.508464433875, 19277.66342263916, 17492.559672347157, 12845.987962646957, 10255.228507422225, 7619.0320649113755, 4810.179130793899, 4755.045375126242, 5012.041317848565, 4650.59080879896, 5191.829835186085, 6386.152650443515, 7368.356239340574, 14053.20870581399, 17506.955220465556, 21249.30453463965, 22861.728327345478, 23409.225845686044, 22550.326577026888, 19954.65238869766, 14664.571381400328, 12766.626106299513, 8308.502782326474, 7893.111014735914, 8695.563901349415, 8980.267353928646, 8922.752594608774, 9219.04610494516, 6582.42865490678, 7903.004804162061, 8864.502423219134, 11609.355714775149, 14056.439605451396, 16173.951087575766, 17031.783838122734, 16358.824442316445, 14381.604232582662, 13354.811589532232, 13182.07738059515, 14221.074711710758, 14185.002475913103, 17340.910192913845, 19337.7468332921, 19592.02589797112, 19504.075947038997, 16878.39362317323, 15312.87231160286, 15888.559412882649, 15284.267386211597, 13691.143714475982, 8837.240377918566, 9381.43586647073, 12870.55832060528, 15249.390974730764, 16428.611052798813, 17796.367704159944, 18373.717206533966, 19625.548992721433, 21223.012169325244, 21289.090673007155, 20964.925704870544, 19139.93842537136, 22128.781439377333, 21430.120770887417, 20680.838582363955, 20774.024354344918, 16755.090001286466, 15847.880549356178, 16249.746126484324, 16379.308277569124, 16353.617672033459, 15392.688999379932, 13933.3189796968, 13934.453058416279, 14118.507386530602, 10672.436451901915, 11348.410612796131, 13018.56958298139, 13925.911779981168, 14556.037115590347, 16898.693012593696, 20313.148931660147, 23183.048914579453, 22407.671299630205, 23519.094236294644, 24553.513730803887, 25125.74811555022, 25169.756709205354, 22207.81271232499, 15436.19633884238, 12534.487879435364, 14494.859722764646, 18806.44796698162, 17695.639565320496, 22138.566311676, 24969.013645014275, 24750.82844673286, 23854.25080516972, 21216.296483766146, 16758.86503613402, 12420.391677079962, 10157.673539481191, 10702.55974696035, 7690.269769129121, 10415.168456148054, 10529.24072927428, 9446.557114275702, 11045.898719115252, 10637.96845232352, 9871.584174892045, 9058.622061750588, 8784.042770935914, 9629.05663474114, 9928.92757084395, 10561.746749749036, 10465.991522529153, 10377.505837704257, 8674.949991342664, 10452.451186231256, 11184.402183013563, 12768.406666905697, 14230.566962879388, 14116.728875898536, 14177.02173165077, 14302.120301960738, 12553.806596930759, 9688.603403766283, 5328.471544030604, 5130.556944444067, 5123.637238653215, 5270.137758223371, 5026.407329988825, 6274.746187225513, 7019.203318192242, 8111.734976014963, 10882.837150111563, 13137.370987005492, 14930.925553346417, 13766.143982231313, 13627.098744092822, 14899.175353999362, 15282.246125745563, 15731.245174175738, 15822.678345319693, 15899.641152142722, 14998.473138824529, 12130.454186212224, 5948.755545300572, 8126.336932834409, 9533.275448813449, 8821.332730441984, 7245.620920284235, 6782.790589616382, 6907.616859514102, 6708.187015253742, 6934.615405537204, 6584.740805343794, 6597.041144974738, 6312.936523215514, 6408.576818274208, 6565.242499964086, 6108.044956741366, 9367.871636849239, 11950.682306004088, 12898.909169296638, 15635.909190753162]\n",
      "hit end!\n"
     ]
    }
   ],
   "source": [
    "trained_moedl = trained_sac_no_rc\n",
    "df_account_value_sac_no_rc, df_actions_sac_no_rc = DRLAgent.DRL_prediction(\n",
    "    model=trained_moedl, \n",
    "    environment = e_trade_gym_og)"
   ]
  },
  {
   "cell_type": "code",
   "execution_count": 200,
   "metadata": {
    "colab": {
     "base_uri": "https://localhost:8080/"
    },
    "id": "ERxw3KqLkcP4",
    "outputId": "52dbeacc-617a-4553-d4a9-8692b988a240"
   },
   "outputs": [
    {
     "data": {
      "text/plain": [
       "(353, 2)"
      ]
     },
     "execution_count": 200,
     "metadata": {},
     "output_type": "execute_result"
    }
   ],
   "source": [
    "df_account_value_a2c.shape"
   ]
  },
  {
   "cell_type": "markdown",
   "metadata": {
    "id": "GcE-t08w6DaW"
   },
   "source": [
    "<a id='7'></a>\n",
    "# Part 6.5: Mean Variance Optimization"
   ]
  },
  {
   "cell_type": "code",
   "execution_count": 201,
   "metadata": {
    "colab": {
     "base_uri": "https://localhost:8080/",
     "height": 206
    },
    "id": "_b1vKXKgSe4G",
    "outputId": "35956c2d-8251-468d-ca1c-81e73aa772a1"
   },
   "outputs": [
    {
     "data": {
      "text/html": [
       "<div>\n",
       "<style scoped>\n",
       "    .dataframe tbody tr th:only-of-type {\n",
       "        vertical-align: middle;\n",
       "    }\n",
       "\n",
       "    .dataframe tbody tr th {\n",
       "        vertical-align: top;\n",
       "    }\n",
       "\n",
       "    .dataframe thead th {\n",
       "        text-align: right;\n",
       "    }\n",
       "</style>\n",
       "<table border=\"1\" class=\"dataframe\">\n",
       "  <thead>\n",
       "    <tr style=\"text-align: right;\">\n",
       "      <th></th>\n",
       "      <th>date</th>\n",
       "      <th>tic</th>\n",
       "      <th>close</th>\n",
       "    </tr>\n",
       "  </thead>\n",
       "  <tbody>\n",
       "    <tr>\n",
       "      <th>0</th>\n",
       "      <td>2010-01-04</td>\n",
       "      <td>AAPL</td>\n",
       "      <td>6.470740</td>\n",
       "    </tr>\n",
       "    <tr>\n",
       "      <th>1</th>\n",
       "      <td>2010-01-04</td>\n",
       "      <td>AMGN</td>\n",
       "      <td>41.493420</td>\n",
       "    </tr>\n",
       "    <tr>\n",
       "      <th>2</th>\n",
       "      <td>2010-01-04</td>\n",
       "      <td>AXP</td>\n",
       "      <td>33.090439</td>\n",
       "    </tr>\n",
       "    <tr>\n",
       "      <th>3</th>\n",
       "      <td>2010-01-04</td>\n",
       "      <td>BA</td>\n",
       "      <td>43.777565</td>\n",
       "    </tr>\n",
       "    <tr>\n",
       "      <th>4</th>\n",
       "      <td>2010-01-04</td>\n",
       "      <td>CAT</td>\n",
       "      <td>40.190216</td>\n",
       "    </tr>\n",
       "  </tbody>\n",
       "</table>\n",
       "</div>"
      ],
      "text/plain": [
       "         date   tic      close\n",
       "0  2010-01-04  AAPL   6.470740\n",
       "1  2010-01-04  AMGN  41.493420\n",
       "2  2010-01-04   AXP  33.090439\n",
       "3  2010-01-04    BA  43.777565\n",
       "4  2010-01-04   CAT  40.190216"
      ]
     },
     "execution_count": 201,
     "metadata": {},
     "output_type": "execute_result"
    }
   ],
   "source": [
    "mvo_df.head()"
   ]
  },
  {
   "cell_type": "code",
   "execution_count": 202,
   "metadata": {
    "id": "fE2YWB0WBDVu"
   },
   "outputs": [],
   "source": [
    "fst = mvo_df\n",
    "fst = fst.iloc[0*29:0*29+29, :]\n",
    "tic = fst['tic'].tolist()\n",
    "\n",
    "mvo = pd.DataFrame()\n",
    "\n",
    "for k in range(len(tic)):\n",
    "  mvo[tic[k]] = 0\n",
    "\n",
    "for i in range(mvo_df.shape[0]//29):\n",
    "  n = mvo_df\n",
    "  n = n.iloc[i*29:i*29+29, :]\n",
    "  date = n['date'][i*29]\n",
    "  mvo.loc[date] = n['close'].tolist()"
   ]
  },
  {
   "cell_type": "code",
   "execution_count": 203,
   "metadata": {
    "colab": {
     "base_uri": "https://localhost:8080/"
    },
    "id": "9K2xfyh_VcXo",
    "outputId": "9a16e998-4e75-4d1f-e83d-a0346d3e7463"
   },
   "outputs": [
    {
     "data": {
      "text/plain": [
       "3310"
      ]
     },
     "execution_count": 203,
     "metadata": {},
     "output_type": "execute_result"
    }
   ],
   "source": [
    "mvo.shape[0]"
   ]
  },
  {
   "cell_type": "markdown",
   "metadata": {
    "id": "SwEwkHJ1d_6u"
   },
   "source": [
    "### Helper functions"
   ]
  },
  {
   "cell_type": "code",
   "execution_count": 204,
   "metadata": {
    "id": "kayNWPWn6Kz2"
   },
   "outputs": [],
   "source": [
    "from scipy import optimize \n",
    "from scipy.optimize import linprog\n",
    "\n",
    "#function obtains maximal return portfolio using linear programming\n",
    "\n",
    "def MaximizeReturns(MeanReturns, PortfolioSize):\n",
    "    \n",
    "  #dependencies\n",
    "  \n",
    "    \n",
    "  c = (np.multiply(-1, MeanReturns))\n",
    "  A = np.ones([PortfolioSize,1]).T\n",
    "  b=[1]\n",
    "  res = linprog(c, A_ub = A, b_ub = b, bounds = (0,1), method = 'simplex') \n",
    "    \n",
    "  return res\n",
    "\n",
    "def MinimizeRisk(CovarReturns, PortfolioSize):\n",
    "    \n",
    "  def f(x, CovarReturns):\n",
    "    func = np.matmul(np.matmul(x, CovarReturns), x.T) \n",
    "    return func\n",
    "\n",
    "  def constraintEq(x):\n",
    "    A=np.ones(x.shape)\n",
    "    b=1\n",
    "    constraintVal = np.matmul(A,x.T)-b \n",
    "    return constraintVal\n",
    "    \n",
    "  xinit=np.repeat(0.1, PortfolioSize)\n",
    "  cons = ({'type': 'eq', 'fun':constraintEq})\n",
    "  lb = 0\n",
    "  ub = 1\n",
    "  bnds = tuple([(lb,ub) for x in xinit])\n",
    "\n",
    "  opt = optimize.minimize (f, x0 = xinit, args = (CovarReturns),  bounds = bnds, \\\n",
    "                             constraints = cons, tol = 10**-3)\n",
    "    \n",
    "  return opt\n",
    "\n",
    "def MinimizeRiskConstr(MeanReturns, CovarReturns, PortfolioSize, R):\n",
    "    \n",
    "  def  f(x,CovarReturns):\n",
    "         \n",
    "    func = np.matmul(np.matmul(x,CovarReturns ), x.T)\n",
    "    return func\n",
    "\n",
    "  def constraintEq(x):\n",
    "    AEq=np.ones(x.shape)\n",
    "    bEq=1\n",
    "    EqconstraintVal = np.matmul(AEq,x.T)-bEq \n",
    "    return EqconstraintVal\n",
    "    \n",
    "  def constraintIneq(x, MeanReturns, R):\n",
    "    AIneq = np.array(MeanReturns)\n",
    "    bIneq = R\n",
    "    IneqconstraintVal = np.matmul(AIneq,x.T) - bIneq\n",
    "    return IneqconstraintVal\n",
    "    \n",
    "\n",
    "  xinit=np.repeat(0.1, PortfolioSize)\n",
    "  cons = ({'type': 'eq', 'fun':constraintEq},\n",
    "          {'type':'ineq', 'fun':constraintIneq, 'args':(MeanReturns,R) })\n",
    "  lb = 0\n",
    "  ub = 1\n",
    "  bnds = tuple([(lb,ub) for x in xinit])\n",
    "\n",
    "  opt = optimize.minimize (f, args = (CovarReturns), method ='trust-constr',  \\\n",
    "                x0 = xinit,   bounds = bnds, constraints = cons, tol = 10**-3)\n",
    "    \n",
    "  return opt"
   ]
  },
  {
   "cell_type": "code",
   "execution_count": 205,
   "metadata": {
    "id": "6KvXkpyE8MFq"
   },
   "outputs": [],
   "source": [
    "def StockReturnsComputing(StockPrice, Rows, Columns): \n",
    "  import numpy as np \n",
    "  StockReturn = np.zeros([Rows-1, Columns]) \n",
    "  for j in range(Columns):        # j: Assets \n",
    "    for i in range(Rows-1):     # i: Daily Prices \n",
    "      StockReturn[i,j]=((StockPrice[i+1, j]-StockPrice[i,j])/StockPrice[i,j])* 100 \n",
    "      \n",
    "  return StockReturn"
   ]
  },
  {
   "cell_type": "markdown",
   "metadata": {
    "id": "IeVVbuwveJ_5"
   },
   "source": [
    "### Calculate mean returns and variance-covariance matrix"
   ]
  },
  {
   "cell_type": "code",
   "execution_count": 206,
   "metadata": {
    "colab": {
     "base_uri": "https://localhost:8080/"
    },
    "id": "Q2G1phEm_Ut3",
    "outputId": "ce7c4d13-3adf-47d2-dfe1-0574637e94c3"
   },
   "outputs": [
    {
     "data": {
      "text/plain": [
       "array([[147.23 , 192.382, 174.921, ...,  45.37 ,  42.184,  47.727],\n",
       "       [146.767, 190.446, 172.098, ...,  44.985,  41.145,  47.336],\n",
       "       [150.435, 190.99 , 168.792, ...,  45.13 ,  41.128,  47.631],\n",
       "       ...,\n",
       "       [148.607, 229.888, 172.095, ...,  35.282,  33.843,  46.493],\n",
       "       [145.931, 226.057, 171.22 , ...,  35.474,  33.46 ,  46.618],\n",
       "       [147.135, 226.821, 170.287, ...,  35.602,  33.077,  46.281]])"
      ]
     },
     "execution_count": 206,
     "metadata": {},
     "output_type": "execute_result"
    }
   ],
   "source": [
    "# Obtain optimal portfolio sets that maximize return and minimize risk\n",
    "\n",
    "#Dependencies\n",
    "import numpy as np\n",
    "import pandas as pd\n",
    "\n",
    "\n",
    "#input k-portfolio 1 dataset comprising 15 stocks\n",
    "# StockFileName = './DJIA_Apr112014_Apr112019_kpf1.csv'\n",
    "\n",
    "Rows = 1259  #excluding header\n",
    "Columns = 15  #excluding date\n",
    "portfolioSize = 29 #set portfolio size\n",
    "\n",
    "#read stock prices in a dataframe\n",
    "# df = pd.read_csv(StockFileName,  nrows= Rows)\n",
    "\n",
    "#extract asset labels\n",
    "# assetLabels = df.columns[1:Columns+1].tolist()\n",
    "# print(assetLabels)\n",
    "\n",
    "#extract asset prices\n",
    "# StockData = df.iloc[0:, 1:]\n",
    "StockData = mvo.head(mvo.shape[0]-336)\n",
    "TradeData = mvo.tail(336)\n",
    "# df.head()\n",
    "TradeData.to_numpy()\n"
   ]
  },
  {
   "cell_type": "code",
   "execution_count": 207,
   "metadata": {
    "colab": {
     "base_uri": "https://localhost:8080/"
    },
    "id": "u6_O6vrn_uD4",
    "outputId": "f41663c0-db5b-4154-a801-924050e1813b"
   },
   "outputs": [
    {
     "name": "stdout",
     "output_type": "stream",
     "text": [
      "Mean returns of assets in k-portfolio 1\n",
      " [0.121 0.063 0.073 0.078 0.069 0.118 0.052 0.043 0.073 0.052 0.106 0.078\n",
      " 0.022 0.057 0.049 0.073 0.04  0.063 0.048 0.05  0.098 0.096 0.046 0.059\n",
      " 0.109 0.095 0.042 0.035 0.051]\n",
      "Variance-Covariance matrix of returns\n",
      " [[3.128 1.014 1.29  1.521 1.371 1.689 1.375 1.125 1.088 1.374 1.163 1.221\n",
      "  1.03  1.525 0.692 1.269 0.664 0.816 1.029 0.733 1.576 1.139 0.668 0.86\n",
      "  1.144 1.338 0.525 0.908 0.635]\n",
      " [1.014 2.4   1.072 1.01  1.066 1.211 1.025 0.965 0.937 1.122 0.978 1.029\n",
      "  0.851 1.153 0.891 1.14  0.641 0.664 0.906 1.072 1.088 0.873 0.724 0.854\n",
      "  1.146 1.056 0.631 1.025 0.645]\n",
      " [1.29  1.072 3.315 2.475 1.907 1.568 1.428 1.922 1.715 2.237 1.376 1.847\n",
      "  1.343 1.508 0.861 2.37  0.99  1.075 1.375 0.964 1.357 1.418 0.728 1.505\n",
      "  1.417 1.8   0.748 1.216 0.584]\n",
      " [1.521 1.01  2.475 4.962 2.117 1.687 1.511 2.143 1.838 2.201 1.527 2.121\n",
      "  1.532 1.699 0.905 2.296 1.117 1.195 1.461 0.949 1.437 1.573 0.748 1.604\n",
      "  1.472 1.716 0.734 1.362 0.603]\n",
      " [1.371 1.066 1.907 2.117 3.331 1.613 1.519 1.887 1.471 1.998 1.239 1.868\n",
      "  1.355 1.566 0.826 2.039 0.848 0.855 1.584 0.918 1.331 1.292 0.682 1.269\n",
      "  1.221 1.408 0.739 1.226 0.613]\n",
      " [1.689 1.211 1.568 1.687 1.613 5.041 1.65  1.257 1.352 1.604 1.358 1.44\n",
      "  1.185 1.637 0.756 1.564 0.738 0.984 1.15  0.91  1.853 1.493 0.657 1.042\n",
      "  1.204 1.722 0.563 1.017 0.621]\n",
      " [1.375 1.025 1.428 1.511 1.519 1.65  2.796 1.303 1.264 1.5   1.133 1.355\n",
      "  1.245 1.583 0.843 1.511 0.728 0.823 1.214 0.881 1.481 1.145 0.74  1.002\n",
      "  1.098 1.31  0.655 1.065 0.686]\n",
      " [1.125 0.965 1.922 2.143 1.887 1.257 1.303 2.92  1.389 1.826 1.201 1.64\n",
      "  1.275 1.386 0.836 1.942 0.919 0.993 1.263 0.963 1.203 1.136 0.686 1.361\n",
      "  1.296 1.381 0.74  1.06  0.518]\n",
      " [1.088 0.937 1.715 1.838 1.471 1.352 1.264 1.389 2.458 1.614 1.152 1.464\n",
      "  1.058 1.228 0.701 1.68  0.829 0.863 1.117 0.775 1.15  1.197 0.663 1.097\n",
      "  1.058 1.313 0.66  0.994 0.574]\n",
      " [1.374 1.122 2.237 2.201 1.998 1.604 1.5   1.826 1.614 3.375 1.351 1.724\n",
      "  1.317 1.564 0.83  2.724 0.825 0.939 1.409 0.959 1.418 1.32  0.693 1.496\n",
      "  1.383 1.53  0.717 1.231 0.615]\n",
      " [1.163 0.978 1.376 1.527 1.239 1.358 1.133 1.201 1.152 1.351 2.058 1.239\n",
      "  0.99  1.243 0.691 1.364 0.73  0.91  1.032 0.762 1.205 1.202 0.691 1.078\n",
      "  1.14  1.207 0.628 0.915 0.723]\n",
      " [1.221 1.029 1.847 2.121 1.868 1.44  1.355 1.64  1.464 1.724 1.239 2.179\n",
      "  1.209 1.36  0.827 1.822 0.91  0.925 1.413 0.898 1.249 1.301 0.694 1.25\n",
      "  1.255 1.407 0.694 1.142 0.575]\n",
      " [1.03  0.851 1.343 1.532 1.355 1.185 1.245 1.275 1.058 1.317 0.99  1.209\n",
      "  2.009 1.281 0.706 1.37  0.77  0.749 1.08  0.782 1.123 0.947 0.664 0.995\n",
      "  1.003 1.106 0.644 0.958 0.541]\n",
      " [1.525 1.153 1.508 1.699 1.566 1.637 1.583 1.386 1.228 1.564 1.243 1.36\n",
      "  1.281 3.282 0.787 1.563 0.786 0.798 1.179 0.857 1.695 1.123 0.722 1.122\n",
      "  1.148 1.329 0.674 1.083 0.7  ]\n",
      " [0.692 0.891 0.861 0.905 0.826 0.756 0.843 0.836 0.701 0.83  0.691 0.827\n",
      "  0.706 0.787 1.121 0.878 0.611 0.561 0.788 0.777 0.784 0.683 0.637 0.693\n",
      "  0.833 0.795 0.566 0.779 0.521]\n",
      " [1.269 1.14  2.37  2.296 2.039 1.564 1.511 1.942 1.68  2.724 1.364 1.822\n",
      "  1.37  1.563 0.878 3.233 0.93  0.961 1.429 1.024 1.376 1.344 0.737 1.621\n",
      "  1.4   1.559 0.807 1.285 0.635]\n",
      " [0.664 0.641 0.99  1.117 0.848 0.738 0.728 0.919 0.829 0.825 0.73  0.91\n",
      "  0.77  0.786 0.611 0.93  1.195 0.653 0.759 0.634 0.744 0.733 0.689 0.832\n",
      "  0.735 0.807 0.59  0.681 0.489]\n",
      " [0.816 0.664 1.075 1.195 0.855 0.984 0.823 0.993 0.863 0.939 0.91  0.925\n",
      "  0.749 0.798 0.561 0.961 0.653 1.421 0.75  0.641 0.874 0.907 0.543 0.888\n",
      "  0.808 0.943 0.481 0.605 0.468]\n",
      " [1.029 0.906 1.375 1.461 1.584 1.15  1.214 1.263 1.117 1.409 1.032 1.413\n",
      "  1.08  1.179 0.788 1.429 0.759 0.75  1.822 0.754 1.027 1.036 0.649 1.03\n",
      "  1.004 1.119 0.63  1.024 0.558]\n",
      " [0.733 1.072 0.964 0.949 0.918 0.91  0.881 0.963 0.775 0.959 0.762 0.898\n",
      "  0.782 0.857 0.777 1.024 0.634 0.641 0.754 1.69  0.853 0.754 0.621 0.821\n",
      "  0.921 0.888 0.629 0.784 0.518]\n",
      " [1.576 1.088 1.357 1.437 1.331 1.853 1.481 1.203 1.15  1.418 1.205 1.249\n",
      "  1.123 1.695 0.784 1.376 0.744 0.874 1.027 0.853 2.495 1.16  0.751 0.989\n",
      "  1.19  1.407 0.636 0.963 0.704]\n",
      " [1.139 0.873 1.418 1.573 1.292 1.493 1.145 1.136 1.197 1.32  1.202 1.301\n",
      "  0.947 1.123 0.683 1.344 0.733 0.907 1.036 0.754 1.16  2.688 0.628 0.981\n",
      "  1.086 1.275 0.561 0.879 0.582]\n",
      " [0.668 0.724 0.728 0.748 0.682 0.657 0.74  0.686 0.663 0.693 0.691 0.694\n",
      "  0.664 0.722 0.637 0.737 0.689 0.543 0.649 0.621 0.751 0.628 1.146 0.676\n",
      "  0.666 0.69  0.576 0.689 0.601]\n",
      " [0.86  0.854 1.505 1.604 1.269 1.042 1.002 1.361 1.097 1.496 1.078 1.25\n",
      "  0.995 1.122 0.693 1.621 0.832 0.888 1.03  0.821 0.989 0.981 0.676 1.974\n",
      "  1.089 1.116 0.7   0.922 0.588]\n",
      " [1.144 1.146 1.417 1.472 1.221 1.204 1.098 1.296 1.058 1.383 1.14  1.255\n",
      "  1.003 1.148 0.833 1.4   0.735 0.808 1.004 0.921 1.19  1.086 0.666 1.089\n",
      "  2.628 1.185 0.61  1.003 0.618]\n",
      " [1.338 1.056 1.8   1.716 1.408 1.722 1.31  1.381 1.313 1.53  1.207 1.407\n",
      "  1.106 1.329 0.795 1.559 0.807 0.943 1.119 0.888 1.407 1.275 0.69  1.116\n",
      "  1.185 2.579 0.606 0.924 0.572]\n",
      " [0.525 0.631 0.748 0.734 0.739 0.563 0.655 0.74  0.66  0.717 0.628 0.694\n",
      "  0.644 0.674 0.566 0.807 0.59  0.481 0.63  0.629 0.636 0.561 0.576 0.7\n",
      "  0.61  0.606 1.194 0.662 0.51 ]\n",
      " [0.908 1.025 1.216 1.362 1.226 1.017 1.065 1.06  0.994 1.231 0.915 1.142\n",
      "  0.958 1.083 0.779 1.285 0.681 0.605 1.024 0.784 0.963 0.879 0.689 0.922\n",
      "  1.003 0.924 0.662 3.14  0.709]\n",
      " [0.635 0.645 0.584 0.603 0.613 0.621 0.686 0.518 0.574 0.615 0.723 0.575\n",
      "  0.541 0.7   0.521 0.635 0.489 0.468 0.558 0.518 0.704 0.582 0.601 0.588\n",
      "  0.618 0.572 0.51  0.709 1.406]]\n"
     ]
    }
   ],
   "source": [
    "#compute asset returns\n",
    "arStockPrices = np.asarray(StockData)\n",
    "[Rows, Cols]=arStockPrices.shape\n",
    "arReturns = StockReturnsComputing(arStockPrices, Rows, Cols)\n",
    "\n",
    "\n",
    "#compute mean returns and variance covariance matrix of returns\n",
    "meanReturns = np.mean(arReturns, axis = 0)\n",
    "covReturns = np.cov(arReturns, rowvar=False)\n",
    " \n",
    "#set precision for printing results\n",
    "np.set_printoptions(precision=3, suppress = True)\n",
    "\n",
    "#display mean returns and variance-covariance matrix of returns\n",
    "print('Mean returns of assets in k-portfolio 1\\n', meanReturns)\n",
    "print('Variance-Covariance matrix of returns\\n', covReturns)\n"
   ]
  },
  {
   "cell_type": "code",
   "execution_count": 208,
   "metadata": {
    "colab": {
     "base_uri": "https://localhost:8080/"
    },
    "id": "b1btTONEdCU4",
    "outputId": "71544f9d-b695-4468-e573-e85135692c1f"
   },
   "outputs": [
    {
     "data": {
      "text/plain": [
       "array([268510.,      0.,      0.,      0.,      0.,  67170.,      0.,\n",
       "            0.,      0.,      0., 328490.,      0.,      0.,      0.,\n",
       "            0.,      0.,      0.,      0.,      0.,      0.,      0.,\n",
       "        80330.,      0.,      0., 249920.,   5570.,      0.,      0.,\n",
       "            0.])"
      ]
     },
     "execution_count": 208,
     "metadata": {},
     "output_type": "execute_result"
    }
   ],
   "source": [
    "from pypfopt.efficient_frontier import EfficientFrontier\n",
    "\n",
    "ef_mean = EfficientFrontier(meanReturns, covReturns, weight_bounds=(0, 0.5))\n",
    "raw_weights_mean = ef_mean.max_sharpe()\n",
    "cleaned_weights_mean = ef_mean.clean_weights()\n",
    "mvo_weights = np.array([1000000 * cleaned_weights_mean[i] for i in range(29)])\n",
    "mvo_weights"
   ]
  },
  {
   "cell_type": "code",
   "execution_count": 209,
   "metadata": {
    "colab": {
     "base_uri": "https://localhost:8080/",
     "height": 191
    },
    "id": "N6tTAjAvgFtO",
    "outputId": "9f16c93f-36fb-4e19-f8fb-5c8428e55351"
   },
   "outputs": [
    {
     "data": {
      "text/html": [
       "<div>\n",
       "<style scoped>\n",
       "    .dataframe tbody tr th:only-of-type {\n",
       "        vertical-align: middle;\n",
       "    }\n",
       "\n",
       "    .dataframe tbody tr th {\n",
       "        vertical-align: top;\n",
       "    }\n",
       "\n",
       "    .dataframe thead th {\n",
       "        text-align: right;\n",
       "    }\n",
       "</style>\n",
       "<table border=\"1\" class=\"dataframe\">\n",
       "  <thead>\n",
       "    <tr style=\"text-align: right;\">\n",
       "      <th></th>\n",
       "      <th>AAPL</th>\n",
       "      <th>AMGN</th>\n",
       "      <th>AXP</th>\n",
       "      <th>BA</th>\n",
       "      <th>CAT</th>\n",
       "      <th>CRM</th>\n",
       "      <th>CSCO</th>\n",
       "      <th>CVX</th>\n",
       "      <th>DIS</th>\n",
       "      <th>GS</th>\n",
       "      <th>...</th>\n",
       "      <th>MRK</th>\n",
       "      <th>MSFT</th>\n",
       "      <th>NKE</th>\n",
       "      <th>PG</th>\n",
       "      <th>TRV</th>\n",
       "      <th>UNH</th>\n",
       "      <th>V</th>\n",
       "      <th>VZ</th>\n",
       "      <th>WBA</th>\n",
       "      <th>WMT</th>\n",
       "    </tr>\n",
       "  </thead>\n",
       "  <tbody>\n",
       "    <tr>\n",
       "      <th>2021-10-25</th>\n",
       "      <td>146.559677</td>\n",
       "      <td>191.414337</td>\n",
       "      <td>176.235535</td>\n",
       "      <td>212.869995</td>\n",
       "      <td>192.009796</td>\n",
       "      <td>293.53656</td>\n",
       "      <td>51.054256</td>\n",
       "      <td>103.400612</td>\n",
       "      <td>171.451218</td>\n",
       "      <td>386.877533</td>\n",
       "      <td>...</td>\n",
       "      <td>75.759422</td>\n",
       "      <td>301.476532</td>\n",
       "      <td>159.543259</td>\n",
       "      <td>132.339645</td>\n",
       "      <td>153.064957</td>\n",
       "      <td>434.091187</td>\n",
       "      <td>229.462723</td>\n",
       "      <td>44.942249</td>\n",
       "      <td>42.978928</td>\n",
       "      <td>48.147533</td>\n",
       "    </tr>\n",
       "  </tbody>\n",
       "</table>\n",
       "<p>1 rows × 29 columns</p>\n",
       "</div>"
      ],
      "text/plain": [
       "                  AAPL        AMGN         AXP          BA         CAT  \\\n",
       "2021-10-25  146.559677  191.414337  176.235535  212.869995  192.009796   \n",
       "\n",
       "                  CRM       CSCO         CVX         DIS          GS  ...  \\\n",
       "2021-10-25  293.53656  51.054256  103.400612  171.451218  386.877533  ...   \n",
       "\n",
       "                  MRK        MSFT         NKE          PG         TRV  \\\n",
       "2021-10-25  75.759422  301.476532  159.543259  132.339645  153.064957   \n",
       "\n",
       "                   UNH           V         VZ        WBA        WMT  \n",
       "2021-10-25  434.091187  229.462723  44.942249  42.978928  48.147533  \n",
       "\n",
       "[1 rows x 29 columns]"
      ]
     },
     "execution_count": 209,
     "metadata": {},
     "output_type": "execute_result"
    }
   ],
   "source": [
    "StockData.tail(1)"
   ]
  },
  {
   "cell_type": "code",
   "execution_count": 210,
   "metadata": {
    "colab": {
     "base_uri": "https://localhost:8080/"
    },
    "id": "F38NJRJJgOmj",
    "outputId": "5b0ef1d6-61d7-4525-fe5a-1cba0d9a2836"
   },
   "outputs": [
    {
     "data": {
      "text/plain": [
       "array([1832.086,    0.   ,    0.   ,    0.   ,    0.   ,  228.83 ,\n",
       "          0.   ,    0.   ,    0.   ,    0.   ,  941.753,    0.   ,\n",
       "          0.   ,    0.   ,    0.   ,    0.   ,    0.   ,    0.   ,\n",
       "          0.   ,    0.   ,    0.   ,  503.5  ,    0.   ,    0.   ,\n",
       "        575.732,   24.274,    0.   ,    0.   ,    0.   ])"
      ]
     },
     "execution_count": 210,
     "metadata": {},
     "output_type": "execute_result"
    }
   ],
   "source": [
    "LastPrice = np.array([1/p for p in StockData.tail(1).to_numpy()[0]])\n",
    "Initial_Portfolio = np.multiply(mvo_weights, LastPrice)\n",
    "Initial_Portfolio"
   ]
  },
  {
   "cell_type": "code",
   "execution_count": 211,
   "metadata": {
    "colab": {
     "base_uri": "https://localhost:8080/",
     "height": 424
    },
    "id": "ZAd1iXqZhQ6X",
    "outputId": "0528f221-b650-4847-d582-173b1dc2f8f4"
   },
   "outputs": [
    {
     "data": {
      "text/html": [
       "<div>\n",
       "<style scoped>\n",
       "    .dataframe tbody tr th:only-of-type {\n",
       "        vertical-align: middle;\n",
       "    }\n",
       "\n",
       "    .dataframe tbody tr th {\n",
       "        vertical-align: top;\n",
       "    }\n",
       "\n",
       "    .dataframe thead th {\n",
       "        text-align: right;\n",
       "    }\n",
       "</style>\n",
       "<table border=\"1\" class=\"dataframe\">\n",
       "  <thead>\n",
       "    <tr style=\"text-align: right;\">\n",
       "      <th></th>\n",
       "      <th>Mean Var</th>\n",
       "    </tr>\n",
       "  </thead>\n",
       "  <tbody>\n",
       "    <tr>\n",
       "      <th>2021-10-26</th>\n",
       "      <td>1.002272e+06</td>\n",
       "    </tr>\n",
       "    <tr>\n",
       "      <th>2021-10-27</th>\n",
       "      <td>1.002461e+06</td>\n",
       "    </tr>\n",
       "    <tr>\n",
       "      <th>2021-10-28</th>\n",
       "      <td>1.011236e+06</td>\n",
       "    </tr>\n",
       "    <tr>\n",
       "      <th>2021-10-29</th>\n",
       "      <td>1.010909e+06</td>\n",
       "    </tr>\n",
       "    <tr>\n",
       "      <th>2021-11-01</th>\n",
       "      <td>1.001450e+06</td>\n",
       "    </tr>\n",
       "    <tr>\n",
       "      <th>...</th>\n",
       "      <td>...</td>\n",
       "    </tr>\n",
       "    <tr>\n",
       "      <th>2023-02-21</th>\n",
       "      <td>9.195315e+05</td>\n",
       "    </tr>\n",
       "    <tr>\n",
       "      <th>2023-02-22</th>\n",
       "      <td>9.194654e+05</td>\n",
       "    </tr>\n",
       "    <tr>\n",
       "      <th>2023-02-23</th>\n",
       "      <td>9.249119e+05</td>\n",
       "    </tr>\n",
       "    <tr>\n",
       "      <th>2023-02-24</th>\n",
       "      <td>9.120102e+05</td>\n",
       "    </tr>\n",
       "    <tr>\n",
       "      <th>2023-02-27</th>\n",
       "      <td>9.135293e+05</td>\n",
       "    </tr>\n",
       "  </tbody>\n",
       "</table>\n",
       "<p>336 rows × 1 columns</p>\n",
       "</div>"
      ],
      "text/plain": [
       "                Mean Var\n",
       "2021-10-26  1.002272e+06\n",
       "2021-10-27  1.002461e+06\n",
       "2021-10-28  1.011236e+06\n",
       "2021-10-29  1.010909e+06\n",
       "2021-11-01  1.001450e+06\n",
       "...                  ...\n",
       "2023-02-21  9.195315e+05\n",
       "2023-02-22  9.194654e+05\n",
       "2023-02-23  9.249119e+05\n",
       "2023-02-24  9.120102e+05\n",
       "2023-02-27  9.135293e+05\n",
       "\n",
       "[336 rows x 1 columns]"
      ]
     },
     "execution_count": 211,
     "metadata": {},
     "output_type": "execute_result"
    }
   ],
   "source": [
    "Portfolio_Assets = TradeData @ Initial_Portfolio\n",
    "MVO_result = pd.DataFrame(Portfolio_Assets, columns=[\"Mean Var\"])\n",
    "MVO_result"
   ]
  },
  {
   "cell_type": "markdown",
   "metadata": {
    "id": "W6vvNSC6h1jZ"
   },
   "source": [
    "<a id='6'></a>\n",
    "# Part 7: Backtesting Results\n",
    "Backtesting plays a key role in evaluating the performance of a trading strategy. Automated backtesting tool is preferred because it reduces the human error. We usually use the Quantopian pyfolio package to backtest our trading strategies. It is easy to use and consists of various individual plots that provide a comprehensive image of the performance of a trading strategy."
   ]
  },
  {
   "cell_type": "code",
   "execution_count": 212,
   "metadata": {},
   "outputs": [
    {
     "data": {
      "text/html": [
       "<div>\n",
       "<style scoped>\n",
       "    .dataframe tbody tr th:only-of-type {\n",
       "        vertical-align: middle;\n",
       "    }\n",
       "\n",
       "    .dataframe tbody tr th {\n",
       "        vertical-align: top;\n",
       "    }\n",
       "\n",
       "    .dataframe thead th {\n",
       "        text-align: right;\n",
       "    }\n",
       "</style>\n",
       "<table border=\"1\" class=\"dataframe\">\n",
       "  <thead>\n",
       "    <tr style=\"text-align: right;\">\n",
       "      <th></th>\n",
       "      <th>date</th>\n",
       "      <th>account_value</th>\n",
       "    </tr>\n",
       "  </thead>\n",
       "  <tbody>\n",
       "    <tr>\n",
       "      <th>0</th>\n",
       "      <td>2021-10-01</td>\n",
       "      <td>1.000000e+06</td>\n",
       "    </tr>\n",
       "    <tr>\n",
       "      <th>1</th>\n",
       "      <td>2021-10-04</td>\n",
       "      <td>9.978732e+05</td>\n",
       "    </tr>\n",
       "    <tr>\n",
       "      <th>2</th>\n",
       "      <td>2021-10-05</td>\n",
       "      <td>9.998649e+05</td>\n",
       "    </tr>\n",
       "    <tr>\n",
       "      <th>3</th>\n",
       "      <td>2021-10-06</td>\n",
       "      <td>1.002448e+06</td>\n",
       "    </tr>\n",
       "    <tr>\n",
       "      <th>4</th>\n",
       "      <td>2021-10-07</td>\n",
       "      <td>1.006979e+06</td>\n",
       "    </tr>\n",
       "  </tbody>\n",
       "</table>\n",
       "</div>"
      ],
      "text/plain": [
       "         date  account_value\n",
       "0  2021-10-01   1.000000e+06\n",
       "1  2021-10-04   9.978732e+05\n",
       "2  2021-10-05   9.998649e+05\n",
       "3  2021-10-06   1.002448e+06\n",
       "4  2021-10-07   1.006979e+06"
      ]
     },
     "execution_count": 212,
     "metadata": {},
     "output_type": "execute_result"
    }
   ],
   "source": [
    "df_account_value_a2c.head()\n"
   ]
  },
  {
   "cell_type": "code",
   "execution_count": 213,
   "metadata": {
    "colab": {
     "base_uri": "https://localhost:8080/"
    },
    "id": "KeDeGAc9VrEg",
    "outputId": "11fb5805-7b2a-44c6-ccff-5238114632aa"
   },
   "outputs": [
    {
     "name": "stderr",
     "output_type": "stream",
     "text": [
      "[*********************100%%**********************]  1 of 1 completed"
     ]
    },
    {
     "name": "stdout",
     "output_type": "stream",
     "text": [
      "==============Get Baseline Stats===========\n",
      "Shape of DataFrame:  (354, 8)\n",
      "Annual return         -0.034876\n",
      "Cumulative returns    -0.048644\n",
      "Annual volatility      0.181612\n",
      "Sharpe ratio          -0.105351\n",
      "Calmar ratio          -0.158953\n",
      "Stability              0.280983\n",
      "Max drawdown          -0.219408\n",
      "Omega ratio            0.982546\n",
      "Sortino ratio         -0.146974\n",
      "Skew                        NaN\n",
      "Kurtosis                    NaN\n",
      "Tail ratio             0.970602\n",
      "Daily value at risk   -0.022957\n",
      "dtype: float64\n",
      "result:               a2c_with_rc     a2c_no_rc   sac_with_rc     sac_no_rc  \\\n",
      "2021-10-26  1.036797e+06  1.055651e+06  1.065992e+06  1.057613e+06   \n",
      "2021-10-27  1.038484e+06  1.052282e+06  1.050201e+06  1.045824e+06   \n",
      "2021-10-28  1.045709e+06  1.057892e+06  1.047594e+06  1.049100e+06   \n",
      "2021-10-29  1.049219e+06  1.063704e+06  1.051656e+06  1.050230e+06   \n",
      "2021-11-01  1.053486e+06  1.065391e+06  1.047321e+06  1.054299e+06   \n",
      "...                  ...           ...           ...           ...   \n",
      "2023-02-21  1.175674e+06  9.727069e+05  1.002833e+06  1.013657e+06   \n",
      "2023-02-22  1.172164e+06  9.698229e+05  1.001802e+06  1.011042e+06   \n",
      "2023-02-23  1.171146e+06  9.757849e+05  1.004720e+06  1.016853e+06   \n",
      "2023-02-24  1.160746e+06  9.655773e+05  9.951106e+05  1.002297e+06   \n",
      "2023-02-27  1.163038e+06  9.694245e+05  9.951403e+05  1.004510e+06   \n",
      "\n",
      "                mean var           dji  \n",
      "2021-10-26  1.002272e+06  1.041671e+06  \n",
      "2021-10-27  1.002461e+06  1.033916e+06  \n",
      "2021-10-28  1.011236e+06  1.040902e+06  \n",
      "2021-10-29  1.010909e+06  1.043497e+06  \n",
      "2021-11-01  1.001450e+06  1.046244e+06  \n",
      "...                  ...           ...  \n",
      "2023-02-21  9.195315e+05  9.651327e+05  \n",
      "2023-02-22  9.194654e+05  9.626710e+05  \n",
      "2023-02-23  9.249119e+05  9.658412e+05  \n",
      "2023-02-24  9.120102e+05  9.560240e+05  \n",
      "2023-02-27  9.135293e+05  9.581264e+05  \n",
      "\n",
      "[336 rows x 6 columns]\n"
     ]
    },
    {
     "name": "stderr",
     "output_type": "stream",
     "text": [
      "\n"
     ]
    }
   ],
   "source": [
    "df_result_a2c = df_account_value_a2c.set_index(df_account_value_a2c.columns[0])\n",
    "df_result_a2c_no_rc = df_account_value_a2c_no_rc.set_index(df_account_value_a2c_no_rc.columns[0])\n",
    "\n",
    "\n",
    "#df_result_ddpg = df_account_value_ddpg.set_index(df_account_value_ddpg.columns[0])\n",
    "#df_result_td3 = df_account_value_td3.set_index(df_account_value_td3.columns[0])\n",
    "#df_result_ppo = df_account_value_ppo.set_index(df_account_value_ppo.columns[0])\n",
    "df_result_sac = df_account_value_sac.set_index(df_account_value_sac.columns[0])\n",
    "df_result_sac_no_rc = df_account_value_sac_no_rc.set_index(df_account_value_sac_no_rc.columns[0])\n",
    "\n",
    "\n",
    "# df_result_a2c.head()\n",
    "\n",
    "df_account_value_a2c.to_csv(\"df_account_value_a2c.csv\")\n",
    "\n",
    "# df_risks = pd.read_csv(StockFileName,  nrows= Rows)\n",
    "\n",
    "\n",
    "#baseline stats\n",
    "print(\"==============Get Baseline Stats===========\")\n",
    "df_dji_ = get_baseline(\n",
    "        ticker=\"^DJI\", \n",
    "        start = TRADE_START_DATE,\n",
    "        end = TRADE_END_DATE)\n",
    "stats = backtest_stats(df_dji_, value_col_name = 'close')\n",
    "df_dji = pd.DataFrame()\n",
    "df_dji['date'] = df_account_value_a2c['date']\n",
    "df_dji['account_value'] = df_dji_['close'] / df_dji_['close'][0] * env_kwargs[\"initial_amount\"]\n",
    "df_dji.to_csv(\"df_dji.csv\")\n",
    "df_dji = df_dji.set_index(df_dji.columns[0])\n",
    "df_dji.to_csv(\"df_dji+.csv\")\n",
    "\n",
    "#result = pd.merge(df_result_a2c, df_result_ddpg, left_index=True, right_index=True, suffixes=('_a2c', '_ddpg'))\n",
    "result = df_result_a2c\n",
    "result = pd.merge(result, df_result_a2c_no_rc, left_index=True, right_index=True, suffixes=('', '_a2c'))\n",
    "\n",
    "#result = pd.merge(result, df_result_ppo, left_index=True, right_index=True, suffixes=('', '_ppo'))\n",
    "result = pd.merge(result, df_result_sac, left_index=True, right_index=True, suffixes=('', '_sac'))\n",
    "result = pd.merge(result, df_result_sac_no_rc, left_index=True, right_index=True, suffixes=('', '_sac'))\n",
    "\n",
    "result = pd.merge(result, MVO_result, left_index=True, right_index=True, suffixes=('', '_mvo'))\n",
    "result = pd.merge(result, df_dji, left_index=True, right_index=True, suffixes=('', '_dji'))\n",
    "#result.columns = ['a2c', 'ddpg', 'td3', 'ppo', 'sac', 'mean var', 'dji']\n",
    "result.columns = ['a2c_with_rc','a2c_no_rc', 'sac_with_rc','sac_no_rc', 'mean var', 'dji']\n",
    "\n",
    "print(\"result: \", result)\n",
    "result.to_csv(\"result.csv\")"
   ]
  },
  {
   "cell_type": "code",
   "execution_count": 214,
   "metadata": {},
   "outputs": [
    {
     "data": {
      "text/html": [
       "<div>\n",
       "<style scoped>\n",
       "    .dataframe tbody tr th:only-of-type {\n",
       "        vertical-align: middle;\n",
       "    }\n",
       "\n",
       "    .dataframe tbody tr th {\n",
       "        vertical-align: top;\n",
       "    }\n",
       "\n",
       "    .dataframe thead th {\n",
       "        text-align: right;\n",
       "    }\n",
       "</style>\n",
       "<table border=\"1\" class=\"dataframe\">\n",
       "  <thead>\n",
       "    <tr style=\"text-align: right;\">\n",
       "      <th></th>\n",
       "      <th>account_value</th>\n",
       "    </tr>\n",
       "    <tr>\n",
       "      <th>date</th>\n",
       "      <th></th>\n",
       "    </tr>\n",
       "  </thead>\n",
       "  <tbody>\n",
       "    <tr>\n",
       "      <th>2021-10-01</th>\n",
       "      <td>1.000000e+06</td>\n",
       "    </tr>\n",
       "    <tr>\n",
       "      <th>2021-10-04</th>\n",
       "      <td>9.978732e+05</td>\n",
       "    </tr>\n",
       "    <tr>\n",
       "      <th>2021-10-05</th>\n",
       "      <td>9.998649e+05</td>\n",
       "    </tr>\n",
       "    <tr>\n",
       "      <th>2021-10-06</th>\n",
       "      <td>1.002448e+06</td>\n",
       "    </tr>\n",
       "    <tr>\n",
       "      <th>2021-10-07</th>\n",
       "      <td>1.006979e+06</td>\n",
       "    </tr>\n",
       "  </tbody>\n",
       "</table>\n",
       "</div>"
      ],
      "text/plain": [
       "            account_value\n",
       "date                     \n",
       "2021-10-01   1.000000e+06\n",
       "2021-10-04   9.978732e+05\n",
       "2021-10-05   9.998649e+05\n",
       "2021-10-06   1.002448e+06\n",
       "2021-10-07   1.006979e+06"
      ]
     },
     "execution_count": 214,
     "metadata": {},
     "output_type": "execute_result"
    }
   ],
   "source": [
    "df_result_a2c.head()\n"
   ]
  },
  {
   "cell_type": "code",
   "execution_count": 215,
   "metadata": {
    "colab": {
     "base_uri": "https://localhost:8080/",
     "height": 348
    },
    "id": "6xRfrqK4RVfq",
    "outputId": "42a2502d-7447-40ef-e897-1af949fda9e0"
   },
   "outputs": [
    {
     "data": {
      "text/plain": [
       "Text(0.5, 1.0, 'Performance on Test Set')"
      ]
     },
     "execution_count": 215,
     "metadata": {},
     "output_type": "execute_result"
    },
    {
     "data": {
      "text/plain": [
       "<Figure size 1500x500 with 0 Axes>"
      ]
     },
     "metadata": {},
     "output_type": "display_data"
    },
    {
     "data": {
      "image/png": "[encoded data removed]",
      "text/plain": [
       "<Figure size 1500x500 with 1 Axes>"
      ]
     },
     "metadata": {},
     "output_type": "display_data"
    }
   ],
   "source": [
    "%matplotlib inline\n",
    "plt.rcParams[\"figure.figsize\"] = (15,5)\n",
    "plt.figure();\n",
    "\n",
    "result.plot();\n",
    "plt.grid();\n",
    "plt.ylabel('Portfolio Value')\n",
    "plt.xlabel('Time')\n",
    "plt.title('Performance on Test Set')"
   ]
  },
  {
   "cell_type": "code",
   "execution_count": 216,
   "metadata": {},
   "outputs": [],
   "source": [
    "#todo: Plot short term risk\n",
    "#we have \n",
    "\n",
    "# df_risks = pd.read_csv(StockFileName,  nrows= Rows)\n"
   ]
  }
 ],
 "metadata": {
  "colab": {
   "collapsed_sections": [
    "HMNR5nHjh1iz",
    "uijiWgkuh1jB",
    "MRiOtrywfAo1",
    "_gDkU-j-fCmZ",
    "3Zpv4S0-fDBv"
   ],
   "provenance": []
  },
  "kernelspec": {
   "display_name": "base",
   "language": "python",
   "name": "python3"
  },
  "language_info": {
   "codemirror_mode": {
    "name": "ipython",
    "version": 3
   },
   "file_extension": ".py",
   "mimetype": "text/x-python",
   "name": "python",
   "nbconvert_exporter": "python",
   "pygments_lexer": "ipython3",
   "version": "3.10.14"
  },
  "vscode": {
   "interpreter": {
    "hash": "54cefccbf0f07c9750f12aa115c023dfa5ed4acecf9e7ad3bc9391869be60d0c"
   }
  }
 },
 "nbformat": 4,
 "nbformat_minor": 0
}
