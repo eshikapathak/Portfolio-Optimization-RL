{
 "cells": [
  {
   "cell_type": "markdown",
   "metadata": {
    "id": "yfv52r2G33jY"
   },
   "source": [
    "<a target=\"_blank\" href=\"https://colab.research.google.com/github/AI4Finance-Foundation/FinRL-Tutorials/blob/master/1-Introduction/Stock_NeurIPS2018_SB3.py\">\n",
    "  <img src=\"https://colab.research.google.com/assets/colab-badge.svg\" alt=\"Open In Colab\"/>\n",
    "</a>"
   ]
  },
  {
   "cell_type": "markdown",
   "metadata": {
    "id": "gXaoZs2lh1hi"
   },
   "source": [
    "# Deep Reinforcement Learning for Stock Trading from Scratch: Multiple Stock Trading\n",
    "\n",
    "* **Pytorch Version** \n",
    "\n"
   ]
  },
  {
   "cell_type": "markdown",
   "metadata": {
    "id": "lGunVt8oLCVS"
   },
   "source": [
    "# Content"
   ]
  },
  {
   "cell_type": "markdown",
   "metadata": {
    "id": "HOzAKQ-SLGX6"
   },
   "source": [
    "* [1. Task Description](#0)\n",
    "* [2. Install Python packages](#1)\n",
    "    * [2.1. Install Packages](#1.1)    \n",
    "    * [2.2. A List of Python Packages](#1.2)\n",
    "    * [2.3. Import Packages](#1.3)\n",
    "    * [2.4. Create Folders](#1.4)\n",
    "* [3. Download and Preprocess Data](#2)\n",
    "* [4. Preprocess Data](#3)        \n",
    "    * [4.1. Technical Indicators](#3.1)\n",
    "    * [4.2. Perform Feature Engineering](#3.2)\n",
    "* [5. Build Market Environment in OpenAI Gym-style](#4)  \n",
    "    * [5.1. Data Split](#4.1)  \n",
    "    * [5.3. Environment for Training](#4.2)    \n",
    "* [6. Train DRL Agents](#5)\n",
    "* [7. Backtesting Performance](#6)  \n",
    "    * [7.1. BackTestStats](#6.1)\n",
    "    * [7.2. BackTestPlot](#6.2)   \n",
    "  "
   ]
  },
  {
   "cell_type": "markdown",
   "metadata": {
    "id": "sApkDlD9LIZv"
   },
   "source": [
    "<a id='0'></a>\n",
    "# Part 1. Task Discription"
   ]
  },
  {
   "cell_type": "markdown",
   "metadata": {
    "id": "HjLD2TZSLKZ-"
   },
   "source": [
    "We train a DRL agent for stock trading. This task is modeled as a Markov Decision Process (MDP), and the objective function is maximizing (expected) cumulative return.\n",
    "\n",
    "We specify the state-action-reward as follows:\n",
    "\n",
    "* **State s**: The state space represents an agent's perception of the market environment. Just like a human trader analyzing various information, here our agent passively observes many features and learns by interacting with the market environment (usually by replaying historical data).\n",
    "\n",
    "* **Action a**: The action space includes allowed actions that an agent can take at each state. For example, a ∈ {−1, 0, 1}, where −1, 0, 1 represent\n",
    "selling, holding, and buying. When an action operates multiple shares, a ∈{−k, ..., −1, 0, 1, ..., k}, e.g.. \"Buy\n",
    "10 shares of AAPL\" or \"Sell 10 shares of AAPL\" are 10 or −10, respectively\n",
    "\n",
    "* **Reward function r(s, a, s′)**: Reward is an incentive for an agent to learn a better policy. For example, it can be the change of the portfolio value when taking a at state s and arriving at new state s',  i.e., r(s, a, s′) = v′ − v, where v′ and v represent the portfolio values at state s′ and s, respectively\n",
    "\n",
    "\n",
    "**Market environment**: 30 consituent stocks of Dow Jones Industrial Average (DJIA) index. Accessed at the starting date of the testing period.\n",
    "\n",
    "\n",
    "The data for this case study is obtained from Yahoo Finance API. The data contains Open-High-Low-Close price and volume.\n"
   ]
  },
  {
   "cell_type": "markdown",
   "metadata": {
    "id": "Ffsre789LY08"
   },
   "source": [
    "<a id='1'></a>\n",
    "# Part 2. Install Python Packages"
   ]
  },
  {
   "cell_type": "markdown",
   "metadata": {
    "id": "Uy5_PTmOh1hj"
   },
   "source": [
    "<a id='1.1'></a>\n",
    "## 2.1. Install packages\n"
   ]
  },
  {
   "cell_type": "code",
   "execution_count": 715,
   "metadata": {
    "colab": {
     "base_uri": "https://localhost:8080/"
    },
    "id": "mPT0ipYE28wL",
    "outputId": "ae04aff7-94ea-473e-9bc1-d26f56ac3426"
   },
   "outputs": [],
   "source": [
    "# ## install required packages\n",
    "# !pip install swig\n",
    "# !pip install wrds\n",
    "# !pip install pyportfolioopt\n",
    "# ## install finrl library\n",
    "# !pip install -q condacolab\n",
    "# # import condacolab\n",
    "# # condacolab.install()\n",
    "# !apt-get update -y -qq && apt-get install -y -qq cmake libopenmpi-dev python3-dev zlib1g-dev libgl1-mesa-glx swig\n",
    "# # !pip install git+https://github.com/AI4Finance-Foundation/FinRL.git"
   ]
  },
  {
   "cell_type": "markdown",
   "metadata": {
    "id": "osBHhVysOEzi"
   },
   "source": [
    "\n",
    "<a id='1.2'></a>\n",
    "## 2.2. A list of Python packages \n",
    "* Yahoo Finance API\n",
    "* pandas\n",
    "* numpy\n",
    "* matplotlib\n",
    "* stockstats\n",
    "* OpenAI gym\n",
    "* stable-baselines\n",
    "* tensorflow\n",
    "* pyfolio"
   ]
  },
  {
   "cell_type": "markdown",
   "metadata": {
    "id": "nGv01K8Sh1hn"
   },
   "source": [
    "<a id='1.3'></a>\n",
    "## 2.3. Import Packages"
   ]
  },
  {
   "cell_type": "code",
   "execution_count": 716,
   "metadata": {
    "colab": {
     "base_uri": "https://localhost:8080/"
    },
    "id": "lPqeTTwoh1hn",
    "outputId": "08159edd-35c4-4dd6-8462-3e64f26d71f4"
   },
   "outputs": [],
   "source": [
    "import pandas as pd\n",
    "import numpy as np\n",
    "import matplotlib\n",
    "import matplotlib.pyplot as plt\n",
    "# matplotlib.use('Agg')\n",
    "import datetime\n",
    "\n",
    "%matplotlib inline\n",
    "from finrl.meta.preprocessor.yahoodownloader import YahooDownloader\n",
    "from finrl.meta.preprocessor.preprocessors import FeatureEngineer, data_split\n",
    "from finrl.meta.env_stock_trading.env_stocktrading import StockTradingEnv as OriginalEnv\n",
    "\n",
    "from finrl.agents.stablebaselines3.models import DRLAgent\n",
    "from stable_baselines3.common.logger import configure\n",
    "from finrl.meta.data_processor import DataProcessor\n",
    "# from modified_env import StockTradingEnv\n",
    "\n",
    "from finrl.plot import backtest_stats, backtest_plot, get_daily_return, get_baseline\n",
    "from pprint import pprint\n",
    "\n",
    "import sys\n",
    "sys.path.append(\"../FinRL\")\n",
    "\n",
    "import itertools\n"
   ]
  },
  {
   "cell_type": "code",
   "execution_count": null,
   "metadata": {},
   "outputs": [],
   "source": []
  },
  {
   "cell_type": "markdown",
   "metadata": {
    "id": "T2owTj985RW4"
   },
   "source": [
    "<a id='1.4'></a>\n",
    "## 2.4. Create Folders"
   ]
  },
  {
   "cell_type": "code",
   "execution_count": 717,
   "metadata": {
    "id": "RtUc_ofKmpdy"
   },
   "outputs": [],
   "source": [
    "from finrl import config\n",
    "from finrl import config_tickers\n",
    "import os\n",
    "from finrl.main import check_and_make_directories\n",
    "from finrl.config import (\n",
    "    DATA_SAVE_DIR,\n",
    "    TRAINED_MODEL_DIR,\n",
    "    TENSORBOARD_LOG_DIR,\n",
    "    RESULTS_DIR,\n",
    "    INDICATORS,\n",
    "    TRAIN_START_DATE,\n",
    "    TRAIN_END_DATE,\n",
    "    TEST_START_DATE,\n",
    "    TEST_END_DATE,\n",
    "    TRADE_START_DATE,\n",
    "    TRADE_END_DATE,\n",
    ")\n",
    "check_and_make_directories([DATA_SAVE_DIR, TRAINED_MODEL_DIR, TENSORBOARD_LOG_DIR, RESULTS_DIR])\n",
    "\n"
   ]
  },
  {
   "cell_type": "markdown",
   "metadata": {
    "id": "A289rQWMh1hq"
   },
   "source": [
    "<a id='2'></a>\n",
    "# Part 3. Download Data\n",
    "Yahoo Finance provides stock data, financial news, financial reports, etc. Yahoo Finance is free.\n",
    "* FinRL uses a class **YahooDownloader** in FinRL-Meta to fetch data via Yahoo Finance API\n",
    "* Call Limit: Using the Public API (without authentication), you are limited to 2,000 requests per hour per IP (or up to a total of 48,000 requests a day)."
   ]
  },
  {
   "cell_type": "markdown",
   "metadata": {
    "id": "NPeQ7iS-LoMm"
   },
   "source": [
    "\n",
    "\n",
    "-----\n",
    "class YahooDownloader:\n",
    "    Retrieving daily stock data from\n",
    "    Yahoo Finance API\n",
    "\n",
    "    Attributes\n",
    "    ----------\n",
    "        start_date : str\n",
    "            start date of the data (modified from config.py)\n",
    "        end_date : str\n",
    "            end date of the data (modified from config.py)\n",
    "        ticker_list : list\n",
    "            a list of stock tickers (modified from config.py)\n",
    "\n",
    "    Methods\n",
    "    -------\n",
    "    fetch_data()\n"
   ]
  },
  {
   "cell_type": "code",
   "execution_count": 718,
   "metadata": {
    "colab": {
     "base_uri": "https://localhost:8080/",
     "height": 35
    },
    "id": "h3XJnvrbLp-C",
    "outputId": "2a4358a8-0656-4d5e-dc3e-b693cae3c5b8"
   },
   "outputs": [
    {
     "data": {
      "text/plain": [
       "'2020-07-31'"
      ]
     },
     "execution_count": 718,
     "metadata": {},
     "output_type": "execute_result"
    }
   ],
   "source": [
    "# from config.py, TRAIN_START_DATE is a string\n",
    "TRAIN_START_DATE\n",
    "# from config.py, TRAIN_END_DATE is a string\n",
    "TRAIN_END_DATE"
   ]
  },
  {
   "cell_type": "code",
   "execution_count": 719,
   "metadata": {
    "id": "FUnY8WEfLq3C"
   },
   "outputs": [],
   "source": [
    "TRAIN_START_DATE = '2010-01-01'\n",
    "TRAIN_END_DATE = '2021-10-01'\n",
    "TRADE_START_DATE = '2021-10-01'\n",
    "TRADE_END_DATE = '2023-03-01'"
   ]
  },
  {
   "cell_type": "code",
   "execution_count": 720,
   "metadata": {
    "colab": {
     "base_uri": "https://localhost:8080/"
    },
    "id": "yCKm4om-s9kE",
    "outputId": "a9d4f123-e338-4eca-feb1-358503317d9a"
   },
   "outputs": [
    {
     "name": "stderr",
     "output_type": "stream",
     "text": [
      "[*********************100%%**********************]  1 of 1 completed\n",
      "[*********************100%%**********************]  1 of 1 completed\n",
      "[*********************100%%**********************]  1 of 1 completed\n",
      "[*********************100%%**********************]  1 of 1 completed\n",
      "[*********************100%%**********************]  1 of 1 completed\n",
      "[*********************100%%**********************]  1 of 1 completed\n",
      "[*********************100%%**********************]  1 of 1 completed\n",
      "[*********************100%%**********************]  1 of 1 completed\n",
      "[*********************100%%**********************]  1 of 1 completed\n",
      "[*********************100%%**********************]  1 of 1 completed\n",
      "[*********************100%%**********************]  1 of 1 completed\n",
      "[*********************100%%**********************]  1 of 1 completed\n",
      "[*********************100%%**********************]  1 of 1 completed\n",
      "[*********************100%%**********************]  1 of 1 completed\n",
      "[*********************100%%**********************]  1 of 1 completed\n",
      "[*********************100%%**********************]  1 of 1 completed\n",
      "[*********************100%%**********************]  1 of 1 completed\n",
      "[*********************100%%**********************]  1 of 1 completed\n",
      "[*********************100%%**********************]  1 of 1 completed\n",
      "[*********************100%%**********************]  1 of 1 completed\n",
      "[*********************100%%**********************]  1 of 1 completed\n",
      "[*********************100%%**********************]  1 of 1 completed\n",
      "[*********************100%%**********************]  1 of 1 completed\n",
      "[*********************100%%**********************]  1 of 1 completed\n",
      "[*********************100%%**********************]  1 of 1 completed\n",
      "[*********************100%%**********************]  1 of 1 completed\n",
      "[*********************100%%**********************]  1 of 1 completed\n",
      "[*********************100%%**********************]  1 of 1 completed\n",
      "[*********************100%%**********************]  1 of 1 completed\n",
      "[*********************100%%**********************]  1 of 1 completed\n"
     ]
    },
    {
     "name": "stdout",
     "output_type": "stream",
     "text": [
      "Shape of DataFrame:  (97013, 8)\n"
     ]
    }
   ],
   "source": [
    "df = YahooDownloader(start_date = TRAIN_START_DATE,\n",
    "                     end_date = TRADE_END_DATE,\n",
    "                     ticker_list = config_tickers.DOW_30_TICKER).fetch_data()\n",
    "\n",
    "\n",
    "\n"
   ]
  },
  {
   "cell_type": "code",
   "execution_count": 721,
   "metadata": {
    "colab": {
     "base_uri": "https://localhost:8080/"
    },
    "id": "JzqRRTOX6aFu",
    "outputId": "e302049c-08e1-4ff0-ce60-7faf71776eb7"
   },
   "outputs": [
    {
     "name": "stdout",
     "output_type": "stream",
     "text": [
      "['AXP', 'AMGN', 'AAPL', 'BA', 'CAT', 'CSCO', 'CVX', 'GS', 'HD', 'HON', 'IBM', 'INTC', 'JNJ', 'KO', 'JPM', 'MCD', 'MMM', 'MRK', 'MSFT', 'NKE', 'PG', 'TRV', 'UNH', 'CRM', 'VZ', 'V', 'WBA', 'WMT', 'DIS', 'DOW']\n"
     ]
    }
   ],
   "source": [
    "print(config_tickers.DOW_30_TICKER)"
   ]
  },
  {
   "cell_type": "code",
   "execution_count": 722,
   "metadata": {
    "colab": {
     "base_uri": "https://localhost:8080/"
    },
    "id": "CV3HrZHLh1hy",
    "outputId": "81ee90f7-c290-40d9-81a0-8b771f3699ed"
   },
   "outputs": [
    {
     "data": {
      "text/plain": [
       "(97013, 8)"
      ]
     },
     "execution_count": 722,
     "metadata": {},
     "output_type": "execute_result"
    }
   ],
   "source": [
    "df.shape"
   ]
  },
  {
   "cell_type": "code",
   "execution_count": 723,
   "metadata": {
    "colab": {
     "base_uri": "https://localhost:8080/",
     "height": 206
    },
    "id": "4hYkeaPiICHS",
    "outputId": "b64d30ce-6f5a-461e-c6fe-1baee4642b4d"
   },
   "outputs": [
    {
     "data": {
      "text/html": [
       "<div>\n",
       "<style scoped>\n",
       "    .dataframe tbody tr th:only-of-type {\n",
       "        vertical-align: middle;\n",
       "    }\n",
       "\n",
       "    .dataframe tbody tr th {\n",
       "        vertical-align: top;\n",
       "    }\n",
       "\n",
       "    .dataframe thead th {\n",
       "        text-align: right;\n",
       "    }\n",
       "</style>\n",
       "<table border=\"1\" class=\"dataframe\">\n",
       "  <thead>\n",
       "    <tr style=\"text-align: right;\">\n",
       "      <th></th>\n",
       "      <th>date</th>\n",
       "      <th>open</th>\n",
       "      <th>high</th>\n",
       "      <th>low</th>\n",
       "      <th>close</th>\n",
       "      <th>volume</th>\n",
       "      <th>tic</th>\n",
       "      <th>day</th>\n",
       "    </tr>\n",
       "  </thead>\n",
       "  <tbody>\n",
       "    <tr>\n",
       "      <th>0</th>\n",
       "      <td>2010-01-04</td>\n",
       "      <td>7.622500</td>\n",
       "      <td>7.660714</td>\n",
       "      <td>7.585000</td>\n",
       "      <td>6.470740</td>\n",
       "      <td>493729600</td>\n",
       "      <td>AAPL</td>\n",
       "      <td>0</td>\n",
       "    </tr>\n",
       "    <tr>\n",
       "      <th>1</th>\n",
       "      <td>2010-01-04</td>\n",
       "      <td>56.630001</td>\n",
       "      <td>57.869999</td>\n",
       "      <td>56.560001</td>\n",
       "      <td>41.493416</td>\n",
       "      <td>5277400</td>\n",
       "      <td>AMGN</td>\n",
       "      <td>0</td>\n",
       "    </tr>\n",
       "    <tr>\n",
       "      <th>2</th>\n",
       "      <td>2010-01-04</td>\n",
       "      <td>40.810001</td>\n",
       "      <td>41.099998</td>\n",
       "      <td>40.389999</td>\n",
       "      <td>33.090439</td>\n",
       "      <td>6894300</td>\n",
       "      <td>AXP</td>\n",
       "      <td>0</td>\n",
       "    </tr>\n",
       "    <tr>\n",
       "      <th>3</th>\n",
       "      <td>2010-01-04</td>\n",
       "      <td>55.720001</td>\n",
       "      <td>56.389999</td>\n",
       "      <td>54.799999</td>\n",
       "      <td>43.777546</td>\n",
       "      <td>6186700</td>\n",
       "      <td>BA</td>\n",
       "      <td>0</td>\n",
       "    </tr>\n",
       "    <tr>\n",
       "      <th>4</th>\n",
       "      <td>2010-01-04</td>\n",
       "      <td>57.650002</td>\n",
       "      <td>59.189999</td>\n",
       "      <td>57.509998</td>\n",
       "      <td>40.190224</td>\n",
       "      <td>7325600</td>\n",
       "      <td>CAT</td>\n",
       "      <td>0</td>\n",
       "    </tr>\n",
       "  </tbody>\n",
       "</table>\n",
       "</div>"
      ],
      "text/plain": [
       "         date       open       high        low      close     volume   tic  \\\n",
       "0  2010-01-04   7.622500   7.660714   7.585000   6.470740  493729600  AAPL   \n",
       "1  2010-01-04  56.630001  57.869999  56.560001  41.493416    5277400  AMGN   \n",
       "2  2010-01-04  40.810001  41.099998  40.389999  33.090439    6894300   AXP   \n",
       "3  2010-01-04  55.720001  56.389999  54.799999  43.777546    6186700    BA   \n",
       "4  2010-01-04  57.650002  59.189999  57.509998  40.190224    7325600   CAT   \n",
       "\n",
       "   day  \n",
       "0    0  \n",
       "1    0  \n",
       "2    0  \n",
       "3    0  \n",
       "4    0  "
      ]
     },
     "execution_count": 723,
     "metadata": {},
     "output_type": "execute_result"
    }
   ],
   "source": [
    "df.sort_values(['date','tic'],ignore_index=True).head()"
   ]
  },
  {
   "cell_type": "markdown",
   "metadata": {
    "id": "uqC6c40Zh1iH"
   },
   "source": [
    "# Part 4: Preprocess Data\n",
    "We need to check for missing data and do feature engineering to convert the data point into a state.\n",
    "* **Adding technical indicators**. In practical trading, various information needs to be taken into account, such as historical prices, current holding shares, technical indicators, etc. Here, we demonstrate two trend-following technical indicators: MACD and RSI.\n",
    "* **Adding turbulence index**. Risk-aversion reflects whether an investor prefers to protect the capital. It also influences one's trading strategy when facing different market volatility level. To control the risk in a worst-case scenario, such as financial crisis of 2007–2008, FinRL employs the turbulence index that measures extreme fluctuation of asset price."
   ]
  },
  {
   "cell_type": "code",
   "execution_count": 724,
   "metadata": {
    "colab": {
     "base_uri": "https://localhost:8080/"
    },
    "id": "PmKP-1ii3RLS",
    "outputId": "6e4b4cc7-593b-4403-eb2a-828f55ed5a89"
   },
   "outputs": [
    {
     "name": "stderr",
     "output_type": "stream",
     "text": [
      "[*********************100%%**********************]  1 of 1 completed"
     ]
    },
    {
     "name": "stdout",
     "output_type": "stream",
     "text": [
      "Successfully added technical indicators\n",
      "Shape of DataFrame:  (3310, 8)\n",
      "Successfully added vix\n"
     ]
    },
    {
     "name": "stderr",
     "output_type": "stream",
     "text": [
      "\n"
     ]
    },
    {
     "name": "stdout",
     "output_type": "stream",
     "text": [
      "Successfully added turbulence index\n"
     ]
    }
   ],
   "source": [
    "fe = FeatureEngineer(\n",
    "                    use_technical_indicator=True,\n",
    "                    tech_indicator_list = INDICATORS,\n",
    "                    use_vix=True,\n",
    "                    use_turbulence=True,\n",
    "                    user_defined_feature = False)\n",
    "\n",
    "processed = fe.preprocess_data(df)"
   ]
  },
  {
   "cell_type": "code",
   "execution_count": 725,
   "metadata": {
    "id": "Kixon2tR3RLT"
   },
   "outputs": [],
   "source": [
    "list_ticker = processed[\"tic\"].unique().tolist()\n",
    "list_date = list(pd.date_range(processed['date'].min(),processed['date'].max()).astype(str))\n",
    "combination = list(itertools.product(list_date,list_ticker))\n",
    "\n",
    "processed_full = pd.DataFrame(combination,columns=[\"date\",\"tic\"]).merge(processed,on=[\"date\",\"tic\"],how=\"left\")\n",
    "processed_full = processed_full[processed_full['date'].isin(processed['date'])]\n",
    "processed_full = processed_full.sort_values(['date','tic'])\n",
    "\n",
    "processed_full = processed_full.fillna(0)"
   ]
  },
  {
   "cell_type": "code",
   "execution_count": 726,
   "metadata": {
    "colab": {
     "base_uri": "https://localhost:8080/",
     "height": 407
    },
    "id": "grvhGJJII3Xn",
    "outputId": "627d411c-d197-4019-8940-4d88a68dbfc9"
   },
   "outputs": [
    {
     "data": {
      "text/html": [
       "<div>\n",
       "<style scoped>\n",
       "    .dataframe tbody tr th:only-of-type {\n",
       "        vertical-align: middle;\n",
       "    }\n",
       "\n",
       "    .dataframe tbody tr th {\n",
       "        vertical-align: top;\n",
       "    }\n",
       "\n",
       "    .dataframe thead th {\n",
       "        text-align: right;\n",
       "    }\n",
       "</style>\n",
       "<table border=\"1\" class=\"dataframe\">\n",
       "  <thead>\n",
       "    <tr style=\"text-align: right;\">\n",
       "      <th></th>\n",
       "      <th>date</th>\n",
       "      <th>tic</th>\n",
       "      <th>open</th>\n",
       "      <th>high</th>\n",
       "      <th>low</th>\n",
       "      <th>close</th>\n",
       "      <th>volume</th>\n",
       "      <th>day</th>\n",
       "      <th>macd</th>\n",
       "      <th>boll_ub</th>\n",
       "      <th>boll_lb</th>\n",
       "      <th>rsi_30</th>\n",
       "      <th>cci_30</th>\n",
       "      <th>dx_30</th>\n",
       "      <th>close_30_sma</th>\n",
       "      <th>close_60_sma</th>\n",
       "      <th>vix</th>\n",
       "      <th>turbulence</th>\n",
       "    </tr>\n",
       "  </thead>\n",
       "  <tbody>\n",
       "    <tr>\n",
       "      <th>0</th>\n",
       "      <td>2010-01-04</td>\n",
       "      <td>AAPL</td>\n",
       "      <td>7.622500</td>\n",
       "      <td>7.660714</td>\n",
       "      <td>7.585000</td>\n",
       "      <td>6.470740</td>\n",
       "      <td>493729600.0</td>\n",
       "      <td>0.0</td>\n",
       "      <td>0.0</td>\n",
       "      <td>6.492156</td>\n",
       "      <td>6.460513</td>\n",
       "      <td>100.0</td>\n",
       "      <td>66.666667</td>\n",
       "      <td>100.0</td>\n",
       "      <td>6.470740</td>\n",
       "      <td>6.470740</td>\n",
       "      <td>20.040001</td>\n",
       "      <td>0.0</td>\n",
       "    </tr>\n",
       "    <tr>\n",
       "      <th>1</th>\n",
       "      <td>2010-01-04</td>\n",
       "      <td>AMGN</td>\n",
       "      <td>56.630001</td>\n",
       "      <td>57.869999</td>\n",
       "      <td>56.560001</td>\n",
       "      <td>41.493416</td>\n",
       "      <td>5277400.0</td>\n",
       "      <td>0.0</td>\n",
       "      <td>0.0</td>\n",
       "      <td>6.492156</td>\n",
       "      <td>6.460513</td>\n",
       "      <td>100.0</td>\n",
       "      <td>66.666667</td>\n",
       "      <td>100.0</td>\n",
       "      <td>41.493416</td>\n",
       "      <td>41.493416</td>\n",
       "      <td>20.040001</td>\n",
       "      <td>0.0</td>\n",
       "    </tr>\n",
       "    <tr>\n",
       "      <th>2</th>\n",
       "      <td>2010-01-04</td>\n",
       "      <td>AXP</td>\n",
       "      <td>40.810001</td>\n",
       "      <td>41.099998</td>\n",
       "      <td>40.389999</td>\n",
       "      <td>33.090439</td>\n",
       "      <td>6894300.0</td>\n",
       "      <td>0.0</td>\n",
       "      <td>0.0</td>\n",
       "      <td>6.492156</td>\n",
       "      <td>6.460513</td>\n",
       "      <td>100.0</td>\n",
       "      <td>66.666667</td>\n",
       "      <td>100.0</td>\n",
       "      <td>33.090439</td>\n",
       "      <td>33.090439</td>\n",
       "      <td>20.040001</td>\n",
       "      <td>0.0</td>\n",
       "    </tr>\n",
       "    <tr>\n",
       "      <th>3</th>\n",
       "      <td>2010-01-04</td>\n",
       "      <td>BA</td>\n",
       "      <td>55.720001</td>\n",
       "      <td>56.389999</td>\n",
       "      <td>54.799999</td>\n",
       "      <td>43.777546</td>\n",
       "      <td>6186700.0</td>\n",
       "      <td>0.0</td>\n",
       "      <td>0.0</td>\n",
       "      <td>6.492156</td>\n",
       "      <td>6.460513</td>\n",
       "      <td>100.0</td>\n",
       "      <td>66.666667</td>\n",
       "      <td>100.0</td>\n",
       "      <td>43.777546</td>\n",
       "      <td>43.777546</td>\n",
       "      <td>20.040001</td>\n",
       "      <td>0.0</td>\n",
       "    </tr>\n",
       "    <tr>\n",
       "      <th>4</th>\n",
       "      <td>2010-01-04</td>\n",
       "      <td>CAT</td>\n",
       "      <td>57.650002</td>\n",
       "      <td>59.189999</td>\n",
       "      <td>57.509998</td>\n",
       "      <td>40.190224</td>\n",
       "      <td>7325600.0</td>\n",
       "      <td>0.0</td>\n",
       "      <td>0.0</td>\n",
       "      <td>6.492156</td>\n",
       "      <td>6.460513</td>\n",
       "      <td>100.0</td>\n",
       "      <td>66.666667</td>\n",
       "      <td>100.0</td>\n",
       "      <td>40.190224</td>\n",
       "      <td>40.190224</td>\n",
       "      <td>20.040001</td>\n",
       "      <td>0.0</td>\n",
       "    </tr>\n",
       "    <tr>\n",
       "      <th>5</th>\n",
       "      <td>2010-01-04</td>\n",
       "      <td>CRM</td>\n",
       "      <td>18.652500</td>\n",
       "      <td>18.882500</td>\n",
       "      <td>18.547501</td>\n",
       "      <td>18.680597</td>\n",
       "      <td>7906000.0</td>\n",
       "      <td>0.0</td>\n",
       "      <td>0.0</td>\n",
       "      <td>6.492156</td>\n",
       "      <td>6.460513</td>\n",
       "      <td>100.0</td>\n",
       "      <td>66.666667</td>\n",
       "      <td>100.0</td>\n",
       "      <td>18.680597</td>\n",
       "      <td>18.680597</td>\n",
       "      <td>20.040001</td>\n",
       "      <td>0.0</td>\n",
       "    </tr>\n",
       "    <tr>\n",
       "      <th>6</th>\n",
       "      <td>2010-01-04</td>\n",
       "      <td>CSCO</td>\n",
       "      <td>24.110001</td>\n",
       "      <td>24.840000</td>\n",
       "      <td>24.010000</td>\n",
       "      <td>16.743509</td>\n",
       "      <td>59853700.0</td>\n",
       "      <td>0.0</td>\n",
       "      <td>0.0</td>\n",
       "      <td>6.492156</td>\n",
       "      <td>6.460513</td>\n",
       "      <td>100.0</td>\n",
       "      <td>66.666667</td>\n",
       "      <td>100.0</td>\n",
       "      <td>16.743509</td>\n",
       "      <td>16.743509</td>\n",
       "      <td>20.040001</td>\n",
       "      <td>0.0</td>\n",
       "    </tr>\n",
       "    <tr>\n",
       "      <th>7</th>\n",
       "      <td>2010-01-04</td>\n",
       "      <td>CVX</td>\n",
       "      <td>78.199997</td>\n",
       "      <td>79.199997</td>\n",
       "      <td>78.160004</td>\n",
       "      <td>44.988239</td>\n",
       "      <td>10173800.0</td>\n",
       "      <td>0.0</td>\n",
       "      <td>0.0</td>\n",
       "      <td>6.492156</td>\n",
       "      <td>6.460513</td>\n",
       "      <td>100.0</td>\n",
       "      <td>66.666667</td>\n",
       "      <td>100.0</td>\n",
       "      <td>44.988239</td>\n",
       "      <td>44.988239</td>\n",
       "      <td>20.040001</td>\n",
       "      <td>0.0</td>\n",
       "    </tr>\n",
       "    <tr>\n",
       "      <th>8</th>\n",
       "      <td>2010-01-04</td>\n",
       "      <td>DIS</td>\n",
       "      <td>32.500000</td>\n",
       "      <td>32.750000</td>\n",
       "      <td>31.870001</td>\n",
       "      <td>27.843176</td>\n",
       "      <td>13700400.0</td>\n",
       "      <td>0.0</td>\n",
       "      <td>0.0</td>\n",
       "      <td>6.492156</td>\n",
       "      <td>6.460513</td>\n",
       "      <td>100.0</td>\n",
       "      <td>66.666667</td>\n",
       "      <td>100.0</td>\n",
       "      <td>27.843176</td>\n",
       "      <td>27.843176</td>\n",
       "      <td>20.040001</td>\n",
       "      <td>0.0</td>\n",
       "    </tr>\n",
       "    <tr>\n",
       "      <th>9</th>\n",
       "      <td>2010-01-04</td>\n",
       "      <td>GS</td>\n",
       "      <td>170.050003</td>\n",
       "      <td>174.250000</td>\n",
       "      <td>169.509995</td>\n",
       "      <td>135.576187</td>\n",
       "      <td>9135000.0</td>\n",
       "      <td>0.0</td>\n",
       "      <td>0.0</td>\n",
       "      <td>6.492156</td>\n",
       "      <td>6.460513</td>\n",
       "      <td>100.0</td>\n",
       "      <td>66.666667</td>\n",
       "      <td>100.0</td>\n",
       "      <td>135.576187</td>\n",
       "      <td>135.576187</td>\n",
       "      <td>20.040001</td>\n",
       "      <td>0.0</td>\n",
       "    </tr>\n",
       "  </tbody>\n",
       "</table>\n",
       "</div>"
      ],
      "text/plain": [
       "         date   tic        open        high         low       close  \\\n",
       "0  2010-01-04  AAPL    7.622500    7.660714    7.585000    6.470740   \n",
       "1  2010-01-04  AMGN   56.630001   57.869999   56.560001   41.493416   \n",
       "2  2010-01-04   AXP   40.810001   41.099998   40.389999   33.090439   \n",
       "3  2010-01-04    BA   55.720001   56.389999   54.799999   43.777546   \n",
       "4  2010-01-04   CAT   57.650002   59.189999   57.509998   40.190224   \n",
       "5  2010-01-04   CRM   18.652500   18.882500   18.547501   18.680597   \n",
       "6  2010-01-04  CSCO   24.110001   24.840000   24.010000   16.743509   \n",
       "7  2010-01-04   CVX   78.199997   79.199997   78.160004   44.988239   \n",
       "8  2010-01-04   DIS   32.500000   32.750000   31.870001   27.843176   \n",
       "9  2010-01-04    GS  170.050003  174.250000  169.509995  135.576187   \n",
       "\n",
       "        volume  day  macd   boll_ub   boll_lb  rsi_30     cci_30  dx_30  \\\n",
       "0  493729600.0  0.0   0.0  6.492156  6.460513   100.0  66.666667  100.0   \n",
       "1    5277400.0  0.0   0.0  6.492156  6.460513   100.0  66.666667  100.0   \n",
       "2    6894300.0  0.0   0.0  6.492156  6.460513   100.0  66.666667  100.0   \n",
       "3    6186700.0  0.0   0.0  6.492156  6.460513   100.0  66.666667  100.0   \n",
       "4    7325600.0  0.0   0.0  6.492156  6.460513   100.0  66.666667  100.0   \n",
       "5    7906000.0  0.0   0.0  6.492156  6.460513   100.0  66.666667  100.0   \n",
       "6   59853700.0  0.0   0.0  6.492156  6.460513   100.0  66.666667  100.0   \n",
       "7   10173800.0  0.0   0.0  6.492156  6.460513   100.0  66.666667  100.0   \n",
       "8   13700400.0  0.0   0.0  6.492156  6.460513   100.0  66.666667  100.0   \n",
       "9    9135000.0  0.0   0.0  6.492156  6.460513   100.0  66.666667  100.0   \n",
       "\n",
       "   close_30_sma  close_60_sma        vix  turbulence  \n",
       "0      6.470740      6.470740  20.040001         0.0  \n",
       "1     41.493416     41.493416  20.040001         0.0  \n",
       "2     33.090439     33.090439  20.040001         0.0  \n",
       "3     43.777546     43.777546  20.040001         0.0  \n",
       "4     40.190224     40.190224  20.040001         0.0  \n",
       "5     18.680597     18.680597  20.040001         0.0  \n",
       "6     16.743509     16.743509  20.040001         0.0  \n",
       "7     44.988239     44.988239  20.040001         0.0  \n",
       "8     27.843176     27.843176  20.040001         0.0  \n",
       "9    135.576187    135.576187  20.040001         0.0  "
      ]
     },
     "execution_count": 726,
     "metadata": {},
     "output_type": "execute_result"
    }
   ],
   "source": [
    "processed_full.sort_values(['date','tic'],ignore_index=True).head(10)"
   ]
  },
  {
   "cell_type": "code",
   "execution_count": 727,
   "metadata": {
    "id": "5vdORQ384Qx-"
   },
   "outputs": [],
   "source": [
    "mvo_df = processed_full.sort_values(['date','tic'],ignore_index=True)[['date','tic','close']]"
   ]
  },
  {
   "cell_type": "markdown",
   "metadata": {
    "id": "-QsYaY0Dh1iw"
   },
   "source": [
    "<a id='4'></a>\n",
    "# Part 5. Build A Market Environment in OpenAI Gym-style\n",
    "The training process involves observing stock price change, taking an action and reward's calculation. By interacting with the market environment, the agent will eventually derive a trading strategy that may maximize (expected) rewards.\n",
    "\n",
    "Our market environment, based on OpenAI Gym, simulates stock markets with historical market data."
   ]
  },
  {
   "cell_type": "markdown",
   "metadata": {
    "id": "5TOhcryx44bb"
   },
   "source": [
    "## Data Split\n",
    "We split the data into training set and testing set as follows:\n",
    "\n",
    "Training data period: 2009-01-01 to 2020-07-01\n",
    "\n",
    "Trading data period: 2020-07-01 to 2021-10-31\n"
   ]
  },
  {
   "cell_type": "code",
   "execution_count": 728,
   "metadata": {
    "colab": {
     "base_uri": "https://localhost:8080/"
    },
    "id": "W0qaVGjLtgbI",
    "outputId": "5e364280-c418-470f-e25c-f03f56adbda7"
   },
   "outputs": [
    {
     "name": "stdout",
     "output_type": "stream",
     "text": [
      "85753\n",
      "10237\n"
     ]
    }
   ],
   "source": [
    "train = data_split(processed_full, TRAIN_START_DATE,TRAIN_END_DATE)\n",
    "trade = data_split(processed_full, TRADE_START_DATE,TRADE_END_DATE)\n",
    "print(len(train))\n",
    "print(len(trade))"
   ]
  },
  {
   "cell_type": "code",
   "execution_count": 729,
   "metadata": {
    "colab": {
     "base_uri": "https://localhost:8080/",
     "height": 444
    },
    "id": "p52zNCOhTtLR",
    "outputId": "e205ad4d-49ad-472b-8b60-0dc14a629113"
   },
   "outputs": [
    {
     "data": {
      "text/html": [
       "<div>\n",
       "<style scoped>\n",
       "    .dataframe tbody tr th:only-of-type {\n",
       "        vertical-align: middle;\n",
       "    }\n",
       "\n",
       "    .dataframe tbody tr th {\n",
       "        vertical-align: top;\n",
       "    }\n",
       "\n",
       "    .dataframe thead th {\n",
       "        text-align: right;\n",
       "    }\n",
       "</style>\n",
       "<table border=\"1\" class=\"dataframe\">\n",
       "  <thead>\n",
       "    <tr style=\"text-align: right;\">\n",
       "      <th></th>\n",
       "      <th>date</th>\n",
       "      <th>tic</th>\n",
       "      <th>open</th>\n",
       "      <th>high</th>\n",
       "      <th>low</th>\n",
       "      <th>close</th>\n",
       "      <th>volume</th>\n",
       "      <th>day</th>\n",
       "      <th>macd</th>\n",
       "      <th>boll_ub</th>\n",
       "      <th>boll_lb</th>\n",
       "      <th>rsi_30</th>\n",
       "      <th>cci_30</th>\n",
       "      <th>dx_30</th>\n",
       "      <th>close_30_sma</th>\n",
       "      <th>close_60_sma</th>\n",
       "      <th>vix</th>\n",
       "      <th>turbulence</th>\n",
       "    </tr>\n",
       "  </thead>\n",
       "  <tbody>\n",
       "    <tr>\n",
       "      <th>2956</th>\n",
       "      <td>2021-09-30</td>\n",
       "      <td>UNH</td>\n",
       "      <td>401.489990</td>\n",
       "      <td>403.489990</td>\n",
       "      <td>390.459991</td>\n",
       "      <td>377.353851</td>\n",
       "      <td>3779900.0</td>\n",
       "      <td>3.0</td>\n",
       "      <td>-4.283125</td>\n",
       "      <td>412.838061</td>\n",
       "      <td>380.981452</td>\n",
       "      <td>40.895381</td>\n",
       "      <td>-222.793983</td>\n",
       "      <td>41.980385</td>\n",
       "      <td>399.774960</td>\n",
       "      <td>399.273659</td>\n",
       "      <td>23.139999</td>\n",
       "      <td>24.92758</td>\n",
       "    </tr>\n",
       "    <tr>\n",
       "      <th>2956</th>\n",
       "      <td>2021-09-30</td>\n",
       "      <td>V</td>\n",
       "      <td>227.580002</td>\n",
       "      <td>228.789993</td>\n",
       "      <td>222.630005</td>\n",
       "      <td>218.542953</td>\n",
       "      <td>7128500.0</td>\n",
       "      <td>3.0</td>\n",
       "      <td>-1.526745</td>\n",
       "      <td>226.859205</td>\n",
       "      <td>214.843808</td>\n",
       "      <td>44.078983</td>\n",
       "      <td>-54.529558</td>\n",
       "      <td>19.569853</td>\n",
       "      <td>223.027285</td>\n",
       "      <td>229.677243</td>\n",
       "      <td>23.139999</td>\n",
       "      <td>24.92758</td>\n",
       "    </tr>\n",
       "    <tr>\n",
       "      <th>2956</th>\n",
       "      <td>2021-09-30</td>\n",
       "      <td>VZ</td>\n",
       "      <td>54.500000</td>\n",
       "      <td>54.509998</td>\n",
       "      <td>54.000000</td>\n",
       "      <td>45.622711</td>\n",
       "      <td>18736600.0</td>\n",
       "      <td>3.0</td>\n",
       "      <td>-0.217510</td>\n",
       "      <td>46.664911</td>\n",
       "      <td>45.373698</td>\n",
       "      <td>41.824899</td>\n",
       "      <td>-102.367548</td>\n",
       "      <td>21.682953</td>\n",
       "      <td>46.175153</td>\n",
       "      <td>46.664380</td>\n",
       "      <td>23.139999</td>\n",
       "      <td>24.92758</td>\n",
       "    </tr>\n",
       "    <tr>\n",
       "      <th>2956</th>\n",
       "      <td>2021-09-30</td>\n",
       "      <td>WBA</td>\n",
       "      <td>48.790001</td>\n",
       "      <td>48.930000</td>\n",
       "      <td>46.919998</td>\n",
       "      <td>41.084076</td>\n",
       "      <td>6449400.0</td>\n",
       "      <td>3.0</td>\n",
       "      <td>-0.236968</td>\n",
       "      <td>45.359597</td>\n",
       "      <td>40.747569</td>\n",
       "      <td>44.613721</td>\n",
       "      <td>-106.767291</td>\n",
       "      <td>0.941150</td>\n",
       "      <td>42.887238</td>\n",
       "      <td>41.925717</td>\n",
       "      <td>23.139999</td>\n",
       "      <td>24.92758</td>\n",
       "    </tr>\n",
       "    <tr>\n",
       "      <th>2956</th>\n",
       "      <td>2021-09-30</td>\n",
       "      <td>WMT</td>\n",
       "      <td>46.880001</td>\n",
       "      <td>47.243332</td>\n",
       "      <td>46.416668</td>\n",
       "      <td>44.720802</td>\n",
       "      <td>22457700.0</td>\n",
       "      <td>3.0</td>\n",
       "      <td>-0.510844</td>\n",
       "      <td>48.019576</td>\n",
       "      <td>44.562556</td>\n",
       "      <td>40.165835</td>\n",
       "      <td>-151.503082</td>\n",
       "      <td>45.479205</td>\n",
       "      <td>46.767856</td>\n",
       "      <td>46.406914</td>\n",
       "      <td>23.139999</td>\n",
       "      <td>24.92758</td>\n",
       "    </tr>\n",
       "  </tbody>\n",
       "</table>\n",
       "</div>"
      ],
      "text/plain": [
       "            date  tic        open        high         low       close  \\\n",
       "2956  2021-09-30  UNH  401.489990  403.489990  390.459991  377.353851   \n",
       "2956  2021-09-30    V  227.580002  228.789993  222.630005  218.542953   \n",
       "2956  2021-09-30   VZ   54.500000   54.509998   54.000000   45.622711   \n",
       "2956  2021-09-30  WBA   48.790001   48.930000   46.919998   41.084076   \n",
       "2956  2021-09-30  WMT   46.880001   47.243332   46.416668   44.720802   \n",
       "\n",
       "          volume  day      macd     boll_ub     boll_lb     rsi_30  \\\n",
       "2956   3779900.0  3.0 -4.283125  412.838061  380.981452  40.895381   \n",
       "2956   7128500.0  3.0 -1.526745  226.859205  214.843808  44.078983   \n",
       "2956  18736600.0  3.0 -0.217510   46.664911   45.373698  41.824899   \n",
       "2956   6449400.0  3.0 -0.236968   45.359597   40.747569  44.613721   \n",
       "2956  22457700.0  3.0 -0.510844   48.019576   44.562556  40.165835   \n",
       "\n",
       "          cci_30      dx_30  close_30_sma  close_60_sma        vix  turbulence  \n",
       "2956 -222.793983  41.980385    399.774960    399.273659  23.139999    24.92758  \n",
       "2956  -54.529558  19.569853    223.027285    229.677243  23.139999    24.92758  \n",
       "2956 -102.367548  21.682953     46.175153     46.664380  23.139999    24.92758  \n",
       "2956 -106.767291   0.941150     42.887238     41.925717  23.139999    24.92758  \n",
       "2956 -151.503082  45.479205     46.767856     46.406914  23.139999    24.92758  "
      ]
     },
     "execution_count": 729,
     "metadata": {},
     "output_type": "execute_result"
    }
   ],
   "source": [
    "train.tail()"
   ]
  },
  {
   "cell_type": "code",
   "execution_count": 730,
   "metadata": {
    "colab": {
     "base_uri": "https://localhost:8080/",
     "height": 357
    },
    "id": "k9zU9YaTTvFq",
    "outputId": "b23fd388-7411-4c78-8ebf-eb33df9b40a4"
   },
   "outputs": [
    {
     "data": {
      "text/html": [
       "<div>\n",
       "<style scoped>\n",
       "    .dataframe tbody tr th:only-of-type {\n",
       "        vertical-align: middle;\n",
       "    }\n",
       "\n",
       "    .dataframe tbody tr th {\n",
       "        vertical-align: top;\n",
       "    }\n",
       "\n",
       "    .dataframe thead th {\n",
       "        text-align: right;\n",
       "    }\n",
       "</style>\n",
       "<table border=\"1\" class=\"dataframe\">\n",
       "  <thead>\n",
       "    <tr style=\"text-align: right;\">\n",
       "      <th></th>\n",
       "      <th>date</th>\n",
       "      <th>tic</th>\n",
       "      <th>open</th>\n",
       "      <th>high</th>\n",
       "      <th>low</th>\n",
       "      <th>close</th>\n",
       "      <th>volume</th>\n",
       "      <th>day</th>\n",
       "      <th>macd</th>\n",
       "      <th>boll_ub</th>\n",
       "      <th>boll_lb</th>\n",
       "      <th>rsi_30</th>\n",
       "      <th>cci_30</th>\n",
       "      <th>dx_30</th>\n",
       "      <th>close_30_sma</th>\n",
       "      <th>close_60_sma</th>\n",
       "      <th>vix</th>\n",
       "      <th>turbulence</th>\n",
       "    </tr>\n",
       "  </thead>\n",
       "  <tbody>\n",
       "    <tr>\n",
       "      <th>0</th>\n",
       "      <td>2021-10-01</td>\n",
       "      <td>AAPL</td>\n",
       "      <td>141.899994</td>\n",
       "      <td>142.919998</td>\n",
       "      <td>139.110001</td>\n",
       "      <td>140.653519</td>\n",
       "      <td>94639600.0</td>\n",
       "      <td>4.0</td>\n",
       "      <td>-1.694441</td>\n",
       "      <td>154.557868</td>\n",
       "      <td>136.404119</td>\n",
       "      <td>46.927744</td>\n",
       "      <td>-142.221458</td>\n",
       "      <td>41.749873</td>\n",
       "      <td>146.390415</td>\n",
       "      <td>145.492823</td>\n",
       "      <td>21.1</td>\n",
       "      <td>120.030203</td>\n",
       "    </tr>\n",
       "    <tr>\n",
       "      <th>0</th>\n",
       "      <td>2021-10-01</td>\n",
       "      <td>AMGN</td>\n",
       "      <td>213.589996</td>\n",
       "      <td>214.610001</td>\n",
       "      <td>210.800003</td>\n",
       "      <td>197.213074</td>\n",
       "      <td>2629400.0</td>\n",
       "      <td>4.0</td>\n",
       "      <td>-2.996547</td>\n",
       "      <td>205.844861</td>\n",
       "      <td>192.892100</td>\n",
       "      <td>40.408552</td>\n",
       "      <td>-96.968262</td>\n",
       "      <td>36.189244</td>\n",
       "      <td>201.697201</td>\n",
       "      <td>210.039146</td>\n",
       "      <td>21.1</td>\n",
       "      <td>120.030203</td>\n",
       "    </tr>\n",
       "    <tr>\n",
       "      <th>0</th>\n",
       "      <td>2021-10-01</td>\n",
       "      <td>AXP</td>\n",
       "      <td>168.500000</td>\n",
       "      <td>175.119995</td>\n",
       "      <td>168.479996</td>\n",
       "      <td>167.727448</td>\n",
       "      <td>3956000.0</td>\n",
       "      <td>4.0</td>\n",
       "      <td>2.242076</td>\n",
       "      <td>171.823835</td>\n",
       "      <td>147.181365</td>\n",
       "      <td>56.265098</td>\n",
       "      <td>117.437324</td>\n",
       "      <td>15.667511</td>\n",
       "      <td>158.999403</td>\n",
       "      <td>161.211788</td>\n",
       "      <td>21.1</td>\n",
       "      <td>120.030203</td>\n",
       "    </tr>\n",
       "    <tr>\n",
       "      <th>0</th>\n",
       "      <td>2021-10-01</td>\n",
       "      <td>BA</td>\n",
       "      <td>222.850006</td>\n",
       "      <td>226.720001</td>\n",
       "      <td>220.600006</td>\n",
       "      <td>226.000000</td>\n",
       "      <td>9113600.0</td>\n",
       "      <td>4.0</td>\n",
       "      <td>0.730320</td>\n",
       "      <td>226.909442</td>\n",
       "      <td>205.727561</td>\n",
       "      <td>51.614047</td>\n",
       "      <td>116.649440</td>\n",
       "      <td>2.027170</td>\n",
       "      <td>217.175334</td>\n",
       "      <td>221.968500</td>\n",
       "      <td>21.1</td>\n",
       "      <td>120.030203</td>\n",
       "    </tr>\n",
       "    <tr>\n",
       "      <th>0</th>\n",
       "      <td>2021-10-01</td>\n",
       "      <td>CAT</td>\n",
       "      <td>192.899994</td>\n",
       "      <td>195.869995</td>\n",
       "      <td>191.240005</td>\n",
       "      <td>183.514008</td>\n",
       "      <td>3695500.0</td>\n",
       "      <td>4.0</td>\n",
       "      <td>-3.554821</td>\n",
       "      <td>200.903624</td>\n",
       "      <td>177.171292</td>\n",
       "      <td>41.999453</td>\n",
       "      <td>-112.169795</td>\n",
       "      <td>36.203176</td>\n",
       "      <td>192.366892</td>\n",
       "      <td>195.812261</td>\n",
       "      <td>21.1</td>\n",
       "      <td>120.030203</td>\n",
       "    </tr>\n",
       "  </tbody>\n",
       "</table>\n",
       "</div>"
      ],
      "text/plain": [
       "         date   tic        open        high         low       close  \\\n",
       "0  2021-10-01  AAPL  141.899994  142.919998  139.110001  140.653519   \n",
       "0  2021-10-01  AMGN  213.589996  214.610001  210.800003  197.213074   \n",
       "0  2021-10-01   AXP  168.500000  175.119995  168.479996  167.727448   \n",
       "0  2021-10-01    BA  222.850006  226.720001  220.600006  226.000000   \n",
       "0  2021-10-01   CAT  192.899994  195.869995  191.240005  183.514008   \n",
       "\n",
       "       volume  day      macd     boll_ub     boll_lb     rsi_30      cci_30  \\\n",
       "0  94639600.0  4.0 -1.694441  154.557868  136.404119  46.927744 -142.221458   \n",
       "0   2629400.0  4.0 -2.996547  205.844861  192.892100  40.408552  -96.968262   \n",
       "0   3956000.0  4.0  2.242076  171.823835  147.181365  56.265098  117.437324   \n",
       "0   9113600.0  4.0  0.730320  226.909442  205.727561  51.614047  116.649440   \n",
       "0   3695500.0  4.0 -3.554821  200.903624  177.171292  41.999453 -112.169795   \n",
       "\n",
       "       dx_30  close_30_sma  close_60_sma   vix  turbulence  \n",
       "0  41.749873    146.390415    145.492823  21.1  120.030203  \n",
       "0  36.189244    201.697201    210.039146  21.1  120.030203  \n",
       "0  15.667511    158.999403    161.211788  21.1  120.030203  \n",
       "0   2.027170    217.175334    221.968500  21.1  120.030203  \n",
       "0  36.203176    192.366892    195.812261  21.1  120.030203  "
      ]
     },
     "execution_count": 730,
     "metadata": {},
     "output_type": "execute_result"
    }
   ],
   "source": [
    "trade.head()"
   ]
  },
  {
   "cell_type": "code",
   "execution_count": 731,
   "metadata": {
    "colab": {
     "base_uri": "https://localhost:8080/"
    },
    "id": "zYN573SOHhxG",
    "outputId": "a9353918-3ff6-4179-e645-1e6c664b4506"
   },
   "outputs": [
    {
     "data": {
      "text/plain": [
       "['macd',\n",
       " 'boll_ub',\n",
       " 'boll_lb',\n",
       " 'rsi_30',\n",
       " 'cci_30',\n",
       " 'dx_30',\n",
       " 'close_30_sma',\n",
       " 'close_60_sma']"
      ]
     },
     "execution_count": 731,
     "metadata": {},
     "output_type": "execute_result"
    }
   ],
   "source": [
    "INDICATORS"
   ]
  },
  {
   "cell_type": "code",
   "execution_count": 732,
   "metadata": {
    "colab": {
     "base_uri": "https://localhost:8080/"
    },
    "id": "Q2zqII8rMIqn",
    "outputId": "687c0ea8-d3d9-460a-d104-d088db843e5b"
   },
   "outputs": [
    {
     "name": "stdout",
     "output_type": "stream",
     "text": [
      "Stock Dimension: 29, State Space: 291\n"
     ]
    }
   ],
   "source": [
    "stock_dimension = len(train.tic.unique())\n",
    "state_space = 1 + 2*stock_dimension + len(INDICATORS)*stock_dimension\n",
    "print(f\"Stock Dimension: {stock_dimension}, State Space: {state_space}\")"
   ]
  },
  {
   "cell_type": "code",
   "execution_count": null,
   "metadata": {},
   "outputs": [],
   "source": []
  },
  {
   "cell_type": "code",
   "execution_count": 733,
   "metadata": {},
   "outputs": [],
   "source": [
    "from __future__ import annotations\n",
    "\n",
    "from typing import List\n",
    "\n",
    "import gymnasium as gym\n",
    "import matplotlib\n",
    "import matplotlib.pyplot as plt\n",
    "import numpy as np\n",
    "import pandas as pd\n",
    "from gymnasium import spaces\n",
    "from gymnasium.utils import seeding\n",
    "from stable_baselines3.common.vec_env import DummyVecEnv\n",
    "from risk_controller import RiskController\n",
    "\n",
    "matplotlib.use(\"Agg\")\n",
    "\n",
    "\n",
    "\n",
    "\n",
    "class StockTradingEnv(gym.Env):\n",
    "    \"\"\"A stock trading environment for OpenAI gym\"\"\"\n",
    "\n",
    "    metadata = {\"render.modes\": [\"human\"]}\n",
    "\n",
    "    def __init__(\n",
    "        self,\n",
    "        df: pd.DataFrame,\n",
    "        stock_dim: int,\n",
    "        hmax: int,\n",
    "        initial_amount: int,\n",
    "        num_stock_shares: list[int],\n",
    "        # short_term_risk = list[float],\n",
    "        buy_cost_pct: list[float],\n",
    "        sell_cost_pct: list[float],\n",
    "        # self.my_risk_mem = float\n",
    "        reward_scaling: float,\n",
    "        state_space: int,\n",
    "        action_space: int,\n",
    "        tech_indicator_list: list[str],\n",
    "        turbulence_threshold=None,\n",
    "        use_risk_controller = True,\n",
    "\n",
    "        risk_indicator_col=\"turbulence\",\n",
    "        make_plots: bool = False,\n",
    "        print_verbosity=10,\n",
    "        day=0,\n",
    "        initial=True,\n",
    "        previous_state=[],\n",
    "        model_name=\"\",\n",
    "        mode=\"\",\n",
    "        iteration=\"\"\n",
    "    ):\n",
    "        self.day = day\n",
    "        self.df = df\n",
    "        self.stock_dim = stock_dim\n",
    "        self.hmax = hmax\n",
    "        self.num_stock_shares = num_stock_shares\n",
    "        self.initial_amount = initial_amount  # get the initial cash\n",
    "        self.buy_cost_pct = buy_cost_pct\n",
    "        self.sell_cost_pct = sell_cost_pct\n",
    "        self.reward_scaling = reward_scaling\n",
    "        self.state_space = state_space\n",
    "        self.action_space = action_space\n",
    "        self.tech_indicator_list = tech_indicator_list\n",
    "        self.action_space = spaces.Box(low=-1, high=1, shape=(self.action_space,))\n",
    "        self.observation_space = spaces.Box(\n",
    "            low=-np.inf, high=np.inf, shape=(self.state_space,)\n",
    "        )\n",
    "        self.data = self.df.loc[self.day, :]\n",
    "        self.terminal = False\n",
    "        self.make_plots = make_plots\n",
    "        self.print_verbosity = print_verbosity\n",
    "        self.turbulence_threshold = turbulence_threshold\n",
    "        self.use_risk_controller = use_risk_controller\n",
    "        self.risk_indicator_col = risk_indicator_col\n",
    "        self.initial = initial\n",
    "        self.previous_state = previous_state\n",
    "        self.model_name = model_name\n",
    "        self.mode = mode\n",
    "        self.iteration = iteration\n",
    "        # initalize state\n",
    "        self.state = self._initiate_state()\n",
    "\n",
    "        # initialize reward\n",
    "        self.reward = 0\n",
    "        self.short_term_risk = 0\n",
    "        self.turbulence = 0\n",
    "        self.cost = 0\n",
    "        self.trades = 0\n",
    "        self.episode = 0\n",
    "        # memorize all the total balance change\n",
    "        self.asset_memory = [\n",
    "            self.initial_amount\n",
    "            + np.sum(\n",
    "                np.array(self.num_stock_shares)\n",
    "                * np.array(self.state[1 : 1 + self.stock_dim])\n",
    "            )\n",
    "        ]  # the initial total asset is calculated by cash + sum (num_share_stock_i * price_stock_i)\n",
    "        self.rewards_memory = []\n",
    "        self.risks_memory = []\n",
    "        self.actions_memory = []\n",
    "        self.state_memory = (\n",
    "            []\n",
    "        )  # we need sometimes to preserve the state in the middle of trading process\n",
    "        self.date_memory = [self._get_date()]\n",
    "        #         self.logger = Logger('results',[CSVOutputFormat])\n",
    "        # self.reset()\n",
    "        self._seed()\n",
    "        # Parameters for RiskController might include\n",
    "        self.risk_params = {\n",
    "            \"N\": stock_dim,\n",
    "            \"sigma_s_min\": 0.01, #0.01,  # Example value\n",
    "            \"sigma_s_max\": 0.1, #0.02,  # Example value\n",
    "            \"mu\": 2,           # Example value\n",
    "            \"rf\": 0.0016,          # Risk-free rate\n",
    "            \"eta\": 0.3,         # Example value\n",
    "            \"m\": 0.1,            # Minimal impact factor\n",
    "            \"v\": 0.5,           # Risk appetite factor\n",
    "            \"market_risk_sigma\": 0.05,  # Example market risk\n",
    "            \"active\": self.use_risk_controller\n",
    "        }\n",
    "\n",
    "        self.risk_controller = RiskController(**self.risk_params)\n",
    "        self._calculate_daily_returns()\n",
    "\n",
    "    def _calculate_daily_returns(self):\n",
    "        \"\"\"Calculate daily returns based on close prices for each stock.\"\"\"\n",
    "        prices = self.df.loc[:, self.tech_indicator_list]  # Assuming close prices are among tech indicators\n",
    "        returns = prices.pct_change().fillna(0)\n",
    "        self.df['daily_returns'] = returns.mean(axis=1)  # Storing average daily returns across all stocks\n",
    "    # def _calculate_daily_returns(self):\n",
    "    #     \"\"\"Calculate daily returns based on close prices for each stock and store them individually.\"\"\"\n",
    "    #     prices = self.df.loc[:, self.tech_indicator_list]\n",
    "    #     returns = prices.pct_change().fillna(0)\n",
    "    #     # Add prefix to distinguish daily return columns\n",
    "    #     for col in returns.columns:\n",
    "    #         self.df[f'daily_return_{col}'] = returns[col]\n",
    "\n",
    "\n",
    "    def _sell_stock(self, index, action):\n",
    "        def _do_sell_normal():\n",
    "            if (\n",
    "                self.state[index + 2 * self.stock_dim + 1] != True\n",
    "            ):  # check if the stock is able to sell, for simlicity we just add it in techical index\n",
    "                # if self.state[index + 1] > 0: # if we use price<0 to denote a stock is unable to trade in that day, the total asset calculation may be wrong for the price is unreasonable\n",
    "                # Sell only if the price is > 0 (no missing data in this particular date)\n",
    "                # perform sell action based on the sign of the action\n",
    "                if self.state[index + self.stock_dim + 1] > 0:\n",
    "                    # Sell only if current asset is > 0\n",
    "                    sell_num_shares = min(\n",
    "                        abs(action), self.state[index + self.stock_dim + 1]\n",
    "                    )\n",
    "                    sell_amount = (\n",
    "                        self.state[index + 1]\n",
    "                        * sell_num_shares\n",
    "                        * (1 - self.sell_cost_pct[index])\n",
    "                    )\n",
    "                    # update balance\n",
    "                    self.state[0] += sell_amount\n",
    "\n",
    "                    self.state[index + self.stock_dim + 1] -= sell_num_shares\n",
    "                    self.cost += (\n",
    "                        self.state[index + 1]\n",
    "                        * sell_num_shares\n",
    "                        * self.sell_cost_pct[index]\n",
    "                    )\n",
    "                    self.trades += 1\n",
    "                else:\n",
    "                    sell_num_shares = 0\n",
    "            else:\n",
    "                sell_num_shares = 0\n",
    "\n",
    "            return sell_num_shares\n",
    "\n",
    "        # perform sell action based on the sign of the action\n",
    "        if self.turbulence_threshold is not None:\n",
    "            if self.turbulence >= self.turbulence_threshold:\n",
    "                if self.state[index + 1] > 0:\n",
    "                    # Sell only if the price is > 0 (no missing data in this particular date)\n",
    "                    # if turbulence goes over threshold, just clear out all positions\n",
    "                    if self.state[index + self.stock_dim + 1] > 0:\n",
    "                        # Sell only if current asset is > 0\n",
    "                        sell_num_shares = self.state[index + self.stock_dim + 1]\n",
    "                        sell_amount = (\n",
    "                            self.state[index + 1]\n",
    "                            * sell_num_shares\n",
    "                            * (1 - self.sell_cost_pct[index])\n",
    "                        )\n",
    "                        # update balance\n",
    "                        self.state[0] += sell_amount\n",
    "                        self.state[index + self.stock_dim + 1] = 0\n",
    "                        self.cost += (\n",
    "                            self.state[index + 1]\n",
    "                            * sell_num_shares\n",
    "                            * self.sell_cost_pct[index]\n",
    "                        )\n",
    "                        self.trades += 1\n",
    "                    else:\n",
    "                        sell_num_shares = 0\n",
    "                else:\n",
    "                    sell_num_shares = 0\n",
    "            else:\n",
    "                sell_num_shares = _do_sell_normal()\n",
    "        else:\n",
    "            sell_num_shares = _do_sell_normal()\n",
    "\n",
    "        return sell_num_shares\n",
    "\n",
    "    def _buy_stock(self, index, action):\n",
    "        def _do_buy():\n",
    "            if (\n",
    "                self.state[index + 2 * self.stock_dim + 1] != True\n",
    "            ):  # check if the stock is able to buy\n",
    "                # if self.state[index + 1] >0:\n",
    "                # Buy only if the price is > 0 (no missing data in this particular date)\n",
    "                available_amount = self.state[0] // (\n",
    "                    self.state[index + 1] * (1 + self.buy_cost_pct[index])\n",
    "                )  # when buying stocks, we should consider the cost of trading when calculating available_amount, or we may be have cash<0\n",
    "                # print('available_amount:{}'.format(available_amount))\n",
    "\n",
    "                # update balance\n",
    "                buy_num_shares = min(available_amount, action)\n",
    "                buy_amount = (\n",
    "                    self.state[index + 1]\n",
    "                    * buy_num_shares\n",
    "                    * (1 + self.buy_cost_pct[index])\n",
    "                )\n",
    "                self.state[0] -= buy_amount\n",
    "\n",
    "                self.state[index + self.stock_dim + 1] += buy_num_shares\n",
    "\n",
    "                self.cost += (\n",
    "                    self.state[index + 1] * buy_num_shares * self.buy_cost_pct[index]\n",
    "                )\n",
    "                self.trades += 1\n",
    "            else:\n",
    "                buy_num_shares = 0\n",
    "\n",
    "            return buy_num_shares\n",
    "\n",
    "        # perform buy action based on the sign of the action\n",
    "        if self.turbulence_threshold is None:\n",
    "            buy_num_shares = _do_buy()\n",
    "        else:\n",
    "            if self.turbulence < self.turbulence_threshold:\n",
    "                buy_num_shares = _do_buy()\n",
    "            else:\n",
    "                buy_num_shares = 0\n",
    "                pass\n",
    "\n",
    "        return buy_num_shares\n",
    "\n",
    "    def _make_plot(self):\n",
    "        plt.plot(self.asset_memory, \"r\")\n",
    "        plt.savefig(f\"results/account_value_trade_{self.episode}.png\")\n",
    "        plt.close()\n",
    "\n",
    "    def step(self, actions):\n",
    "\n",
    "        # # Calculate daily returns using the latest available data\n",
    "        # # self._calculate_daily_returns()\n",
    "        # sigma_s_min = self.risk_params['sigma_s_min']\n",
    "\n",
    "        # ## RISK CONTROLLER\n",
    "        # # Extract current prices from the state\n",
    "        # current_prices = self.state[1:1+self.stock_dim]\n",
    "\n",
    "        #print(self.df)\n",
    "        # # Calculate expected returns using the last three daily returns for each stock\n",
    "        # if 'date' in self.df.columns:\n",
    "        #     current_date = self.df.loc[self.day, 'date']\n",
    "        #     past_dates = self.df[self.df['date'] < current_date].tail(3)\n",
    "        #     expected_returns = np.array([past_dates[f'daily_return_{col}'].mean() for col in self.tech_indicator_list])\n",
    "        # else:\n",
    "        #     # If no date column, assume sequential days and use iloc\n",
    "        #     expected_returns = np.array([self.df[f'daily_return_{col}'].iloc[max(self.day-3, 0):self.day].mean() for col in self.tech_indicator_list])\n",
    "\n",
    "        # print(self.df[[f'daily_return_{col}' for col in self.tech_indicator_list]].iloc[max(self.day-3, 0):self.day])\n",
    "        # print(np.array([self.df[f'daily_return_{col}'].mean() for col in self.tech_indicator_list]))\n",
    "\n",
    "        # Continue with risk parameters and action adjustment\n",
    "        sigma_s_min = self.risk_params['sigma_s_min']\n",
    "\n",
    "        ## RISK CONTROLLER\n",
    "        # Extract current prices from the state\n",
    "        current_prices = self.state[1:1+self.stock_dim]  # current prices for stocks\n",
    "\n",
    "        #print(\"good till here 1\")\n",
    "\n",
    "        # Initialize an empty dictionary to store expected returns for each stock\n",
    "        expected_returns = {}\n",
    "\n",
    "        # Loop through each unique stock identifier\n",
    "        for stock in self.df['tic'].unique():\n",
    "            # Filter data for the current stock\n",
    "            stock_data = self.df[self.df['tic'] == stock]\n",
    "            \n",
    "            # Sort by date to ensure correct order of days\n",
    "            stock_data = stock_data.sort_values('date')\n",
    "            \n",
    "            # Calculate the mean of the daily returns for the last three available days\n",
    "            # Here you use iloc to get the last three days' returns\n",
    "            if len(stock_data) >= 3:\n",
    "                last_three_returns = stock_data['daily_returns'].iloc[-3:]\n",
    "                expected_returns[stock] = last_three_returns.mean()\n",
    "            else:\n",
    "                # If less than three days of data is available, handle appropriately\n",
    "                expected_returns[stock] = 0  # or use NaN or any suitable default/fallback value\n",
    "\n",
    "        # Extracting the expected returns from the dictionary to an array\n",
    "        expected_returns_array = np.array(list(expected_returns.values()))\n",
    "        #print(\"Expected Returns Array:\", expected_returns_array)\n",
    "\n",
    "        expected_returns = expected_returns_array\n",
    "\n",
    "        # if 'date' in self.df.columns:\n",
    "        #     current_date = self.df.loc[self.day, 'date']\n",
    "        #     # Select past dates for each stock\n",
    "        #     past_dates = self.df[(self.df['date'] < current_date)].tail(3)\n",
    "        #     # Calculate mean returns for each stock over the last three days\n",
    "        #     expected_returns = past_dates.groupby('tic')['daily_returns'].mean()\n",
    "        # if 'date' in self.df.columns:\n",
    "        #     # current_date = self.df.loc[self.day, 'date']\n",
    "        #     # Convert to datetime to ensure proper formatting and operations\n",
    "        #     self.df['date'] = pd.to_datetime(self.df['date'])\n",
    "            \n",
    "        #     # Assume 'self.day' is an integer that represents an index in a list of unique days\n",
    "        #     unique_dates = self.df['date'].drop_duplicates().reset_index(drop=True)\n",
    "        #     if self.day < len(unique_dates):\n",
    "        #         current_date = unique_dates[self.day]\n",
    "        #         print(\"Current Date:\", current_date)\n",
    "        #     else:\n",
    "        #         print(\"Day index out of range\")\n",
    "        #     print(current_date)\n",
    "        #     past_dates = self.df[self.df['date'] < current_date].tail(3)\n",
    "        #     print(past_dates)\n",
    "        #     # Calculate mean even if less than 3 days available\n",
    "        #     expected_returns = past_dates.groupby('tic')['daily_returns'].mean() if not past_dates.empty else 0\n",
    "        # else:\n",
    "        #     # Assuming the DataFrame is already filtered to only include relevant days\n",
    "        #     expected_returns = self.df.groupby('tic')['daily_returns'].iloc[max(self.day-3, 0):self.day].mean()\n",
    "\n",
    "        # print(\"exp returns,\", expected_returns)\n",
    "\n",
    "        # # Calculate expected returns using the last three daily returns for each stock\n",
    "        # # if 'date' in self.df.columns:\n",
    "        # #     current_date = self.df.loc[self.day, 'date']\n",
    "        # #     past_dates = self.df[self.df['date'] < current_date].tail(3)\n",
    "        # #     expected_returns = past_dates['daily_returns'].mean(axis=0)\n",
    "        # # else:\n",
    "        # #     # If no date column, assume sequential days and use iloc\n",
    "        # #expected_returns = self.df['daily_returns'].iloc[max(self.day-3, 0):self.day].mean()\n",
    "        # print(self.df['daily_returns'].iloc[max(self.day-3, 0):self.day])\n",
    "        # print(self.df['daily_returns'].mean(axis=0))\n",
    "\n",
    "        # Get recent performance from the asset memory\n",
    "        recent_performance = self.asset_memory[-10:]  # last 10 performances\n",
    "        sigma_alpha_t=np.std(recent_performance)  # simplistic strategy risk\n",
    "\n",
    "        sigma_alpha_t_new=np.linalg.norm((np.dot(np.diag(current_prices) , actions)),2)  # simplistic strategy risk\n",
    "\n",
    "        # print (\"diag of current prices shape (sigma k t1)\", np.diag(current_prices).shape)\n",
    "        # print (\"actions shape\", actions.shape)\n",
    "        # print (\"sigma alpha t old \", sigma_alpha_t)\n",
    "        # print (\"sigma alpha t old shape\", sigma_alpha_t)\n",
    "        # print (\"sigma alpha t old type\", type(sigma_alpha_t))\n",
    "\n",
    "\n",
    "        # print (\"sigma alpha t new \", sigma_alpha_t_new)\n",
    "        # print (\"sigma alpha t new type\", type(sigma_alpha_t_new))\n",
    "        # print (\"sigma alpha t new shape\", sigma_alpha_t.shape)\n",
    "        # print (\"np.diag(current_prices) * actions\",np.diag(current_prices) * actions)\n",
    "\n",
    "        # print(sigma_alpha_t,sigma_alpha_t_new)\n",
    "        actions_original = actions  # Store original actions for comparison\n",
    "        #print(\"action sum\", np.sum(actions))\n",
    "\n",
    "        #print(\"good till here\")\n",
    "        # Adjust actions using the RiskController\n",
    "        actions = self.risk_controller.adjust_actions(\n",
    "            a_rl=actions,\n",
    "            delta_p_t1=expected_returns,  # this is an array if multiple stocks\n",
    "            sigma_k_t1=np.diag(current_prices),  # simplistic sigma calculaon\n",
    "            # sigma_alpha_t=np.std(recent_performance),  # simplistic strategy risk\n",
    "            # sigma_alpha_t=np.linalg.norm(np.diag(current_prices) * actions),  # simplistic strategy risk\n",
    "            sigma_alpha_t=sigma_alpha_t_new,  # simplistic strategy risk\n",
    "\n",
    "            sigma_s_t=sigma_s_min,  # example static risk setting\n",
    "            recent_performance=recent_performance\n",
    "        )\n",
    "\n",
    "        #risk sigma_alpha_t = is norm(sigma_k_t_1 * a_rl )\n",
    "\n",
    "\n",
    "\n",
    "        # print(\"Market Risk: \", np.std(recent_performance)+self.risk_params[\"market_risk_sigma\"])\n",
    "        # sigma_s_min = self.risk_params['sigma_s_min']\n",
    "\n",
    "        # ## RISK CONTROLLER \n",
    "        # # Example to calculate necessary parameters for risk adjustment\n",
    "        # current_prices = self.state[1:1+self.stock_dim]  # current prices for stocks\n",
    "        # #expected_returns = self.df.loc[self.day+1, 'expected_return'] if self.day+1 < len(self.df) else 0\n",
    "        # expected_returns = self.df['daily_returns'].iloc[max(self.day-3, 0):self.day].mean()\n",
    "        # #print(\"here\")\n",
    "        # recent_performance = self.asset_memory[-10:]  # last 10 performances\n",
    "\n",
    "        # actions_original = actions\n",
    "\n",
    "        # # Adjust actions using the RiskController\n",
    "        # actions = self.risk_controller.adjust_actions(\n",
    "        #     a_rl=actions,\n",
    "        #     delta_p_t1=expected_returns,  # this is an array if multiple stocks\n",
    "        #     sigma_k_t1=np.diag(current_prices),  # simplistic sigma calculation\n",
    "        #     sigma_alpha_t=np.std(recent_performance),  # simplistic strategy risk\n",
    "        #     sigma_s_t=sigma_s_min, #self.risk_params['sigma_s_min'],  # example static risk setting\n",
    "        #     recent_performance=recent_performance\n",
    "        # )\n",
    "        \n",
    "        #print(\"action diff:\", actions_original - actions)\n",
    "        \n",
    "        self.terminal = self.day >= len(self.df.index.unique()) - 1\n",
    "        if self.terminal:\n",
    "            #DURING PREDICTION?\n",
    "            print(\"risk memory:\",len(self.risks_memory))\n",
    "            print (self.risks_memory)\n",
    "            # print(f\"Episode: {self.episode}\")\n",
    "            if self.make_plots:\n",
    "                self._make_plot()\n",
    "            end_total_asset = self.state[0] + sum(\n",
    "                np.array(self.state[1 : (self.stock_dim + 1)])\n",
    "                * np.array(self.state[(self.stock_dim + 1) : (self.stock_dim * 2 + 1)])\n",
    "            )\n",
    "            df_total_value = pd.DataFrame(self.asset_memory)\n",
    "            tot_reward = (\n",
    "                self.state[0]\n",
    "                + sum(\n",
    "                    np.array(self.state[1 : (self.stock_dim + 1)])\n",
    "                    * np.array(\n",
    "                        self.state[(self.stock_dim + 1) : (self.stock_dim * 2 + 1)]\n",
    "                    )\n",
    "                )\n",
    "                - self.asset_memory[0]\n",
    "            )  # initial_amount is only cash part of our initial asset\n",
    "            df_total_value.columns = [\"account_value\"]\n",
    "            df_total_value[\"date\"] = self.date_memory\n",
    "            df_total_value[\"daily_return\"] = df_total_value[\"account_value\"].pct_change(\n",
    "                1\n",
    "            )\n",
    "            if df_total_value[\"daily_return\"].std() != 0:\n",
    "                sharpe = (\n",
    "                    (252**0.5)\n",
    "                    * df_total_value[\"daily_return\"].mean()\n",
    "                    / df_total_value[\"daily_return\"].std()\n",
    "                )\n",
    "            df_rewards = pd.DataFrame(self.rewards_memory)\n",
    "            df_rewards.columns = [\"account_rewards\"]\n",
    "            df_rewards[\"date\"] = self.date_memory[:-1]\n",
    "\n",
    "            df_risks = pd.DataFrame(self.risks_memory)\n",
    "            df_risks.columns = [\"short_term_risk\"]\n",
    "            df_risks[\"date\"] = self.date_memory[:-1]\n",
    "\n",
    "\n",
    "            if self.episode % self.print_verbosity == 0:\n",
    "                \n",
    "                print(f\"day: {self.day}, episode: {self.episode}\")\n",
    "                print(f\"begin_total_asset: {self.asset_memory[0]:0.2f}\")\n",
    "                print(f\"end_total_asset: {end_total_asset:0.2f}\")\n",
    "                print(f\"total_reward: {tot_reward:0.2f}\")\n",
    "                print(f\"total_cost: {self.cost:0.2f}\")\n",
    "                print(f\"total_trades: {self.trades}\")\n",
    "                # print(f\"short term risk: {self.r}\")\n",
    "\n",
    "                if df_total_value[\"daily_return\"].std() != 0:\n",
    "                    print(f\"Sharpe: {sharpe:0.3f}\")\n",
    "                print(\"=================================\")\n",
    "\n",
    "            if (self.model_name != \"\") and (self.mode != \"\"):\n",
    "                df_actions = self.save_action_memory()\n",
    "                df_actions.to_csv(\n",
    "                    \"results/actions_{}_{}_{}.csv\".format(\n",
    "                        self.mode, self.model_name, self.iteration\n",
    "                    )\n",
    "                )\n",
    "                df_total_value.to_csv(\n",
    "                    \"results/account_value_{}_{}_{}.csv\".format(\n",
    "                        self.mode, self.model_name, self.iteration\n",
    "                    ),\n",
    "                    index=False,\n",
    "                )\n",
    "                df_risks.to_csv(\n",
    "                    \"results/account_risks_{}_{}_{}.csv\".format(\n",
    "                        self.mode, self.model_name, self.iteration\n",
    "                    ),\n",
    "                    index=False,\n",
    "                )\n",
    "                plt.plot(self.risks_memory, \"r\")\n",
    "                plt.savefig(\n",
    "                    \"results/risk_value_{}_{}_{}.png\".format(\n",
    "                        self.mode, self.model_name, self.iteration\n",
    "                    )\n",
    "                )\n",
    "                plt.close()\n",
    "\n",
    "\n",
    "                df_rewards.to_csv(\n",
    "                    \"results/account_rewards_{}_{}_{}.csv\".format(\n",
    "                        self.mode, self.model_name, self.iteration\n",
    "                    ),\n",
    "                    index=False,\n",
    "                )\n",
    "                plt.plot(self.asset_memory, \"r\")\n",
    "                plt.savefig(\n",
    "                    \"results/account_value_{}_{}_{}.png\".format(\n",
    "                        self.mode, self.model_name, self.iteration\n",
    "                    )\n",
    "                )\n",
    "                plt.close()\n",
    "\n",
    "            # Add outputs to logger interface\n",
    "            # logger.record(\"environment/portfolio_value\", end_total_asset)\n",
    "            # logger.record(\"environment/total_reward\", tot_reward)\n",
    "            # logger.record(\"environment/total_reward_pct\", (tot_reward / (end_total_asset - tot_reward)) * 100)\n",
    "            # logger.record(\"environment/total_cost\", self.cost)\n",
    "            # logger.record(\"environment/total_trades\", self.trades)\n",
    "\n",
    "            return self.state, self.reward, self.terminal, False, {}\n",
    "\n",
    "        else:\n",
    "            actions = actions * self.hmax  # actions initially is scaled between 0 to 1\n",
    "            actions = actions.astype(\n",
    "                int\n",
    "            )  # convert into integer because we can't by fraction of shares\n",
    "\n",
    "            #print(\"integer actions\", actions)\n",
    "            if self.turbulence_threshold is not None:\n",
    "                if self.turbulence >= self.turbulence_threshold:\n",
    "                    actions = np.array([-self.hmax] * self.stock_dim)\n",
    "            begin_total_asset = self.state[0] + sum(\n",
    "                np.array(self.state[1 : (self.stock_dim + 1)])\n",
    "                * np.array(self.state[(self.stock_dim + 1) : (self.stock_dim * 2 + 1)])\n",
    "            )\n",
    "            # print(\"begin_total_asset:{}\".format(begin_total_asset))\n",
    "\n",
    "            argsort_actions = np.argsort(actions)\n",
    "            sell_index = argsort_actions[: np.where(actions < 0)[0].shape[0]]\n",
    "            buy_index = argsort_actions[::-1][: np.where(actions > 0)[0].shape[0]]\n",
    "\n",
    "            for index in sell_index:\n",
    "                # print(f\"Num shares before: {self.state[index+self.stock_dim+1]}\")\n",
    "                # print(f'take sell action before : {actions[index]}')\n",
    "                actions[index] = self._sell_stock(index, actions[index]) * (-1)\n",
    "                # print(f'take sell action after : {actions[index]}')\n",
    "                # print(f\"Num shares after: {self.state[index+self.stock_dim+1]}\")\n",
    "\n",
    "            for index in buy_index:\n",
    "                # print('take buy action: {}'.format(actions[index]))\n",
    "                actions[index] = self._buy_stock(index, actions[index])\n",
    "\n",
    "            self.actions_memory.append(actions)\n",
    "\n",
    "            # state: s -> s+1\n",
    "            self.day += 1\n",
    "            self.data = self.df.loc[self.day, :]\n",
    "            if self.turbulence_threshold is not None:\n",
    "                if len(self.df.tic.unique()) == 1:\n",
    "                    self.turbulence = self.data[self.risk_indicator_col]\n",
    "                elif len(self.df.tic.unique()) > 1:\n",
    "                    self.turbulence = self.data[self.risk_indicator_col].values[0]\n",
    "            self.state = self._update_state()\n",
    "\n",
    "            end_total_asset = self.state[0] + sum(\n",
    "                np.array(self.state[1 : (self.stock_dim + 1)])\n",
    "                * np.array(self.state[(self.stock_dim + 1) : (self.stock_dim * 2 + 1)])\n",
    "            )\n",
    "            self.asset_memory.append(end_total_asset)\n",
    "            self.date_memory.append(self._get_date())\n",
    "            self.reward = end_total_asset - begin_total_asset\n",
    "            self.rewards_memory.append(self.reward)\n",
    "            self.reward = self.reward * self.reward_scaling\n",
    "\n",
    "            #CALCULATE AND LOG SHORT TERM RISK FOR PLOTTING\n",
    "\n",
    "            # sigma_a_t=np.linalg.norm((np.dot(np.diag(current_prices) , actions)),2),  # simplistic strategy risk\n",
    "            # sigma_a_t=np.std(recent_performance) \n",
    "            self.short_term_risk = sigma_alpha_t_new+self.risk_params[\"market_risk_sigma\"]\n",
    "            self.risks_memory.append(self.short_term_risk)\n",
    "\n",
    "            # if len(self.risks_memory) == len(self.asset_memory):\n",
    "            #     self.risks_memory = []\n",
    "\n",
    "\n",
    "            # print (\"risk memory\",self.risks_memory)\n",
    "\n",
    "\n",
    "            self.state_memory.append(\n",
    "                self.state\n",
    "            )  # add current state in state_recorder for each step\n",
    "\n",
    "        return self.state, self.reward, self.terminal, False, {}\n",
    "\n",
    "    def reset(\n",
    "        self,\n",
    "        *,\n",
    "        seed=None,\n",
    "        options=None,\n",
    "    ):\n",
    "        # initiate state\n",
    "        self.day = 0\n",
    "        self.data = self.df.loc[self.day, :]\n",
    "        self.state = self._initiate_state()\n",
    "\n",
    "        if self.initial:\n",
    "            self.asset_memory = [\n",
    "                self.initial_amount\n",
    "                + np.sum(\n",
    "                    np.array(self.num_stock_shares)\n",
    "                    * np.array(self.state[1 : 1 + self.stock_dim])\n",
    "                )\n",
    "            ]\n",
    "        else:\n",
    "            previous_total_asset = self.previous_state[0] + sum(\n",
    "                np.array(self.state[1 : (self.stock_dim + 1)])\n",
    "                * np.array(\n",
    "                    self.previous_state[(self.stock_dim + 1) : (self.stock_dim * 2 + 1)]\n",
    "                )\n",
    "            )\n",
    "            self.asset_memory = [previous_total_asset]\n",
    "\n",
    "        self.turbulence = 0\n",
    "        self.cost = 0\n",
    "        self.trades = 0\n",
    "        self.terminal = False\n",
    "        # self.iteration=self.iteration\n",
    "        self.rewards_memory = []\n",
    "        # self.risks_memory = []\n",
    "        self.actions_memory = []\n",
    "        self.date_memory = [self._get_date()]\n",
    "\n",
    "        self.episode += 1\n",
    "\n",
    "        return self.state, {}\n",
    "\n",
    "    def render(self, mode=\"human\", close=False):\n",
    "        return self.state\n",
    "\n",
    "    def _initiate_state(self):\n",
    "        if self.initial:\n",
    "            # For Initial State\n",
    "            if len(self.df.tic.unique()) > 1:\n",
    "                # for multiple stock\n",
    "                state = (\n",
    "                    [self.initial_amount]\n",
    "                    + self.data.close.values.tolist()\n",
    "                    + self.num_stock_shares\n",
    "                    + sum(\n",
    "                        (\n",
    "                            self.data[tech].values.tolist()\n",
    "                            for tech in self.tech_indicator_list\n",
    "                        ),\n",
    "                        [],\n",
    "                    )\n",
    "                )  # append initial stocks_share to initial state, instead of all zero\n",
    "            else:\n",
    "                # for single stock\n",
    "                state = (\n",
    "                    [self.initial_amount]\n",
    "                    + [self.data.close]\n",
    "                    + [0] * self.stock_dim\n",
    "                    + sum(([self.data[tech]] for tech in self.tech_indicator_list), [])\n",
    "                )\n",
    "        else:\n",
    "            # Using Previous State\n",
    "            if len(self.df.tic.unique()) > 1:\n",
    "                # for multiple stock\n",
    "                state = (\n",
    "                    [self.previous_state[0]]\n",
    "                    + self.data.close.values.tolist()\n",
    "                    + self.previous_state[\n",
    "                        (self.stock_dim + 1) : (self.stock_dim * 2 + 1)\n",
    "                    ]\n",
    "                    + sum(\n",
    "                        (\n",
    "                            self.data[tech].values.tolist()\n",
    "                            for tech in self.tech_indicator_list\n",
    "                        ),\n",
    "                        [],\n",
    "                    )\n",
    "                )\n",
    "            else:\n",
    "                # for single stock\n",
    "                state = (\n",
    "                    [self.previous_state[0]]\n",
    "                    + [self.data.close]\n",
    "                    + self.previous_state[\n",
    "                        (self.stock_dim + 1) : (self.stock_dim * 2 + 1)\n",
    "                    ]\n",
    "                    + sum(([self.data[tech]] for tech in self.tech_indicator_list), [])\n",
    "                )\n",
    "        return state\n",
    "\n",
    "    def _update_state(self):\n",
    "        if len(self.df.tic.unique()) > 1:\n",
    "            # for multiple stock\n",
    "            state = (\n",
    "                [self.state[0]]\n",
    "                + self.data.close.values.tolist()\n",
    "                + list(self.state[(self.stock_dim + 1) : (self.stock_dim * 2 + 1)])\n",
    "                + sum(\n",
    "                    (\n",
    "                        self.data[tech].values.tolist()\n",
    "                        for tech in self.tech_indicator_list\n",
    "                    ),\n",
    "                    [],\n",
    "                )\n",
    "            )\n",
    "\n",
    "        else:\n",
    "            # for single stock\n",
    "            state = (\n",
    "                [self.state[0]]\n",
    "                + [self.data.close]\n",
    "                + list(self.state[(self.stock_dim + 1) : (self.stock_dim * 2 + 1)])\n",
    "                + sum(([self.data[tech]] for tech in self.tech_indicator_list), [])\n",
    "            )\n",
    "\n",
    "        return state\n",
    "\n",
    "    def _get_date(self):\n",
    "        if len(self.df.tic.unique()) > 1:\n",
    "            date = self.data.date.unique()[0]\n",
    "        else:\n",
    "            date = self.data.date\n",
    "        return date\n",
    "\n",
    "    # add save_state_memory to preserve state in the trading process\n",
    "    def save_state_memory(self):\n",
    "        if len(self.df.tic.unique()) > 1:\n",
    "            # date and close price length must match actions length\n",
    "            date_list = self.date_memory[:-1]\n",
    "            df_date = pd.DataFrame(date_list)\n",
    "            df_date.columns = [\"date\"]\n",
    "\n",
    "            state_list = self.state_memory\n",
    "            df_states = pd.DataFrame(\n",
    "                state_list,\n",
    "                columns=[\n",
    "                    \"cash\",\n",
    "                    \"Bitcoin_price\",\n",
    "                    \"Gold_price\",\n",
    "                    \"Bitcoin_num\",\n",
    "                    \"Gold_num\",\n",
    "                    \"Bitcoin_Disable\",\n",
    "                    \"Gold_Disable\",\n",
    "                ],\n",
    "            )\n",
    "            df_states.index = df_date.date\n",
    "            # df_actions = pd.DataFrame({'date':date_list,'actions':action_list})\n",
    "        else:\n",
    "            date_list = self.date_memory[:-1]\n",
    "            state_list = self.state_memory\n",
    "            df_states = pd.DataFrame({\"date\": date_list, \"states\": state_list})\n",
    "        # print(df_states)\n",
    "        return df_states\n",
    "\n",
    "    def save_asset_memory(self):\n",
    "        date_list = self.date_memory\n",
    "        asset_list = self.asset_memory\n",
    "\n",
    "\n",
    "\n",
    "        # df_risks.to_csv(\n",
    "        #     \"results/account_risks_{}_{}_{}.csv\".format(\n",
    "        #         self.mode, self.model_name, self.iteration\n",
    "        #     ),\n",
    "        #     index=False,\n",
    "        # )\n",
    "\n",
    "        # print(len(date_list))\n",
    "        #MAYBE WE CAN SAVE AS AN EXTRA COLUMN IN ASSET MEMORY?\n",
    "\n",
    "        print(len(asset_list))\n",
    "        df_account_value = pd.DataFrame(\n",
    "            {\"date\": date_list, \"account_value\": asset_list}\n",
    "        )\n",
    "\n",
    "        # df_account_value = pd.DataFrame(\n",
    "        #     {\"date\": date_list, \"account_value\": asset_list, \"short_term_risk\": risk_list}\n",
    "        # )\n",
    "\n",
    "        \n",
    "        return df_account_value\n",
    "\n",
    "    def save_action_memory(self):\n",
    "        if len(self.df.tic.unique()) > 1:\n",
    "            # date and close price length must match actions length\n",
    "            date_list = self.date_memory[:-1]\n",
    "            df_date = pd.DataFrame(date_list)\n",
    "            df_date.columns = [\"date\"]\n",
    "\n",
    "            action_list = self.actions_memory\n",
    "            df_actions = pd.DataFrame(action_list)\n",
    "            df_actions.columns = self.data.tic.values\n",
    "            df_actions.index = df_date.date\n",
    "            # df_actions = pd.DataFrame({'date':date_list,'actions':action_list})\n",
    "        else:\n",
    "            date_list = self.date_memory[:-1]\n",
    "            action_list = self.actions_memory\n",
    "            df_actions = pd.DataFrame({\"date\": date_list, \"actions\": action_list})\n",
    "        return df_actions\n",
    "\n",
    "    def _seed(self, seed=None):\n",
    "        self.np_random, seed = seeding.np_random(seed)\n",
    "        return [seed]\n",
    "\n",
    "    def get_sb_env(self):\n",
    "        e = DummyVecEnv([lambda: self])\n",
    "        obs = e.reset()\n",
    "        return e, obs\n",
    "    \n",
    "\n",
    "    def get_risk_mem(self):\n",
    "        # risk_list = self.risks_memory\n",
    "\n",
    "        df_risks = pd.DataFrame(self.risks_memory)\n",
    "        df_risks.columns = [\"short_term_risk\"]\n",
    "        df_risks[\"date\"] = self.date_memory[:-1]\n",
    "        self.risks_memory = []\n",
    "        return df_risks\n",
    "\n"
   ]
  },
  {
   "cell_type": "code",
   "execution_count": 734,
   "metadata": {
    "id": "AWyp84Ltto19"
   },
   "outputs": [
    {
     "name": "stdout",
     "output_type": "stream",
     "text": [
      "Risk Controller Active: True\n"
     ]
    }
   ],
   "source": [
    "buy_cost_list = sell_cost_list = [0.001] * stock_dimension\n",
    "num_stock_shares = [0] * stock_dimension\n",
    "\n",
    "env_kwargs = {\n",
    "    \"hmax\": 100,\n",
    "    \"initial_amount\": 1000000,\n",
    "    \"num_stock_shares\": num_stock_shares,\n",
    "    \"buy_cost_pct\": buy_cost_list,\n",
    "    \"sell_cost_pct\": sell_cost_list,\n",
    "    \"state_space\": state_space,\n",
    "    \"stock_dim\": stock_dimension,\n",
    "    \"tech_indicator_list\": INDICATORS,\n",
    "    \"action_space\": stock_dimension,\n",
    "    \"reward_scaling\": 1e-4,\n",
    "    \"make_plots\": True \n",
    "}\n",
    "\n",
    "\n",
    "e_train_gym = StockTradingEnv(df = train, **env_kwargs)\n",
    "e_train__og_gym = OriginalEnv(df = train, **env_kwargs)"
   ]
  },
  {
   "cell_type": "code",
   "execution_count": null,
   "metadata": {},
   "outputs": [],
   "source": []
  },
  {
   "cell_type": "markdown",
   "metadata": {
    "id": "64EoqOrQjiVf"
   },
   "source": [
    "## Environment for Training\n",
    "\n"
   ]
  },
  {
   "cell_type": "code",
   "execution_count": 735,
   "metadata": {
    "colab": {
     "base_uri": "https://localhost:8080/"
    },
    "id": "xwSvvPjutpqS",
    "outputId": "ad3318cc-a3c6-41ee-cdeb-a4eb317e33bf"
   },
   "outputs": [
    {
     "name": "stdout",
     "output_type": "stream",
     "text": [
      "<class 'stable_baselines3.common.vec_env.dummy_vec_env.DummyVecEnv'>\n"
     ]
    }
   ],
   "source": [
    "env_train, _ = e_train_gym.get_sb_env() #uses risk controller\n",
    "print(type(env_train))"
   ]
  },
  {
   "cell_type": "code",
   "execution_count": 736,
   "metadata": {},
   "outputs": [
    {
     "name": "stdout",
     "output_type": "stream",
     "text": [
      "<class 'stable_baselines3.common.vec_env.dummy_vec_env.DummyVecEnv'>\n"
     ]
    }
   ],
   "source": [
    "env_train_og, _ = e_train__og_gym.get_sb_env() # No Risk Controller\n",
    "print(type(env_train))"
   ]
  },
  {
   "cell_type": "markdown",
   "metadata": {
    "id": "HMNR5nHjh1iz"
   },
   "source": [
    "<a id='5'></a>\n",
    "# Part 6: Train DRL Agents\n",
    "* The DRL algorithms are from **Stable Baselines 3**. Users are also encouraged to try **ElegantRL** and **Ray RLlib**.\n",
    "* FinRL includes fine-tuned standard DRL algorithms, such as DQN, DDPG, Multi-Agent DDPG, PPO, SAC, A2C and TD3. We also allow users to\n",
    "design their own DRL algorithms by adapting these DRL algorithms."
   ]
  },
  {
   "cell_type": "code",
   "execution_count": 737,
   "metadata": {
    "id": "364PsqckttcQ"
   },
   "outputs": [],
   "source": [
    "agent = DRLAgent(env = env_train)\n",
    "\n",
    "if_using_a2c = True\n",
    "if_using_ddpg = False\n",
    "if_using_ppo = False\n",
    "if_using_td3 = False\n",
    "if_using_sac = True\n"
   ]
  },
  {
   "cell_type": "code",
   "execution_count": null,
   "metadata": {},
   "outputs": [],
   "source": []
  },
  {
   "cell_type": "markdown",
   "metadata": {
    "id": "YDmqOyF9h1iz"
   },
   "source": [
    "### Agent Training: 5 algorithms (A2C, DDPG, PPO, TD3, SAC)\n"
   ]
  },
  {
   "cell_type": "markdown",
   "metadata": {
    "id": "uijiWgkuh1jB"
   },
   "source": [
    "### Agent 1a: A2C with Risk Controller\n"
   ]
  },
  {
   "cell_type": "code",
   "execution_count": 738,
   "metadata": {
    "colab": {
     "base_uri": "https://localhost:8080/"
    },
    "id": "GUCnkn-HIbmj",
    "outputId": "6da723f6-2f9b-4d76-8872-328ef56dadfc"
   },
   "outputs": [
    {
     "name": "stdout",
     "output_type": "stream",
     "text": [
      "{'n_steps': 5, 'ent_coef': 0.01, 'learning_rate': 0.0007}\n",
      "Using cpu device\n",
      "Logging to results/a2c\n"
     ]
    }
   ],
   "source": [
    "agent = DRLAgent(env = env_train)\n",
    "model_a2c = agent.get_model(\"a2c\")\n",
    "\n",
    "if if_using_a2c:\n",
    "  # set up logger\n",
    "  tmp_path = RESULTS_DIR + '/a2c'\n",
    "  new_logger_a2c = configure(tmp_path, [\"stdout\", \"csv\", \"tensorboard\"])\n",
    "  # Set new logger\n",
    "  model_a2c.set_logger(new_logger_a2c)\n",
    "  # Save the trained model\n",
    "  model_a2c.save(RESULTS_DIR + '/a2c/trained_model_a2c.zip')\n",
    "\n"
   ]
  },
  {
   "cell_type": "code",
   "execution_count": 739,
   "metadata": {
    "colab": {
     "base_uri": "https://localhost:8080/"
    },
    "id": "0GVpkWGqH4-D",
    "outputId": "a919c17f-f561-45fa-8b55-3c996811a63e"
   },
   "outputs": [
    {
     "name": "stdout",
     "output_type": "stream",
     "text": [
      "---------------------------------------\n",
      "| time/                 |             |\n",
      "|    fps                | 9           |\n",
      "|    iterations         | 100         |\n",
      "|    time_elapsed       | 53          |\n",
      "|    total_timesteps    | 500         |\n",
      "| train/                |             |\n",
      "|    entropy_loss       | -41.4       |\n",
      "|    explained_variance | -0.768      |\n",
      "|    learning_rate      | 0.0007      |\n",
      "|    n_updates          | 99          |\n",
      "|    policy_loss        | -56.1       |\n",
      "|    reward             | -0.25921527 |\n",
      "|    std                | 1.01        |\n",
      "|    value_loss         | 2.32        |\n",
      "---------------------------------------\n",
      "--------------------------------------\n",
      "| time/                 |            |\n",
      "|    fps                | 9          |\n",
      "|    iterations         | 200        |\n",
      "|    time_elapsed       | 102        |\n",
      "|    total_timesteps    | 1000       |\n",
      "| train/                |            |\n",
      "|    entropy_loss       | -41.5      |\n",
      "|    explained_variance | 0          |\n",
      "|    learning_rate      | 0.0007     |\n",
      "|    n_updates          | 199        |\n",
      "|    policy_loss        | 43.5       |\n",
      "|    reward             | 0.06235062 |\n",
      "|    std                | 1.01       |\n",
      "|    value_loss         | 2.1        |\n",
      "--------------------------------------\n"
     ]
    }
   ],
   "source": [
    "# trained_a2c = agent.train_model(model=model_a2c, \n",
    "#                              tb_log_name='a2c',\n",
    "#                              total_timesteps=1000) if if_using_a2c else None\n",
    "try:\n",
    "    trained_a2c = agent.train_model(\n",
    "        model=model_a2c, \n",
    "        tb_log_name='a2c',\n",
    "        total_timesteps=100 #,\n",
    "        #verbose=True  # Increase verbosity to get more info on errors\n",
    "    ) if if_using_a2c else None\n",
    "except Exception as e:\n",
    "    print(\"Failed to train due to:\", e)\n",
    "    # Optional: Try a different configuration or handle the failure\n",
    "\n",
    "\n",
    "\n",
    "# print(e_train_gym.get_risk_mem())\n",
    "\n"
   ]
  },
  {
   "cell_type": "code",
   "execution_count": 740,
   "metadata": {},
   "outputs": [],
   "source": [
    "# print(e_train_gym.get_risk_mem())\n",
    "\n",
    "# df_risk_a2c_rc = e_train_gym.get_risk_mem().set_index(e_train_gym.get_risk_mem().columns[0])\n",
    "\n",
    "\n",
    "\n",
    "# result = df_risk_a2c_rc\n",
    "# %matplotlib inline\n",
    "# plt.rcParams[\"figure.figsize\"] = (15,5)\n",
    "# plt.figure();\n",
    "\n",
    "# result.plot();\n"
   ]
  },
  {
   "cell_type": "markdown",
   "metadata": {},
   "source": [
    "### Agent 1b: A2C with no Risk Controller\n",
    "\n"
   ]
  },
  {
   "cell_type": "code",
   "execution_count": 741,
   "metadata": {},
   "outputs": [
    {
     "name": "stdout",
     "output_type": "stream",
     "text": [
      "{'n_steps': 5, 'ent_coef': 0.01, 'learning_rate': 0.0007}\n",
      "Using cpu device\n",
      "Logging to results/a2c\n"
     ]
    }
   ],
   "source": [
    "agent = DRLAgent(env = env_train_og)\n",
    "model_a2c = agent.get_model(\"a2c\")\n",
    "\n",
    "if if_using_a2c:\n",
    "  # set up logger\n",
    "  tmp_path = RESULTS_DIR + '/a2c'\n",
    "  new_logger_a2c = configure(tmp_path, [\"stdout\", \"csv\", \"tensorboard\"])\n",
    "  # Set new logger\n",
    "  model_a2c.set_logger(new_logger_a2c)\n",
    "  # Save the trained model\n",
    "  model_a2c.save(RESULTS_DIR + '/a2c/trained_model_a2c_no_rc.zip')\n",
    "\n"
   ]
  },
  {
   "cell_type": "code",
   "execution_count": 742,
   "metadata": {},
   "outputs": [
    {
     "name": "stdout",
     "output_type": "stream",
     "text": [
      "---------------------------------------\n",
      "| time/                 |             |\n",
      "|    fps                | 214         |\n",
      "|    iterations         | 100         |\n",
      "|    time_elapsed       | 2           |\n",
      "|    total_timesteps    | 500         |\n",
      "| train/                |             |\n",
      "|    entropy_loss       | -41.3       |\n",
      "|    explained_variance | 0.0368      |\n",
      "|    learning_rate      | 0.0007      |\n",
      "|    n_updates          | 99          |\n",
      "|    policy_loss        | -56.7       |\n",
      "|    reward             | -0.17288357 |\n",
      "|    std                | 1.01        |\n",
      "|    value_loss         | 2.65        |\n",
      "---------------------------------------\n"
     ]
    },
    {
     "name": "stdout",
     "output_type": "stream",
     "text": [
      "-------------------------------------\n",
      "| time/                 |           |\n",
      "|    fps                | 231       |\n",
      "|    iterations         | 200       |\n",
      "|    time_elapsed       | 4         |\n",
      "|    total_timesteps    | 1000      |\n",
      "| train/                |           |\n",
      "|    entropy_loss       | -41.3     |\n",
      "|    explained_variance | 0         |\n",
      "|    learning_rate      | 0.0007    |\n",
      "|    n_updates          | 199       |\n",
      "|    policy_loss        | -12       |\n",
      "|    reward             | 0.6584669 |\n",
      "|    std                | 1.01      |\n",
      "|    value_loss         | 1.57      |\n",
      "-------------------------------------\n"
     ]
    }
   ],
   "source": [
    "# trained_a2c = agent.train_model(model=model_a2c, \n",
    "#                              tb_log_name='a2c',\n",
    "#                              total_timesteps=1000) if if_using_a2c else None\n",
    "try:\n",
    "    trained_a2c_no_rc = agent.train_model(\n",
    "        model=model_a2c, \n",
    "        tb_log_name='a2c',\n",
    "        total_timesteps=100 #,\n",
    "        #verbose=True  # Increase verbosity to get more info on errors\n",
    "    ) if if_using_a2c else None\n",
    "except Exception as e:\n",
    "    print(\"Failed to train due to:\", e)\n",
    "    # Optional: Try a different configuration or handle the failure\n",
    "    \n"
   ]
  },
  {
   "cell_type": "markdown",
   "metadata": {
    "id": "MRiOtrywfAo1"
   },
   "source": [
    "### Agent 2: DDPG"
   ]
  },
  {
   "cell_type": "code",
   "execution_count": 743,
   "metadata": {
    "colab": {
     "base_uri": "https://localhost:8080/"
    },
    "id": "M2YadjfnLwgt",
    "outputId": "883736bb-5b14-4306-816f-b7596b90275d"
   },
   "outputs": [
    {
     "name": "stdout",
     "output_type": "stream",
     "text": [
      "{'batch_size': 128, 'buffer_size': 50000, 'learning_rate': 0.001}\n",
      "Using cpu device\n"
     ]
    }
   ],
   "source": [
    "agent = DRLAgent(env = env_train)\n",
    "model_ddpg = agent.get_model(\"ddpg\")\n",
    "\n",
    "if if_using_ddpg:\n",
    "  # set up logger\n",
    "  tmp_path = RESULTS_DIR + '/ddpg'\n",
    "  new_logger_ddpg = configure(tmp_path, [\"stdout\", \"csv\", \"tensorboard\"])\n",
    "  # Set new logger\n",
    "  model_ddpg.set_logger(new_logger_ddpg)\n",
    "  # Save the trained model\n",
    "  model_ddpg.save(tmp_path + '/trained_model_ddpg.zip')"
   ]
  },
  {
   "cell_type": "code",
   "execution_count": 744,
   "metadata": {
    "colab": {
     "base_uri": "https://localhost:8080/"
    },
    "id": "tCDa78rqfO_a",
    "outputId": "c9962d70-9180-4377-daa7-0ae7363b8091"
   },
   "outputs": [],
   "source": [
    "trained_ddpg = agent.train_model(model=model_ddpg, \n",
    "                             tb_log_name='ddpg',\n",
    "                             total_timesteps=5000) if if_using_ddpg else None"
   ]
  },
  {
   "cell_type": "markdown",
   "metadata": {
    "id": "_gDkU-j-fCmZ"
   },
   "source": [
    "### Agent 3: PPO"
   ]
  },
  {
   "cell_type": "code",
   "execution_count": 745,
   "metadata": {
    "colab": {
     "base_uri": "https://localhost:8080/"
    },
    "id": "y5D5PFUhMzSV",
    "outputId": "01b7bbbb-7dce-4370-fe61-9098d4e5e978"
   },
   "outputs": [
    {
     "name": "stdout",
     "output_type": "stream",
     "text": [
      "{'n_steps': 2048, 'ent_coef': 0.01, 'learning_rate': 0.00025, 'batch_size': 128}\n",
      "Using cpu device\n"
     ]
    }
   ],
   "source": [
    "agent = DRLAgent(env = env_train)\n",
    "PPO_PARAMS = {\n",
    "    \"n_steps\": 2048,\n",
    "    \"ent_coef\": 0.01,\n",
    "    \"learning_rate\": 0.00025,\n",
    "    \"batch_size\": 128,\n",
    "}\n",
    "model_ppo = agent.get_model(\"ppo\",model_kwargs = PPO_PARAMS)\n",
    "\n",
    "if if_using_ppo:\n",
    "  # set up logger\n",
    "  tmp_path = RESULTS_DIR + '/ppo'\n",
    "  new_logger_ppo = configure(tmp_path, [\"stdout\", \"csv\", \"tensorboard\"])\n",
    "  # Set new logger\n",
    "  model_ppo.set_logger(new_logger_ppo)\n",
    "  # Save the trained model\n",
    "  model_ppo.save(tmp_path + '/trained_model_ppo.zip')"
   ]
  },
  {
   "cell_type": "code",
   "execution_count": 746,
   "metadata": {
    "colab": {
     "base_uri": "https://localhost:8080/"
    },
    "id": "Gt8eIQKYM4G3",
    "outputId": "54235862-b58b-4bd0-db25-1c62931703e0"
   },
   "outputs": [],
   "source": [
    "trained_ppo = agent.train_model(model=model_ppo, \n",
    "                             tb_log_name='ppo',\n",
    "                             total_timesteps=5000) if if_using_ppo else None"
   ]
  },
  {
   "cell_type": "markdown",
   "metadata": {
    "id": "3Zpv4S0-fDBv"
   },
   "source": [
    "### Agent 4: TD3"
   ]
  },
  {
   "cell_type": "code",
   "execution_count": 747,
   "metadata": {
    "colab": {
     "base_uri": "https://localhost:8080/"
    },
    "id": "JSAHhV4Xc-bh",
    "outputId": "b0762c2c-09b6-4351-876a-59cd08be4707"
   },
   "outputs": [
    {
     "name": "stdout",
     "output_type": "stream",
     "text": [
      "{'batch_size': 100, 'buffer_size': 1000000, 'learning_rate': 0.001}\n",
      "Using cpu device\n"
     ]
    }
   ],
   "source": [
    "agent = DRLAgent(env = env_train)\n",
    "TD3_PARAMS = {\"batch_size\": 100, \n",
    "              \"buffer_size\": 1000000, \n",
    "              \"learning_rate\": 0.001}\n",
    "\n",
    "model_td3 = agent.get_model(\"td3\",model_kwargs = TD3_PARAMS) #do not fine tune pretrained model!\n",
    "\n",
    "if if_using_td3:\n",
    "  # set up logger\n",
    "  tmp_path = RESULTS_DIR + '/td3'\n",
    "  new_logger_td3 = configure(tmp_path, [\"stdout\", \"csv\", \"tensorboard\"])\n",
    "  # Set new logger\n",
    "  model_td3.set_logger(new_logger_td3)\n",
    "  # Save the trained model\n",
    "  model_td3.save(tmp_path + '/trained_model_td3.zip')"
   ]
  },
  {
   "cell_type": "code",
   "execution_count": 748,
   "metadata": {
    "colab": {
     "base_uri": "https://localhost:8080/"
    },
    "id": "OSRxNYAxdKpU",
    "outputId": "31b518ef-3966-413c-89f9-d83a037e55b4"
   },
   "outputs": [],
   "source": [
    "trained_td3 = agent.train_model(model=model_td3, \n",
    "                             tb_log_name='td3',\n",
    "                             total_timesteps=5000) if if_using_td3 else None"
   ]
  },
  {
   "cell_type": "markdown",
   "metadata": {
    "id": "Dr49PotrfG01"
   },
   "source": [
    "### Agent 5a: SAC with Risk Controller"
   ]
  },
  {
   "cell_type": "code",
   "execution_count": 749,
   "metadata": {
    "colab": {
     "base_uri": "https://localhost:8080/"
    },
    "id": "xwOhVjqRkCdM",
    "outputId": "a5ebf4e2-34ca-4bf5-8980-08d37a0659e0"
   },
   "outputs": [
    {
     "name": "stdout",
     "output_type": "stream",
     "text": [
      "{'batch_size': 128, 'buffer_size': 100000, 'learning_rate': 0.0001, 'learning_starts': 100, 'ent_coef': 'auto_0.1'}\n",
      "Using cpu device\n",
      "Logging to results/sac\n"
     ]
    }
   ],
   "source": [
    "agent = DRLAgent(env = env_train)\n",
    "SAC_PARAMS = {\n",
    "    \"batch_size\": 128,\n",
    "    \"buffer_size\": 100000,\n",
    "    \"learning_rate\": 0.0001,\n",
    "    \"learning_starts\": 100,\n",
    "    \"ent_coef\": \"auto_0.1\",\n",
    "}\n",
    "\n",
    "model_sac = agent.get_model(\"sac\",model_kwargs = SAC_PARAMS)\n",
    "\n",
    "if if_using_sac:\n",
    "  # set up logger\n",
    "  tmp_path = RESULTS_DIR + '/sac'\n",
    "  new_logger_sac = configure(tmp_path, [\"stdout\", \"csv\", \"tensorboard\"])\n",
    "  # Set new logger\n",
    "  model_sac.set_logger(new_logger_sac)\n",
    "  # Save the trained model\n",
    "  model_sac.save(tmp_path + '/trained_model_sac.zip')\n",
    "\n",
    "\n",
    "\n",
    "  "
   ]
  },
  {
   "cell_type": "code",
   "execution_count": 750,
   "metadata": {
    "colab": {
     "base_uri": "https://localhost:8080/"
    },
    "id": "K8RSdKCckJyH",
    "outputId": "7f1e46f5-7124-4b6d-8fe7-f8071760cfe5"
   },
   "outputs": [],
   "source": [
    "trained_sac = agent.train_model(model=model_sac, \n",
    "                             tb_log_name='sac',\n",
    "                             total_timesteps=50) if if_using_sac else None"
   ]
  },
  {
   "cell_type": "markdown",
   "metadata": {},
   "source": [
    "### Agent 5b: SAC with no Risk Controller"
   ]
  },
  {
   "cell_type": "code",
   "execution_count": 751,
   "metadata": {},
   "outputs": [
    {
     "name": "stdout",
     "output_type": "stream",
     "text": [
      "{'batch_size': 128, 'buffer_size': 100000, 'learning_rate': 0.0001, 'learning_starts': 100, 'ent_coef': 'auto_0.1'}\n",
      "Using cpu device\n",
      "Logging to results/sac\n"
     ]
    }
   ],
   "source": [
    "agent = DRLAgent(env = env_train_og)\n",
    "# SAC_PARAMS = {\n",
    "#     \"batch_size\": 128,\n",
    "#     \"buffer_size\": 100000,\n",
    "#     \"learning_rate\": 0.0001,\n",
    "#     \"learning_starts\": 100,\n",
    "#     \"ent_coef\": \"auto_0.1\",\n",
    "# }\n",
    "\n",
    "model_sac = agent.get_model(\"sac\",model_kwargs = SAC_PARAMS)\n",
    "\n",
    "if if_using_sac:\n",
    "  # set up logger\n",
    "  tmp_path = RESULTS_DIR + '/sac'\n",
    "  new_logger_sac = configure(tmp_path, [\"stdout\", \"csv\", \"tensorboard\"])\n",
    "  # Set new logger\n",
    "  model_sac.set_logger(new_logger_sac)\n",
    "  # Save the trained model\n",
    "  model_sac.save(tmp_path + '/trained_model_sac_no_rc.zip')\n",
    "  "
   ]
  },
  {
   "cell_type": "code",
   "execution_count": 752,
   "metadata": {},
   "outputs": [],
   "source": [
    "trained_sac_no_rc = agent.train_model(model=model_sac, \n",
    "                             tb_log_name='sac',\n",
    "                             total_timesteps=50) if if_using_sac else None"
   ]
  },
  {
   "cell_type": "markdown",
   "metadata": {
    "id": "f2wZgkQXh1jE"
   },
   "source": [
    "## In-sample Performance\n",
    "\n",
    "Assume that the initial capital is $1,000,000."
   ]
  },
  {
   "cell_type": "markdown",
   "metadata": {
    "id": "bEv5KGC8h1jE"
   },
   "source": [
    "### Set turbulence threshold\n",
    "Set the turbulence threshold to be greater than the maximum of insample turbulence data. If current turbulence index is greater than the threshold, then we assume that the current market is volatile"
   ]
  },
  {
   "cell_type": "code",
   "execution_count": 753,
   "metadata": {
    "id": "efwBi84ch1jE"
   },
   "outputs": [],
   "source": [
    "data_risk_indicator = processed_full[(processed_full.date<TRAIN_END_DATE) & (processed_full.date>=TRAIN_START_DATE)]\n",
    "insample_risk_indicator = data_risk_indicator.drop_duplicates(subset=['date'])"
   ]
  },
  {
   "cell_type": "code",
   "execution_count": 754,
   "metadata": {
    "colab": {
     "base_uri": "https://localhost:8080/"
    },
    "id": "VHZMBpSqh1jG",
    "outputId": "ffa57923-17e2-436e-c970-fcc52112a098"
   },
   "outputs": [
    {
     "data": {
      "text/plain": [
       "count    2957.000000\n",
       "mean       18.105293\n",
       "std         7.272476\n",
       "min         9.140000\n",
       "25%        13.370000\n",
       "50%        16.209999\n",
       "75%        20.629999\n",
       "max        82.690002\n",
       "Name: vix, dtype: float64"
      ]
     },
     "execution_count": 754,
     "metadata": {},
     "output_type": "execute_result"
    }
   ],
   "source": [
    "insample_risk_indicator.vix.describe()"
   ]
  },
  {
   "cell_type": "code",
   "execution_count": 755,
   "metadata": {
    "colab": {
     "base_uri": "https://localhost:8080/"
    },
    "id": "BDkszkMloRWT",
    "outputId": "7c539b2c-6223-4d00-d571-7af992f976bf"
   },
   "outputs": [
    {
     "data": {
      "text/plain": [
       "57.212001831054636"
      ]
     },
     "execution_count": 755,
     "metadata": {},
     "output_type": "execute_result"
    }
   ],
   "source": [
    "insample_risk_indicator.vix.quantile(0.996)"
   ]
  },
  {
   "cell_type": "code",
   "execution_count": 756,
   "metadata": {
    "colab": {
     "base_uri": "https://localhost:8080/"
    },
    "id": "AL7hs7svnNWT",
    "outputId": "6510973a-cfd3-4ff8-f482-287ac99de05c"
   },
   "outputs": [
    {
     "data": {
      "text/plain": [
       "count    2957.000000\n",
       "mean       34.139712\n",
       "std        43.880927\n",
       "min         0.000000\n",
       "25%        14.608561\n",
       "50%        23.649859\n",
       "75%        38.399076\n",
       "max       652.617079\n",
       "Name: turbulence, dtype: float64"
      ]
     },
     "execution_count": 756,
     "metadata": {},
     "output_type": "execute_result"
    }
   ],
   "source": [
    "insample_risk_indicator.turbulence.describe()"
   ]
  },
  {
   "cell_type": "code",
   "execution_count": 757,
   "metadata": {
    "colab": {
     "base_uri": "https://localhost:8080/"
    },
    "id": "N78hfHckoqJ9",
    "outputId": "7258129e-a14b-4327-cb7e-f7cfb73b3dd0"
   },
   "outputs": [
    {
     "data": {
      "text/plain": [
       "291.73724285986975"
      ]
     },
     "execution_count": 757,
     "metadata": {},
     "output_type": "execute_result"
    }
   ],
   "source": [
    "insample_risk_indicator.turbulence.quantile(0.996)"
   ]
  },
  {
   "cell_type": "markdown",
   "metadata": {
    "id": "U5mmgQF_h1jQ"
   },
   "source": [
    "### Trading (Out-of-sample Performance)\n",
    "\n",
    "We update periodically in order to take full advantage of the data, e.g., retrain quarterly, monthly or weekly. We also tune the parameters along the way, in this notebook we use the in-sample data from 2009-01 to 2020-07 to tune the parameters once, so there is some alpha decay here as the length of trade date extends. \n",
    "\n",
    "Numerous hyperparameters – e.g. the learning rate, the total number of samples to train on – influence the learning process and are usually determined by testing some variations."
   ]
  },
  {
   "cell_type": "code",
   "execution_count": 758,
   "metadata": {
    "id": "cIqoV0GSI52v"
   },
   "outputs": [
    {
     "name": "stdout",
     "output_type": "stream",
     "text": [
      "Risk Controller Active: True\n",
      "Risk Controller Active: False\n"
     ]
    }
   ],
   "source": [
    "#from FINRL tutorial:\n",
    "# turbulence index: 90-150 reasonable threshold\n",
    "#TURBULENCE_THRESHOLD = 140\n",
    "\n",
    "# e_trade_gym = StockTradingEnv(df = trade,turbulence_threshold = 100, risk_indicator_col='vix', **env_kwargs) # \n",
    "e_trade_gym = StockTradingEnv(df = trade,turbulence_threshold = None, use_risk_controller = True, risk_indicator_col='vix', **env_kwargs) # \n",
    "e_trade_gym_og = StockTradingEnv(df = trade,turbulence_threshold = None, use_risk_controller = False, risk_indicator_col='vix', **env_kwargs) # \n",
    "\n",
    "# env_trade, obs_trade = e_trade_gym.get_sb_env()\n",
    "\n",
    "#SETTING THE turbulence to 0 will cause issues\n",
    "\n",
    "#is the trading gym a different, more rewarding environment than the other environment?\n",
    "#do we have consistency?\n",
    "\n",
    "\n",
    "# e_trade_gym_og = OriginalEnv(df = trade,turbulence_threshold = None, risk_indicator_col='vix', **env_kwargs) # \n"
   ]
  },
  {
   "cell_type": "code",
   "execution_count": 759,
   "metadata": {
    "colab": {
     "base_uri": "https://localhost:8080/",
     "height": 357
    },
    "id": "W_XNgGsBMeVw",
    "outputId": "37dba890-811e-4c0c-fee9-f12f3f9eb100"
   },
   "outputs": [
    {
     "data": {
      "text/html": [
       "<div>\n",
       "<style scoped>\n",
       "    .dataframe tbody tr th:only-of-type {\n",
       "        vertical-align: middle;\n",
       "    }\n",
       "\n",
       "    .dataframe tbody tr th {\n",
       "        vertical-align: top;\n",
       "    }\n",
       "\n",
       "    .dataframe thead th {\n",
       "        text-align: right;\n",
       "    }\n",
       "</style>\n",
       "<table border=\"1\" class=\"dataframe\">\n",
       "  <thead>\n",
       "    <tr style=\"text-align: right;\">\n",
       "      <th></th>\n",
       "      <th>date</th>\n",
       "      <th>tic</th>\n",
       "      <th>open</th>\n",
       "      <th>high</th>\n",
       "      <th>low</th>\n",
       "      <th>close</th>\n",
       "      <th>volume</th>\n",
       "      <th>day</th>\n",
       "      <th>macd</th>\n",
       "      <th>boll_ub</th>\n",
       "      <th>boll_lb</th>\n",
       "      <th>rsi_30</th>\n",
       "      <th>cci_30</th>\n",
       "      <th>dx_30</th>\n",
       "      <th>close_30_sma</th>\n",
       "      <th>close_60_sma</th>\n",
       "      <th>vix</th>\n",
       "      <th>turbulence</th>\n",
       "      <th>daily_returns</th>\n",
       "    </tr>\n",
       "  </thead>\n",
       "  <tbody>\n",
       "    <tr>\n",
       "      <th>0</th>\n",
       "      <td>2021-10-01</td>\n",
       "      <td>AAPL</td>\n",
       "      <td>141.899994</td>\n",
       "      <td>142.919998</td>\n",
       "      <td>139.110001</td>\n",
       "      <td>140.653519</td>\n",
       "      <td>94639600.0</td>\n",
       "      <td>4.0</td>\n",
       "      <td>-1.694441</td>\n",
       "      <td>154.557868</td>\n",
       "      <td>136.404119</td>\n",
       "      <td>46.927744</td>\n",
       "      <td>-142.221458</td>\n",
       "      <td>41.749873</td>\n",
       "      <td>146.390415</td>\n",
       "      <td>145.492823</td>\n",
       "      <td>21.1</td>\n",
       "      <td>120.030203</td>\n",
       "      <td>0.000000</td>\n",
       "    </tr>\n",
       "    <tr>\n",
       "      <th>0</th>\n",
       "      <td>2021-10-01</td>\n",
       "      <td>AMGN</td>\n",
       "      <td>213.589996</td>\n",
       "      <td>214.610001</td>\n",
       "      <td>210.800003</td>\n",
       "      <td>197.213074</td>\n",
       "      <td>2629400.0</td>\n",
       "      <td>4.0</td>\n",
       "      <td>-2.996547</td>\n",
       "      <td>205.844861</td>\n",
       "      <td>192.892100</td>\n",
       "      <td>40.408552</td>\n",
       "      <td>-96.968262</td>\n",
       "      <td>36.189244</td>\n",
       "      <td>201.697201</td>\n",
       "      <td>210.039146</td>\n",
       "      <td>21.1</td>\n",
       "      <td>120.030203</td>\n",
       "      <td>0.218194</td>\n",
       "    </tr>\n",
       "    <tr>\n",
       "      <th>0</th>\n",
       "      <td>2021-10-01</td>\n",
       "      <td>AXP</td>\n",
       "      <td>168.500000</td>\n",
       "      <td>175.119995</td>\n",
       "      <td>168.479996</td>\n",
       "      <td>167.727448</td>\n",
       "      <td>3956000.0</td>\n",
       "      <td>4.0</td>\n",
       "      <td>2.242076</td>\n",
       "      <td>171.823835</td>\n",
       "      <td>147.181365</td>\n",
       "      <td>56.265098</td>\n",
       "      <td>117.437324</td>\n",
       "      <td>15.667511</td>\n",
       "      <td>158.999403</td>\n",
       "      <td>161.211788</td>\n",
       "      <td>21.1</td>\n",
       "      <td>120.030203</td>\n",
       "      <td>-0.622548</td>\n",
       "    </tr>\n",
       "    <tr>\n",
       "      <th>0</th>\n",
       "      <td>2021-10-01</td>\n",
       "      <td>BA</td>\n",
       "      <td>222.850006</td>\n",
       "      <td>226.720001</td>\n",
       "      <td>220.600006</td>\n",
       "      <td>226.000000</td>\n",
       "      <td>9113600.0</td>\n",
       "      <td>4.0</td>\n",
       "      <td>0.730320</td>\n",
       "      <td>226.909442</td>\n",
       "      <td>205.727561</td>\n",
       "      <td>51.614047</td>\n",
       "      <td>116.649440</td>\n",
       "      <td>2.027170</td>\n",
       "      <td>217.175334</td>\n",
       "      <td>221.968500</td>\n",
       "      <td>21.1</td>\n",
       "      <td>120.030203</td>\n",
       "      <td>-0.021639</td>\n",
       "    </tr>\n",
       "    <tr>\n",
       "      <th>0</th>\n",
       "      <td>2021-10-01</td>\n",
       "      <td>CAT</td>\n",
       "      <td>192.899994</td>\n",
       "      <td>195.869995</td>\n",
       "      <td>191.240005</td>\n",
       "      <td>183.514008</td>\n",
       "      <td>3695500.0</td>\n",
       "      <td>4.0</td>\n",
       "      <td>-3.554821</td>\n",
       "      <td>200.903624</td>\n",
       "      <td>177.171292</td>\n",
       "      <td>41.999453</td>\n",
       "      <td>-112.169795</td>\n",
       "      <td>36.203176</td>\n",
       "      <td>192.366892</td>\n",
       "      <td>195.812261</td>\n",
       "      <td>21.1</td>\n",
       "      <td>120.030203</td>\n",
       "      <td>1.044765</td>\n",
       "    </tr>\n",
       "  </tbody>\n",
       "</table>\n",
       "</div>"
      ],
      "text/plain": [
       "         date   tic        open        high         low       close  \\\n",
       "0  2021-10-01  AAPL  141.899994  142.919998  139.110001  140.653519   \n",
       "0  2021-10-01  AMGN  213.589996  214.610001  210.800003  197.213074   \n",
       "0  2021-10-01   AXP  168.500000  175.119995  168.479996  167.727448   \n",
       "0  2021-10-01    BA  222.850006  226.720001  220.600006  226.000000   \n",
       "0  2021-10-01   CAT  192.899994  195.869995  191.240005  183.514008   \n",
       "\n",
       "       volume  day      macd     boll_ub     boll_lb     rsi_30      cci_30  \\\n",
       "0  94639600.0  4.0 -1.694441  154.557868  136.404119  46.927744 -142.221458   \n",
       "0   2629400.0  4.0 -2.996547  205.844861  192.892100  40.408552  -96.968262   \n",
       "0   3956000.0  4.0  2.242076  171.823835  147.181365  56.265098  117.437324   \n",
       "0   9113600.0  4.0  0.730320  226.909442  205.727561  51.614047  116.649440   \n",
       "0   3695500.0  4.0 -3.554821  200.903624  177.171292  41.999453 -112.169795   \n",
       "\n",
       "       dx_30  close_30_sma  close_60_sma   vix  turbulence  daily_returns  \n",
       "0  41.749873    146.390415    145.492823  21.1  120.030203       0.000000  \n",
       "0  36.189244    201.697201    210.039146  21.1  120.030203       0.218194  \n",
       "0  15.667511    158.999403    161.211788  21.1  120.030203      -0.622548  \n",
       "0   2.027170    217.175334    221.968500  21.1  120.030203      -0.021639  \n",
       "0  36.203176    192.366892    195.812261  21.1  120.030203       1.044765  "
      ]
     },
     "execution_count": 759,
     "metadata": {},
     "output_type": "execute_result"
    }
   ],
   "source": [
    "trade.head()"
   ]
  },
  {
   "cell_type": "code",
   "execution_count": 760,
   "metadata": {
    "colab": {
     "base_uri": "https://localhost:8080/"
    },
    "id": "lbFchno5j3xs",
    "outputId": "7eb7fa24-50a8-4506-97bf-a463e66f9102"
   },
   "outputs": [
    {
     "name": "stdout",
     "output_type": "stream",
     "text": [
      "353\n",
      "risk memory: 352\n",
      "[600.0223521657501, 595.9415649170064, 600.0071410025839, 601.4494033772883, 608.1174871755674, 606.8134036845631, 582.3924573443475, 152.14562624722, 105.83562549726969, 99.96189295835859, 125.1795780802156, 132.2280812189631, 147.8524664254425, 148.11126802299665, 119.25804813381467, 139.63234574636843, 140.43570747441495, 139.8981789185932, 133.6503053551364, 131.28694850240203, 132.62418878357786, 137.03088279634028, 136.46850869504686, 225.65190691495837, 226.85395450303065, 228.19584140142652, 191.60575382796563, 141.90464830203123, 162.98558755422124, 136.325034769412, 134.79931402078668, 154.1988143061383, 157.54286815790712, 166.77124043452233, 168.5200870864956, 128.34793411668292, 107.80752820907026, 108.13303685197954, 109.23531620103597, 137.89906065547262, 188.43886866912072, 139.43113601072434, 205.71496299778252, 168.20872222096594, 167.57132210699544, 127.65209641407365, 108.78824049102184, 108.38075426736239, 107.1154290698445, 102.44412154662604, 102.12718563114593, 107.52503495584183, 108.76725732928662, 108.86873319779818, 107.4834873144483, 129.06570665360707, 128.51231310094272, 103.88024296060489, 104.3326009578212, 105.40464788161424, 97.03594708389011, 97.43780505421451, 107.41612725040194, 107.59971121649485, 129.57801457894254, 111.84202632666663, 104.31676953967388, 136.23076029485054, 144.51145299729774, 134.35756852376633, 132.77500964154092, 133.67304743337172, 133.14590324800295, 138.16438726558917, 149.61357504538452, 107.6675485404717, 89.62284633688353, 106.63036326739922, 86.79656360587141, 85.78549925151104, 105.19857854671683, 105.18399781725424, 88.0062374563103, 88.99239093052402, 105.6151162844545, 83.76962332985467, 120.63701828485723, 118.96113619596765, 100.12148460419091, 143.1530294980672, 114.45142569180808, 183.3448134250645, 177.82898815354633, 180.53262950122635, 182.30244362968276, 182.18253657599527, 164.08139581819748, 100.8337496467443, 106.53960691563141, 106.53835147410162, 121.49299871838754, 116.91649611752537, 106.28849671882985, 110.40804305680281, 112.6985107217176, 102.57816975853912, 103.53028923639299, 106.83580273324996, 117.87259885441875, 132.42481804802816, 130.98260397939166, 130.29220364964303, 120.09828651632975, 97.61149313391945, 101.86213681611405, 125.26398438704123, 90.10056783974053, 89.51099131661834, 89.49545811202313, 88.59012600246541, 102.06338538970715, 113.79455629701069, 102.7593785527689, 100.5204932789647, 95.81787313145362, 82.87477191639341, 97.7993033753065, 85.75133642075839, 96.80069858434722, 105.17290663536215, 101.50798667053185, 92.99208990764481, 101.32234437462358, 115.88765779550221, 108.68601099136046, 92.15394143069284, 119.51154440018534, 118.42071884381852, 92.91678119637045, 101.47412418234522, 169.4745117818843, 141.2824270528909, 142.23697967018768, 126.24823421813815, 117.30382772268985, 112.21718461049555, 126.91226786637469, 143.2358248195328, 153.70195834674587, 158.89812652251575, 141.11020105675317, 139.158779388162, 136.3423927661945, 113.58989939086844, 111.68401889638825, 135.7832300277523, 135.18883921914744, 150.9505280633733, 134.31454908266534, 134.09003608284223, 165.34787239799783, 167.26636585732314, 138.4107189308907, 129.13752919845606, 150.39163797063867, 129.14213539898182, 133.934926671765, 102.50325492714835, 106.55786436655758, 105.50243836779033, 106.14882437111704, 107.26280502213366, 106.43605333116805, 106.89089863397241, 112.92938906532159, 118.77242030470981, 116.95941815684856, 117.84770831330366, 115.8590498389703, 105.82099381537599, 102.09795139515015, 103.05946115181837, 95.70334202495204, 85.97327942919074, 86.71709131527845, 96.57040846918305, 97.4925103802895, 106.40993112048338, 117.09348279422247, 105.75929077614406, 103.22712267202613, 88.04101630528275, 87.99998774911403, 90.62670058899107, 92.76543991679506, 101.46341413552238, 101.47964587262906, 109.24123588338503, 87.74840481293892, 87.59359161493643, 92.69169528569194, 109.95629751852469, 99.38111250962535, 100.17332575970356, 91.80554332426885, 88.84767660833764, 99.12534766737937, 99.08614075203663, 108.76349903300549, 97.51094510658685, 91.40564446321014, 108.27967012601582, 109.88771107531642, 102.90228110228146, 105.63611287619476, 105.60927848978338, 132.61322083497927, 117.44966381002644, 133.81783510072194, 97.84709463457328, 91.86336963237717, 123.70736007937498, 147.03473109543722, 100.17926114228128, 102.43818721787474, 102.85221972217659, 103.64130823695551, 113.3054217287918, 116.15668916006423, 114.57543138070963, 114.16050164403605, 122.6129085701148, 150.64929371654816, 129.03314019365598, 143.82577341174573, 145.46129494953345, 118.75158193228128, 110.90158881958007, 103.75236011632522, 100.65877901796824, 100.40531943280914, 112.82060792213052, 113.19422642196001, 110.21669404837048, 90.38985844636349, 111.11991528268166, 109.98698200813611, 108.75223535520615, 108.43002366258118, 110.30876241898041, 108.84823922554268, 107.65062445534578, 109.7797894475858, 95.50559067390466, 95.8612939239103, 95.06177595073217, 121.08075161531973, 119.4010785711429, 125.68700735210848, 125.40825930819372, 127.70562752999861, 113.47641198905336, 115.44665471163003, 114.33290342637994, 114.6214601735425, 114.51749408811703, 99.44499272868734, 111.90193977084708, 124.75287188248775, 118.40197830335009, 122.91156742793716, 102.87065666993834, 102.60934747854607, 137.7104850454847, 128.89757103682697, 136.8034569382093, 121.23839388376264, 116.06237406210396, 117.38748326151463, 122.62420953920379, 94.60660654604892, 106.69828781113445, 110.92879963850773, 96.22196531454698, 96.63757466316748, 96.79612059602144, 110.06341811325049, 114.90900102652526, 93.89525214682317, 94.16659290528003, 94.84330094161426, 98.71648323471159, 106.24544454418289, 116.99933376492862, 106.55639918987825, 103.26002918123615, 112.89433904869756, 134.26546989649077, 133.2524781453672, 117.63764383815234, 111.01036040414424, 162.86843034732328, 113.13795762204036, 107.95572564324826, 98.2286335129414, 115.10677871434517, 118.04596391836009, 110.02538795894414, 97.16280539535043, 104.66437867374427, 99.83057576054131, 99.97683642049797, 99.25518160854526, 99.69002761116549, 99.61221557882112, 97.75714854814998, 105.88288356755649, 103.76622973268987, 85.22792760159228, 114.39167910695095, 114.1121549394737, 117.73308272700433, 134.35937127617092, 130.32636413631056, 126.01828140686544, 112.48638228747573, 112.76405347424352, 113.48108697638938, 113.55952852628529, 114.68513796106167, 115.42034865017733, 115.40469638845012, 137.53926519313868, 120.91343494239538, 106.98316065545677, 89.34233179662708, 92.71269232444477, 87.46485742966469, 115.12750571611048, 121.52325308689849, 122.69435490132467, 113.1350269323165, 115.0800204216428, 115.71337385743085, 113.35642751773274, 110.7495327224587, 110.71396934968594, 117.52968012758117, 115.56528930166505, 139.28226333974996, 134.44905591617274, 129.5594645210999]\n",
      "hit end!\n"
     ]
    }
   ],
   "source": [
    "trained_moedl = trained_a2c\n",
    "df_account_value_a2c, df_actions_a2c = DRLAgent.DRL_prediction(\n",
    "    model=trained_moedl, \n",
    "    environment = e_trade_gym)\n",
    "\n",
    "\n",
    "# print (df_account_value_a2c)\n",
    "\n",
    "# e_trade_gym.risks_memory = []"
   ]
  },
  {
   "cell_type": "code",
   "execution_count": 761,
   "metadata": {},
   "outputs": [
    {
     "name": "stdout",
     "output_type": "stream",
     "text": [
      "[600.0223521657501, 595.9415649170064, 600.0071410025839, 601.4494033772883, 608.1174871755674, 606.8134036845631, 582.3924573443475, 152.14562624722, 105.83562549726969, 99.96189295835859, 125.1795780802156, 132.2280812189631, 147.8524664254425, 148.11126802299665, 119.25804813381467, 139.63234574636843, 140.43570747441495, 139.8981789185932, 133.6503053551364, 131.28694850240203, 132.62418878357786, 137.03088279634028, 136.46850869504686, 225.65190691495837, 226.85395450303065, 228.19584140142652, 191.60575382796563, 141.90464830203123, 162.98558755422124, 136.325034769412, 134.79931402078668, 154.1988143061383, 157.54286815790712, 166.77124043452233, 168.5200870864956, 128.34793411668292, 107.80752820907026, 108.13303685197954, 109.23531620103597, 137.89906065547262, 188.43886866912072, 139.43113601072434, 205.71496299778252, 168.20872222096594, 167.57132210699544, 127.65209641407365, 108.78824049102184, 108.38075426736239, 107.1154290698445, 102.44412154662604, 102.12718563114593, 107.52503495584183, 108.76725732928662, 108.86873319779818, 107.4834873144483, 129.06570665360707, 128.51231310094272, 103.88024296060489, 104.3326009578212, 105.40464788161424, 97.03594708389011, 97.43780505421451, 107.41612725040194, 107.59971121649485, 129.57801457894254, 111.84202632666663, 104.31676953967388, 136.23076029485054, 144.51145299729774, 134.35756852376633, 132.77500964154092, 133.67304743337172, 133.14590324800295, 138.16438726558917, 149.61357504538452, 107.6675485404717, 89.62284633688353, 106.63036326739922, 86.79656360587141, 85.78549925151104, 105.19857854671683, 105.18399781725424, 88.0062374563103, 88.99239093052402, 105.6151162844545, 83.76962332985467, 120.63701828485723, 118.96113619596765, 100.12148460419091, 143.1530294980672, 114.45142569180808, 183.3448134250645, 177.82898815354633, 180.53262950122635, 182.30244362968276, 182.18253657599527, 164.08139581819748, 100.8337496467443, 106.53960691563141, 106.53835147410162, 121.49299871838754, 116.91649611752537, 106.28849671882985, 110.40804305680281, 112.6985107217176, 102.57816975853912, 103.53028923639299, 106.83580273324996, 117.87259885441875, 132.42481804802816, 130.98260397939166, 130.29220364964303, 120.09828651632975, 97.61149313391945, 101.86213681611405, 125.26398438704123, 90.10056783974053, 89.51099131661834, 89.49545811202313, 88.59012600246541, 102.06338538970715, 113.79455629701069, 102.7593785527689, 100.5204932789647, 95.81787313145362, 82.87477191639341, 97.7993033753065, 85.75133642075839, 96.80069858434722, 105.17290663536215, 101.50798667053185, 92.99208990764481, 101.32234437462358, 115.88765779550221, 108.68601099136046, 92.15394143069284, 119.51154440018534, 118.42071884381852, 92.91678119637045, 101.47412418234522, 169.4745117818843, 141.2824270528909, 142.23697967018768, 126.24823421813815, 117.30382772268985, 112.21718461049555, 126.91226786637469, 143.2358248195328, 153.70195834674587, 158.89812652251575, 141.11020105675317, 139.158779388162, 136.3423927661945, 113.58989939086844, 111.68401889638825, 135.7832300277523, 135.18883921914744, 150.9505280633733, 134.31454908266534, 134.09003608284223, 165.34787239799783, 167.26636585732314, 138.4107189308907, 129.13752919845606, 150.39163797063867, 129.14213539898182, 133.934926671765, 102.50325492714835, 106.55786436655758, 105.50243836779033, 106.14882437111704, 107.26280502213366, 106.43605333116805, 106.89089863397241, 112.92938906532159, 118.77242030470981, 116.95941815684856, 117.84770831330366, 115.8590498389703, 105.82099381537599, 102.09795139515015, 103.05946115181837, 95.70334202495204, 85.97327942919074, 86.71709131527845, 96.57040846918305, 97.4925103802895, 106.40993112048338, 117.09348279422247, 105.75929077614406, 103.22712267202613, 88.04101630528275, 87.99998774911403, 90.62670058899107, 92.76543991679506, 101.46341413552238, 101.47964587262906, 109.24123588338503, 87.74840481293892, 87.59359161493643, 92.69169528569194, 109.95629751852469, 99.38111250962535, 100.17332575970356, 91.80554332426885, 88.84767660833764, 99.12534766737937, 99.08614075203663, 108.76349903300549, 97.51094510658685, 91.40564446321014, 108.27967012601582, 109.88771107531642, 102.90228110228146, 105.63611287619476, 105.60927848978338, 132.61322083497927, 117.44966381002644, 133.81783510072194, 97.84709463457328, 91.86336963237717, 123.70736007937498, 147.03473109543722, 100.17926114228128, 102.43818721787474, 102.85221972217659, 103.64130823695551, 113.3054217287918, 116.15668916006423, 114.57543138070963, 114.16050164403605, 122.6129085701148, 150.64929371654816, 129.03314019365598, 143.82577341174573, 145.46129494953345, 118.75158193228128, 110.90158881958007, 103.75236011632522, 100.65877901796824, 100.40531943280914, 112.82060792213052, 113.19422642196001, 110.21669404837048, 90.38985844636349, 111.11991528268166, 109.98698200813611, 108.75223535520615, 108.43002366258118, 110.30876241898041, 108.84823922554268, 107.65062445534578, 109.7797894475858, 95.50559067390466, 95.8612939239103, 95.06177595073217, 121.08075161531973, 119.4010785711429, 125.68700735210848, 125.40825930819372, 127.70562752999861, 113.47641198905336, 115.44665471163003, 114.33290342637994, 114.6214601735425, 114.51749408811703, 99.44499272868734, 111.90193977084708, 124.75287188248775, 118.40197830335009, 122.91156742793716, 102.87065666993834, 102.60934747854607, 137.7104850454847, 128.89757103682697, 136.8034569382093, 121.23839388376264, 116.06237406210396, 117.38748326151463, 122.62420953920379, 94.60660654604892, 106.69828781113445, 110.92879963850773, 96.22196531454698, 96.63757466316748, 96.79612059602144, 110.06341811325049, 114.90900102652526, 93.89525214682317, 94.16659290528003, 94.84330094161426, 98.71648323471159, 106.24544454418289, 116.99933376492862, 106.55639918987825, 103.26002918123615, 112.89433904869756, 134.26546989649077, 133.2524781453672, 117.63764383815234, 111.01036040414424, 162.86843034732328, 113.13795762204036, 107.95572564324826, 98.2286335129414, 115.10677871434517, 118.04596391836009, 110.02538795894414, 97.16280539535043, 104.66437867374427, 99.83057576054131, 99.97683642049797, 99.25518160854526, 99.69002761116549, 99.61221557882112, 97.75714854814998, 105.88288356755649, 103.76622973268987, 85.22792760159228, 114.39167910695095, 114.1121549394737, 117.73308272700433, 134.35937127617092, 130.32636413631056, 126.01828140686544, 112.48638228747573, 112.76405347424352, 113.48108697638938, 113.55952852628529, 114.68513796106167, 115.42034865017733, 115.40469638845012, 137.53926519313868, 120.91343494239538, 106.98316065545677, 89.34233179662708, 92.71269232444477, 87.46485742966469, 115.12750571611048, 121.52325308689849, 122.69435490132467, 113.1350269323165, 115.0800204216428, 115.71337385743085, 113.35642751773274, 110.7495327224587, 110.71396934968594, 117.52968012758117, 115.56528930166505, 139.28226333974996, 134.44905591617274, 129.5594645210999]\n"
     ]
    }
   ],
   "source": [
    "print(e_trade_gym.risks_memory)\n",
    "\n",
    "# print(e_trade_gym.get_risk_mem())\n",
    "\n",
    "#WHY EMPTY?\n",
    "\n",
    "\n",
    "# df_risk_a2c_rc = e_trade_gym.get_risk_mem().set_index(e_trade_gym.get_risk_mem().columns[0])\n",
    "risk_a2c_rc = e_trade_gym.risks_memory\n",
    "risk_a2c_rc_norm = (risk_a2c_rc-np.min(risk_a2c_rc))/(np.max(risk_a2c_rc)-np.min(risk_a2c_rc))\n",
    "\n",
    "\n",
    "# result = risk_a2c_rc\n",
    "# %matplotlib inline\n",
    "# plt.rcParams[\"figure.figsize\"] = (15,5)\n",
    "# plt.figure();\n",
    "\n",
    "# plt.plot(risk_a2c_rc )\n",
    "e_trade_gym.risks_memory = []"
   ]
  },
  {
   "cell_type": "code",
   "execution_count": 762,
   "metadata": {},
   "outputs": [
    {
     "name": "stdout",
     "output_type": "stream",
     "text": [
      "353\n",
      "risk memory: 352\n",
      "[741.7892540588385, 734.6951363251218, 742.6930443471012, 745.7597224726728, 754.8960596562973, 755.972134755314, 750.8461876460094, 748.6545813081224, 744.030717151398, 709.9545408933171, 171.53635365863127, 214.1543018367888, 177.44300932953539, 203.66304877402013, 231.15553440731435, 174.34537092204116, 174.8705645649328, 240.64939974669383, 244.46895677320018, 251.0033244970791, 218.98988676941235, 219.4902581669625, 234.1067084239517, 235.18069225918728, 236.35852645344386, 239.6722625767631, 225.32139308829093, 238.551531893955, 251.7317925531922, 249.27235775716406, 251.41146882742382, 236.28470163248258, 229.90346092066636, 227.04530953826307, 168.6557859648863, 234.99943853204684, 242.782826140302, 256.3921711966, 240.7489208928374, 240.81440504669837, 242.76510632196064, 222.15234597616282, 232.7337905899535, 218.28921813588576, 236.99025086046544, 209.91345125574932, 190.94022581204499, 205.22760594757443, 205.14431686580684, 191.41175462533116, 198.6710413561002, 205.661863005302, 201.06618816327355, 199.67662973529312, 188.7429440453764, 173.3413790354419, 198.85625000216496, 196.2337544519279, 185.13085439913874, 187.4213145202255, 218.57050976959468, 187.82202244832257, 187.15260470693542, 218.56804413795228, 218.85433304393678, 225.22193008168173, 198.23386839137297, 197.73792363692644, 197.149239461272, 196.34182364661936, 197.7250805963128, 197.586494966605, 178.47612861495543, 224.3640285339237, 232.26589020468379, 205.31697735927273, 247.80060490216744, 270.9830715281372, 231.7660952842894, 209.19424362793706, 223.15352479606258, 241.9823355388338, 235.4473190739878, 217.5292493049037, 186.8554476733381, 188.8152644157775, 194.02038647792017, 195.26768405422382, 193.14770745213355, 155.11837699831918, 157.89149864764403, 136.2718446932295, 149.97551427430082, 151.62476750787505, 148.15077537019215, 179.1274737296776, 206.19018592505844, 204.1360072988086, 226.36208162005548, 256.3018798271474, 277.01053489571734, 251.62794510327333, 251.46513759783178, 246.8827710913148, 250.99685811481928, 239.34439021974725, 251.0073614438747, 245.31358034370496, 229.33464845910044, 261.0834700678739, 212.39742500088101, 205.55844539605144, 189.0417421696317, 203.6860884540371, 199.65869003570117, 201.93027019226733, 212.2989563591115, 210.7995182092218, 203.9657682525035, 175.33141963530082, 177.19679469178163, 178.27673203583842, 179.47799122388236, 165.5066948451219, 148.83567823904397, 228.71949721066656, 230.51133701648973, 231.49762751711273, 215.53188913022302, 124.01548160124796, 123.83989451904364, 160.93187734882912, 158.05880656442912, 185.10533267524806, 187.5544866836114, 223.4042224295314, 226.79552331801688, 227.8296830244205, 195.55883266718863, 230.98771365274672, 189.55186111927097, 213.07515483123817, 210.39320883143017, 281.32066608889346, 228.02014279071187, 271.90676758197975, 288.5300154815995, 265.9167579392756, 255.2531564937211, 254.0520098782402, 276.94760838269235, 264.7040924208284, 264.61304430829927, 261.8791788939423, 265.9310124762469, 258.66606119484004, 215.60105052695752, 172.60893716972896, 166.74221301987737, 194.8430147626249, 209.73920688846786, 230.46178243209835, 264.2757629285761, 242.86334877688748, 273.7847243053148, 189.68858568822534, 182.07073990304164, 243.8377327634482, 213.09064174909042, 222.67021474037557, 239.16938401827014, 192.92728263439295, 245.82385518675494, 229.4096822369231, 270.96031513150666, 241.40624255018196, 233.86316336564033, 264.7204984279548, 258.05637462140976, 202.28985650191908, 175.59460883166466, 178.41953868109647, 177.16244420318048, 183.14174623235976, 182.3494804207216, 183.85049624067287, 225.16555734454954, 219.63891677349795, 268.53551063391785, 207.01526805055593, 257.3842969036216, 246.77627240193792, 210.01688495890554, 213.1747121186938, 243.9333023294673, 251.38318435849283, 255.28524721353884, 260.61633260385133, 257.60330489969715, 213.503165766989, 223.37330784266166, 196.17085553637037, 176.0005047243408, 187.75102502383223, 172.90401362053723, 174.82755919328017, 177.31966445509215, 208.93303693196935, 208.08999150186773, 207.94080273320776, 171.04079152996948, 172.74281940782632, 173.44095553029422, 195.79416303947835, 195.02776392661116, 188.69160123085666, 190.6114108251813, 200.4927024410465, 197.41691814479015, 187.1138070283805, 192.74692051225998, 236.23222953814573, 235.27698080993218, 214.08771864381492, 260.1967825725418, 267.62531069074254, 262.93178278201214, 278.8907137613544, 282.9666193979961, 280.2429782207981, 277.9977364804387, 226.46168671943693, 223.40708546286555, 222.39693495604186, 226.07148957819504, 290.40479170167276, 294.39059842458954, 320.2495368472697, 298.30706591939094, 306.9460239925479, 241.8533180841023, 241.6590397250359, 243.13895418700548, 240.83508907926588, 236.5450242210912, 236.3369156097812, 217.0288407333635, 213.8715632765913, 230.57354680180484, 251.530783285402, 231.58796909041286, 232.2982105950946, 261.5835355706806, 285.1299968533965, 242.2354297062386, 285.28907774330196, 259.1681947496566, 242.49994800249812, 271.66173317637345, 302.4991164242803, 221.551071337203, 218.07659090244059, 201.6880392259412, 214.17833866894227, 219.63203365836017, 241.16618657698325, 247.7730153736128, 257.5298154929069, 260.7355925797627, 249.5581690961626, 252.20981391059385, 218.80070671729072, 244.83455909530895, 242.00373930546235, 237.89701700653396, 237.3854171236439, 194.80609694423865, 197.490858570942, 199.6869362872619, 195.84753137870425, 212.8916640795584, 196.82897148490505, 196.47163220827872, 197.20872807764567, 214.0253006041056, 214.64590061114455, 215.13819888039447, 214.53245602598872, 256.1418791734694, 257.8502898741202, 259.24742572509484, 255.31164806291866, 255.10697774748758, 260.5302707446887, 219.9139623137141, 220.69098571379868, 217.33382392443113, 214.63188118895087, 214.75917876841575, 215.9741092267964, 196.97003345603565, 200.42585682096623, 200.61777318966716, 236.73210548842638, 222.34107620169522, 280.81755833173, 280.7380762559954, 308.3309139916501, 247.47127380605212, 259.9976203983554, 246.6531594967194, 247.34906467138677, 245.54116739294327, 247.42104950049585, 308.0693008701269, 260.86801506501587, 223.36766468142886, 290.0333704679909, 279.57420661224546, 190.69369497546072, 165.63836021746397, 167.68137491374998, 179.89853880489633, 180.22697936373825, 200.18821603199012, 200.60094823825963, 190.6922439679826, 201.3073387311098, 224.98675109219192, 236.55581646283875, 229.20614851223476, 201.05235326634852, 217.99316728401996, 208.75957535909103, 215.0979125066936, 215.0173303515605, 183.11678294937767, 227.80099130716263, 198.00265886272916, 229.87611398783176, 227.75613507575594, 226.0414175382493, 226.46748827171984, 229.35680844161362, 229.98563654479787, 261.2608416883364, 225.36999724165995, 244.19899235108784, 231.15234499579051, 272.69969385326107, 273.93757639219126, 227.7983242005559]\n",
      "hit end!\n"
     ]
    }
   ],
   "source": [
    "trained_moedl = trained_a2c_no_rc\n",
    "df_account_value_a2c_no_rc, df_actions_a2c_no_rc = DRLAgent.DRL_prediction(\n",
    "    model=trained_moedl, \n",
    "    environment = e_trade_gym_og)\n",
    "#Train and trade for original RL is in unmodified env\n"
   ]
  },
  {
   "cell_type": "code",
   "execution_count": 763,
   "metadata": {},
   "outputs": [
    {
     "name": "stdout",
     "output_type": "stream",
     "text": [
      "[741.7892540588385, 734.6951363251218, 742.6930443471012, 745.7597224726728, 754.8960596562973, 755.972134755314, 750.8461876460094, 748.6545813081224, 744.030717151398, 709.9545408933171, 171.53635365863127, 214.1543018367888, 177.44300932953539, 203.66304877402013, 231.15553440731435, 174.34537092204116, 174.8705645649328, 240.64939974669383, 244.46895677320018, 251.0033244970791, 218.98988676941235, 219.4902581669625, 234.1067084239517, 235.18069225918728, 236.35852645344386, 239.6722625767631, 225.32139308829093, 238.551531893955, 251.7317925531922, 249.27235775716406, 251.41146882742382, 236.28470163248258, 229.90346092066636, 227.04530953826307, 168.6557859648863, 234.99943853204684, 242.782826140302, 256.3921711966, 240.7489208928374, 240.81440504669837, 242.76510632196064, 222.15234597616282, 232.7337905899535, 218.28921813588576, 236.99025086046544, 209.91345125574932, 190.94022581204499, 205.22760594757443, 205.14431686580684, 191.41175462533116, 198.6710413561002, 205.661863005302, 201.06618816327355, 199.67662973529312, 188.7429440453764, 173.3413790354419, 198.85625000216496, 196.2337544519279, 185.13085439913874, 187.4213145202255, 218.57050976959468, 187.82202244832257, 187.15260470693542, 218.56804413795228, 218.85433304393678, 225.22193008168173, 198.23386839137297, 197.73792363692644, 197.149239461272, 196.34182364661936, 197.7250805963128, 197.586494966605, 178.47612861495543, 224.3640285339237, 232.26589020468379, 205.31697735927273, 247.80060490216744, 270.9830715281372, 231.7660952842894, 209.19424362793706, 223.15352479606258, 241.9823355388338, 235.4473190739878, 217.5292493049037, 186.8554476733381, 188.8152644157775, 194.02038647792017, 195.26768405422382, 193.14770745213355, 155.11837699831918, 157.89149864764403, 136.2718446932295, 149.97551427430082, 151.62476750787505, 148.15077537019215, 179.1274737296776, 206.19018592505844, 204.1360072988086, 226.36208162005548, 256.3018798271474, 277.01053489571734, 251.62794510327333, 251.46513759783178, 246.8827710913148, 250.99685811481928, 239.34439021974725, 251.0073614438747, 245.31358034370496, 229.33464845910044, 261.0834700678739, 212.39742500088101, 205.55844539605144, 189.0417421696317, 203.6860884540371, 199.65869003570117, 201.93027019226733, 212.2989563591115, 210.7995182092218, 203.9657682525035, 175.33141963530082, 177.19679469178163, 178.27673203583842, 179.47799122388236, 165.5066948451219, 148.83567823904397, 228.71949721066656, 230.51133701648973, 231.49762751711273, 215.53188913022302, 124.01548160124796, 123.83989451904364, 160.93187734882912, 158.05880656442912, 185.10533267524806, 187.5544866836114, 223.4042224295314, 226.79552331801688, 227.8296830244205, 195.55883266718863, 230.98771365274672, 189.55186111927097, 213.07515483123817, 210.39320883143017, 281.32066608889346, 228.02014279071187, 271.90676758197975, 288.5300154815995, 265.9167579392756, 255.2531564937211, 254.0520098782402, 276.94760838269235, 264.7040924208284, 264.61304430829927, 261.8791788939423, 265.9310124762469, 258.66606119484004, 215.60105052695752, 172.60893716972896, 166.74221301987737, 194.8430147626249, 209.73920688846786, 230.46178243209835, 264.2757629285761, 242.86334877688748, 273.7847243053148, 189.68858568822534, 182.07073990304164, 243.8377327634482, 213.09064174909042, 222.67021474037557, 239.16938401827014, 192.92728263439295, 245.82385518675494, 229.4096822369231, 270.96031513150666, 241.40624255018196, 233.86316336564033, 264.7204984279548, 258.05637462140976, 202.28985650191908, 175.59460883166466, 178.41953868109647, 177.16244420318048, 183.14174623235976, 182.3494804207216, 183.85049624067287, 225.16555734454954, 219.63891677349795, 268.53551063391785, 207.01526805055593, 257.3842969036216, 246.77627240193792, 210.01688495890554, 213.1747121186938, 243.9333023294673, 251.38318435849283, 255.28524721353884, 260.61633260385133, 257.60330489969715, 213.503165766989, 223.37330784266166, 196.17085553637037, 176.0005047243408, 187.75102502383223, 172.90401362053723, 174.82755919328017, 177.31966445509215, 208.93303693196935, 208.08999150186773, 207.94080273320776, 171.04079152996948, 172.74281940782632, 173.44095553029422, 195.79416303947835, 195.02776392661116, 188.69160123085666, 190.6114108251813, 200.4927024410465, 197.41691814479015, 187.1138070283805, 192.74692051225998, 236.23222953814573, 235.27698080993218, 214.08771864381492, 260.1967825725418, 267.62531069074254, 262.93178278201214, 278.8907137613544, 282.9666193979961, 280.2429782207981, 277.9977364804387, 226.46168671943693, 223.40708546286555, 222.39693495604186, 226.07148957819504, 290.40479170167276, 294.39059842458954, 320.2495368472697, 298.30706591939094, 306.9460239925479, 241.8533180841023, 241.6590397250359, 243.13895418700548, 240.83508907926588, 236.5450242210912, 236.3369156097812, 217.0288407333635, 213.8715632765913, 230.57354680180484, 251.530783285402, 231.58796909041286, 232.2982105950946, 261.5835355706806, 285.1299968533965, 242.2354297062386, 285.28907774330196, 259.1681947496566, 242.49994800249812, 271.66173317637345, 302.4991164242803, 221.551071337203, 218.07659090244059, 201.6880392259412, 214.17833866894227, 219.63203365836017, 241.16618657698325, 247.7730153736128, 257.5298154929069, 260.7355925797627, 249.5581690961626, 252.20981391059385, 218.80070671729072, 244.83455909530895, 242.00373930546235, 237.89701700653396, 237.3854171236439, 194.80609694423865, 197.490858570942, 199.6869362872619, 195.84753137870425, 212.8916640795584, 196.82897148490505, 196.47163220827872, 197.20872807764567, 214.0253006041056, 214.64590061114455, 215.13819888039447, 214.53245602598872, 256.1418791734694, 257.8502898741202, 259.24742572509484, 255.31164806291866, 255.10697774748758, 260.5302707446887, 219.9139623137141, 220.69098571379868, 217.33382392443113, 214.63188118895087, 214.75917876841575, 215.9741092267964, 196.97003345603565, 200.42585682096623, 200.61777318966716, 236.73210548842638, 222.34107620169522, 280.81755833173, 280.7380762559954, 308.3309139916501, 247.47127380605212, 259.9976203983554, 246.6531594967194, 247.34906467138677, 245.54116739294327, 247.42104950049585, 308.0693008701269, 260.86801506501587, 223.36766468142886, 290.0333704679909, 279.57420661224546, 190.69369497546072, 165.63836021746397, 167.68137491374998, 179.89853880489633, 180.22697936373825, 200.18821603199012, 200.60094823825963, 190.6922439679826, 201.3073387311098, 224.98675109219192, 236.55581646283875, 229.20614851223476, 201.05235326634852, 217.99316728401996, 208.75957535909103, 215.0979125066936, 215.0173303515605, 183.11678294937767, 227.80099130716263, 198.00265886272916, 229.87611398783176, 227.75613507575594, 226.0414175382493, 226.46748827171984, 229.35680844161362, 229.98563654479787, 261.2608416883364, 225.36999724165995, 244.19899235108784, 231.15234499579051, 272.69969385326107, 273.93757639219126, 227.7983242005559]\n"
     ]
    }
   ],
   "source": [
    "print(e_trade_gym_og.risks_memory)\n",
    "\n",
    "# print(e_trade_gym.get_risk_mem())\n",
    "\n",
    "#WHY EMPTY?\n",
    "\n",
    "\n",
    "# df_risk_a2c_rc = e_trade_gym.get_risk_mem().set_index(e_trade_gym.get_risk_mem().columns[0])\n",
    "risk_a2c_no_rc = e_trade_gym_og.risks_memory\n",
    "risk_a2c_no_rc_norm = (risk_a2c_no_rc-np.min(risk_a2c_no_rc))/(np.max(risk_a2c_no_rc)-np.min(risk_a2c_no_rc))\n",
    "\n",
    "# %matplotlib inline\n",
    "# plt.rcParams[\"figure.figsize\"] = (15,5)\n",
    "# plt.figure();\n",
    "\n",
    "# plt.plot(risk_a2c_no_rc )\n",
    "e_trade_gym_og.risks_memory = []"
   ]
  },
  {
   "cell_type": "code",
   "execution_count": 764,
   "metadata": {
    "colab": {
     "base_uri": "https://localhost:8080/"
    },
    "id": "JbYljWGjj3pH",
    "outputId": "3e682898-d5a5-4664-9469-77b6029cc277"
   },
   "outputs": [],
   "source": [
    "# trained_moedl = trained_ddpg\n",
    "# df_account_value_ddpg, df_actions_ddpg = DRLAgent.DRL_prediction(\n",
    "#     model=trained_moedl, \n",
    "#     environment = e_trade_gym)"
   ]
  },
  {
   "cell_type": "code",
   "execution_count": 765,
   "metadata": {
    "colab": {
     "base_uri": "https://localhost:8080/"
    },
    "id": "74jNP2DBj3hb",
    "outputId": "d5f85887-a738-4699-e886-77d2225dd7eb"
   },
   "outputs": [],
   "source": [
    "# trained_moedl = trained_ppo\n",
    "# df_account_value_ppo, df_actions_ppo = DRLAgent.DRL_prediction(\n",
    "#     model=trained_moedl, \n",
    "#     environment = e_trade_gym)"
   ]
  },
  {
   "cell_type": "code",
   "execution_count": 766,
   "metadata": {
    "colab": {
     "base_uri": "https://localhost:8080/"
    },
    "id": "S7VyGGJPj3SH",
    "outputId": "10165564-7775-4358-c137-7c4ae646df6c"
   },
   "outputs": [],
   "source": [
    "# trained_moedl = trained_td3\n",
    "# df_account_value_td3, df_actions_td3 = DRLAgent.DRL_prediction(\n",
    "#     model=trained_moedl, \n",
    "#     environment = e_trade_gym)"
   ]
  },
  {
   "cell_type": "code",
   "execution_count": 767,
   "metadata": {
    "colab": {
     "base_uri": "https://localhost:8080/"
    },
    "id": "eLOnL5eYh1jR",
    "outputId": "6bdc3498-93b4-42ea-82ff-47ef9e99329c"
   },
   "outputs": [
    {
     "name": "stdout",
     "output_type": "stream",
     "text": [
      "353\n",
      "risk memory: 352\n",
      "[1016.1381693647438, 1004.4555160802552, 1016.0439180752285, 1020.5579986420512, 1031.917137851453, 1031.1000494798623, 1020.4901296320684, 1018.6979512298088, 1020.1377006340621, 1036.4990884239087, 1046.0995072041353, 1055.5714585570079, 1056.9323437279238, 1050.5187753418595, 1061.4678886267923, 1063.7544277115712, 1066.605291159278, 1056.100079125284, 1056.4305019234087, 1058.3240338778023, 1064.1552803721138, 1069.608003623606, 1080.0072951305804, 1088.100750426111, 1085.1954766123492, 1092.6371997618135, 1097.3945637621487, 1094.2190989852206, 1082.619831684923, 1082.4165561870504, 1089.437762238104, 1087.0323052213405, 1077.791329592381, 1083.5767827071045, 1088.4417112310102, 1080.811018186102, 1079.3474754371323, 1083.6992295687896, 1080.8578921686567, 1046.5764621288863, 1066.172751331513, 1040.7859691632666, 1028.647691900027, 1050.4943199151521, 1045.540890679182, 1070.2125223729402, 1078.4715779312933, 1089.5147600706741, 1091.5365327460688, 1097.587539507029, 1078.5508396626842, 1067.1976559448224, 1078.9292358418445, 1089.2505143027417, 1062.8954642137473, 1052.3661701783599, 1078.0234170799606, 1082.6773265389734, 1091.1078909848281, 1104.5756058241598, 1107.7658117288834, 1110.064981912292, 1108.1238793429895, 1096.544798087559, 1113.100373904177, 1114.4324462975576, 1091.488322868359, 1085.7013187162638, 1084.9280237883352, 1079.7031213395003, 1089.2965547959413, 1090.3269512111683, 1082.26544892144, 1064.5594174211913, 1047.9874942503018, 1039.6476215034832, 1030.7349292494182, 1024.1931502129767, 1021.5667738122526, 1020.7408363054059, 1020.8964494360031, 1022.0170776220098, 1039.7967419806378, 1047.8713926397356, 1059.2133958984955, 1059.3494536987685, 1052.9102989016421, 1040.6509505413835, 1047.7196298447657, 1064.2759299565323, 1060.470703798175, 1046.9571987247095, 1042.7436703267097, 1039.684903795148, 1050.6327047592254, 1048.3048652614127, 1018.2694915290778, 1000.0957267244347, 989.2903029342541, 978.1240123850303, 995.9922254532462, 1014.7592716893691, 1015.8221383914893, 995.8169866756294, 1017.0442858360094, 1011.9030514196821, 1009.4742397942135, 979.7573336347257, 978.1587562502275, 988.5898157353816, 994.581517043363, 993.0507819761659, 993.7195786839046, 1015.746159482823, 1031.4822344014603, 1043.2258662183185, 1048.2824287577673, 1030.4653161494948, 1029.1142551925182, 1015.9707849046852, 1028.0043597895628, 1039.2545512241652, 1039.5630691701235, 1063.9723704128642, 1063.166857292821, 1043.116727906588, 1031.275508861239, 1042.932301311449, 1036.2587665452227, 1026.1486044028525, 1039.7611625778768, 1042.9635582907326, 1029.3981780430427, 1032.8139987640232, 1035.5233215657213, 1039.0283959860328, 1029.3237073404553, 1046.8883838584557, 1064.9341605308573, 1052.9200696594107, 1008.38667051493, 1029.3651806233722, 1005.894919541457, 1010.0721591687153, 1029.0969609106191, 999.225696885248, 999.2321447147738, 999.1910736232034, 1023.3304787081863, 993.6283371145075, 993.3573028613241, 971.9693425491927, 970.4007937618833, 960.8175905870156, 953.8765319565757, 970.767928881034, 972.4237294024567, 983.7899877360509, 935.7294862002914, 945.8416885973743, 953.059352745135, 971.1424660391681, 971.3483140087786, 972.056244825805, 988.5256612003101, 1003.7934659141711, 979.3991775566097, 986.9722852792638, 989.1777788404339, 981.6202180145083, 978.1698031269503, 978.2294703490626, 952.9873889729433, 970.6660882595473, 934.278775133421, 893.6317967260048, 916.7695103391605, 923.7447794377513, 903.6079829649315, 903.6029798724377, 927.213288770143, 938.1858991116333, 947.5501744460765, 965.6450675623314, 966.4832794080824, 954.477402423167, 961.9201563914013, 954.1571133861421, 957.5260184472976, 959.5308421417019, 958.0354550982353, 971.3078113884993, 973.7878473520775, 969.6663597026655, 959.4655722421021, 949.7026401753445, 950.5995910741372, 969.1664921711906, 959.3737238049956, 993.6048513463506, 989.9132333219421, 996.5704909168364, 994.3589203742154, 998.8571375410739, 993.7198669971481, 1006.4445597061241, 1017.5741728033771, 1024.8036143273923, 1022.3640364710966, 1011.3582566693029, 1024.966309314769, 1021.2849992764346, 1023.7082476711258, 1023.1073636075175, 1016.5399845578054, 1032.7806832748306, 1026.7434295765463, 1049.3851257310114, 1054.9899970160388, 1062.5789717050518, 1057.988572550627, 1057.9864138546275, 1051.6093827047844, 1021.6348297106839, 1008.9579762491753, 996.2696411425135, 1010.9586580430913, 996.1922122412177, 991.261375931192, 991.2551361058883, 987.5730218378936, 992.7617290230643, 982.0225267209211, 977.4046957070221, 988.1169168053505, 993.6087687432012, 1003.9204031196663, 1005.2773620336561, 970.288102654485, 968.7556321613179, 961.4322893810282, 957.8001720050214, 967.2667688196115, 961.2586434266022, 945.2166975989741, 942.2019370231741, 931.9074930815485, 921.7845473046931, 918.3185476282805, 934.1403737910647, 918.5605807002783, 907.1786961544091, 928.8374851752374, 947.529599060581, 948.8229589427281, 943.7941331468695, 923.5009745746072, 915.6214933162024, 917.4312092746069, 913.2787194103798, 940.0552392116879, 931.2057400827845, 944.2888963534682, 955.6131627813329, 955.3907911558465, 945.5199624438366, 972.7315456925409, 999.0750140885972, 1006.746203379233, 994.8606281712384, 1002.7103213010157, 1024.498879031009, 1022.5922294958003, 1022.5369551798403, 1017.6503303846639, 1014.4254455798368, 1023.7833288873533, 1038.2655711344626, 1050.634226055342, 1032.4759364911865, 1065.1738023862388, 1057.1438509293725, 1047.9711219359315, 1031.8346698790754, 1046.7599901952576, 1051.0014359616862, 1060.0142685024264, 1055.2699919088718, 1067.411190699632, 1071.197142473822, 1078.5721468154195, 1063.2896499607423, 1061.2400668657779, 1088.6835952070644, 1080.5250388698698, 1081.5780412471295, 1067.9044674849454, 1056.4381476157077, 1053.370827411831, 1063.00670504981, 1048.960426933076, 1062.8392646370455, 1069.9598138926326, 1062.8152798639078, 1041.2237458489176, 1025.1003529096065, 1021.2210616857526, 1023.5904952427651, 1039.1245347973816, 1025.7399234331178, 1031.336571830701, 1028.6656725385362, 1022.4921067663013, 1039.0051924970967, 1032.9846978495366, 1030.693093442523, 1025.0338899976311, 1008.282150491358, 1028.1002472451132, 1025.258867578271, 1015.8112982486945, 1035.2404509423852, 1048.1306438750032, 1061.985239244516, 1038.6747507875612, 1028.1997336776317, 1023.327125278399, 1033.5813687811963, 1040.6136318506938, 1046.2978446559564, 1046.026043971587, 1053.1535605832332, 1051.9768594385005, 1044.6044875991793, 1054.20450679446, 1047.9481516398105, 1034.1590777267, 1030.7979574396168, 1040.7506326461357, 1041.361158438325, 1045.6866774059329, 1039.7684969727666, 1039.833697045655, 1048.9724231838718, 1050.458926453516, 1052.3142386252425, 1036.7013909083792, 958.9506135799295, 904.4040278792125, 911.1142397664962, 983.714857358784, 1001.8504183008655]\n",
      "hit end!\n"
     ]
    }
   ],
   "source": [
    "trained_moedl = trained_sac\n",
    "df_account_value_sac, df_actions_sac = DRLAgent.DRL_prediction(\n",
    "    model=trained_moedl, \n",
    "    environment = e_trade_gym)\n",
    "\n"
   ]
  },
  {
   "cell_type": "code",
   "execution_count": 768,
   "metadata": {},
   "outputs": [
    {
     "name": "stdout",
     "output_type": "stream",
     "text": [
      "[1016.1381693647438, 1004.4555160802552, 1016.0439180752285, 1020.5579986420512, 1031.917137851453, 1031.1000494798623, 1020.4901296320684, 1018.6979512298088, 1020.1377006340621, 1036.4990884239087, 1046.0995072041353, 1055.5714585570079, 1056.9323437279238, 1050.5187753418595, 1061.4678886267923, 1063.7544277115712, 1066.605291159278, 1056.100079125284, 1056.4305019234087, 1058.3240338778023, 1064.1552803721138, 1069.608003623606, 1080.0072951305804, 1088.100750426111, 1085.1954766123492, 1092.6371997618135, 1097.3945637621487, 1094.2190989852206, 1082.619831684923, 1082.4165561870504, 1089.437762238104, 1087.0323052213405, 1077.791329592381, 1083.5767827071045, 1088.4417112310102, 1080.811018186102, 1079.3474754371323, 1083.6992295687896, 1080.8578921686567, 1046.5764621288863, 1066.172751331513, 1040.7859691632666, 1028.647691900027, 1050.4943199151521, 1045.540890679182, 1070.2125223729402, 1078.4715779312933, 1089.5147600706741, 1091.5365327460688, 1097.587539507029, 1078.5508396626842, 1067.1976559448224, 1078.9292358418445, 1089.2505143027417, 1062.8954642137473, 1052.3661701783599, 1078.0234170799606, 1082.6773265389734, 1091.1078909848281, 1104.5756058241598, 1107.7658117288834, 1110.064981912292, 1108.1238793429895, 1096.544798087559, 1113.100373904177, 1114.4324462975576, 1091.488322868359, 1085.7013187162638, 1084.9280237883352, 1079.7031213395003, 1089.2965547959413, 1090.3269512111683, 1082.26544892144, 1064.5594174211913, 1047.9874942503018, 1039.6476215034832, 1030.7349292494182, 1024.1931502129767, 1021.5667738122526, 1020.7408363054059, 1020.8964494360031, 1022.0170776220098, 1039.7967419806378, 1047.8713926397356, 1059.2133958984955, 1059.3494536987685, 1052.9102989016421, 1040.6509505413835, 1047.7196298447657, 1064.2759299565323, 1060.470703798175, 1046.9571987247095, 1042.7436703267097, 1039.684903795148, 1050.6327047592254, 1048.3048652614127, 1018.2694915290778, 1000.0957267244347, 989.2903029342541, 978.1240123850303, 995.9922254532462, 1014.7592716893691, 1015.8221383914893, 995.8169866756294, 1017.0442858360094, 1011.9030514196821, 1009.4742397942135, 979.7573336347257, 978.1587562502275, 988.5898157353816, 994.581517043363, 993.0507819761659, 993.7195786839046, 1015.746159482823, 1031.4822344014603, 1043.2258662183185, 1048.2824287577673, 1030.4653161494948, 1029.1142551925182, 1015.9707849046852, 1028.0043597895628, 1039.2545512241652, 1039.5630691701235, 1063.9723704128642, 1063.166857292821, 1043.116727906588, 1031.275508861239, 1042.932301311449, 1036.2587665452227, 1026.1486044028525, 1039.7611625778768, 1042.9635582907326, 1029.3981780430427, 1032.8139987640232, 1035.5233215657213, 1039.0283959860328, 1029.3237073404553, 1046.8883838584557, 1064.9341605308573, 1052.9200696594107, 1008.38667051493, 1029.3651806233722, 1005.894919541457, 1010.0721591687153, 1029.0969609106191, 999.225696885248, 999.2321447147738, 999.1910736232034, 1023.3304787081863, 993.6283371145075, 993.3573028613241, 971.9693425491927, 970.4007937618833, 960.8175905870156, 953.8765319565757, 970.767928881034, 972.4237294024567, 983.7899877360509, 935.7294862002914, 945.8416885973743, 953.059352745135, 971.1424660391681, 971.3483140087786, 972.056244825805, 988.5256612003101, 1003.7934659141711, 979.3991775566097, 986.9722852792638, 989.1777788404339, 981.6202180145083, 978.1698031269503, 978.2294703490626, 952.9873889729433, 970.6660882595473, 934.278775133421, 893.6317967260048, 916.7695103391605, 923.7447794377513, 903.6079829649315, 903.6029798724377, 927.213288770143, 938.1858991116333, 947.5501744460765, 965.6450675623314, 966.4832794080824, 954.477402423167, 961.9201563914013, 954.1571133861421, 957.5260184472976, 959.5308421417019, 958.0354550982353, 971.3078113884993, 973.7878473520775, 969.6663597026655, 959.4655722421021, 949.7026401753445, 950.5995910741372, 969.1664921711906, 959.3737238049956, 993.6048513463506, 989.9132333219421, 996.5704909168364, 994.3589203742154, 998.8571375410739, 993.7198669971481, 1006.4445597061241, 1017.5741728033771, 1024.8036143273923, 1022.3640364710966, 1011.3582566693029, 1024.966309314769, 1021.2849992764346, 1023.7082476711258, 1023.1073636075175, 1016.5399845578054, 1032.7806832748306, 1026.7434295765463, 1049.3851257310114, 1054.9899970160388, 1062.5789717050518, 1057.988572550627, 1057.9864138546275, 1051.6093827047844, 1021.6348297106839, 1008.9579762491753, 996.2696411425135, 1010.9586580430913, 996.1922122412177, 991.261375931192, 991.2551361058883, 987.5730218378936, 992.7617290230643, 982.0225267209211, 977.4046957070221, 988.1169168053505, 993.6087687432012, 1003.9204031196663, 1005.2773620336561, 970.288102654485, 968.7556321613179, 961.4322893810282, 957.8001720050214, 967.2667688196115, 961.2586434266022, 945.2166975989741, 942.2019370231741, 931.9074930815485, 921.7845473046931, 918.3185476282805, 934.1403737910647, 918.5605807002783, 907.1786961544091, 928.8374851752374, 947.529599060581, 948.8229589427281, 943.7941331468695, 923.5009745746072, 915.6214933162024, 917.4312092746069, 913.2787194103798, 940.0552392116879, 931.2057400827845, 944.2888963534682, 955.6131627813329, 955.3907911558465, 945.5199624438366, 972.7315456925409, 999.0750140885972, 1006.746203379233, 994.8606281712384, 1002.7103213010157, 1024.498879031009, 1022.5922294958003, 1022.5369551798403, 1017.6503303846639, 1014.4254455798368, 1023.7833288873533, 1038.2655711344626, 1050.634226055342, 1032.4759364911865, 1065.1738023862388, 1057.1438509293725, 1047.9711219359315, 1031.8346698790754, 1046.7599901952576, 1051.0014359616862, 1060.0142685024264, 1055.2699919088718, 1067.411190699632, 1071.197142473822, 1078.5721468154195, 1063.2896499607423, 1061.2400668657779, 1088.6835952070644, 1080.5250388698698, 1081.5780412471295, 1067.9044674849454, 1056.4381476157077, 1053.370827411831, 1063.00670504981, 1048.960426933076, 1062.8392646370455, 1069.9598138926326, 1062.8152798639078, 1041.2237458489176, 1025.1003529096065, 1021.2210616857526, 1023.5904952427651, 1039.1245347973816, 1025.7399234331178, 1031.336571830701, 1028.6656725385362, 1022.4921067663013, 1039.0051924970967, 1032.9846978495366, 1030.693093442523, 1025.0338899976311, 1008.282150491358, 1028.1002472451132, 1025.258867578271, 1015.8112982486945, 1035.2404509423852, 1048.1306438750032, 1061.985239244516, 1038.6747507875612, 1028.1997336776317, 1023.327125278399, 1033.5813687811963, 1040.6136318506938, 1046.2978446559564, 1046.026043971587, 1053.1535605832332, 1051.9768594385005, 1044.6044875991793, 1054.20450679446, 1047.9481516398105, 1034.1590777267, 1030.7979574396168, 1040.7506326461357, 1041.361158438325, 1045.6866774059329, 1039.7684969727666, 1039.833697045655, 1048.9724231838718, 1050.458926453516, 1052.3142386252425, 1036.7013909083792, 958.9506135799295, 904.4040278792125, 911.1142397664962, 983.714857358784, 1001.8504183008655]\n"
     ]
    }
   ],
   "source": [
    "print(e_trade_gym.risks_memory)\n",
    "\n",
    "# print(e_trade_gym.get_risk_mem())\n",
    "\n",
    "#WHY EMPTY?\n",
    "\n",
    "\n",
    "# df_risk_a2c_rc = e_trade_gym.get_risk_mem().set_index(e_trade_gym.get_risk_mem().columns[0])\n",
    "risk_sac_rc = e_trade_gym.risks_memory\n",
    "\n",
    "\n",
    "# result = risk_a2c_rc\n",
    "# %matplotlib inline\n",
    "# plt.rcParams[\"figure.figsize\"] = (15,5)\n",
    "# plt.figure();\n",
    "\n",
    "# plt.plot(risk_a2c_rc )\n",
    "e_trade_gym.risks_memory = []"
   ]
  },
  {
   "cell_type": "code",
   "execution_count": 769,
   "metadata": {},
   "outputs": [
    {
     "name": "stdout",
     "output_type": "stream",
     "text": [
      "353\n",
      "risk memory: 352\n",
      "[1016.1381693647438, 1004.4555160802552, 1016.0439180752285, 1020.5579986420512, 1031.917137851453, 1032.1442124900773, 1016.7957115836185, 1021.8043981932826, 1022.5293506212295, 1017.3922477690269, 1042.4805591173301, 1026.65677515057, 1046.7225545153663, 1038.0385046056965, 1035.8219658063365, 1071.02965526124, 1073.7245510799307, 1050.7651531078723, 1063.0939863829724, 1055.4218727788086, 1062.041164485319, 1070.3845818817028, 1068.7278606731918, 1082.163294776026, 1039.1298365724301, 1092.0728162576725, 1097.9502777736677, 1094.7531481947178, 1084.2499755320446, 1043.7458001195557, 1046.7055028803616, 1083.9055778614336, 1092.4220998198407, 1084.180647867303, 1045.0831639696196, 1076.9623871014649, 1079.421338529669, 1086.2582537832948, 1086.0745356355078, 1054.6543909510929, 1065.7965389431665, 1007.935358736496, 970.7702598044657, 1053.2941916468308, 1051.808783954045, 1072.7099404909452, 1090.2324139842954, 1090.9222343648657, 1091.8668542903642, 1098.8859089710745, 1087.7472879034458, 1082.1647207478493, 1095.790152428814, 1078.0785879944488, 1054.14419485825, 1058.349920924928, 1075.7927204469654, 1088.331758623321, 1094.5456338584145, 1106.0843367656319, 1108.275655195527, 1112.0037874890434, 1108.9980114232037, 1107.242697924825, 1110.8140778327986, 1088.6872206841679, 1083.9086715331807, 1088.610305305245, 1085.440641314287, 1076.7504247652814, 1088.6707489339008, 1090.6884196900141, 1082.5157520020769, 1068.5897753956424, 1024.1389837447598, 1020.9914190046602, 1011.4928875224616, 1008.0115270765154, 1016.6994258971805, 1005.8611342331109, 1005.6580890793905, 1004.3079546474916, 1017.4050965688814, 1041.9591373093822, 1042.9707140777703, 1054.8503350920025, 1051.7188292369542, 1051.0429056935643, 1046.766652452673, 1064.4860943717936, 1075.258661708059, 1061.0940836512627, 1042.819109906594, 1031.336626943418, 1051.9929701783556, 1050.355014150585, 1022.9809507532241, 1002.7498485910677, 982.8563042076129, 968.8476233161231, 994.206618637118, 1002.9128796544501, 1016.0294906212232, 992.8161240489886, 1018.6885590622097, 985.3431633944085, 991.642558938626, 975.5978470368045, 938.0883952611742, 951.0527990000858, 956.6579517454721, 957.171488682924, 946.8417266855612, 1001.346011884166, 1020.4200262526837, 1027.9448527293002, 1044.4561338648437, 1033.130430516526, 1024.8326419682735, 1024.4362560762863, 1032.1674030140337, 1042.3638415118035, 1039.6739476317466, 1041.26777328831, 1041.6321693520274, 1035.2395923020497, 1017.894982018353, 1009.9391076140018, 1020.9488257680482, 1032.6403642229368, 1031.582644727241, 1017.8153283553029, 1018.1363556305226, 988.0048011509143, 1007.154160089681, 988.4656363200452, 1020.1577740376051, 1006.066079847219, 1007.5162626280535, 1003.7776850158884, 986.6061270506306, 987.4454743532963, 961.8944574585332, 991.7777490589615, 989.2211560771646, 990.1100719996872, 998.184736221152, 994.0212726555246, 1021.5174873685937, 986.780524298729, 980.5287681648995, 946.7290215339442, 954.6239660449829, 919.7396157495122, 930.4803995231996, 956.1772495319458, 963.9535302186151, 981.2531127460406, 949.5256275893626, 922.3826672410995, 931.1272491767486, 948.8413168519849, 954.3394449683333, 954.7799864894686, 930.0805395716698, 952.9098289604653, 949.0515890507351, 958.3560738017804, 968.1883683275009, 974.9492283006651, 982.3386106409386, 973.8712015737407, 978.0473939673087, 958.431330145691, 924.4101665533041, 920.0375730262641, 899.6171132947834, 909.6157873173207, 889.4234127983266, 885.5599309430291, 897.6601495739332, 905.6739369436818, 934.6158188886175, 928.9858877805112, 921.665938949492, 909.5245281940531, 933.3713854847417, 904.4886865716998, 921.3296719651619, 931.127718580937, 949.2071711525944, 925.5416453623682, 935.0601302879354, 914.8667754646694, 925.4603956769723, 913.0919040769063, 892.9330856711321, 953.0581936598662, 931.1772813543996, 981.9090115707805, 981.6460025281016, 997.008773185531, 993.5867001528628, 998.0769471852558, 991.0950972316288, 976.6226646373952, 1012.357628688416, 1022.0683533092003, 1011.0738037385645, 992.4188877025967, 998.8259848869376, 1010.0978588166616, 1018.1182278199936, 998.785772373905, 996.1276514260792, 1022.3218985300554, 1000.5963076651784, 1031.7213495888423, 1044.049647856408, 1047.853057086297, 1045.9520481763316, 1037.6565161468168, 1034.5981414735256, 1005.7041073168308, 1024.7373797541268, 1028.0728344438733, 1028.8814480970282, 1006.6104237081403, 997.6612259356705, 988.5720713914649, 985.9372213648988, 981.9821532230706, 972.1932386452412, 953.7723984290185, 956.5043616031826, 952.0043703645383, 941.251695722251, 1000.7065134599044, 947.238462929297, 943.9717800596579, 959.9786536349958, 965.9719942000627, 972.3989948572917, 965.5595508998271, 947.431213853404, 943.7656818229638, 935.977090211263, 925.1388561049894, 921.4225642680461, 933.9477688684344, 915.723705836593, 889.5854702849373, 904.3129089032558, 923.3722277555675, 943.9582302327084, 946.2436172459809, 925.5883832784642, 917.2260098818333, 904.4528497959627, 893.464611545375, 934.5580962584283, 908.7495696030657, 921.4201562509078, 960.9491454262284, 931.6885755307937, 933.8347971046388, 950.6211930697667, 993.8095102904516, 1001.8466115064747, 997.2397516031805, 1007.5487305114809, 1033.1806351566627, 1033.0554748126199, 1031.7458284565475, 1017.4887156615882, 1007.2747808317395, 1021.5713285101052, 1036.5586413543383, 1050.4498369048126, 1026.2501385883015, 1064.557393429126, 1054.4883995414827, 1037.2857129946306, 1015.0117344250158, 1025.1089991446556, 1025.9762516179564, 1042.3521310152362, 1050.4493233220542, 1063.6082473706554, 1065.352720313132, 1075.4686193404666, 1049.1429302431625, 1046.9211733200452, 1082.049578540978, 1069.9776139663927, 1048.23952210158, 1039.449268971257, 1042.60171162505, 1016.6977114276968, 1023.7759915720799, 1014.0019463606601, 1036.61254332605, 1036.7657241784066, 1066.1440217690179, 1034.7790218023567, 1036.443466076065, 1027.3225854530715, 1025.23252298928, 998.8288548944528, 1028.3540622731014, 1042.2990440148496, 1037.4272977880416, 1017.5603848875714, 1025.5658027241448, 1017.1666873487915, 1005.5702533842863, 1023.037460138858, 986.7865251629831, 964.5848181978145, 1000.1791094911777, 1000.9273945530589, 1017.9009069446553, 1042.9089674782897, 1033.5593514131886, 1033.2393369176148, 1024.409675419041, 1000.4646256894697, 991.0206675394793, 1002.2662792944013, 1019.3787861557997, 1020.3122432338508, 1034.6685196060614, 1025.8231687186596, 1025.074984520552, 1002.3633164174139, 1033.0527636552042, 1023.2334411607342, 1018.9297059506263, 1026.8742522506077, 1041.1652729546618, 1037.6611876931684, 1024.5771701608498, 1036.2873280226154, 1061.7954120425532, 1057.8086326167934, 1055.0786040618757, 1036.4312128172564, 1047.022495007391, 987.1548434806688, 992.4973452725238, 1015.6963664008559, 1012.0958796149046]\n",
      "hit end!\n"
     ]
    }
   ],
   "source": [
    "trained_moedl = trained_sac_no_rc\n",
    "df_account_value_sac_no_rc, df_actions_sac_no_rc = DRLAgent.DRL_prediction(\n",
    "    model=trained_moedl, \n",
    "    environment = e_trade_gym_og)"
   ]
  },
  {
   "cell_type": "code",
   "execution_count": 770,
   "metadata": {},
   "outputs": [
    {
     "name": "stdout",
     "output_type": "stream",
     "text": [
      "[1016.1381693647438, 1004.4555160802552, 1016.0439180752285, 1020.5579986420512, 1031.917137851453, 1032.1442124900773, 1016.7957115836185, 1021.8043981932826, 1022.5293506212295, 1017.3922477690269, 1042.4805591173301, 1026.65677515057, 1046.7225545153663, 1038.0385046056965, 1035.8219658063365, 1071.02965526124, 1073.7245510799307, 1050.7651531078723, 1063.0939863829724, 1055.4218727788086, 1062.041164485319, 1070.3845818817028, 1068.7278606731918, 1082.163294776026, 1039.1298365724301, 1092.0728162576725, 1097.9502777736677, 1094.7531481947178, 1084.2499755320446, 1043.7458001195557, 1046.7055028803616, 1083.9055778614336, 1092.4220998198407, 1084.180647867303, 1045.0831639696196, 1076.9623871014649, 1079.421338529669, 1086.2582537832948, 1086.0745356355078, 1054.6543909510929, 1065.7965389431665, 1007.935358736496, 970.7702598044657, 1053.2941916468308, 1051.808783954045, 1072.7099404909452, 1090.2324139842954, 1090.9222343648657, 1091.8668542903642, 1098.8859089710745, 1087.7472879034458, 1082.1647207478493, 1095.790152428814, 1078.0785879944488, 1054.14419485825, 1058.349920924928, 1075.7927204469654, 1088.331758623321, 1094.5456338584145, 1106.0843367656319, 1108.275655195527, 1112.0037874890434, 1108.9980114232037, 1107.242697924825, 1110.8140778327986, 1088.6872206841679, 1083.9086715331807, 1088.610305305245, 1085.440641314287, 1076.7504247652814, 1088.6707489339008, 1090.6884196900141, 1082.5157520020769, 1068.5897753956424, 1024.1389837447598, 1020.9914190046602, 1011.4928875224616, 1008.0115270765154, 1016.6994258971805, 1005.8611342331109, 1005.6580890793905, 1004.3079546474916, 1017.4050965688814, 1041.9591373093822, 1042.9707140777703, 1054.8503350920025, 1051.7188292369542, 1051.0429056935643, 1046.766652452673, 1064.4860943717936, 1075.258661708059, 1061.0940836512627, 1042.819109906594, 1031.336626943418, 1051.9929701783556, 1050.355014150585, 1022.9809507532241, 1002.7498485910677, 982.8563042076129, 968.8476233161231, 994.206618637118, 1002.9128796544501, 1016.0294906212232, 992.8161240489886, 1018.6885590622097, 985.3431633944085, 991.642558938626, 975.5978470368045, 938.0883952611742, 951.0527990000858, 956.6579517454721, 957.171488682924, 946.8417266855612, 1001.346011884166, 1020.4200262526837, 1027.9448527293002, 1044.4561338648437, 1033.130430516526, 1024.8326419682735, 1024.4362560762863, 1032.1674030140337, 1042.3638415118035, 1039.6739476317466, 1041.26777328831, 1041.6321693520274, 1035.2395923020497, 1017.894982018353, 1009.9391076140018, 1020.9488257680482, 1032.6403642229368, 1031.582644727241, 1017.8153283553029, 1018.1363556305226, 988.0048011509143, 1007.154160089681, 988.4656363200452, 1020.1577740376051, 1006.066079847219, 1007.5162626280535, 1003.7776850158884, 986.6061270506306, 987.4454743532963, 961.8944574585332, 991.7777490589615, 989.2211560771646, 990.1100719996872, 998.184736221152, 994.0212726555246, 1021.5174873685937, 986.780524298729, 980.5287681648995, 946.7290215339442, 954.6239660449829, 919.7396157495122, 930.4803995231996, 956.1772495319458, 963.9535302186151, 981.2531127460406, 949.5256275893626, 922.3826672410995, 931.1272491767486, 948.8413168519849, 954.3394449683333, 954.7799864894686, 930.0805395716698, 952.9098289604653, 949.0515890507351, 958.3560738017804, 968.1883683275009, 974.9492283006651, 982.3386106409386, 973.8712015737407, 978.0473939673087, 958.431330145691, 924.4101665533041, 920.0375730262641, 899.6171132947834, 909.6157873173207, 889.4234127983266, 885.5599309430291, 897.6601495739332, 905.6739369436818, 934.6158188886175, 928.9858877805112, 921.665938949492, 909.5245281940531, 933.3713854847417, 904.4886865716998, 921.3296719651619, 931.127718580937, 949.2071711525944, 925.5416453623682, 935.0601302879354, 914.8667754646694, 925.4603956769723, 913.0919040769063, 892.9330856711321, 953.0581936598662, 931.1772813543996, 981.9090115707805, 981.6460025281016, 997.008773185531, 993.5867001528628, 998.0769471852558, 991.0950972316288, 976.6226646373952, 1012.357628688416, 1022.0683533092003, 1011.0738037385645, 992.4188877025967, 998.8259848869376, 1010.0978588166616, 1018.1182278199936, 998.785772373905, 996.1276514260792, 1022.3218985300554, 1000.5963076651784, 1031.7213495888423, 1044.049647856408, 1047.853057086297, 1045.9520481763316, 1037.6565161468168, 1034.5981414735256, 1005.7041073168308, 1024.7373797541268, 1028.0728344438733, 1028.8814480970282, 1006.6104237081403, 997.6612259356705, 988.5720713914649, 985.9372213648988, 981.9821532230706, 972.1932386452412, 953.7723984290185, 956.5043616031826, 952.0043703645383, 941.251695722251, 1000.7065134599044, 947.238462929297, 943.9717800596579, 959.9786536349958, 965.9719942000627, 972.3989948572917, 965.5595508998271, 947.431213853404, 943.7656818229638, 935.977090211263, 925.1388561049894, 921.4225642680461, 933.9477688684344, 915.723705836593, 889.5854702849373, 904.3129089032558, 923.3722277555675, 943.9582302327084, 946.2436172459809, 925.5883832784642, 917.2260098818333, 904.4528497959627, 893.464611545375, 934.5580962584283, 908.7495696030657, 921.4201562509078, 960.9491454262284, 931.6885755307937, 933.8347971046388, 950.6211930697667, 993.8095102904516, 1001.8466115064747, 997.2397516031805, 1007.5487305114809, 1033.1806351566627, 1033.0554748126199, 1031.7458284565475, 1017.4887156615882, 1007.2747808317395, 1021.5713285101052, 1036.5586413543383, 1050.4498369048126, 1026.2501385883015, 1064.557393429126, 1054.4883995414827, 1037.2857129946306, 1015.0117344250158, 1025.1089991446556, 1025.9762516179564, 1042.3521310152362, 1050.4493233220542, 1063.6082473706554, 1065.352720313132, 1075.4686193404666, 1049.1429302431625, 1046.9211733200452, 1082.049578540978, 1069.9776139663927, 1048.23952210158, 1039.449268971257, 1042.60171162505, 1016.6977114276968, 1023.7759915720799, 1014.0019463606601, 1036.61254332605, 1036.7657241784066, 1066.1440217690179, 1034.7790218023567, 1036.443466076065, 1027.3225854530715, 1025.23252298928, 998.8288548944528, 1028.3540622731014, 1042.2990440148496, 1037.4272977880416, 1017.5603848875714, 1025.5658027241448, 1017.1666873487915, 1005.5702533842863, 1023.037460138858, 986.7865251629831, 964.5848181978145, 1000.1791094911777, 1000.9273945530589, 1017.9009069446553, 1042.9089674782897, 1033.5593514131886, 1033.2393369176148, 1024.409675419041, 1000.4646256894697, 991.0206675394793, 1002.2662792944013, 1019.3787861557997, 1020.3122432338508, 1034.6685196060614, 1025.8231687186596, 1025.074984520552, 1002.3633164174139, 1033.0527636552042, 1023.2334411607342, 1018.9297059506263, 1026.8742522506077, 1041.1652729546618, 1037.6611876931684, 1024.5771701608498, 1036.2873280226154, 1061.7954120425532, 1057.8086326167934, 1055.0786040618757, 1036.4312128172564, 1047.022495007391, 987.1548434806688, 992.4973452725238, 1015.6963664008559, 1012.0958796149046]\n"
     ]
    }
   ],
   "source": [
    "print(e_trade_gym_og.risks_memory)\n",
    "\n",
    "# print(e_trade_gym.get_risk_mem())\n",
    "\n",
    "#WHY EMPTY?\n",
    "\n",
    "\n",
    "# df_risk_a2c_rc = e_trade_gym.get_risk_mem().set_index(e_trade_gym.get_risk_mem().columns[0])\n",
    "risk_sac_no_rc = e_trade_gym_og.risks_memory\n",
    "\n",
    "\n",
    "# result = risk_a2c_rc\n",
    "# %matplotlib inline\n",
    "# plt.rcParams[\"figure.figsize\"] = (15,5)\n",
    "# plt.figure();\n",
    "\n",
    "# plt.plot(risk_a2c_rc )\n",
    "e_trade_gym_og.risks_memory = []"
   ]
  },
  {
   "cell_type": "code",
   "execution_count": 771,
   "metadata": {
    "colab": {
     "base_uri": "https://localhost:8080/"
    },
    "id": "ERxw3KqLkcP4",
    "outputId": "52dbeacc-617a-4553-d4a9-8692b988a240"
   },
   "outputs": [
    {
     "data": {
      "text/plain": [
       "(353, 2)"
      ]
     },
     "execution_count": 771,
     "metadata": {},
     "output_type": "execute_result"
    }
   ],
   "source": [
    "df_account_value_a2c.shape"
   ]
  },
  {
   "cell_type": "code",
   "execution_count": null,
   "metadata": {},
   "outputs": [],
   "source": []
  },
  {
   "cell_type": "code",
   "execution_count": 772,
   "metadata": {},
   "outputs": [
    {
     "data": {
      "image/png": "[encoded data removed]",
      "text/plain": [
       "<Figure size 1000x400 with 1 Axes>"
      ]
     },
     "metadata": {},
     "output_type": "display_data"
    }
   ],
   "source": [
    "%matplotlib inline\n",
    "plt.rcParams[\"figure.figsize\"] = (10,4)\n",
    "plt.figure();\n",
    "plt.ylabel('Short Term Risk')\n",
    "plt.xlabel('Days')\n",
    "plt.title('Short Term Risk on Test Set')\n",
    "plt.plot(risk_a2c_rc_norm, label = \"A2C with RC\" )\n",
    "plt.plot(risk_a2c_no_rc_norm, label = \"A2C with no RC\" )\n",
    "# plt.plot(risk_sac_rc, label = \"SAC with RC\" )\n",
    "# plt.plot(risk_sac_no_rc, label = \"SAC with no RC\" )\n",
    "plt.legend() \n",
    "plt.grid()\n",
    "plt.show()\n",
    "\n"
   ]
  },
  {
   "cell_type": "markdown",
   "metadata": {
    "id": "GcE-t08w6DaW"
   },
   "source": [
    "<a id='7'></a>\n",
    "# Part 6.5: Mean Variance Optimization"
   ]
  },
  {
   "cell_type": "code",
   "execution_count": 773,
   "metadata": {
    "colab": {
     "base_uri": "https://localhost:8080/",
     "height": 206
    },
    "id": "_b1vKXKgSe4G",
    "outputId": "35956c2d-8251-468d-ca1c-81e73aa772a1"
   },
   "outputs": [
    {
     "data": {
      "text/html": [
       "<div>\n",
       "<style scoped>\n",
       "    .dataframe tbody tr th:only-of-type {\n",
       "        vertical-align: middle;\n",
       "    }\n",
       "\n",
       "    .dataframe tbody tr th {\n",
       "        vertical-align: top;\n",
       "    }\n",
       "\n",
       "    .dataframe thead th {\n",
       "        text-align: right;\n",
       "    }\n",
       "</style>\n",
       "<table border=\"1\" class=\"dataframe\">\n",
       "  <thead>\n",
       "    <tr style=\"text-align: right;\">\n",
       "      <th></th>\n",
       "      <th>date</th>\n",
       "      <th>tic</th>\n",
       "      <th>close</th>\n",
       "    </tr>\n",
       "  </thead>\n",
       "  <tbody>\n",
       "    <tr>\n",
       "      <th>0</th>\n",
       "      <td>2010-01-04</td>\n",
       "      <td>AAPL</td>\n",
       "      <td>6.470740</td>\n",
       "    </tr>\n",
       "    <tr>\n",
       "      <th>1</th>\n",
       "      <td>2010-01-04</td>\n",
       "      <td>AMGN</td>\n",
       "      <td>41.493416</td>\n",
       "    </tr>\n",
       "    <tr>\n",
       "      <th>2</th>\n",
       "      <td>2010-01-04</td>\n",
       "      <td>AXP</td>\n",
       "      <td>33.090439</td>\n",
       "    </tr>\n",
       "    <tr>\n",
       "      <th>3</th>\n",
       "      <td>2010-01-04</td>\n",
       "      <td>BA</td>\n",
       "      <td>43.777546</td>\n",
       "    </tr>\n",
       "    <tr>\n",
       "      <th>4</th>\n",
       "      <td>2010-01-04</td>\n",
       "      <td>CAT</td>\n",
       "      <td>40.190224</td>\n",
       "    </tr>\n",
       "  </tbody>\n",
       "</table>\n",
       "</div>"
      ],
      "text/plain": [
       "         date   tic      close\n",
       "0  2010-01-04  AAPL   6.470740\n",
       "1  2010-01-04  AMGN  41.493416\n",
       "2  2010-01-04   AXP  33.090439\n",
       "3  2010-01-04    BA  43.777546\n",
       "4  2010-01-04   CAT  40.190224"
      ]
     },
     "execution_count": 773,
     "metadata": {},
     "output_type": "execute_result"
    }
   ],
   "source": [
    "mvo_df.head()"
   ]
  },
  {
   "cell_type": "code",
   "execution_count": 774,
   "metadata": {
    "id": "fE2YWB0WBDVu"
   },
   "outputs": [],
   "source": [
    "fst = mvo_df\n",
    "fst = fst.iloc[0*29:0*29+29, :]\n",
    "tic = fst['tic'].tolist()\n",
    "\n",
    "mvo = pd.DataFrame()\n",
    "\n",
    "for k in range(len(tic)):\n",
    "  mvo[tic[k]] = 0\n",
    "\n",
    "for i in range(mvo_df.shape[0]//29):\n",
    "  n = mvo_df\n",
    "  n = n.iloc[i*29:i*29+29, :]\n",
    "  date = n['date'][i*29]\n",
    "  mvo.loc[date] = n['close'].tolist()"
   ]
  },
  {
   "cell_type": "code",
   "execution_count": 775,
   "metadata": {
    "colab": {
     "base_uri": "https://localhost:8080/"
    },
    "id": "9K2xfyh_VcXo",
    "outputId": "9a16e998-4e75-4d1f-e83d-a0346d3e7463"
   },
   "outputs": [
    {
     "data": {
      "text/plain": [
       "3310"
      ]
     },
     "execution_count": 775,
     "metadata": {},
     "output_type": "execute_result"
    }
   ],
   "source": [
    "mvo.shape[0]"
   ]
  },
  {
   "cell_type": "markdown",
   "metadata": {
    "id": "SwEwkHJ1d_6u"
   },
   "source": [
    "### Helper functions"
   ]
  },
  {
   "cell_type": "code",
   "execution_count": 776,
   "metadata": {
    "id": "kayNWPWn6Kz2"
   },
   "outputs": [],
   "source": [
    "from scipy import optimize \n",
    "from scipy.optimize import linprog\n",
    "\n",
    "#function obtains maximal return portfolio using linear programming\n",
    "\n",
    "def MaximizeReturns(MeanReturns, PortfolioSize):\n",
    "    \n",
    "  #dependencies\n",
    "  \n",
    "    \n",
    "  c = (np.multiply(-1, MeanReturns))\n",
    "  A = np.ones([PortfolioSize,1]).T\n",
    "  b=[1]\n",
    "  res = linprog(c, A_ub = A, b_ub = b, bounds = (0,1), method = 'simplex') \n",
    "    \n",
    "  return res\n",
    "\n",
    "def MinimizeRisk(CovarReturns, PortfolioSize):\n",
    "    \n",
    "  def f(x, CovarReturns):\n",
    "    func = np.matmul(np.matmul(x, CovarReturns), x.T) \n",
    "    return func\n",
    "\n",
    "  def constraintEq(x):\n",
    "    A=np.ones(x.shape)\n",
    "    b=1\n",
    "    constraintVal = np.matmul(A,x.T)-b \n",
    "    return constraintVal\n",
    "    \n",
    "  xinit=np.repeat(0.1, PortfolioSize)\n",
    "  cons = ({'type': 'eq', 'fun':constraintEq})\n",
    "  lb = 0\n",
    "  ub = 1\n",
    "  bnds = tuple([(lb,ub) for x in xinit])\n",
    "\n",
    "  opt = optimize.minimize (f, x0 = xinit, args = (CovarReturns),  bounds = bnds, \\\n",
    "                             constraints = cons, tol = 10**-3)\n",
    "    \n",
    "  return opt\n",
    "\n",
    "def MinimizeRiskConstr(MeanReturns, CovarReturns, PortfolioSize, R):\n",
    "    \n",
    "  def  f(x,CovarReturns):\n",
    "         \n",
    "    func = np.matmul(np.matmul(x,CovarReturns ), x.T)\n",
    "    return func\n",
    "\n",
    "  def constraintEq(x):\n",
    "    AEq=np.ones(x.shape)\n",
    "    bEq=1\n",
    "    EqconstraintVal = np.matmul(AEq,x.T)-bEq \n",
    "    return EqconstraintVal\n",
    "    \n",
    "  def constraintIneq(x, MeanReturns, R):\n",
    "    AIneq = np.array(MeanReturns)\n",
    "    bIneq = R\n",
    "    IneqconstraintVal = np.matmul(AIneq,x.T) - bIneq\n",
    "    return IneqconstraintVal\n",
    "    \n",
    "\n",
    "  xinit=np.repeat(0.1, PortfolioSize)\n",
    "  cons = ({'type': 'eq', 'fun':constraintEq},\n",
    "          {'type':'ineq', 'fun':constraintIneq, 'args':(MeanReturns,R) })\n",
    "  lb = 0\n",
    "  ub = 1\n",
    "  bnds = tuple([(lb,ub) for x in xinit])\n",
    "\n",
    "  opt = optimize.minimize (f, args = (CovarReturns), method ='trust-constr',  \\\n",
    "                x0 = xinit,   bounds = bnds, constraints = cons, tol = 10**-3)\n",
    "    \n",
    "  return opt"
   ]
  },
  {
   "cell_type": "code",
   "execution_count": 777,
   "metadata": {
    "id": "6KvXkpyE8MFq"
   },
   "outputs": [],
   "source": [
    "def StockReturnsComputing(StockPrice, Rows, Columns): \n",
    "  import numpy as np \n",
    "  StockReturn = np.zeros([Rows-1, Columns]) \n",
    "  for j in range(Columns):        # j: Assets \n",
    "    for i in range(Rows-1):     # i: Daily Prices \n",
    "      StockReturn[i,j]=((StockPrice[i+1, j]-StockPrice[i,j])/StockPrice[i,j])* 100 \n",
    "      \n",
    "  return StockReturn"
   ]
  },
  {
   "cell_type": "markdown",
   "metadata": {
    "id": "IeVVbuwveJ_5"
   },
   "source": [
    "### Calculate mean returns and variance-covariance matrix"
   ]
  },
  {
   "cell_type": "code",
   "execution_count": 778,
   "metadata": {
    "colab": {
     "base_uri": "https://localhost:8080/"
    },
    "id": "Q2G1phEm_Ut3",
    "outputId": "ce7c4d13-3adf-47d2-dfe1-0574637e94c3"
   },
   "outputs": [
    {
     "data": {
      "text/plain": [
       "array([[147.23 , 192.382, 174.921, ...,  45.37 ,  42.184,  47.727],\n",
       "       [146.767, 190.446, 172.098, ...,  44.985,  41.145,  47.336],\n",
       "       [150.435, 190.99 , 168.792, ...,  45.13 ,  41.128,  47.631],\n",
       "       ...,\n",
       "       [148.607, 229.888, 172.095, ...,  35.282,  33.843,  46.493],\n",
       "       [145.931, 226.057, 171.22 , ...,  35.474,  33.46 ,  46.618],\n",
       "       [147.135, 226.821, 170.287, ...,  35.602,  33.077,  46.281]])"
      ]
     },
     "execution_count": 778,
     "metadata": {},
     "output_type": "execute_result"
    }
   ],
   "source": [
    "# Obtain optimal portfolio sets that maximize return and minimize risk\n",
    "\n",
    "#Dependencies\n",
    "import numpy as np\n",
    "import pandas as pd\n",
    "\n",
    "\n",
    "#input k-portfolio 1 dataset comprising 15 stocks\n",
    "# StockFileName = './DJIA_Apr112014_Apr112019_kpf1.csv'\n",
    "\n",
    "Rows = 1259  #excluding header\n",
    "Columns = 15  #excluding date\n",
    "portfolioSize = 29 #set portfolio size\n",
    "\n",
    "#read stock prices in a dataframe\n",
    "# df = pd.read_csv(StockFileName,  nrows= Rows)\n",
    "\n",
    "#extract asset labels\n",
    "# assetLabels = df.columns[1:Columns+1].tolist()\n",
    "# print(assetLabels)\n",
    "\n",
    "#extract asset prices\n",
    "# StockData = df.iloc[0:, 1:]\n",
    "StockData = mvo.head(mvo.shape[0]-336)\n",
    "TradeData = mvo.tail(336)\n",
    "# df.head()\n",
    "TradeData.to_numpy()\n"
   ]
  },
  {
   "cell_type": "code",
   "execution_count": 779,
   "metadata": {
    "colab": {
     "base_uri": "https://localhost:8080/"
    },
    "id": "u6_O6vrn_uD4",
    "outputId": "f41663c0-db5b-4154-a801-924050e1813b"
   },
   "outputs": [
    {
     "name": "stdout",
     "output_type": "stream",
     "text": [
      "Mean returns of assets in k-portfolio 1\n",
      " [0.121 0.063 0.073 0.078 0.069 0.118 0.052 0.043 0.073 0.052 0.106 0.078\n",
      " 0.022 0.057 0.049 0.073 0.04  0.063 0.048 0.05  0.098 0.096 0.046 0.059\n",
      " 0.109 0.095 0.042 0.035 0.051]\n",
      "Variance-Covariance matrix of returns\n",
      " [[3.128 1.014 1.29  1.521 1.371 1.689 1.375 1.125 1.088 1.374 1.163 1.221\n",
      "  1.03  1.525 0.692 1.269 0.664 0.816 1.029 0.733 1.576 1.139 0.668 0.86\n",
      "  1.144 1.338 0.525 0.908 0.635]\n",
      " [1.014 2.4   1.072 1.01  1.066 1.211 1.025 0.965 0.937 1.122 0.978 1.029\n",
      "  0.851 1.153 0.891 1.14  0.641 0.664 0.906 1.072 1.088 0.873 0.724 0.854\n",
      "  1.146 1.056 0.631 1.025 0.645]\n",
      " [1.29  1.072 3.315 2.475 1.907 1.568 1.428 1.922 1.715 2.237 1.376 1.847\n",
      "  1.343 1.508 0.861 2.37  0.99  1.075 1.375 0.964 1.357 1.418 0.728 1.505\n",
      "  1.417 1.8   0.748 1.216 0.584]\n",
      " [1.521 1.01  2.475 4.962 2.117 1.687 1.511 2.143 1.838 2.201 1.527 2.121\n",
      "  1.532 1.699 0.905 2.296 1.117 1.195 1.461 0.949 1.437 1.573 0.748 1.604\n",
      "  1.472 1.716 0.734 1.362 0.603]\n",
      " [1.371 1.066 1.907 2.117 3.331 1.613 1.519 1.887 1.471 1.998 1.239 1.868\n",
      "  1.355 1.566 0.826 2.039 0.848 0.855 1.584 0.918 1.331 1.292 0.682 1.269\n",
      "  1.221 1.408 0.739 1.226 0.613]\n",
      " [1.689 1.211 1.568 1.687 1.613 5.041 1.65  1.257 1.352 1.604 1.358 1.44\n",
      "  1.185 1.637 0.756 1.564 0.738 0.984 1.15  0.91  1.853 1.493 0.657 1.042\n",
      "  1.204 1.722 0.563 1.017 0.621]\n",
      " [1.375 1.025 1.428 1.511 1.519 1.65  2.796 1.303 1.264 1.5   1.133 1.355\n",
      "  1.245 1.583 0.843 1.511 0.728 0.823 1.214 0.881 1.481 1.145 0.74  1.002\n",
      "  1.098 1.31  0.655 1.065 0.686]\n",
      " [1.125 0.965 1.922 2.143 1.887 1.257 1.303 2.92  1.389 1.826 1.201 1.64\n",
      "  1.275 1.386 0.836 1.942 0.919 0.993 1.263 0.963 1.203 1.136 0.686 1.361\n",
      "  1.296 1.381 0.74  1.06  0.518]\n",
      " [1.088 0.937 1.715 1.838 1.471 1.352 1.264 1.389 2.458 1.614 1.152 1.464\n",
      "  1.058 1.228 0.701 1.68  0.829 0.863 1.117 0.775 1.15  1.197 0.663 1.097\n",
      "  1.058 1.313 0.66  0.994 0.574]\n",
      " [1.374 1.122 2.237 2.201 1.998 1.604 1.5   1.826 1.614 3.375 1.351 1.724\n",
      "  1.317 1.564 0.83  2.724 0.825 0.939 1.41  0.959 1.418 1.32  0.693 1.496\n",
      "  1.383 1.53  0.717 1.231 0.615]\n",
      " [1.163 0.978 1.376 1.527 1.239 1.358 1.133 1.201 1.152 1.351 2.058 1.239\n",
      "  0.99  1.243 0.691 1.364 0.73  0.91  1.032 0.762 1.205 1.202 0.691 1.078\n",
      "  1.14  1.207 0.628 0.915 0.723]\n",
      " [1.221 1.029 1.847 2.121 1.868 1.44  1.355 1.64  1.464 1.724 1.239 2.179\n",
      "  1.209 1.36  0.827 1.822 0.91  0.925 1.413 0.898 1.249 1.301 0.694 1.25\n",
      "  1.255 1.407 0.694 1.142 0.575]\n",
      " [1.03  0.851 1.343 1.532 1.355 1.185 1.245 1.275 1.058 1.317 0.99  1.209\n",
      "  2.009 1.281 0.706 1.37  0.77  0.749 1.08  0.782 1.123 0.947 0.664 0.995\n",
      "  1.003 1.106 0.644 0.958 0.541]\n",
      " [1.525 1.153 1.508 1.699 1.566 1.637 1.583 1.386 1.228 1.564 1.243 1.36\n",
      "  1.281 3.282 0.787 1.563 0.786 0.798 1.179 0.857 1.695 1.123 0.722 1.122\n",
      "  1.148 1.329 0.674 1.083 0.7  ]\n",
      " [0.692 0.891 0.861 0.905 0.826 0.756 0.843 0.836 0.701 0.83  0.691 0.827\n",
      "  0.706 0.787 1.121 0.878 0.611 0.561 0.788 0.777 0.784 0.683 0.637 0.693\n",
      "  0.833 0.795 0.566 0.779 0.521]\n",
      " [1.269 1.14  2.37  2.296 2.039 1.564 1.511 1.942 1.68  2.724 1.364 1.822\n",
      "  1.37  1.563 0.878 3.233 0.93  0.961 1.429 1.024 1.376 1.344 0.737 1.621\n",
      "  1.4   1.559 0.807 1.285 0.635]\n",
      " [0.664 0.641 0.99  1.117 0.848 0.738 0.728 0.919 0.829 0.825 0.73  0.91\n",
      "  0.77  0.786 0.611 0.93  1.195 0.653 0.759 0.634 0.744 0.733 0.689 0.832\n",
      "  0.735 0.807 0.59  0.681 0.489]\n",
      " [0.816 0.664 1.075 1.195 0.855 0.984 0.823 0.993 0.863 0.939 0.91  0.925\n",
      "  0.749 0.798 0.561 0.961 0.653 1.421 0.75  0.641 0.874 0.907 0.543 0.888\n",
      "  0.808 0.943 0.481 0.605 0.468]\n",
      " [1.029 0.906 1.375 1.461 1.584 1.15  1.214 1.263 1.117 1.41  1.032 1.413\n",
      "  1.08  1.179 0.788 1.429 0.759 0.75  1.822 0.754 1.027 1.036 0.649 1.03\n",
      "  1.004 1.119 0.63  1.024 0.558]\n",
      " [0.733 1.072 0.964 0.949 0.918 0.91  0.881 0.963 0.775 0.959 0.762 0.898\n",
      "  0.782 0.857 0.777 1.024 0.634 0.641 0.754 1.69  0.853 0.754 0.621 0.821\n",
      "  0.921 0.888 0.629 0.784 0.518]\n",
      " [1.576 1.088 1.357 1.437 1.331 1.853 1.481 1.203 1.15  1.418 1.205 1.249\n",
      "  1.123 1.695 0.784 1.376 0.744 0.874 1.027 0.853 2.495 1.16  0.751 0.989\n",
      "  1.19  1.407 0.636 0.963 0.704]\n",
      " [1.139 0.873 1.418 1.573 1.292 1.493 1.145 1.136 1.197 1.32  1.202 1.301\n",
      "  0.947 1.123 0.683 1.344 0.733 0.907 1.036 0.754 1.16  2.688 0.628 0.981\n",
      "  1.086 1.275 0.561 0.879 0.582]\n",
      " [0.668 0.724 0.728 0.748 0.682 0.657 0.74  0.686 0.663 0.693 0.691 0.694\n",
      "  0.664 0.722 0.637 0.737 0.689 0.543 0.649 0.621 0.751 0.628 1.146 0.676\n",
      "  0.666 0.69  0.576 0.689 0.601]\n",
      " [0.86  0.854 1.505 1.604 1.269 1.042 1.002 1.361 1.097 1.496 1.078 1.25\n",
      "  0.995 1.122 0.693 1.621 0.832 0.888 1.03  0.821 0.989 0.981 0.676 1.974\n",
      "  1.089 1.116 0.7   0.922 0.588]\n",
      " [1.144 1.146 1.417 1.472 1.221 1.204 1.098 1.296 1.058 1.383 1.14  1.255\n",
      "  1.003 1.148 0.833 1.4   0.735 0.808 1.004 0.921 1.19  1.086 0.666 1.089\n",
      "  2.628 1.185 0.61  1.003 0.618]\n",
      " [1.338 1.056 1.8   1.716 1.408 1.722 1.31  1.381 1.313 1.53  1.207 1.407\n",
      "  1.106 1.329 0.795 1.559 0.807 0.943 1.119 0.888 1.407 1.275 0.69  1.116\n",
      "  1.185 2.579 0.606 0.924 0.572]\n",
      " [0.525 0.631 0.748 0.734 0.739 0.563 0.655 0.74  0.66  0.717 0.628 0.694\n",
      "  0.644 0.674 0.566 0.807 0.59  0.481 0.63  0.629 0.636 0.561 0.576 0.7\n",
      "  0.61  0.606 1.194 0.662 0.51 ]\n",
      " [0.908 1.025 1.216 1.362 1.226 1.017 1.065 1.06  0.994 1.231 0.915 1.142\n",
      "  0.958 1.083 0.779 1.285 0.681 0.605 1.024 0.784 0.963 0.879 0.689 0.922\n",
      "  1.003 0.924 0.662 3.14  0.709]\n",
      " [0.635 0.645 0.584 0.603 0.613 0.621 0.686 0.518 0.574 0.615 0.723 0.575\n",
      "  0.541 0.7   0.521 0.635 0.489 0.468 0.558 0.518 0.704 0.582 0.601 0.588\n",
      "  0.618 0.572 0.51  0.709 1.406]]\n"
     ]
    }
   ],
   "source": [
    "#compute asset returns\n",
    "arStockPrices = np.asarray(StockData)\n",
    "[Rows, Cols]=arStockPrices.shape\n",
    "arReturns = StockReturnsComputing(arStockPrices, Rows, Cols)\n",
    "\n",
    "\n",
    "#compute mean returns and variance covariance matrix of returns\n",
    "meanReturns = np.mean(arReturns, axis = 0)\n",
    "covReturns = np.cov(arReturns, rowvar=False)\n",
    " \n",
    "#set precision for printing results\n",
    "np.set_printoptions(precision=3, suppress = True)\n",
    "\n",
    "#display mean returns and variance-covariance matrix of returns\n",
    "print('Mean returns of assets in k-portfolio 1\\n', meanReturns)\n",
    "print('Variance-Covariance matrix of returns\\n', covReturns)\n"
   ]
  },
  {
   "cell_type": "code",
   "execution_count": 780,
   "metadata": {
    "colab": {
     "base_uri": "https://localhost:8080/"
    },
    "id": "b1btTONEdCU4",
    "outputId": "71544f9d-b695-4468-e573-e85135692c1f"
   },
   "outputs": [
    {
     "data": {
      "text/plain": [
       "array([268510.,      0.,      0.,      0.,      0.,  67170.,      0.,\n",
       "            0.,      0.,      0., 328490.,      0.,      0.,      0.,\n",
       "            0.,      0.,      0.,      0.,      0.,      0.,      0.,\n",
       "        80330.,      0.,      0., 249920.,   5570.,      0.,      0.,\n",
       "            0.])"
      ]
     },
     "execution_count": 780,
     "metadata": {},
     "output_type": "execute_result"
    }
   ],
   "source": [
    "from pypfopt.efficient_frontier import EfficientFrontier\n",
    "\n",
    "ef_mean = EfficientFrontier(meanReturns, covReturns, weight_bounds=(0, 0.5))\n",
    "raw_weights_mean = ef_mean.max_sharpe()\n",
    "cleaned_weights_mean = ef_mean.clean_weights()\n",
    "mvo_weights = np.array([1000000 * cleaned_weights_mean[i] for i in range(29)])\n",
    "mvo_weights"
   ]
  },
  {
   "cell_type": "code",
   "execution_count": 781,
   "metadata": {
    "colab": {
     "base_uri": "https://localhost:8080/",
     "height": 191
    },
    "id": "N6tTAjAvgFtO",
    "outputId": "9f16c93f-36fb-4e19-f8fb-5c8428e55351"
   },
   "outputs": [
    {
     "data": {
      "text/html": [
       "<div>\n",
       "<style scoped>\n",
       "    .dataframe tbody tr th:only-of-type {\n",
       "        vertical-align: middle;\n",
       "    }\n",
       "\n",
       "    .dataframe tbody tr th {\n",
       "        vertical-align: top;\n",
       "    }\n",
       "\n",
       "    .dataframe thead th {\n",
       "        text-align: right;\n",
       "    }\n",
       "</style>\n",
       "<table border=\"1\" class=\"dataframe\">\n",
       "  <thead>\n",
       "    <tr style=\"text-align: right;\">\n",
       "      <th></th>\n",
       "      <th>AAPL</th>\n",
       "      <th>AMGN</th>\n",
       "      <th>AXP</th>\n",
       "      <th>BA</th>\n",
       "      <th>CAT</th>\n",
       "      <th>CRM</th>\n",
       "      <th>CSCO</th>\n",
       "      <th>CVX</th>\n",
       "      <th>DIS</th>\n",
       "      <th>GS</th>\n",
       "      <th>...</th>\n",
       "      <th>MRK</th>\n",
       "      <th>MSFT</th>\n",
       "      <th>NKE</th>\n",
       "      <th>PG</th>\n",
       "      <th>TRV</th>\n",
       "      <th>UNH</th>\n",
       "      <th>V</th>\n",
       "      <th>VZ</th>\n",
       "      <th>WBA</th>\n",
       "      <th>WMT</th>\n",
       "    </tr>\n",
       "  </thead>\n",
       "  <tbody>\n",
       "    <tr>\n",
       "      <th>2021-10-25</th>\n",
       "      <td>146.559692</td>\n",
       "      <td>191.414337</td>\n",
       "      <td>176.235519</td>\n",
       "      <td>212.869995</td>\n",
       "      <td>192.009811</td>\n",
       "      <td>293.53656</td>\n",
       "      <td>51.054253</td>\n",
       "      <td>103.400597</td>\n",
       "      <td>171.451218</td>\n",
       "      <td>386.877563</td>\n",
       "      <td>...</td>\n",
       "      <td>75.759415</td>\n",
       "      <td>301.476562</td>\n",
       "      <td>159.543274</td>\n",
       "      <td>132.339661</td>\n",
       "      <td>153.064957</td>\n",
       "      <td>434.091156</td>\n",
       "      <td>229.462738</td>\n",
       "      <td>44.942253</td>\n",
       "      <td>42.978924</td>\n",
       "      <td>48.147533</td>\n",
       "    </tr>\n",
       "  </tbody>\n",
       "</table>\n",
       "<p>1 rows × 29 columns</p>\n",
       "</div>"
      ],
      "text/plain": [
       "                  AAPL        AMGN         AXP          BA         CAT  \\\n",
       "2021-10-25  146.559692  191.414337  176.235519  212.869995  192.009811   \n",
       "\n",
       "                  CRM       CSCO         CVX         DIS          GS  ...  \\\n",
       "2021-10-25  293.53656  51.054253  103.400597  171.451218  386.877563  ...   \n",
       "\n",
       "                  MRK        MSFT         NKE          PG         TRV  \\\n",
       "2021-10-25  75.759415  301.476562  159.543274  132.339661  153.064957   \n",
       "\n",
       "                   UNH           V         VZ        WBA        WMT  \n",
       "2021-10-25  434.091156  229.462738  44.942253  42.978924  48.147533  \n",
       "\n",
       "[1 rows x 29 columns]"
      ]
     },
     "execution_count": 781,
     "metadata": {},
     "output_type": "execute_result"
    }
   ],
   "source": [
    "StockData.tail(1)"
   ]
  },
  {
   "cell_type": "code",
   "execution_count": 782,
   "metadata": {
    "colab": {
     "base_uri": "https://localhost:8080/"
    },
    "id": "F38NJRJJgOmj",
    "outputId": "5b0ef1d6-61d7-4525-fe5a-1cba0d9a2836"
   },
   "outputs": [
    {
     "data": {
      "text/plain": [
       "array([1832.086,    0.   ,    0.   ,    0.   ,    0.   ,  228.83 ,\n",
       "          0.   ,    0.   ,    0.   ,    0.   ,  941.753,    0.   ,\n",
       "          0.   ,    0.   ,    0.   ,    0.   ,    0.   ,    0.   ,\n",
       "          0.   ,    0.   ,    0.   ,  503.5  ,    0.   ,    0.   ,\n",
       "        575.732,   24.274,    0.   ,    0.   ,    0.   ])"
      ]
     },
     "execution_count": 782,
     "metadata": {},
     "output_type": "execute_result"
    }
   ],
   "source": [
    "LastPrice = np.array([1/p for p in StockData.tail(1).to_numpy()[0]])\n",
    "Initial_Portfolio = np.multiply(mvo_weights, LastPrice)\n",
    "Initial_Portfolio"
   ]
  },
  {
   "cell_type": "code",
   "execution_count": 783,
   "metadata": {
    "colab": {
     "base_uri": "https://localhost:8080/",
     "height": 424
    },
    "id": "ZAd1iXqZhQ6X",
    "outputId": "0528f221-b650-4847-d582-173b1dc2f8f4"
   },
   "outputs": [
    {
     "data": {
      "text/html": [
       "<div>\n",
       "<style scoped>\n",
       "    .dataframe tbody tr th:only-of-type {\n",
       "        vertical-align: middle;\n",
       "    }\n",
       "\n",
       "    .dataframe tbody tr th {\n",
       "        vertical-align: top;\n",
       "    }\n",
       "\n",
       "    .dataframe thead th {\n",
       "        text-align: right;\n",
       "    }\n",
       "</style>\n",
       "<table border=\"1\" class=\"dataframe\">\n",
       "  <thead>\n",
       "    <tr style=\"text-align: right;\">\n",
       "      <th></th>\n",
       "      <th>Mean Var</th>\n",
       "    </tr>\n",
       "  </thead>\n",
       "  <tbody>\n",
       "    <tr>\n",
       "      <th>2021-10-26</th>\n",
       "      <td>1.002272e+06</td>\n",
       "    </tr>\n",
       "    <tr>\n",
       "      <th>2021-10-27</th>\n",
       "      <td>1.002461e+06</td>\n",
       "    </tr>\n",
       "    <tr>\n",
       "      <th>2021-10-28</th>\n",
       "      <td>1.011236e+06</td>\n",
       "    </tr>\n",
       "    <tr>\n",
       "      <th>2021-10-29</th>\n",
       "      <td>1.010909e+06</td>\n",
       "    </tr>\n",
       "    <tr>\n",
       "      <th>2021-11-01</th>\n",
       "      <td>1.001450e+06</td>\n",
       "    </tr>\n",
       "    <tr>\n",
       "      <th>...</th>\n",
       "      <td>...</td>\n",
       "    </tr>\n",
       "    <tr>\n",
       "      <th>2023-02-21</th>\n",
       "      <td>9.195315e+05</td>\n",
       "    </tr>\n",
       "    <tr>\n",
       "      <th>2023-02-22</th>\n",
       "      <td>9.194654e+05</td>\n",
       "    </tr>\n",
       "    <tr>\n",
       "      <th>2023-02-23</th>\n",
       "      <td>9.249119e+05</td>\n",
       "    </tr>\n",
       "    <tr>\n",
       "      <th>2023-02-24</th>\n",
       "      <td>9.120102e+05</td>\n",
       "    </tr>\n",
       "    <tr>\n",
       "      <th>2023-02-27</th>\n",
       "      <td>9.135293e+05</td>\n",
       "    </tr>\n",
       "  </tbody>\n",
       "</table>\n",
       "<p>336 rows × 1 columns</p>\n",
       "</div>"
      ],
      "text/plain": [
       "                Mean Var\n",
       "2021-10-26  1.002272e+06\n",
       "2021-10-27  1.002461e+06\n",
       "2021-10-28  1.011236e+06\n",
       "2021-10-29  1.010909e+06\n",
       "2021-11-01  1.001450e+06\n",
       "...                  ...\n",
       "2023-02-21  9.195315e+05\n",
       "2023-02-22  9.194654e+05\n",
       "2023-02-23  9.249119e+05\n",
       "2023-02-24  9.120102e+05\n",
       "2023-02-27  9.135293e+05\n",
       "\n",
       "[336 rows x 1 columns]"
      ]
     },
     "execution_count": 783,
     "metadata": {},
     "output_type": "execute_result"
    }
   ],
   "source": [
    "Portfolio_Assets = TradeData @ Initial_Portfolio\n",
    "MVO_result = pd.DataFrame(Portfolio_Assets, columns=[\"Mean Var\"])\n",
    "MVO_result"
   ]
  },
  {
   "cell_type": "markdown",
   "metadata": {
    "id": "W6vvNSC6h1jZ"
   },
   "source": [
    "<a id='6'></a>\n",
    "# Part 7: Backtesting Results\n",
    "Backtesting plays a key role in evaluating the performance of a trading strategy. Automated backtesting tool is preferred because it reduces the human error. We usually use the Quantopian pyfolio package to backtest our trading strategies. It is easy to use and consists of various individual plots that provide a comprehensive image of the performance of a trading strategy."
   ]
  },
  {
   "cell_type": "code",
   "execution_count": 784,
   "metadata": {},
   "outputs": [
    {
     "data": {
      "text/html": [
       "<div>\n",
       "<style scoped>\n",
       "    .dataframe tbody tr th:only-of-type {\n",
       "        vertical-align: middle;\n",
       "    }\n",
       "\n",
       "    .dataframe tbody tr th {\n",
       "        vertical-align: top;\n",
       "    }\n",
       "\n",
       "    .dataframe thead th {\n",
       "        text-align: right;\n",
       "    }\n",
       "</style>\n",
       "<table border=\"1\" class=\"dataframe\">\n",
       "  <thead>\n",
       "    <tr style=\"text-align: right;\">\n",
       "      <th></th>\n",
       "      <th>date</th>\n",
       "      <th>account_value</th>\n",
       "    </tr>\n",
       "  </thead>\n",
       "  <tbody>\n",
       "    <tr>\n",
       "      <th>0</th>\n",
       "      <td>2021-10-01</td>\n",
       "      <td>1.000000e+06</td>\n",
       "    </tr>\n",
       "    <tr>\n",
       "      <th>1</th>\n",
       "      <td>2021-10-04</td>\n",
       "      <td>9.987565e+05</td>\n",
       "    </tr>\n",
       "    <tr>\n",
       "      <th>2</th>\n",
       "      <td>2021-10-05</td>\n",
       "      <td>9.997676e+05</td>\n",
       "    </tr>\n",
       "    <tr>\n",
       "      <th>3</th>\n",
       "      <td>2021-10-06</td>\n",
       "      <td>1.000075e+06</td>\n",
       "    </tr>\n",
       "    <tr>\n",
       "      <th>4</th>\n",
       "      <td>2021-10-07</td>\n",
       "      <td>1.006097e+06</td>\n",
       "    </tr>\n",
       "  </tbody>\n",
       "</table>\n",
       "</div>"
      ],
      "text/plain": [
       "         date  account_value\n",
       "0  2021-10-01   1.000000e+06\n",
       "1  2021-10-04   9.987565e+05\n",
       "2  2021-10-05   9.997676e+05\n",
       "3  2021-10-06   1.000075e+06\n",
       "4  2021-10-07   1.006097e+06"
      ]
     },
     "execution_count": 784,
     "metadata": {},
     "output_type": "execute_result"
    }
   ],
   "source": [
    "df_account_value_a2c.head()\n"
   ]
  },
  {
   "cell_type": "code",
   "execution_count": 785,
   "metadata": {
    "colab": {
     "base_uri": "https://localhost:8080/"
    },
    "id": "KeDeGAc9VrEg",
    "outputId": "11fb5805-7b2a-44c6-ccff-5238114632aa"
   },
   "outputs": [
    {
     "name": "stderr",
     "output_type": "stream",
     "text": [
      "[*********************100%%**********************]  1 of 1 completed"
     ]
    },
    {
     "name": "stdout",
     "output_type": "stream",
     "text": [
      "==============Get Baseline Stats===========\n",
      "Shape of DataFrame:  (354, 8)\n",
      "Annual return         -0.034876\n",
      "Cumulative returns    -0.048644\n",
      "Annual volatility      0.181612\n",
      "Sharpe ratio          -0.105351\n",
      "Calmar ratio          -0.158953\n",
      "Stability              0.280983\n",
      "Max drawdown          -0.219408\n",
      "Omega ratio            0.982546\n",
      "Sortino ratio         -0.146974\n",
      "Skew                        NaN\n",
      "Kurtosis                    NaN\n",
      "Tail ratio             0.970602\n",
      "Daily value at risk   -0.022957\n",
      "dtype: float64\n",
      "result:               a2c_with_rc     a2c_no_rc    sac_with_rc     sac_no_rc  \\\n",
      "2021-10-26  1.024010e+06  1.046747e+06  987274.485877  1.008374e+06   \n",
      "2021-10-27  1.012330e+06  1.043759e+06  978515.011786  9.965850e+05   \n",
      "2021-10-28  1.021637e+06  1.055055e+06  985002.039958  9.981401e+05   \n",
      "2021-10-29  1.022595e+06  1.058402e+06  984813.628634  9.981397e+05   \n",
      "2021-11-01  1.027498e+06  1.057545e+06  997476.387437  1.002797e+06   \n",
      "...                  ...           ...            ...           ...   \n",
      "2023-02-21  1.015128e+06  9.809665e+05  952579.417919  8.777701e+05   \n",
      "2023-02-22  1.011605e+06  9.784427e+05  950560.260521  8.775748e+05   \n",
      "2023-02-23  1.016257e+06  9.839129e+05  952212.871346  8.765437e+05   \n",
      "2023-02-24  1.010978e+06  9.728291e+05  933388.792435  8.719789e+05   \n",
      "2023-02-27  1.013348e+06  9.746315e+05  936814.211666  8.715489e+05   \n",
      "\n",
      "                mean var           dji  \n",
      "2021-10-26  1.002272e+06  1.041671e+06  \n",
      "2021-10-27  1.002461e+06  1.033916e+06  \n",
      "2021-10-28  1.011236e+06  1.040902e+06  \n",
      "2021-10-29  1.010909e+06  1.043497e+06  \n",
      "2021-11-01  1.001450e+06  1.046244e+06  \n",
      "...                  ...           ...  \n",
      "2023-02-21  9.195315e+05  9.651327e+05  \n",
      "2023-02-22  9.194654e+05  9.626710e+05  \n",
      "2023-02-23  9.249119e+05  9.658412e+05  \n",
      "2023-02-24  9.120102e+05  9.560240e+05  \n",
      "2023-02-27  9.135293e+05  9.581264e+05  \n",
      "\n",
      "[336 rows x 6 columns]\n"
     ]
    },
    {
     "name": "stderr",
     "output_type": "stream",
     "text": [
      "\n"
     ]
    }
   ],
   "source": [
    "df_result_a2c = df_account_value_a2c.set_index(df_account_value_a2c.columns[0])\n",
    "df_result_a2c_no_rc = df_account_value_a2c_no_rc.set_index(df_account_value_a2c_no_rc.columns[0])\n",
    "\n",
    "\n",
    "#df_result_ddpg = df_account_value_ddpg.set_index(df_account_value_ddpg.columns[0])\n",
    "#df_result_td3 = df_account_value_td3.set_index(df_account_value_td3.columns[0])\n",
    "#df_result_ppo = df_account_value_ppo.set_index(df_account_value_ppo.columns[0])\n",
    "df_result_sac = df_account_value_sac.set_index(df_account_value_sac.columns[0])\n",
    "df_result_sac_no_rc = df_account_value_sac_no_rc.set_index(df_account_value_sac_no_rc.columns[0])\n",
    "\n",
    "\n",
    "# df_result_a2c.head()\n",
    "\n",
    "df_account_value_a2c.to_csv(\"df_account_value_a2c.csv\")\n",
    "\n",
    "# df_risks = pd.read_csv(StockFileName,  nrows= Rows)\n",
    "\n",
    "\n",
    "#baseline stats\n",
    "print(\"==============Get Baseline Stats===========\")\n",
    "df_dji_ = get_baseline(\n",
    "        ticker=\"^DJI\", \n",
    "        start = TRADE_START_DATE,\n",
    "        end = TRADE_END_DATE)\n",
    "stats = backtest_stats(df_dji_, value_col_name = 'close')\n",
    "df_dji = pd.DataFrame()\n",
    "df_dji['date'] = df_account_value_a2c['date']\n",
    "df_dji['account_value'] = df_dji_['close'] / df_dji_['close'][0] * env_kwargs[\"initial_amount\"]\n",
    "df_dji.to_csv(\"df_dji.csv\")\n",
    "df_dji = df_dji.set_index(df_dji.columns[0])\n",
    "df_dji.to_csv(\"df_dji+.csv\")\n",
    "\n",
    "#result = pd.merge(df_result_a2c, df_result_ddpg, left_index=True, right_index=True, suffixes=('_a2c', '_ddpg'))\n",
    "result = df_result_a2c\n",
    "result = pd.merge(result, df_result_a2c_no_rc, left_index=True, right_index=True, suffixes=('', '_a2c'))\n",
    "\n",
    "#result = pd.merge(result, df_result_ppo, left_index=True, right_index=True, suffixes=('', '_ppo'))\n",
    "result = pd.merge(result, df_result_sac, left_index=True, right_index=True, suffixes=('', '_sac'))\n",
    "result = pd.merge(result, df_result_sac_no_rc, left_index=True, right_index=True, suffixes=('', '_sac'))\n",
    "\n",
    "result = pd.merge(result, MVO_result, left_index=True, right_index=True, suffixes=('', '_mvo'))\n",
    "result = pd.merge(result, df_dji, left_index=True, right_index=True, suffixes=('', '_dji'))\n",
    "#result.columns = ['a2c', 'ddpg', 'td3', 'ppo', 'sac', 'mean var', 'dji']\n",
    "result.columns = ['a2c_with_rc','a2c_no_rc', 'sac_with_rc','sac_no_rc', 'mean var', 'dji']\n",
    "\n",
    "print(\"result: \", result)\n",
    "result.to_csv(\"result.csv\")"
   ]
  },
  {
   "cell_type": "code",
   "execution_count": 786,
   "metadata": {},
   "outputs": [
    {
     "data": {
      "text/html": [
       "<div>\n",
       "<style scoped>\n",
       "    .dataframe tbody tr th:only-of-type {\n",
       "        vertical-align: middle;\n",
       "    }\n",
       "\n",
       "    .dataframe tbody tr th {\n",
       "        vertical-align: top;\n",
       "    }\n",
       "\n",
       "    .dataframe thead th {\n",
       "        text-align: right;\n",
       "    }\n",
       "</style>\n",
       "<table border=\"1\" class=\"dataframe\">\n",
       "  <thead>\n",
       "    <tr style=\"text-align: right;\">\n",
       "      <th></th>\n",
       "      <th>account_value</th>\n",
       "    </tr>\n",
       "    <tr>\n",
       "      <th>date</th>\n",
       "      <th></th>\n",
       "    </tr>\n",
       "  </thead>\n",
       "  <tbody>\n",
       "    <tr>\n",
       "      <th>2021-10-01</th>\n",
       "      <td>1.000000e+06</td>\n",
       "    </tr>\n",
       "    <tr>\n",
       "      <th>2021-10-04</th>\n",
       "      <td>9.987565e+05</td>\n",
       "    </tr>\n",
       "    <tr>\n",
       "      <th>2021-10-05</th>\n",
       "      <td>9.997676e+05</td>\n",
       "    </tr>\n",
       "    <tr>\n",
       "      <th>2021-10-06</th>\n",
       "      <td>1.000075e+06</td>\n",
       "    </tr>\n",
       "    <tr>\n",
       "      <th>2021-10-07</th>\n",
       "      <td>1.006097e+06</td>\n",
       "    </tr>\n",
       "  </tbody>\n",
       "</table>\n",
       "</div>"
      ],
      "text/plain": [
       "            account_value\n",
       "date                     \n",
       "2021-10-01   1.000000e+06\n",
       "2021-10-04   9.987565e+05\n",
       "2021-10-05   9.997676e+05\n",
       "2021-10-06   1.000075e+06\n",
       "2021-10-07   1.006097e+06"
      ]
     },
     "execution_count": 786,
     "metadata": {},
     "output_type": "execute_result"
    }
   ],
   "source": [
    "df_result_a2c.head()\n"
   ]
  },
  {
   "cell_type": "code",
   "execution_count": 787,
   "metadata": {
    "colab": {
     "base_uri": "https://localhost:8080/",
     "height": 348
    },
    "id": "6xRfrqK4RVfq",
    "outputId": "42a2502d-7447-40ef-e897-1af949fda9e0"
   },
   "outputs": [
    {
     "data": {
      "text/plain": [
       "Text(0.5, 1.0, 'Performance on Test Set')"
      ]
     },
     "execution_count": 787,
     "metadata": {},
     "output_type": "execute_result"
    },
    {
     "data": {
      "text/plain": [
       "<Figure size 1500x500 with 0 Axes>"
      ]
     },
     "metadata": {},
     "output_type": "display_data"
    },
    {
     "data": {
      "image/png": "[encoded data removed]",
      "text/plain": [
       "<Figure size 1500x500 with 1 Axes>"
      ]
     },
     "metadata": {},
     "output_type": "display_data"
    }
   ],
   "source": [
    "%matplotlib inline\n",
    "plt.rcParams[\"figure.figsize\"] = (15,5)\n",
    "plt.figure();\n",
    "\n",
    "result.plot();\n",
    "plt.grid();\n",
    "plt.ylabel('Portfolio Value')\n",
    "plt.xlabel('Time')\n",
    "plt.title('Performance on Test Set')"
   ]
  },
  {
   "cell_type": "code",
   "execution_count": 788,
   "metadata": {},
   "outputs": [],
   "source": [
    "#todo: Plot short term risk\n",
    "#we have \n",
    "\n",
    "# df_risks = pd.read_csv(StockFileName,  nrows= Rows)\n"
   ]
  },
  {
   "cell_type": "code",
   "execution_count": null,
   "metadata": {},
   "outputs": [],
   "source": []
  },
  {
   "cell_type": "code",
   "execution_count": null,
   "metadata": {},
   "outputs": [],
   "source": []
  },
  {
   "cell_type": "code",
   "execution_count": null,
   "metadata": {},
   "outputs": [],
   "source": []
  }
 ],
 "metadata": {
  "colab": {
   "collapsed_sections": [
    "HMNR5nHjh1iz",
    "uijiWgkuh1jB",
    "MRiOtrywfAo1",
    "_gDkU-j-fCmZ",
    "3Zpv4S0-fDBv"
   ],
   "provenance": []
  },
  "kernelspec": {
   "display_name": "base",
   "language": "python",
   "name": "python3"
  },
  "language_info": {
   "codemirror_mode": {
    "name": "ipython",
    "version": 3
   },
   "file_extension": ".py",
   "mimetype": "text/x-python",
   "name": "python",
   "nbconvert_exporter": "python",
   "pygments_lexer": "ipython3",
   "version": "3.10.14"
  },
  "vscode": {
   "interpreter": {
    "hash": "54cefccbf0f07c9750f12aa115c023dfa5ed4acecf9e7ad3bc9391869be60d0c"
   }
  }
 },
 "nbformat": 4,
 "nbformat_minor": 0
}
